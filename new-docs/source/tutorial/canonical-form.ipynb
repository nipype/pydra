{
 "cells": [
  {
   "cell_type": "markdown",
   "metadata": {},
   "source": [
    "# Canonical (dataclass) task form"
   ]
  },
  {
   "cell_type": "markdown",
   "metadata": {},
   "source": [
    "## Python-task definitions"
   ]
  },
  {
   "cell_type": "code",
   "execution_count": null,
   "metadata": {},
   "outputs": [],
   "source": [
    "from pprint import pprint\n",
    "from pydra.engine.helpers import fields_dict\n",
    "from pydra.engine.specs import PythonDef, PythonOutputs\n",
    "from pydra.design import python\n",
    "\n",
    "\n",
    "@python.define\n",
    "class CanonicalPythonDef(PythonDef[\"CanonicalPythonDef.Outputs\"]):\n",
    "    \"\"\"Canonical Python task definition class for testing\n",
    "\n",
    "    Args:\n",
    "        a: First input\n",
    "            to be inputted\n",
    "        b: Second input\n",
    "    \"\"\"\n",
    "\n",
    "    a: int\n",
    "    b: float = 2.0\n",
    "\n",
    "    class Outputs(PythonOutputs):\n",
    "        \"\"\"\n",
    "        Args:\n",
    "            c: Sum of a and b\n",
    "            d: Product of a and b\n",
    "        \"\"\"\n",
    "\n",
    "        c: float\n",
    "        d: float\n",
    "\n",
    "    @staticmethod\n",
    "    def function(a, b):\n",
    "        return a + b, a * b\n",
    "\n",
    "pprint(fields_dict(CanonicalPythonDef))\n",
    "pprint(fields_dict(CanonicalPythonDef.Outputs))"
   ]
  },
  {
   "cell_type": "markdown",
   "metadata": {},
   "source": [
    "## Shell-task definitions"
   ]
  },
  {
   "cell_type": "code",
   "execution_count": null,
   "metadata": {},
   "outputs": [],
   "source": [
    "import os\n",
    "from pathlib import Path\n",
    "from fileformats import generic\n",
    "from pydra.design import shell\n",
    "from pydra.engine.specs import ShellDef, ShellOutputs\n",
    "from pydra.utils.typing import MultiInputObj\n",
    "\n",
    "\n",
    "@shell.define\n",
    "class CpWithSize(ShellDef[\"CpWithSize.Outputs\"]):\n",
    "\n",
    "    executable = \"cp\"\n",
    "\n",
    "    in_fs_objects: MultiInputObj[generic.FsObject]\n",
    "    recursive: bool = shell.arg(argstr=\"-R\")\n",
    "    text_arg: str = shell.arg(argstr=\"--text-arg\")\n",
    "    int_arg: int | None = shell.arg(argstr=\"--int-arg\")\n",
    "    tuple_arg: tuple[int, str] | None = shell.arg(argstr=\"--tuple-arg\")\n",
    "\n",
    "    class Outputs(ShellOutputs):\n",
    "\n",
    "        @staticmethod\n",
    "        def get_file_size(out_file: Path) -> int:\n",
    "            \"\"\"Calculate the file size\"\"\"\n",
    "            result = os.stat(out_file)\n",
    "            return result.st_size\n",
    "\n",
    "        out_file: generic.File\n",
    "        out_file_size: int = shell.out(callable=get_file_size)\n",
    "\n",
    "\n",
    "pprint(fields_dict(CpWithSize))\n",
    "pprint(fields_dict(CpWithSize.Outputs))"
   ]
  },
  {
   "cell_type": "markdown",
   "metadata": {},
   "source": [
    "## Workflow definitions\n",
    "\n",
    "Like with Python and shell tasks, it is also possible to specify workflows in \"dataclass form\" in order to be more explicit to linters, which can be worth the extra effort when creating a suite of workflows to be shared publicly. In this case the workflow constructor should be a static method of the dataclasss named `constructor`.\n",
    "\n",
    "This form also lends itself to defining custom converters and validators on the fields"
   ]
  },
  {
   "cell_type": "code",
   "execution_count": null,
   "metadata": {},
   "outputs": [],
   "source": [
    "from pydra.design import python, workflow\n",
    "from pydra.engine.specs import WorkflowDef, WorkflowOutputs\n",
    "\n",
    "# Example python task definitions\n",
    "@python.define\n",
    "def Add(a, b):\n",
    "    return a + b\n",
    "\n",
    "\n",
    "@python.define\n",
    "def Mul(a, b):\n",
    "    return a * b\n",
    "\n",
    "\n",
    "@workflow.define\n",
    "class CanonicalWorkflowDef(WorkflowDef[\"CanonicalWorkflowDef.Outputs\"]):\n",
    "\n",
    "    @staticmethod\n",
    "    def a_converter(value):\n",
    "        if value is None:\n",
    "            return value\n",
    "        return float(value)\n",
    "\n",
    "    a: int\n",
    "    b: float = workflow.arg(\n",
    "        help_string=\"A float input\",\n",
    "        converter=a_converter,\n",
    "    )\n",
    "\n",
    "    @staticmethod\n",
    "    def constructor(a, b):\n",
    "        add = workflow.add(Add(a=a, b=b))\n",
    "        mul = workflow.add(Mul(a=add.out, b=b))\n",
    "        return mul.out\n",
    "\n",
    "    class Outputs(WorkflowOutputs):\n",
    "        out: float"
   ]
  }
 ],
 "metadata": {
  "language_info": {
   "name": "python"
  }
 },
 "nbformat": 4,
 "nbformat_minor": 2
}
