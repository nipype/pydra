{
 "cells": [
  {
   "cell_type": "markdown",
   "metadata": {},
   "source": [
    "# Python-task design"
   ]
  },
  {
   "cell_type": "code",
   "execution_count": 8,
   "metadata": {},
   "outputs": [
    {
     "name": "stdout",
     "output_type": "stream",
     "text": [
      "funcOutputs(out=2.0)\n"
     ]
    }
   ],
   "source": [
    "from pydra.design import python\n",
    "\n",
    "\n",
    "def func(a: int) -> float:\n",
    "    \"\"\"Sample function with inputs and outputs\"\"\"\n",
    "    return a * 2\n",
    "\n",
    "SampleSpec = python.define(func)\n",
    "\n",
    "spec = SampleSpec(a=1)\n",
    "result = spec()\n",
    "print(result.output)"
   ]
  },
  {
   "cell_type": "markdown",
   "metadata": {},
   "source": [
    "### With typing"
   ]
  },
  {
   "cell_type": "code",
   "execution_count": 9,
   "metadata": {},
   "outputs": [],
   "source": [
    "\n",
    "def func(a: int, k: float = 2.0) -> float:\n",
    "    \"\"\"Sample function with inputs and outputs\"\"\"\n",
    "    return a * k\n",
    "\n",
    "SampleSpec = python.define(func)\n"
   ]
  },
  {
   "cell_type": "markdown",
   "metadata": {},
   "source": [
    "### Augment with explicit inputs and outputs\n"
   ]
  },
  {
   "cell_type": "code",
   "execution_count": 10,
   "metadata": {},
   "outputs": [],
   "source": [
    "from decimal import Decimal\n",
    "\n",
    "def func(a: int) -> float:\n",
    "    \"\"\"Sample function with inputs and outputs\"\"\"\n",
    "    return a * 2\n",
    "\n",
    "SampleSpec = python.define(\n",
    "    func,\n",
    "    inputs={\"a\": python.arg(help_string=\"The argument to be doubled\")},\n",
    "    outputs={\"b\": python.out(help_string=\"the doubled output\", type=Decimal)},\n",
    ")"
   ]
  },
  {
   "cell_type": "markdown",
   "metadata": {},
   "source": [
    "## Decorated_function"
   ]
  },
  {
   "cell_type": "code",
   "execution_count": 11,
   "metadata": {},
   "outputs": [],
   "source": [
    "# Note we use CamelCase as the function is translated to a class\n",
    "\n",
    "@python.define(outputs=[\"c\", \"d\"])\n",
    "def SampleSpec(a: int, b: float) -> tuple[float, float]:\n",
    "    \"\"\"Sample function for testing\"\"\"\n",
    "    return a + b, a * b"
   ]
  },
  {
   "cell_type": "markdown",
   "metadata": {},
   "source": [
    "\n",
    "## Pull helps from docstring"
   ]
  },
  {
   "cell_type": "code",
   "execution_count": 12,
   "metadata": {},
   "outputs": [
    {
     "name": "stdout",
     "output_type": "stream",
     "text": [
      "{'a': arg(name='a', type=<class 'int'>, default=EMPTY, help_string='First input to be inputted', requires=[], converter=None, validator=None, allowed_values=(), xor=(), copy_mode=<CopyMode.any: 15>, copy_collation=<CopyCollation.any: 0>, copy_ext_decomp=<ExtensionDecomposition.single: 1>, readonly=False),\n",
      " 'b': arg(name='b', type=<class 'float'>, default=EMPTY, help_string='Second input', requires=[], converter=None, validator=None, allowed_values=(), xor=(), copy_mode=<CopyMode.any: 15>, copy_collation=<CopyCollation.any: 0>, copy_ext_decomp=<ExtensionDecomposition.single: 1>, readonly=False),\n",
      " 'function': arg(name='function', type=typing.Callable, default=<function SampleSpec at 0x10d0253a0>, help_string='', requires=[], converter=None, validator=None, allowed_values=(), xor=(), copy_mode=<CopyMode.any: 15>, copy_collation=<CopyCollation.any: 0>, copy_ext_decomp=<ExtensionDecomposition.single: 1>, readonly=False)}\n",
      "{'c': out(name='c', type=<class 'float'>, default=EMPTY, help_string='Sum of a and b', requires=[], converter=None, validator=None),\n",
      " 'd': out(name='d', type=<class 'float'>, default=EMPTY, help_string='Product of a and b', requires=[], converter=None, validator=None)}\n"
     ]
    }
   ],
   "source": [
    "from pprint import pprint\n",
    "from pydra.engine.helpers import fields_dict\n",
    "\n",
    "@python.define(outputs=[\"c\", \"d\"])\n",
    "def SampleSpec(a: int, b: float) -> tuple[float, float]:\n",
    "    \"\"\"Sample function for testing\n",
    "\n",
    "    Args:\n",
    "        a: First input\n",
    "            to be inputted\n",
    "        b: Second input\n",
    "\n",
    "    Returns:\n",
    "        c: Sum of a and b\n",
    "        d: Product of a and b\n",
    "    \"\"\"\n",
    "    return a + b, a * b\n",
    "\n",
    "pprint(fields_dict(SampleSpec))\n",
    "pprint(fields_dict(SampleSpec.Outputs))"
   ]
  },
  {
   "cell_type": "markdown",
   "metadata": {},
   "source": [
    "### Dataclass form"
   ]
  },
  {
   "cell_type": "code",
   "execution_count": 13,
   "metadata": {},
   "outputs": [
    {
     "name": "stdout",
     "output_type": "stream",
     "text": [
      "{'a': arg(name='a', type=<class 'int'>, default=EMPTY, help_string='First input to be inputted', requires=[], converter=None, validator=None, allowed_values=(), xor=(), copy_mode=<CopyMode.any: 15>, copy_collation=<CopyCollation.any: 0>, copy_ext_decomp=<ExtensionDecomposition.single: 1>, readonly=False),\n",
      " 'b': arg(name='b', type=<class 'float'>, default=2.0, help_string='Second input', requires=[], converter=None, validator=None, allowed_values=(), xor=(), copy_mode=<CopyMode.any: 15>, copy_collation=<CopyCollation.any: 0>, copy_ext_decomp=<ExtensionDecomposition.single: 1>, readonly=False),\n",
      " 'function': arg(name='function', type=typing.Callable, default=<function SampleSpec.function at 0x10d024040>, help_string='', requires=[], converter=None, validator=None, allowed_values=(), xor=(), copy_mode=<CopyMode.any: 15>, copy_collation=<CopyCollation.any: 0>, copy_ext_decomp=<ExtensionDecomposition.single: 1>, readonly=False)}\n",
      "{'c': out(name='c', type=<class 'float'>, default=EMPTY, help_string='Sum of a and b', requires=[], converter=None, validator=None),\n",
      " 'd': out(name='d', type=<class 'float'>, default=EMPTY, help_string='Product of a and b', requires=[], converter=None, validator=None)}\n"
     ]
    }
   ],
   "source": [
    "\n",
    "@python.define\n",
    "class SampleSpec:\n",
    "    \"\"\"Sample class for testing\n",
    "\n",
    "    Args:\n",
    "        a: First input\n",
    "            to be inputted\n",
    "        b: Second input\n",
    "    \"\"\"\n",
    "\n",
    "    a: int\n",
    "    b: float = 2.0\n",
    "\n",
    "    class Outputs:\n",
    "        \"\"\"\n",
    "        Args:\n",
    "            c: Sum of a and b\n",
    "            d: Product of a and b\n",
    "        \"\"\"\n",
    "\n",
    "        c: float\n",
    "        d: float\n",
    "\n",
    "    @staticmethod\n",
    "    def function(a, b):\n",
    "        return a + b, a * b\n",
    "\n",
    "pprint(fields_dict(SampleSpec))\n",
    "pprint(fields_dict(SampleSpec.Outputs))"
   ]
  },
  {
   "cell_type": "markdown",
   "metadata": {},
   "source": [
    "### Canonical form (to work with static type-checking)"
   ]
  },
  {
   "cell_type": "code",
   "execution_count": 14,
   "metadata": {},
   "outputs": [
    {
     "name": "stdout",
     "output_type": "stream",
     "text": [
      "{'a': arg(name='a', type=<class 'int'>, default=EMPTY, help_string='First input to be inputted', requires=[], converter=None, validator=None, allowed_values=(), xor=(), copy_mode=<CopyMode.any: 15>, copy_collation=<CopyCollation.any: 0>, copy_ext_decomp=<ExtensionDecomposition.single: 1>, readonly=False),\n",
      " 'b': arg(name='b', type=<class 'float'>, default=EMPTY, help_string='Second input', requires=[], converter=None, validator=None, allowed_values=(), xor=(), copy_mode=<CopyMode.any: 15>, copy_collation=<CopyCollation.any: 0>, copy_ext_decomp=<ExtensionDecomposition.single: 1>, readonly=False),\n",
      " 'function': arg(name='function', type=typing.Callable, default=<function SampleSpec.function at 0x10d024180>, help_string='', requires=[], converter=None, validator=None, allowed_values=(), xor=(), copy_mode=<CopyMode.any: 15>, copy_collation=<CopyCollation.any: 0>, copy_ext_decomp=<ExtensionDecomposition.single: 1>, readonly=False)}\n",
      "{'c': out(name='c', type=<class 'float'>, default=EMPTY, help_string='Sum of a and b', requires=[], converter=None, validator=None),\n",
      " 'd': out(name='d', type=<class 'float'>, default=EMPTY, help_string='Product of a and b', requires=[], converter=None, validator=None)}\n"
     ]
    }
   ],
   "source": [
    "from pydra.engine.specs import PythonSpec, PythonOutputs\n",
    "\n",
    "@python.define\n",
    "class SampleSpec(PythonSpec[\"SampleSpec.Outputs\"]):\n",
    "    \"\"\"Sample class for testing\n",
    "\n",
    "    Args:\n",
    "        a: First input\n",
    "            to be inputted\n",
    "        b: Second input\n",
    "    \"\"\"\n",
    "\n",
    "    a: int\n",
    "    b: float\n",
    "\n",
    "    @python.outputs\n",
    "    class Outputs(PythonOutputs):\n",
    "        \"\"\"\n",
    "        Args:\n",
    "            c: Sum of a and b\n",
    "            d: Product of a and b\n",
    "        \"\"\"\n",
    "\n",
    "        c: float\n",
    "        d: float\n",
    "\n",
    "    @staticmethod\n",
    "    def function(a, b):\n",
    "        return a + b, a * b\n",
    "\n",
    "pprint(fields_dict(SampleSpec))\n",
    "pprint(fields_dict(SampleSpec.Outputs))"
   ]
  },
  {
   "cell_type": "code",
   "execution_count": null,
   "metadata": {},
   "outputs": [],
   "source": []
  }
 ],
 "metadata": {
  "kernelspec": {
   "display_name": "wf12",
   "language": "python",
   "name": "python3"
  },
  "language_info": {
   "codemirror_mode": {
    "name": "ipython",
    "version": 3
   },
   "file_extension": ".py",
   "mimetype": "text/x-python",
   "name": "python",
   "nbconvert_exporter": "python",
   "pygments_lexer": "ipython3",
   "version": "3.12.5"
  }
 },
 "nbformat": 4,
 "nbformat_minor": 2
}
