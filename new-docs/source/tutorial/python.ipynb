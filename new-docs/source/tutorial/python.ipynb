{
    "cells": [
        {
            "cell_type": "markdown",
            "metadata": {},
            "source": [
                "# Python-tasks\n",
                "\n",
                "Python task definitions are Python functions that are parameterised in a separate step before\n",
                "they are executed or added to a workflow.\n",
                "\n",
                "## Define decorator\n",
                "\n",
                "The simplest way to define a Python task is to decorate a function with `pydra.design.python.define`"
            ]
        },
        {
            "cell_type": "code",
            "execution_count": 1,
            "metadata": {},
            "outputs": [],
            "source": [
                "from pydra.design import python\n",
                "\n",
                "# Note that we use CamelCase as the return of the is a class\n",
                "@python.define\n",
                "def MyFirstTaskDef(a, b):\n",
                "    \"\"\"Sample function for testing\"\"\"\n",
                "    return a + b"
            ]
        },
        {
            "cell_type": "markdown",
            "metadata": {},
            "source": [
                "The resulting task-definition class can be then parameterized (instantiated), and\n",
                "executed"
            ]
        },
        {
            "cell_type": "code",
            "execution_count": null,
            "metadata": {},
            "outputs": [
                {
                    "name": "stderr",
                    "output_type": "stream",
                    "text": [
                        "A newer version (0.25) of nipype/pydra is available. You are using 0.25.dev103+g1a6b067c.d20241228\n"
                    ]
                },
                {
                    "name": "stdout",
                    "output_type": "stream",
                    "text": [
                        "3.0\n"
                    ]
                }
            ],
            "source": [
                "# Instantiate the task, setting all parameters\n",
                "my_first_task = MyFirstTaskDef(a=1, b=2.0)\n",
                "\n",
                "# Execute the task\n",
                "outputs = my_first_task()\n",
                "\n",
                "print(outputs.out)"
            ]
        },
        {
            "cell_type": "markdown",
            "metadata": {},
            "source": [
                "By default, the name of the output field for a function with only one output is `out`. To\n",
                "name this something else, in the case where there are multiple output fields, the `outputs`\n",
                "argument can be provided to `python.define`\n"
            ]
        },
        {
            "cell_type": "code",
            "execution_count": null,
            "metadata": {},
            "outputs": [
                {
                    "name": "stdout",
                    "output_type": "stream",
                    "text": [
                        "NamedOutputTaskOutputs(c=3, d=1)\n"
                    ]
                }
            ],
            "source": [
                "@python.define(outputs=[\"c\", \"d\"])\n",
                "def NamedOutputTaskDef(a, b):\n",
                "    \"\"\"Sample function for testing\"\"\"\n",
                "    return a + b, a - b\n",
                "\n",
                "named_output_task = NamedOutputTaskDef(a=2, b=1)\n",
                "\n",
                "outputs = named_output_task()\n",
                "\n",
                "print(outputs)"
            ]
        },
        {
            "cell_type": "markdown",
            "metadata": {},
            "source": [
                "The input and output field attributes automatically extracted from the function, explicit\n",
                "attributes can be augmented"
            ]
        },
        {
            "cell_type": "code",
            "execution_count": 8,
            "metadata": {},
            "outputs": [],
            "source": [
                "@python.define(\n",
                "    inputs={\"a\": python.arg(allowed_values=[1, 2, 3]), \"b\": python.arg(default=10.0)},\n",
                "    outputs={\n",
                "        \"c\": python.out(type=float, help_string=\"the sum of the inputs\"),\n",
                "        \"d\": python.out(type=float, help_string=\"the difference of the inputs\"),\n",
                "    },\n",
                ")\n",
                "def AugmentedTaskDef(a, b):\n",
                "    \"\"\"Sample function for testing\"\"\"\n",
                "    return a + b, a - b"
            ]
        },
        {
            "cell_type": "markdown",
            "metadata": {},
            "source": [
                "## Type annotations\n",
                "\n",
                "If provided, type annotations are included in the task definition, and are checked at\n",
                "the time of parameterisation."
            ]
        },
        {
            "cell_type": "code",
            "execution_count": 4,
            "metadata": {},
            "outputs": [
                {
                    "name": "stdout",
                    "output_type": "stream",
                    "text": [
                        "Type error caught: Incorrect type for field in 'a' field of MyTypedTask interface : 1.5 is not of type <class 'int'> (and cannot be coerced to it)\n"
                    ]
                }
            ],
            "source": [
                "from pydra.design import python\n",
                "\n",
                "# Note that we use CamelCase as the function is translated to a class\n",
                "\n",
                "@python.define\n",
                "def MyTypedTask(a: int, b: float) -> float:\n",
                "    \"\"\"Sample function for testing\"\"\"\n",
                "    return a + b\n",
                "\n",
                "try:\n",
                "    # 1.5 is not an integer so this should raise a TypeError\n",
                "    my_typed_task = MyTypedTask(a=1.5, b=2.0)\n",
                "except TypeError as e:\n",
                "    print(f\"Type error caught: {e}\")\n",
                "else:\n",
                "    assert False, \"Expected a TypeError\"\n",
                "\n",
                "# While 2 is an integer, it can be implicitly coerced to a float\n",
                "my_typed_task = MyTypedTask(a=1, b=2)"
            ]
        },
        {
            "cell_type": "markdown",
            "metadata": {},
            "source": [
                "\n",
                "## Docstring parsing\n",
                "\n",
                "Instead of explicitly providing help strings and output names in `inputs` and `outputs`\n",
                "arguments, if the function describes the its inputs and/or outputs in the doc string, \n",
                "in either reST, Google or NumpyDoc style, then they will be extracted and included in the\n",
                "input or output fields\n"
            ]
        },
        {
            "cell_type": "code",
            "execution_count": 12,
            "metadata": {},
            "outputs": [
                {
                    "name": "stdout",
                    "output_type": "stream",
                    "text": [
                        "{'a': arg(name='a', type=<class 'int'>, default=EMPTY, help_string='First input to be inputted', requires=[], converter=None, validator=None, allowed_values=(), xor=(), copy_mode=<CopyMode.any: 15>, copy_collation=<CopyCollation.any: 0>, copy_ext_decomp=<ExtensionDecomposition.single: 1>, readonly=False),\n",
                        " 'b': arg(name='b', type=<class 'float'>, default=EMPTY, help_string='Second input', requires=[], converter=None, validator=None, allowed_values=(), xor=(), copy_mode=<CopyMode.any: 15>, copy_collation=<CopyCollation.any: 0>, copy_ext_decomp=<ExtensionDecomposition.single: 1>, readonly=False),\n",
                        " 'function': arg(name='function', type=typing.Callable, default=<function SampleDef at 0x10d0253a0>, help_string='', requires=[], converter=None, validator=None, allowed_values=(), xor=(), copy_mode=<CopyMode.any: 15>, copy_collation=<CopyCollation.any: 0>, copy_ext_decomp=<ExtensionDecomposition.single: 1>, readonly=False)}\n",
                        "{'c': out(name='c', type=<class 'float'>, default=EMPTY, help_string='Sum of a and b', requires=[], converter=None, validator=None),\n",
                        " 'd': out(name='d', type=<class 'float'>, default=EMPTY, help_string='Product of a and b', requires=[], converter=None, validator=None)}\n"
                    ]
                }
            ],
            "source": [
                "from pprint import pprint\n",
                "from pydra.engine.helpers import fields_dict\n",
                "\n",
                "@python.define\n",
                "def DocStrDef(a: int, b: float) -> tuple[float, float]:\n",
                "    \"\"\"Sample function for testing\n",
                "\n",
                "    Args:\n",
                "        a: First input\n",
                "            to be inputted\n",
                "        b: Second input\n",
                "\n",
                "    Returns:\n",
                "        c: Sum of a and b\n",
                "        d: Product of a and b\n",
                "    \"\"\"\n",
                "    return a + b, a * b\n",
                "\n",
                "pprint(fields_dict(DocStrDef))\n",
                "pprint(fields_dict(DocStrDef.Outputs))"
            ]
        },
        {
            "cell_type": "markdown",
            "metadata": {},
            "source": [
                "## Wrapping external functions\n",
                "\n",
                "Like all decorators, `python.define` is just a function, so can also be used to convert\n",
                "a function that is defined separately into a Python task definition."
            ]
        },
        {
            "cell_type": "code",
            "execution_count": 5,
            "metadata": {},
            "outputs": [
                {
                    "name": "stdout",
                    "output_type": "stream",
                    "text": [
                        "[3.5]\n"
                    ]
                }
            ],
            "source": [
                "import numpy as np\n",
                "\n",
                "NumpyCorrelate = python.define(np.correlate)\n",
                "\n",
                "numpy_correlate = NumpyCorrelate(a=[1, 2, 3], v=[0, 1, 0.5])\n",
                "\n",
                "outputs = numpy_correlate()\n",
                "\n",
                "print(outputs.out)"
            ]
        },
        {
            "cell_type": "markdown",
            "metadata": {},
            "source": [
                "Like with decorated functions, input and output fields can be explicitly augmented via\n",
                "the `inputs` and `outputs` arguments"
            ]
        },
        {
            "cell_type": "code",
            "execution_count": 7,
            "metadata": {},
            "outputs": [
                {
                    "name": "stdout",
                    "output_type": "stream",
                    "text": [
                        "[3.5]\n"
                    ]
                }
            ],
            "source": [
                "import numpy as np\n",
                "\n",
                "NumpyCorrelate = python.define(np.correlate, outputs=[\"correlation\"])\n",
                "\n",
                "numpy_correlate = NumpyCorrelate(a=[1, 2, 3], v=[0, 1, 0.5])\n",
                "\n",
                "outputs = numpy_correlate()\n",
                "\n",
                "print(outputs.correlation)"
            ]
        }
    ],
    "metadata": {
        "kernelspec": {
            "display_name": "wf12",
            "language": "python",
            "name": "python3"
        },
        "language_info": {
            "codemirror_mode": {
                "name": "ipython",
                "version": 3
            },
            "file_extension": ".py",
            "mimetype": "text/x-python",
            "name": "python",
            "nbconvert_exporter": "python",
            "pygments_lexer": "ipython3",
            "version": "3.12.5"
        }
    },
    "nbformat": 4,
    "nbformat_minor": 2
}
