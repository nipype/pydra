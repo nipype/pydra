{
 "cells": [
  {
   "cell_type": "markdown",
   "metadata": {},
   "source": [
    "# Shell-tasks"
   ]
  },
  {
   "cell_type": "markdown",
   "metadata": {},
   "source": [
    "## Command-line templates\n",
    "\n",
    "Shell task specs can be defined using from string templates that resemble the command-line usage examples typically used in in-line help. Therefore, they can be quick and intuitive way to specify a shell task. For example, a simple spec  for the copy command `cp` that omits optional flags,"
   ]
  },
  {
   "cell_type": "code",
   "execution_count": 1,
   "metadata": {},
   "outputs": [],
   "source": [
    "from pydra.design import shell\n",
    "\n",
    "Cp = shell.define(\"cp <in_file> <out|destination>\")"
   ]
  },
  {
   "cell_type": "markdown",
   "metadata": {},
   "source": [
    "Input and output fields are both specified by placing the name of the field within enclosing `<` and `>`. Outputs are differentiated by the `out|` prefix.\n",
    "\n",
    "This shell task can then be run just as a Python task would be run, first parameterising it, then executing"
   ]
  },
  {
   "cell_type": "code",
   "execution_count": 2,
   "metadata": {},
   "outputs": [
    {
     "name": "stdout",
     "output_type": "stream",
     "text": [
      "Command-line to be run: cp /var/folders/mz/yn83q2fd3s758w1j75d2nnw80000gn/T/tmpoyx19gql/in.txt /var/folders/mz/yn83q2fd3s758w1j75d2nnw80000gn/T/tmpoyx19gql/out.txt\n",
      "Contents of copied file ('/var/folders/mz/yn83q2fd3s758w1j75d2nnw80000gn/T/tmpoyx19gql/out.txt'): 'Contents to be copied'\n"
     ]
    }
   ],
   "source": [
    "from pathlib import Path\n",
    "from tempfile import mkdtemp\n",
    "\n",
    "# Make a test file to copy\n",
    "test_dir = Path(mkdtemp())\n",
    "test_file = test_dir / \"in.txt\"\n",
    "with open(test_file, \"w\") as f:\n",
    "    f.write(\"Contents to be copied\")\n",
    "\n",
    "# Parameterise the task spec\n",
    "cp = Cp(in_file=test_file, destination=test_dir / \"out.txt\")\n",
    "\n",
    "# Print the cmdline to be run to double check\n",
    "print(f\"Command-line to be run: {cp.cmdline}\")\n",
    "\n",
    "# Run the shell-comand task\n",
    "result = cp()\n",
    "\n",
    "print(\n",
    "    f\"Contents of copied file ('{result.output.destination}'): \"\n",
    "    f\"'{Path(result.output.destination).read_text()}'\"\n",
    ")"
   ]
  },
  {
   "cell_type": "markdown",
   "metadata": {},
   "source": [
    "If paths to output files are not provided in the parameterisation, it will default to the name of the field"
   ]
  },
  {
   "cell_type": "code",
   "execution_count": 3,
   "metadata": {},
   "outputs": [
    {
     "name": "stdout",
     "output_type": "stream",
     "text": [
      "cp /var/folders/mz/yn83q2fd3s758w1j75d2nnw80000gn/T/tmpoyx19gql/in.txt /Users/tclose/git/workflows/pydra/docs/source/tutorial/destination\n"
     ]
    }
   ],
   "source": [
    "cp = Cp(in_file=test_file)\n",
    "print(cp.cmdline)"
   ]
  },
  {
   "cell_type": "markdown",
   "metadata": {},
   "source": [
    "### Specifying types\n",
    "\n",
    "By default, shell-command fields are considered to be of `fileformats.generic.FsObject` type. However, more specific file formats or built-in Python types can be specified by appending the type to the field name after a `:`.\n",
    "\n",
    "File formats are specified by their MIME type or \"MIME-like\" strings (see the [FileFormats docs](https://arcanaframework.github.io/fileformats/mime.html) for details)"
   ]
  },
  {
   "cell_type": "code",
   "execution_count": 4,
   "metadata": {},
   "outputs": [
    {
     "name": "stdout",
     "output_type": "stream",
     "text": [
      "trim-png /mock/png.png /path/to/output.png\n"
     ]
    }
   ],
   "source": [
    "from fileformats.image import Png\n",
    "\n",
    "TrimPng = shell.define(\"trim-png <in_image:image/png> <out|out_image:image/png>\")\n",
    "\n",
    "trim_png = TrimPng(in_image=Png.mock(), out_image=\"/path/to/output.png\")\n",
    "\n",
    "print(trim_png.cmdline)"
   ]
  },
  {
   "cell_type": "markdown",
   "metadata": {},
   "source": []
  },
  {
   "cell_type": "markdown",
   "metadata": {},
   "source": [
    "### Flags and options\n",
    "\n",
    "Command line flags can also be added to the shell template, either the single or double hyphen form. The field template name immediately following the flag will be associate with that flag.\n",
    "\n",
    "If there is no space between the flag and the field template, then the field is assumed to be a boolean, otherwise it is assumed to be of type string unless otherwise specified.\n",
    "\n",
    "If a field is optional, the field template should end with a `?`. Tuple fields are specified by comma separated types.\n",
    "\n",
    "Varargs are specified by the type followed by an ellipsis, e.g. `<my_varargs:generic/file,...>`"
   ]
  },
  {
   "cell_type": "code",
   "execution_count": 5,
   "metadata": {},
   "outputs": [
    {
     "name": "stdout",
     "output_type": "stream",
     "text": [
      "{'executable': arg(name='executable', type=typing.Union[str, typing.Sequence[str]], default='cp', help_string=\"the first part of the command, can be a string, e.g. 'ls', or a list, e.g. ['ls', '-l', 'dirname']\", requires=[], converter=None, validator=<min_len validator for 1>, xor=(), copy_mode=<CopyMode.any: 15>, copy_collation=<CopyCollation.any: 0>, copy_ext_decomp=<ExtensionDecomposition.single: 1>, readonly=False, argstr='', position=0, sep=None, allowed_values=None, container_path=False, formatter=None),\n",
      " 'in_fs_objects': arg(name='in_fs_objects', type=pydra.utils.typing.MultiInputObj[fileformats.generic.fsobject.FsObject], default=EMPTY, help_string='', requires=[], converter=None, validator=None, xor=(), copy_mode=<CopyMode.any: 15>, copy_collation=<CopyCollation.any: 0>, copy_ext_decomp=<ExtensionDecomposition.single: 1>, readonly=False, argstr='', position=1, sep=' ', allowed_values=None, container_path=False, formatter=None),\n",
      " 'int_arg': arg(name='int_arg', type=int | None, default=None, help_string='', requires=[], converter=None, validator=None, xor=(), copy_mode=<CopyMode.any: 15>, copy_collation=<CopyCollation.any: 0>, copy_ext_decomp=<ExtensionDecomposition.single: 1>, readonly=False, argstr='--int-arg', position=5, sep=None, allowed_values=None, container_path=False, formatter=None),\n",
      " 'out_dir': outarg(name='out_dir', type=<class 'fileformats.generic.directory.Directory'>, default=EMPTY, help_string='', requires=[], converter=None, validator=None, xor=(), copy_mode=<CopyMode.any: 15>, copy_collation=<CopyCollation.any: 0>, copy_ext_decomp=<ExtensionDecomposition.single: 1>, readonly=False, argstr='', position=2, sep=None, allowed_values=None, container_path=False, formatter=None, path_template='out_dir', keep_extension=False),\n",
      " 'recursive': arg(name='recursive', type=<class 'bool'>, default=False, help_string='', requires=[], converter=None, validator=None, xor=(), copy_mode=<CopyMode.any: 15>, copy_collation=<CopyCollation.any: 0>, copy_ext_decomp=<ExtensionDecomposition.single: 1>, readonly=False, argstr='-R', position=3, sep=None, allowed_values=None, container_path=False, formatter=None),\n",
      " 'text_arg': arg(name='text_arg', type=str | None, default=None, help_string='', requires=[], converter=None, validator=None, xor=(), copy_mode=<CopyMode.any: 15>, copy_collation=<CopyCollation.any: 0>, copy_ext_decomp=<ExtensionDecomposition.single: 1>, readonly=False, argstr='--text-arg', position=4, sep=None, allowed_values=None, container_path=False, formatter=None),\n",
      " 'tuple_arg': arg(name='tuple_arg', type=tuple[int, str] | None, default=None, help_string='', requires=[], converter=None, validator=None, xor=(), copy_mode=<CopyMode.any: 15>, copy_collation=<CopyCollation.any: 0>, copy_ext_decomp=<ExtensionDecomposition.single: 1>, readonly=False, argstr='--tuple-arg', position=6, sep=None, allowed_values=None, container_path=False, formatter=None)}\n",
      "{'out_dir': outarg(name='out_dir', type=<class 'fileformats.generic.directory.Directory'>, default=EMPTY, help_string='', requires=[], converter=None, validator=None, xor=(), copy_mode=<CopyMode.any: 15>, copy_collation=<CopyCollation.any: 0>, copy_ext_decomp=<ExtensionDecomposition.single: 1>, readonly=False, argstr='', position=2, sep=None, allowed_values=None, container_path=False, formatter=None, path_template='out_dir', keep_extension=False),\n",
      " 'return_code': out(name='return_code', type=<class 'int'>, default=EMPTY, help_string=\"The process' exit code.\", requires=[], converter=None, validator=None, callable=None),\n",
      " 'stderr': out(name='stderr', type=<class 'str'>, default=EMPTY, help_string='The standard error stream produced by the command.', requires=[], converter=None, validator=None, callable=None),\n",
      " 'stdout': out(name='stdout', type=<class 'str'>, default=EMPTY, help_string='The standard output stream produced by the command.', requires=[], converter=None, validator=None, callable=None)}\n"
     ]
    }
   ],
   "source": [
    "from pprint import pprint\n",
    "from pydra.engine.helpers import fields_dict\n",
    "\n",
    "Cp = shell.define(\n",
    "        (\n",
    "            \"cp <in_fs_objects:fs-object,...> <out|out_dir:directory> \"\n",
    "            \"-R<recursive> \"\n",
    "            \"--text-arg <text_arg?> \"\n",
    "            \"--int-arg <int_arg:int?> \"\n",
    "            \"--tuple-arg <tuple_arg:int,str?> \"\n",
    "        ),\n",
    "    )\n",
    "\n",
    "pprint(fields_dict(Cp))\n",
    "pprint(fields_dict(Cp.Outputs))"
   ]
  },
  {
   "cell_type": "markdown",
   "metadata": {},
   "source": [
    "### Defaults\n",
    "\n",
    "Defaults can be specified by appending them to the field template after `=`"
   ]
  },
  {
   "cell_type": "code",
   "execution_count": 6,
   "metadata": {},
   "outputs": [
    {
     "name": "stdout",
     "output_type": "stream",
     "text": [
      "'--int-arg' default: 99\n"
     ]
    }
   ],
   "source": [
    "Cp = shell.define(\n",
    "        (\n",
    "            \"cp <in_fs_objects:fs-object,...> <out|out_dir:directory> \"\n",
    "            \"-R<recursive=True> \"\n",
    "            \"--text-arg <text_arg='foo'> \"\n",
    "            \"--int-arg <int_arg:int=99> \"\n",
    "            \"--tuple-arg <tuple_arg:int,str=(1,'bar')> \"\n",
    "        ),\n",
    "    )\n",
    "\n",
    "print(f\"'--int-arg' default: {fields_dict(Cp)['int_arg'].default}\")"
   ]
  },
  {
   "cell_type": "markdown",
   "metadata": {},
   "source": [
    "### Additional field attributes\n",
    "\n",
    "Additional attributes of the fields in the template can be specified by providing `shell.arg` or `shell.outarg` fields to the `inputs` and `outputs` keyword arguments to the define"
   ]
  },
  {
   "cell_type": "code",
   "execution_count": 7,
   "metadata": {},
   "outputs": [
    {
     "name": "stdout",
     "output_type": "stream",
     "text": [
      "{'executable': arg(name='executable', type=typing.Union[str, typing.Sequence[str]], default='cp', help_string=\"the first part of the command, can be a string, e.g. 'ls', or a list, e.g. ['ls', '-l', 'dirname']\", requires=[], converter=None, validator=<min_len validator for 1>, xor=(), copy_mode=<CopyMode.any: 15>, copy_collation=<CopyCollation.any: 0>, copy_ext_decomp=<ExtensionDecomposition.single: 1>, readonly=False, argstr='', position=0, sep=None, allowed_values=None, container_path=False, formatter=None),\n",
      " 'in_fs_objects': arg(name='in_fs_objects', type=pydra.utils.typing.MultiInputObj[fileformats.generic.fsobject.FsObject], default=EMPTY, help_string='', requires=[], converter=None, validator=None, xor=(), copy_mode=<CopyMode.any: 15>, copy_collation=<CopyCollation.any: 0>, copy_ext_decomp=<ExtensionDecomposition.single: 1>, readonly=False, argstr='', position=1, sep=' ', allowed_values=None, container_path=False, formatter=None),\n",
      " 'int_arg': arg(name='int_arg', type=int | None, default=None, help_string='', requires=[], converter=None, validator=None, xor=(), copy_mode=<CopyMode.any: 15>, copy_collation=<CopyCollation.any: 0>, copy_ext_decomp=<ExtensionDecomposition.single: 1>, readonly=False, argstr='--int-arg', position=4, sep=None, allowed_values=None, container_path=False, formatter=None),\n",
      " 'out_dir': outarg(name='out_dir', type=<class 'fileformats.generic.directory.Directory'>, default=EMPTY, help_string='', requires=[], converter=None, validator=None, xor=(), copy_mode=<CopyMode.any: 15>, copy_collation=<CopyCollation.any: 0>, copy_ext_decomp=<ExtensionDecomposition.single: 1>, readonly=False, argstr='', position=-2, sep=None, allowed_values=None, container_path=False, formatter=None, path_template='out_dir', keep_extension=False),\n",
      " 'out_file': outarg(name='out_file', type=fileformats.generic.file.File | None, default=None, help_string='', requires=[], converter=None, validator=None, xor=(), copy_mode=<CopyMode.any: 15>, copy_collation=<CopyCollation.any: 0>, copy_ext_decomp=<ExtensionDecomposition.single: 1>, readonly=False, argstr='', position=-1, sep=None, allowed_values=None, container_path=False, formatter=None, path_template='out_file', keep_extension=False),\n",
      " 'recursive': arg(name='recursive', type=<class 'bool'>, default=False, help_string='If source_file designates a directory, cp copies the directory and the entire subtree connected at that point.', requires=[], converter=None, validator=None, xor=(), copy_mode=<CopyMode.any: 15>, copy_collation=<CopyCollation.any: 0>, copy_ext_decomp=<ExtensionDecomposition.single: 1>, readonly=False, argstr='-R', position=2, sep=None, allowed_values=None, container_path=False, formatter=None),\n",
      " 'text_arg': arg(name='text_arg', type=<class 'str'>, default=EMPTY, help_string='', requires=[], converter=None, validator=None, xor=(), copy_mode=<CopyMode.any: 15>, copy_collation=<CopyCollation.any: 0>, copy_ext_decomp=<ExtensionDecomposition.single: 1>, readonly=False, argstr='--text-arg', position=3, sep=None, allowed_values=None, container_path=False, formatter=None),\n",
      " 'tuple_arg': arg(name='tuple_arg', type=tuple[int, str], default=EMPTY, help_string='', requires=[], converter=None, validator=None, xor=(), copy_mode=<CopyMode.any: 15>, copy_collation=<CopyCollation.any: 0>, copy_ext_decomp=<ExtensionDecomposition.single: 1>, readonly=False, argstr='--tuple-arg', position=5, sep=None, allowed_values=None, container_path=False, formatter=None)}\n",
      "{'out_dir': outarg(name='out_dir', type=<class 'fileformats.generic.directory.Directory'>, default=EMPTY, help_string='', requires=[], converter=None, validator=None, xor=(), copy_mode=<CopyMode.any: 15>, copy_collation=<CopyCollation.any: 0>, copy_ext_decomp=<ExtensionDecomposition.single: 1>, readonly=False, argstr='', position=-2, sep=None, allowed_values=None, container_path=False, formatter=None, path_template='out_dir', keep_extension=False),\n",
      " 'out_file': outarg(name='out_file', type=fileformats.generic.file.File | None, default=None, help_string='', requires=[], converter=None, validator=None, xor=(), copy_mode=<CopyMode.any: 15>, copy_collation=<CopyCollation.any: 0>, copy_ext_decomp=<ExtensionDecomposition.single: 1>, readonly=False, argstr='', position=-1, sep=None, allowed_values=None, container_path=False, formatter=None, path_template='out_file', keep_extension=False),\n",
      " 'return_code': out(name='return_code', type=<class 'int'>, default=EMPTY, help_string=\"The process' exit code.\", requires=[], converter=None, validator=None, callable=None),\n",
      " 'stderr': out(name='stderr', type=<class 'str'>, default=EMPTY, help_string='The standard error stream produced by the command.', requires=[], converter=None, validator=None, callable=None),\n",
      " 'stdout': out(name='stdout', type=<class 'str'>, default=EMPTY, help_string='The standard output stream produced by the command.', requires=[], converter=None, validator=None, callable=None)}\n"
     ]
    }
   ],
   "source": [
    "Cp = shell.define(\n",
    "        (\n",
    "            \"cp <in_fs_objects:fs-object,...> <out|out_dir:directory> <out|out_file:file?> \"\n",
    "            \"-R<recursive> \"\n",
    "            \"--text-arg <text_arg> \"\n",
    "            \"--int-arg <int_arg:int?> \"\n",
    "            \"--tuple-arg <tuple_arg:int,str> \"\n",
    "        ),\n",
    "        inputs={\"recursive\": shell.arg(\n",
    "            help_string=(\n",
    "                \"If source_file designates a directory, cp copies the directory and \"\n",
    "                \"the entire subtree connected at that point.\"\n",
    "            )\n",
    "        )},\n",
    "        outputs={\n",
    "            \"out_dir\": shell.outarg(position=-2),\n",
    "            \"out_file\": shell.outarg(position=-1),\n",
    "        },\n",
    "    )\n",
    "\n",
    "\n",
    "pprint(fields_dict(Cp))\n",
    "pprint(fields_dict(Cp.Outputs))"
   ]
  },
  {
   "cell_type": "markdown",
   "metadata": {},
   "source": [
    "### Callable outptus\n",
    "\n",
    "In addition to outputs that are specified to the tool on the command line, outputs can be derived from the outputs of the tool by providing a Python function that can take the output directory and inputs as arguments and return the output value. Callables can be either specified in the `callable` attribute of the `shell.out` field, or in a dictionary mapping the output name to the callable"
   ]
  },
  {
   "cell_type": "code",
   "execution_count": 8,
   "metadata": {},
   "outputs": [
    {
     "name": "stdout",
     "output_type": "stream",
     "text": [
      "Size of the output file is: 256\n"
     ]
    }
   ],
   "source": [
    "import os\n",
    "from pydra.design import shell\n",
    "from pathlib import Path\n",
    "from fileformats.generic import File\n",
    "\n",
    "# Arguments to the callable function can be one of \n",
    "def get_file_size(out_file: Path) -> int:\n",
    "    \"\"\"Calculate the file size\"\"\"\n",
    "    result = os.stat(out_file)\n",
    "    return result.st_size\n",
    "\n",
    "\n",
    "CpWithSize = shell.define(\n",
    "    \"cp <in_file:file> <out|out_file:file>\",\n",
    "    outputs={\"out_file_size\": get_file_size},\n",
    ")\n",
    "\n",
    "# Parameterise the task spec\n",
    "cp_with_size = CpWithSize(in_file=File.sample())\n",
    "\n",
    "# Run the command\n",
    "result = cp_with_size()\n",
    "\n",
    "\n",
    "print(f\"Size of the output file is: {result.output.out_file_size}\")"
   ]
  },
  {
   "cell_type": "markdown",
   "metadata": {},
   "source": [
    "The callable can take any combination of the following arguments, which will be passed\n",
    "to it when it is called\n",
    "\n",
    "* field: the `Field` object to be provided a value, useful when writing generic callables\n",
    "* output_dir: a `Path` object referencing the working directory the command was run within\n",
    "* inputs: a dictionary containing all the resolved inputs to the task\n",
    "* stdout: the standard output stream produced by the command\n",
    "* stderr: the standard error stream produced by the command\n",
    "* *name of an input*: the name of any of the input arguments to the task, including output args that are part of the command line (i.e. output files)"
   ]
  },
  {
   "cell_type": "markdown",
   "metadata": {},
   "source": [
    "## Dataclass form\n",
    "\n",
    "Like with Python tasks, shell-tasks can also be specified in dataclass-form by using `shell.define` as a decorator."
   ]
  },
  {
   "cell_type": "code",
   "execution_count": 9,
   "metadata": {},
   "outputs": [
    {
     "name": "stdout",
     "output_type": "stream",
     "text": [
      "{'executable': arg(name='executable', type=typing.Union[str, typing.Sequence[str]], default='cp', help_string=\"the first part of the command, can be a string, e.g. 'ls', or a list, e.g. ['ls', '-l', 'dirname']\", requires=[], converter=None, validator=<min_len validator for 1>, xor=(), copy_mode=<CopyMode.any: 15>, copy_collation=<CopyCollation.any: 0>, copy_ext_decomp=<ExtensionDecomposition.single: 1>, readonly=False, argstr='', position=0, sep=None, allowed_values=None, container_path=False, formatter=None),\n",
      " 'in_fs_objects': arg(name='in_fs_objects', type=pydra.utils.typing.MultiInputObj[fileformats.generic.fsobject.FsObject], default=EMPTY, help_string='', requires=[], converter=None, validator=None, xor=(), copy_mode=<CopyMode.any: 15>, copy_collation=<CopyCollation.any: 0>, copy_ext_decomp=<ExtensionDecomposition.single: 1>, readonly=False, argstr='', position=5, sep=None, allowed_values=None, container_path=False, formatter=None),\n",
      " 'int_arg': arg(name='int_arg', type=int | None, default=None, help_string='', requires=[], converter=None, validator=None, xor=(), copy_mode=<CopyMode.any: 15>, copy_collation=<CopyCollation.any: 0>, copy_ext_decomp=<ExtensionDecomposition.single: 1>, readonly=False, argstr='--int-arg', position=1, sep=None, allowed_values=None, container_path=False, formatter=None),\n",
      " 'recursive': arg(name='recursive', type=<class 'bool'>, default=False, help_string='', requires=[], converter=None, validator=None, xor=(), copy_mode=<CopyMode.any: 15>, copy_collation=<CopyCollation.any: 0>, copy_ext_decomp=<ExtensionDecomposition.single: 1>, readonly=False, argstr='-R', position=2, sep=None, allowed_values=None, container_path=False, formatter=None),\n",
      " 'text_arg': arg(name='text_arg', type=<class 'str'>, default=EMPTY, help_string='', requires=[], converter=None, validator=None, xor=(), copy_mode=<CopyMode.any: 15>, copy_collation=<CopyCollation.any: 0>, copy_ext_decomp=<ExtensionDecomposition.single: 1>, readonly=False, argstr='--text-arg', position=3, sep=None, allowed_values=None, container_path=False, formatter=None),\n",
      " 'tuple_arg': arg(name='tuple_arg', type=tuple[int, str] | None, default=None, help_string='', requires=[], converter=None, validator=None, xor=(), copy_mode=<CopyMode.any: 15>, copy_collation=<CopyCollation.any: 0>, copy_ext_decomp=<ExtensionDecomposition.single: 1>, readonly=False, argstr='--tuple-arg', position=4, sep=None, allowed_values=None, container_path=False, formatter=None)}\n",
      "{'out_file': out(name='out_file', type=<class 'fileformats.generic.file.File'>, default=EMPTY, help_string='', requires=[], converter=None, validator=None, callable=None),\n",
      " 'out_file_size': out(name='out_file_size', type=<class 'int'>, default=EMPTY, help_string='', requires=[], converter=None, validator=None, callable=<function get_file_size at 0x11481f920>),\n",
      " 'return_code': out(name='return_code', type=<class 'int'>, default=EMPTY, help_string=\"The process' exit code.\", requires=[], converter=None, validator=None, callable=None),\n",
      " 'stderr': out(name='stderr', type=<class 'str'>, default=EMPTY, help_string='The standard error stream produced by the command.', requires=[], converter=None, validator=None, callable=None),\n",
      " 'stdout': out(name='stdout', type=<class 'str'>, default=EMPTY, help_string='The standard output stream produced by the command.', requires=[], converter=None, validator=None, callable=None)}\n"
     ]
    }
   ],
   "source": [
    "from fileformats.generic import FsObject, Directory\n",
    "from pydra.utils.typing import MultiInputObj\n",
    "\n",
    "@shell.define\n",
    "class CpWithSize:\n",
    "\n",
    "    executable = \"cp\"\n",
    "\n",
    "    in_fs_objects: MultiInputObj[FsObject]\n",
    "    recursive: bool = shell.arg(argstr=\"-R\")\n",
    "    text_arg: str = shell.arg(argstr=\"--text-arg\")\n",
    "    int_arg: int | None = shell.arg(argstr=\"--int-arg\")\n",
    "    tuple_arg: tuple[int, str] | None = shell.arg(argstr=\"--tuple-arg\")\n",
    "\n",
    "    class Outputs:\n",
    "        out_file: File\n",
    "        out_file_size: int = shell.out(callable=get_file_size)\n",
    "\n",
    "\n",
    "pprint(fields_dict(CpWithSize))\n",
    "pprint(fields_dict(CpWithSize.Outputs))"
   ]
  },
  {
   "cell_type": "markdown",
   "metadata": {},
   "source": [
    "To make workflows that use the interface type-checkable, the canonical form of a shell\n",
    "task dataclass should inherit from `shell.Spec` parameterized by its nested Outputs class,\n",
    "and the `Outputs` nested class should inherit from `shell.Outputs`."
   ]
  },
  {
   "cell_type": "code",
   "execution_count": 10,
   "metadata": {},
   "outputs": [],
   "source": [
    "from pydra.engine.specs import ShellSpec, ShellOutputs\n",
    "\n",
    "@shell.define\n",
    "class Cp(ShellSpec[\"Cp.Outputs\"]):\n",
    "\n",
    "    executable = \"cp\"\n",
    "\n",
    "    in_fs_objects: MultiInputObj[FsObject]\n",
    "    recursive: bool = shell.arg(argstr=\"-R\", default=False)\n",
    "    text_arg: str = shell.arg(argstr=\"--text-arg\")\n",
    "    int_arg: int | None = shell.arg(argstr=\"--int-arg\")\n",
    "    tuple_arg: tuple[int, str] | None = shell.arg(argstr=\"--tuple-arg\")\n",
    "\n",
    "    @shell.outputs\n",
    "    class Outputs(ShellOutputs):\n",
    "        out_dir: Directory = shell.outarg(path_template=\"{out_dir}\")\n"
   ]
  },
  {
   "cell_type": "markdown",
   "metadata": {},
   "source": [
    "## Dynamic specifications\n",
    "\n",
    "In some cases, it is required to generate the specification for a task dynamically, which can be done by just providing the executable to `shell.define` and specifying all inputs and outputs explicitly"
   ]
  },
  {
   "cell_type": "code",
   "execution_count": 11,
   "metadata": {},
   "outputs": [
    {
     "name": "stdout",
     "output_type": "stream",
     "text": [
      "ACommand input fields: [arg(name='in_file', type=<class 'fileformats.generic.file.File'>, default=EMPTY, help_string='output file', requires=[], converter=None, validator=None, xor=(), copy_mode=<CopyMode.any: 15>, copy_collation=<CopyCollation.any: 0>, copy_ext_decomp=<ExtensionDecomposition.single: 1>, readonly=False, argstr='', position=-2, sep=None, allowed_values=None, container_path=False, formatter=None), outarg(name='out_file', type=<class 'fileformats.generic.file.File'>, default=EMPTY, help_string='output file', requires=[], converter=None, validator=None, xor=(), copy_mode=<CopyMode.any: 15>, copy_collation=<CopyCollation.any: 0>, copy_ext_decomp=<ExtensionDecomposition.single: 1>, readonly=False, argstr='', position=-1, sep=None, allowed_values=None, container_path=False, formatter=None, path_template=None, keep_extension=False), arg(name='executable', type=typing.Union[str, typing.Sequence[str]], default='a-command', help_string=\"the first part of the command, can be a string, e.g. 'ls', or a list, e.g. ['ls', '-l', 'dirname']\", requires=[], converter=None, validator=<min_len validator for 1>, xor=(), copy_mode=<CopyMode.any: 15>, copy_collation=<CopyCollation.any: 0>, copy_ext_decomp=<ExtensionDecomposition.single: 1>, readonly=False, argstr='', position=0, sep=None, allowed_values=None, container_path=False, formatter=None)]\n",
      "ACommand input fields: [outarg(name='out_file', type=<class 'fileformats.generic.file.File'>, default=EMPTY, help_string='output file', requires=[], converter=None, validator=None, xor=(), copy_mode=<CopyMode.any: 15>, copy_collation=<CopyCollation.any: 0>, copy_ext_decomp=<ExtensionDecomposition.single: 1>, readonly=False, argstr='', position=-1, sep=None, allowed_values=None, container_path=False, formatter=None, path_template=None, keep_extension=False), out(name='out_file_size', type=<class 'int'>, default=EMPTY, help_string='size of the output directory', requires=[], converter=None, validator=None, callable=<function get_file_size at 0x11481f920>), out(name='return_code', type=<class 'int'>, default=EMPTY, help_string=\"The process' exit code.\", requires=[], converter=None, validator=None, callable=None), out(name='stdout', type=<class 'str'>, default=EMPTY, help_string='The standard output stream produced by the command.', requires=[], converter=None, validator=None, callable=None), out(name='stderr', type=<class 'str'>, default=EMPTY, help_string='The standard error stream produced by the command.', requires=[], converter=None, validator=None, callable=None)]\n"
     ]
    }
   ],
   "source": [
    "from fileformats.generic import File\n",
    "from pydra.engine.helpers import list_fields\n",
    "\n",
    "ACommand = shell.define(\n",
    "    \"a-command\",\n",
    "    inputs={\n",
    "        \"in_file\": shell.arg(type=File, help_string=\"output file\", argstr=\"\", position=-2)\n",
    "    },\n",
    "    outputs={\n",
    "        \"out_file\": shell.outarg(\n",
    "            type=File, help_string=\"output file\", argstr=\"\", position=-1\n",
    "        ),\n",
    "        \"out_file_size\": {\n",
    "            \"type\": int,\n",
    "            \"help_string\": \"size of the output directory\",\n",
    "            \"callable\": get_file_size,\n",
    "        }\n",
    "    },\n",
    ")\n",
    "\n",
    "\n",
    "print(f\"ACommand input fields: {list_fields(ACommand)}\")\n",
    "print(f\"ACommand input fields: {list_fields(ACommand.Outputs)}\")\n"
   ]
  },
  {
   "cell_type": "markdown",
   "metadata": {},
   "source": []
  }
 ],
 "metadata": {
  "kernelspec": {
   "display_name": "wf12",
   "language": "python",
   "name": "python3"
  },
  "language_info": {
   "codemirror_mode": {
    "name": "ipython",
    "version": 3
   },
   "file_extension": ".py",
   "mimetype": "text/x-python",
   "name": "python",
   "nbconvert_exporter": "python",
   "pygments_lexer": "ipython3",
   "version": "3.12.5"
  }
 },
 "nbformat": 4,
 "nbformat_minor": 2
}
