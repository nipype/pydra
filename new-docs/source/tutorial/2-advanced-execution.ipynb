{
    "cells": [
        {
            "cell_type": "markdown",
            "metadata": {},
            "source": [
                "# Execution options\n",
                "\n",
                "One of the key design features of Pydra is the separation between the parameterisation of\n",
                "the task to be executed, and the parameresiation of where and how the task should be\n",
                "executed (e.g. on the cloud, on a HPC cluster, ...). This tutorial steps you through\n",
                "some of the available options for executing a task.\n",
                "\n",
                "[![Binder](https://mybinder.org/badge_logo.svg)](https://mybinder.org/v2/gh/nipype/pydra-tutorial/develop/notebooks/tutorial/advanced_execution.ipynb)"
            ]
        },
        {
            "cell_type": "code",
            "execution_count": 1,
            "metadata": {},
            "outputs": [],
            "source": [
                "import nest_asyncio\n",
                "nest_asyncio.apply()"
            ]
        },
        {
            "cell_type": "markdown",
            "metadata": {},
            "source": [
                "## Workers\n",
                "\n",
                "Pydra supports several workers with which to execute tasks\n",
                "\n",
                "- `cf`\n",
                "- `slurm`\n",
                "- `sge`\n",
                "- `dask` (experimental)\n",
                "- `debug`\n",
                "\n",
                "By default, the *cf* (*ConcurrentFutures*) worker is used, which\n",
                "executes tasks across multiple processes. If you are using a high-performance cluster (HPC)\n",
                "then the [SLURM](https://slurm.schedmd.com/documentation.html) and\n",
                "[SGE](https://www.metagenomics.wiki/tools/hpc-sge) workers can be used to submit each\n",
                "workflow node as separate jobs to the HPC scheduler. There is also an\n",
                "experimental [Dask](https://www.dask.org/) worker.\n",
                "\n",
                "When using a debugger in the development of a workflow or Python tasks, the\n",
                "*debug* worker is recommended as it executes nodes \"synchronously\" (as opposed to\n",
                "asynchronously), and can therefore break on uncaught exceptions.\n",
                "\n",
                "To specify a worker, the abbreviation can be passed either as a string or using the\n",
                "class itself. Additional parameters can be passed to the worker initialisation as keyword\n",
                "arguments to the execution call. For example, if we wanted to run five tasks using the\n",
                "ConcurentFutures worker but only use three CPUs, we can pass `n_procs=3` to the execution\n",
                "call."
            ]
        },
        {
            "cell_type": "code",
            "execution_count": 2,
            "metadata": {},
            "outputs": [
                {
                    "name": "stderr",
                    "output_type": "stream",
                    "text": [
                        "A newer version (0.25) of nipype/pydra is available. You are using 0.25.dev141+g03c7438b.d20250123\n"
                    ]
                },
                {
                    "ename": "IndentationError",
                    "evalue": "unexpected indent (<unknown>, line 1)",
                    "output_type": "error",
                    "traceback": [
                        "Traceback \u001b[0;36m(most recent call last)\u001b[0m:\n",
                        "\u001b[0m  File \u001b[1;32m~/.pyenv/versions/3.12.5/envs/wf12/lib/python3.12/site-packages/IPython/core/interactiveshell.py:3577\u001b[0m in \u001b[1;35mrun_code\u001b[0m\n    exec(code_obj, self.user_global_ns, self.user_ns)\u001b[0m\n",
                        "\u001b[0m  Cell \u001b[1;32mIn[2], line 10\u001b[0m\n    outputs = ten_to_the_power(worker=\"cf\", n_procs=3)\u001b[0m\n",
                        "\u001b[0m  File \u001b[1;32m~/git/workflows/pydra/pydra/engine/specs.py:193\u001b[0m in \u001b[1;35m__call__\u001b[0m\n    result = sub(self)\u001b[0m\n",
                        "\u001b[0m  File \u001b[1;32m~/git/workflows/pydra/pydra/engine/submitter.py:157\u001b[0m in \u001b[1;35m__call__\u001b[0m\n    self.loop.run_until_complete(task.run_async(rerun=self.rerun))\u001b[0m\n",
                        "\u001b[0m  File \u001b[1;32m~/.pyenv/versions/3.12.5/envs/wf12/lib/python3.12/site-packages/nest_asyncio.py:98\u001b[0m in \u001b[1;35mrun_until_complete\u001b[0m\n    return f.result()\u001b[0m\n",
                        "\u001b[0m  File \u001b[1;32m~/.pyenv/versions/3.12.5/lib/python3.12/asyncio/futures.py:203\u001b[0m in \u001b[1;35mresult\u001b[0m\n    raise self._exception.with_traceback(self._exception_tb)\u001b[0m\n",
                        "\u001b[0m  File \u001b[1;32m~/.pyenv/versions/3.12.5/lib/python3.12/asyncio/tasks.py:314\u001b[0m in \u001b[1;35m__step_run_and_handle_result\u001b[0m\n    result = coro.send(None)\u001b[0m\n",
                        "\u001b[0m  File \u001b[1;32m~/git/workflows/pydra/pydra/engine/core.py:398\u001b[0m in \u001b[1;35mrun_async\u001b[0m\n    \"'%s' is attempting to acquire lock on %s\", self.name, self.lockfile\u001b[0m\n",
                        "\u001b[0m  File \u001b[1;32m~/git/workflows/pydra/pydra/engine/core.py:212\u001b[0m in \u001b[1;35mlockfile\u001b[0m\n    return self.output_dir.with_suffix(\".lock\")\u001b[0m\n",
                        "\u001b[0m  File \u001b[1;32m~/git/workflows/pydra/pydra/engine/core.py:261\u001b[0m in \u001b[1;35moutput_dir\u001b[0m\n    return self.cache_dir / self.checksum\u001b[0m\n",
                        "\u001b[0m  File \u001b[1;32m~/git/workflows/pydra/pydra/engine/core.py:206\u001b[0m in \u001b[1;35mchecksum\u001b[0m\n    input_hash = self.definition._hash\u001b[0m\n",
                        "\u001b[0m  File \u001b[1;32m~/git/workflows/pydra/pydra/engine/specs.py:361\u001b[0m in \u001b[1;35m_hash\u001b[0m\n    hsh, self._hashes = self._compute_hashes()\u001b[0m\n",
                        "\u001b[0m  File \u001b[1;32m~/git/workflows/pydra/pydra/engine/specs.py:384\u001b[0m in \u001b[1;35m_compute_hashes\u001b[0m\n    k: hash_function(v, cache=hash_cache) for k, v in inp_dict.items()\u001b[0m\n",
                        "\u001b[0m  File \u001b[1;32m~/git/workflows/pydra/pydra/utils/hash.py:206\u001b[0m in \u001b[1;35mhash_function\u001b[0m\n    return hash_object(obj, **kwargs).hex()\u001b[0m\n",
                        "\u001b[0m  File \u001b[1;32m~/git/workflows/pydra/pydra/utils/hash.py:237\u001b[0m in \u001b[1;35mhash_object\u001b[0m\n    raise e\u001b[0m\n",
                        "\u001b[0m  File \u001b[1;32m~/git/workflows/pydra/pydra/utils/hash.py:225\u001b[0m in \u001b[1;35mhash_object\u001b[0m\n    return hash_single(obj, cache)\u001b[0m\n",
                        "\u001b[0m  File \u001b[1;32m~/git/workflows/pydra/pydra/utils/hash.py:281\u001b[0m in \u001b[1;35mhash_single\u001b[0m\n    first = next(bytes_it)\u001b[0m\n",
                        "\u001b[0m  File \u001b[1;32m~/git/workflows/pydra/pydra/utils/hash.py:537\u001b[0m in \u001b[1;35mbytes_repr_function\u001b[0m\n    src_ast = ast.parse(src)\u001b[0m\n",
                        "\u001b[0;36m  File \u001b[0;32m~/.pyenv/versions/3.12.5/lib/python3.12/ast.py:52\u001b[0;36m in \u001b[0;35mparse\u001b[0;36m\n\u001b[0;31m    return compile(source, filename, mode, flags,\u001b[0;36m\n",
                        "\u001b[0;36m  File \u001b[0;32m<unknown>:1\u001b[0;36m\u001b[0m\n\u001b[0;31m    @workflow.define(outputs=output_types)\u001b[0m\n\u001b[0m    ^\u001b[0m\n\u001b[0;31mIndentationError\u001b[0m\u001b[0;31m:\u001b[0m unexpected indent\nand therefore cannot hash `<function Submitter.__call__.<locals>.Split at 0x11443cd60>` of type `builtins.function`. Consider implementing a specific `bytes_repr()`(see pydra.utils.hash.register_serializer) or a `__bytes_repr__()` dunder methods for this type\n"
                    ]
                }
            ],
            "source": [
                "from pydra.design import python\n",
                "\n",
                "@python.define\n",
                "def TenToThePower(p: int) -> int:\n",
                "    return 10 ** p\n",
                "\n",
                "ten_to_the_power = TenToThePower().split(p=[1, 2, 3, 4, 5])\n",
                "\n",
                "# Run the 5 tasks in parallel split across 3 processes\n",
                "outputs = ten_to_the_power(worker=\"cf\", n_procs=3)\n",
                "\n",
                "p1, p2, p3, p4, p5 = outputs.out\n",
                "\n",
                "print(f\"10^5 = {p5}\")"
            ]
        },
        {
            "cell_type": "markdown",
            "metadata": {},
            "source": [
                "## Cache locations\n",
                "\n",
                "When a task runs, a unique hash is generated by the combination of all the inputs to the\n",
                "task and the operation to be performed. This hash is used to name the output directory for\n",
                "the task within the specified cache directory. Therefore, if you use the same cache\n",
                "directory between runs and in a subsequent run the same task is executed with the same\n",
                "inputs then the location of its output directory will also be the same, and the outputs\n",
                "generated by the previous run are reused.\n",
                "\n",
                "For example, using the MrGrid example from the [Getting Started Tutorial](./1-getting-started.html)\n"
            ]
        },
        {
            "cell_type": "code",
            "execution_count": null,
            "metadata": {},
            "outputs": [],
            "source": [
                "from pathlib import Path\n",
                "import tempfile\n",
                "from fileformats.medimage import Nifti1\n",
                "from pydra.engine.submitter import Submitter\n",
                "from pydra.tasks.mrtrix3.v3_0 import MrGrid\n",
                "import nest_asyncio\n",
                "\n",
                "# Allow running async code in Jupyter notebooks\n",
                "nest_asyncio.apply()\n",
                "\n",
                "# Make directory filled with nifti files\n",
                "test_dir = Path(tempfile.mkdtemp())\n",
                "nifti_dir = test_dir / \"nifti\"\n",
                "nifti_dir.mkdir()\n",
                "for i in range(10):\n",
                "    Nifti1.sample(nifti_dir, seed=i)\n",
                "\n",
                "VOXEL_SIZES = [0.5, 0.5, 0.5, 0.75, 0.75, 0.75, 1.0, 1.0, 1.0, 1.25]\n",
                "\n",
                "mrgrid_varying_vox_sizes = MrGrid().split(\n",
                "    (\"input\", \"voxel\"),\n",
                "    input=nifti_dir.iterdir(),\n",
                "    voxel=VOXEL_SIZES\n",
                ")\n",
                "\n",
                "submitter = Submitter(cache_dir=test_dir / \"cache\")\n",
                "\n",
                "# Run the task to resample all NIfTI files with different voxel sizes\n",
                "with submitter:\n",
                "    result1 = submitter(mrgrid_varying_vox_sizes)"
            ]
        },
        {
            "cell_type": "markdown",
            "metadata": {},
            "source": [
                "If we attempt to run the same task with the same parameterisation the cache directory\n",
                "will point to the same location and the results will be reused"
            ]
        },
        {
            "cell_type": "code",
            "execution_count": null,
            "metadata": {},
            "outputs": [],
            "source": [
                "mrgrid_varying_vox_sizes2 = MrGrid().split(\n",
                "    (\"input\", \"voxel\"),\n",
                "    input=nifti_dir.iterdir(),\n",
                "    voxel=VOXEL_SIZES\n",
                ")\n",
                "\n",
                "submitter = Submitter(cache_dir=test_dir / \"cache\")\n",
                "\n",
                "# Result from previous run is reused as the task and inputs are identical\n",
                "with submitter:\n",
                "    result2 = submitter(mrgrid_varying_vox_sizes2)\n",
                "\n",
                "\n",
                "# Check that the output directory is the same for both runs\n",
                "assert result2.output_dir == result1.output_dir\n",
                "\n",
                "# Change the voxel sizes to resample the NIfTI files to for one of the files\n",
                "mrgrid_varying_vox_sizes2.inputs.voxel[2] = [0.25]\n",
                "\n",
                "# Result from previous run is reused as the task and inputs are identical\n",
                "with submitter:\n",
                "    result3 = submitter(mrgrid_varying_vox_sizes2)\n",
                "\n",
                "# The output directory will be different as the inputs are now different\n",
                "assert result3.output_dir != result1.output_dir"
            ]
        },
        {
            "cell_type": "markdown",
            "metadata": {},
            "source": [
                "Note that for file objects, the contents of the files are used to calculate the hash\n",
                "not their paths. Therefore, when inputting large files there might be some additional\n",
                "overhead on the first run (the file hashes themselves are cached by path and mtime so\n",
                "shouldn't need to be recalculated unless they are modified). However, this makes the\n",
                "hashes invariant to file-system movement. For example, changing the name of one of the\n",
                "files in the nifti directory won't invalidate the hash."
            ]
        },
        {
            "cell_type": "code",
            "execution_count": null,
            "metadata": {},
            "outputs": [],
            "source": [
                "# Rename a NIfTI file within the test directory\n",
                "first_file = next(nifti_dir.iterdir())\n",
                "first_file.rename(first_file.with_name(\"first.nii.gz\"))\n",
                "\n",
                "mrgrid_varying_vox_sizes3 = MrGrid().split(\n",
                "    (\"input\", \"voxel\"),\n",
                "    input=nifti_dir.iterdir(),\n",
                "    voxel=VOXEL_SIZES\n",
                ")\n",
                "\n",
                "# Result from previous run is reused as the task and inputs are identical\n",
                "with submitter:\n",
                "    result4 = submitter(mrgrid_varying_vox_sizes2)\n",
                "\n",
                "# Check that the output directory is the same for both runs\n",
                "assert result4.output_dir == result1.output_dir"
            ]
        },
        {
            "cell_type": "markdown",
            "metadata": {},
            "source": [
                "See [Caches and hashes](../explanation/hashing-caching.html) for more details on how inputs\n",
                "are hashed for caching and issues to consider."
            ]
        },
        {
            "cell_type": "markdown",
            "metadata": {},
            "source": [
                "## Environments\n",
                "\n",
                "Work in progress...\n",
                "\n",
                "See [Containers and Environments](../explanation/environments.rst) for more details."
            ]
        },
        {
            "cell_type": "markdown",
            "metadata": {},
            "source": [
                "## Provenance and auditing\n",
                "\n",
                "Work in progress..."
            ]
        },
        {
            "cell_type": "markdown",
            "metadata": {},
            "source": []
        }
    ],
    "metadata": {
        "kernelspec": {
            "display_name": "wf12",
            "language": "python",
            "name": "python3"
        },
        "language_info": {
            "codemirror_mode": {
                "name": "ipython",
                "version": 3
            },
            "file_extension": ".py",
            "mimetype": "text/x-python",
            "name": "python",
            "nbconvert_exporter": "python",
            "pygments_lexer": "ipython3",
            "version": "3.12.5"
        }
    },
    "nbformat": 4,
    "nbformat_minor": 2
}
