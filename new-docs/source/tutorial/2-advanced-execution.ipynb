{
    "cells": [
        {
            "cell_type": "markdown",
            "metadata": {},
            "source": [
                "# Execution options\n",
                "\n",
                "One of the key design features of Pydra is the separation between the parameterisation of\n",
                "the task to be executed, and the parameresiation of where and how the task should be\n",
                "executed (e.g. on the cloud, on a HPC cluster, ...). This tutorial steps you through\n",
                "some of the available options for executing a task.\n",
                "\n",
                "[![Binder](https://mybinder.org/badge_logo.svg)](https://mybinder.org/v2/gh/nipype/pydra-tutorial/develop/notebooks/tutorial/advanced_execution.ipynb)"
            ]
        },
        {
            "cell_type": "code",
            "execution_count": 1,
            "metadata": {},
            "outputs": [],
            "source": [
                "import nest_asyncio\n",
                "nest_asyncio.apply()"
            ]
        },
        {
            "cell_type": "markdown",
            "metadata": {},
            "source": [
                "## Submitter\n",
                "\n",
                "If you want to access a richer `Result` object you can use a Submitter object to execute the following task"
            ]
        },
        {
            "cell_type": "code",
            "execution_count": 1,
            "metadata": {},
            "outputs": [],
            "source": [
                "from pydra.design import python\n",
                "\n",
                "@python.define\n",
                "def TenToThePower(p: int) -> int:\n",
                "    return 10 ** p"
            ]
        },
        {
            "cell_type": "code",
            "execution_count": null,
            "metadata": {},
            "outputs": [],
            "source": [
                "from pydra.engine.submitter import Submitter\n",
                "\n",
                "ten_to_the_power = TenToThePower(p=3)\n",
                "\n",
                "with Submitter() as submitter:\n",
                "    result = submitter(ten_to_the_power)\n",
                "\n",
                "print(result)"
            ]
        },
        {
            "cell_type": "markdown",
            "metadata": {},
            "source": [
                "The `Result` object contains\n",
                "\n",
                "* `output`: the outputs of the task (if there is only one output it is called `out` by default)\n",
                "* `runtime`: information about the peak memory and CPU usage\n",
                "* `errored`: the error status of the task\n",
                "* `task`: the task object that generated the results\n",
                "* `output_dir`: the output directory the results are stored in"
            ]
        },
        {
            "cell_type": "markdown",
            "metadata": {},
            "source": [
                "## Workers\n",
                "\n",
                "Pydra supports several workers with which to execute tasks\n",
                "\n",
                "- `debug` (default)\n",
                "- `cf`\n",
                "- `slurm`\n",
                "- `sge`\n",
                "- `psij`\n",
                "- `dask` (experimental)\n",
                "\n",
                "By default, the *debug* worker is used, which runs tasks serially in a single process\n",
                "without use of the `asyncio` module. This makes it easier to debug errors in workflows\n",
                "and python tasks, however, when using in Pydra in production you will typically want to\n",
                "parallelise the execution for efficiency.\n",
                "\n",
                "If running on a local workstation, then the `cf` (*ConcurrentFutures*) worker is a good\n",
                "option because it is able to spread the tasks to be run over multiple processes and\n",
                "maximise CPU usage.\n",
                "\n",
                "If you have access to a high-performance cluster (HPC) then\n",
                "the [SLURM](https://slurm.schedmd.com/documentation.html) and\n",
                "[SGE](https://www.metagenomics.wiki/tools/hpc-sge) and [PSI/J](https://exaworks.org/psij)\n",
                "workers can be used to submit each workflow node as separate jobs to the HPC scheduler.\n",
                "There is also an experimental [Dask](https://www.dask.org/) worker, which provides a\n",
                "range of execution backends to choose from.\n",
                "\n",
                "To specify a worker, the abbreviation can be passed either as a string or using the\n",
                "class itself. Additional parameters can be passed to the worker initialisation as keyword\n",
                "arguments to the execution call. For example, if we wanted to run five tasks using the\n",
                "ConcurentFutures worker but only use three CPUs, we can pass `n_procs=3` to the execution\n",
                "call."
            ]
        },
        {
            "cell_type": "code",
            "execution_count": 4,
            "metadata": {},
            "outputs": [
                {
                    "name": "stdout",
                    "output_type": "stream",
                    "text": [
                        "10^5 = 100000\n"
                    ]
                }
            ],
            "source": [
                "from pydra.design import python\n",
                "\n",
                "if __name__ == \"__main__\":\n",
                "\n",
                "    ten_to_the_power = TenToThePower().split(p=[1, 2, 3, 4, 5])\n",
                "\n",
                "    # Run the 5 tasks in parallel split across 3 processes\n",
                "    outputs = ten_to_the_power(worker=\"cf\", n_procs=3)\n",
                "\n",
                "    p1, p2, p3, p4, p5 = outputs.out\n",
                "\n",
                "    print(f\"10^5 = {p5}\")"
            ]
        },
        {
            "cell_type": "markdown",
            "metadata": {},
            "source": [
                "Alternatively, the worker object can be initialised in the calling code and passed directly to the execution call"
            ]
        },
        {
            "cell_type": "code",
            "execution_count": 3,
            "metadata": {},
            "outputs": [
                {
                    "ename": "TypeError",
                    "evalue": "'ConcurrentFuturesWorker' object is not callable",
                    "output_type": "error",
                    "traceback": [
                        "\u001b[0;31m---------------------------------------------------------------------------\u001b[0m",
                        "\u001b[0;31mTypeError\u001b[0m                                 Traceback (most recent call last)",
                        "Cell \u001b[0;32mIn[3], line 6\u001b[0m\n\u001b[1;32m      3\u001b[0m ten_to_the_power \u001b[38;5;241m=\u001b[39m TenToThePower()\u001b[38;5;241m.\u001b[39msplit(p\u001b[38;5;241m=\u001b[39m[\u001b[38;5;241m6\u001b[39m, \u001b[38;5;241m7\u001b[39m, \u001b[38;5;241m8\u001b[39m, \u001b[38;5;241m9\u001b[39m, \u001b[38;5;241m10\u001b[39m])\n\u001b[1;32m      5\u001b[0m \u001b[38;5;66;03m# Run the 5 tasks in parallel split across 3 processes\u001b[39;00m\n\u001b[0;32m----> 6\u001b[0m outputs \u001b[38;5;241m=\u001b[39m \u001b[43mten_to_the_power\u001b[49m\u001b[43m(\u001b[49m\u001b[43mworker\u001b[49m\u001b[38;5;241;43m=\u001b[39;49m\u001b[43mConcurrentFuturesWorker\u001b[49m\u001b[43m(\u001b[49m\u001b[43mn_procs\u001b[49m\u001b[38;5;241;43m=\u001b[39;49m\u001b[38;5;241;43m3\u001b[39;49m\u001b[43m)\u001b[49m\u001b[43m)\u001b[49m\n\u001b[1;32m      8\u001b[0m p6, p7, p8, p9, p10 \u001b[38;5;241m=\u001b[39m outputs\u001b[38;5;241m.\u001b[39mout\n\u001b[1;32m     10\u001b[0m \u001b[38;5;28mprint\u001b[39m(\u001b[38;5;124mf\u001b[39m\u001b[38;5;124m\"\u001b[39m\u001b[38;5;124m10^10 = \u001b[39m\u001b[38;5;132;01m{\u001b[39;00mp10\u001b[38;5;132;01m}\u001b[39;00m\u001b[38;5;124m\"\u001b[39m)\n",
                        "File \u001b[0;32m~/git/workflows/pydra/pydra/engine/specs.py:183\u001b[0m, in \u001b[0;36mTaskDef.__call__\u001b[0;34m(self, cache_dir, worker, environment, rerun, cache_locations, audit_flags, messengers, messenger_args, **kwargs)\u001b[0m\n\u001b[1;32m    177\u001b[0m \u001b[38;5;28;01mfrom\u001b[39;00m \u001b[38;5;21;01mpydra\u001b[39;00m\u001b[38;5;21;01m.\u001b[39;00m\u001b[38;5;21;01mengine\u001b[39;00m\u001b[38;5;21;01m.\u001b[39;00m\u001b[38;5;21;01msubmitter\u001b[39;00m \u001b[38;5;28;01mimport\u001b[39;00m (  \u001b[38;5;66;03m# noqa: F811\u001b[39;00m\n\u001b[1;32m    178\u001b[0m     Submitter,\n\u001b[1;32m    179\u001b[0m     WORKER_KWARG_FAIL_NOTE,\n\u001b[1;32m    180\u001b[0m )\n\u001b[1;32m    182\u001b[0m \u001b[38;5;28;01mtry\u001b[39;00m:\n\u001b[0;32m--> 183\u001b[0m     \u001b[38;5;28;01mwith\u001b[39;00m \u001b[43mSubmitter\u001b[49m\u001b[43m(\u001b[49m\n\u001b[1;32m    184\u001b[0m \u001b[43m        \u001b[49m\u001b[43maudit_flags\u001b[49m\u001b[38;5;241;43m=\u001b[39;49m\u001b[43maudit_flags\u001b[49m\u001b[43m,\u001b[49m\n\u001b[1;32m    185\u001b[0m \u001b[43m        \u001b[49m\u001b[43mcache_dir\u001b[49m\u001b[38;5;241;43m=\u001b[39;49m\u001b[43mcache_dir\u001b[49m\u001b[43m,\u001b[49m\n\u001b[1;32m    186\u001b[0m \u001b[43m        \u001b[49m\u001b[43mcache_locations\u001b[49m\u001b[38;5;241;43m=\u001b[39;49m\u001b[43mcache_locations\u001b[49m\u001b[43m,\u001b[49m\n\u001b[1;32m    187\u001b[0m \u001b[43m        \u001b[49m\u001b[43mmessenger_args\u001b[49m\u001b[38;5;241;43m=\u001b[39;49m\u001b[43mmessenger_args\u001b[49m\u001b[43m,\u001b[49m\n\u001b[1;32m    188\u001b[0m \u001b[43m        \u001b[49m\u001b[43mmessengers\u001b[49m\u001b[38;5;241;43m=\u001b[39;49m\u001b[43mmessengers\u001b[49m\u001b[43m,\u001b[49m\n\u001b[1;32m    189\u001b[0m \u001b[43m        \u001b[49m\u001b[43mrerun\u001b[49m\u001b[38;5;241;43m=\u001b[39;49m\u001b[43mrerun\u001b[49m\u001b[43m,\u001b[49m\n\u001b[1;32m    190\u001b[0m \u001b[43m        \u001b[49m\u001b[43menvironment\u001b[49m\u001b[38;5;241;43m=\u001b[39;49m\u001b[43menvironment\u001b[49m\u001b[43m,\u001b[49m\n\u001b[1;32m    191\u001b[0m \u001b[43m        \u001b[49m\u001b[43mworker\u001b[49m\u001b[38;5;241;43m=\u001b[39;49m\u001b[43mworker\u001b[49m\u001b[43m,\u001b[49m\n\u001b[1;32m    192\u001b[0m \u001b[43m        \u001b[49m\u001b[38;5;241;43m*\u001b[39;49m\u001b[38;5;241;43m*\u001b[39;49m\u001b[43mkwargs\u001b[49m\u001b[43m,\u001b[49m\n\u001b[1;32m    193\u001b[0m \u001b[43m    \u001b[49m\u001b[43m)\u001b[49m \u001b[38;5;28;01mas\u001b[39;00m sub:\n\u001b[1;32m    194\u001b[0m         result \u001b[38;5;241m=\u001b[39m sub(\u001b[38;5;28mself\u001b[39m)\n\u001b[1;32m    195\u001b[0m \u001b[38;5;28;01mexcept\u001b[39;00m \u001b[38;5;167;01mTypeError\u001b[39;00m \u001b[38;5;28;01mas\u001b[39;00m e:\n",
                        "File \u001b[0;32m~/git/workflows/pydra/pydra/engine/submitter.py:130\u001b[0m, in \u001b[0;36mSubmitter.__init__\u001b[0;34m(self, cache_dir, worker, environment, rerun, cache_locations, audit_flags, messengers, messenger_args, clean_stale_locks, **kwargs)\u001b[0m\n\u001b[1;32m    128\u001b[0m     worker_cls \u001b[38;5;241m=\u001b[39m worker\n\u001b[1;32m    129\u001b[0m \u001b[38;5;28;01mtry\u001b[39;00m:\n\u001b[0;32m--> 130\u001b[0m     \u001b[38;5;28mself\u001b[39m\u001b[38;5;241m.\u001b[39m_worker \u001b[38;5;241m=\u001b[39m \u001b[43mworker_cls\u001b[49m\u001b[43m(\u001b[49m\u001b[38;5;241;43m*\u001b[39;49m\u001b[38;5;241;43m*\u001b[39;49m\u001b[43mkwargs\u001b[49m\u001b[43m)\u001b[49m\n\u001b[1;32m    131\u001b[0m \u001b[38;5;28;01mexcept\u001b[39;00m \u001b[38;5;167;01mTypeError\u001b[39;00m \u001b[38;5;28;01mas\u001b[39;00m e:\n\u001b[1;32m    132\u001b[0m     e\u001b[38;5;241m.\u001b[39madd_note(WORKER_KWARG_FAIL_NOTE)\n",
                        "\u001b[0;31mTypeError\u001b[0m: 'ConcurrentFuturesWorker' object is not callable",
                        "\u001b[0mAttempting to instantiate worker submitter"
                    ]
                }
            ],
            "source": [
                "from pydra.engine.workers import ConcurrentFuturesWorker\n",
                "\n",
                "ten_to_the_power = TenToThePower().split(p=[6, 7, 8, 9, 10])\n",
                "\n",
                "# Run the 5 tasks in parallel split across 3 processes\n",
                "outputs = ten_to_the_power(worker=ConcurrentFuturesWorker(n_procs=3))\n",
                "\n",
                "p6, p7, p8, p9, p10 = outputs.out\n",
                "\n",
                "print(f\"10^10 = {p10}\")"
            ]
        },
        {
            "cell_type": "markdown",
            "metadata": {},
            "source": []
        },
        {
            "cell_type": "code",
            "execution_count": null,
            "metadata": {},
            "outputs": [],
            "source": [
                "from pathlib import Path\n",
                "import tempfile\n",
                "from fileformats.medimage import Nifti1\n",
                "from pydra.engine.submitter import Submitter\n",
                "from pydra.tasks.mrtrix3.v3_0 import MrGrid\n",
                "\n",
                "# Make directory filled with nifti files\n",
                "test_dir = Path(tempfile.mkdtemp())\n",
                "nifti_dir = test_dir / \"nifti\"\n",
                "nifti_dir.mkdir()\n",
                "for i in range(10):\n",
                "    Nifti1.sample(nifti_dir, seed=i)\n",
                "\n",
                "# Instantiate the task definition, \"splitting\" over all NIfTI files in the test directory\n",
                "# by splitting the \"input\" input field over all files in the directory\n",
                "mrgrid = MrGrid(operation=\"regrid\", voxel=(0.5, 0.5, 0.5)).split(\n",
                "    in_file=nifti_dir.iterdir()\n",
                ")\n",
                "\n",
                "# Run the task to resample all NIfTI files\n",
                "outputs = mrgrid()\n",
                "\n",
                "# Create a new custom directory\n",
                "cache_dir = test_dir / \"cache\"\n",
                "cache_dir.mkdir()\n",
                "\n",
                "submitter = Submitter(cache_dir=cache_dir)\n",
                "\n",
                "# Run the task to resample all NIfTI files with different voxel sizes\n",
                "with submitter:\n",
                "    result1 = submitter(mrgrid)\n",
                "\n",
                "print(result1)"
            ]
        },
        {
            "cell_type": "markdown",
            "metadata": {},
            "source": [
                "If we attempt to run the same task with the same parameterisation the cache directory\n",
                "will point to the same location and the results will be reused"
            ]
        },
        {
            "cell_type": "code",
            "execution_count": null,
            "metadata": {},
            "outputs": [],
            "source": [
                "mrgrid_varying_vox_sizes2 = MrGrid().split(\n",
                "    (\"input\", \"voxel\"),\n",
                "    input=nifti_dir.iterdir(),\n",
                "    voxel=VOXEL_SIZES\n",
                ")\n",
                "\n",
                "submitter = Submitter(cache_dir=test_dir / \"cache\")\n",
                "\n",
                "# Result from previous run is reused as the task and inputs are identical\n",
                "with submitter:\n",
                "    result2 = submitter(mrgrid_varying_vox_sizes2)\n",
                "\n",
                "\n",
                "# Check that the output directory is the same for both runs\n",
                "assert result2.output_dir == result1.output_dir\n",
                "\n",
                "# Change the voxel sizes to resample the NIfTI files to for one of the files\n",
                "mrgrid_varying_vox_sizes2.inputs.voxel[2] = [0.25]\n",
                "\n",
                "# Result from previous run is reused as the task and inputs are identical\n",
                "with submitter:\n",
                "    result3 = submitter(mrgrid_varying_vox_sizes2)\n",
                "\n",
                "# The output directory will be different as the inputs are now different\n",
                "assert result3.output_dir != result1.output_dir"
            ]
        },
        {
            "cell_type": "markdown",
            "metadata": {},
            "source": [
                "Note that for file objects, the contents of the files are used to calculate the hash\n",
                "not their paths. Therefore, when inputting large files there might be some additional\n",
                "overhead on the first run (the file hashes themselves are cached by path and mtime so\n",
                "shouldn't need to be recalculated unless they are modified). However, this makes the\n",
                "hashes invariant to file-system movement. For example, changing the name of one of the\n",
                "files in the nifti directory won't invalidate the hash."
            ]
        },
        {
            "cell_type": "code",
            "execution_count": null,
            "metadata": {},
            "outputs": [],
            "source": [
                "# Rename a NIfTI file within the test directory\n",
                "first_file = next(nifti_dir.iterdir())\n",
                "first_file.rename(first_file.with_name(\"first.nii.gz\"))\n",
                "\n",
                "mrgrid_varying_vox_sizes3 = MrGrid().split(\n",
                "    (\"input\", \"voxel\"),\n",
                "    input=nifti_dir.iterdir(),\n",
                "    voxel=VOXEL_SIZES\n",
                ")\n",
                "\n",
                "# Result from previous run is reused as the task and inputs are identical\n",
                "with submitter:\n",
                "    result4 = submitter(mrgrid_varying_vox_sizes2)\n",
                "\n",
                "# Check that the output directory is the same for both runs\n",
                "assert result4.output_dir == result1.output_dir"
            ]
        },
        {
            "cell_type": "markdown",
            "metadata": {},
            "source": [
                "See [Caches and hashes](../explanation/hashing-caching.html) for more details on how inputs\n",
                "are hashed for caching and issues to consider."
            ]
        },
        {
            "cell_type": "markdown",
            "metadata": {},
            "source": [
                "## Environments\n",
                "\n",
                "Work in progress...\n",
                "\n",
                "See [Containers and Environments](../explanation/environments.rst) for more details."
            ]
        },
        {
            "cell_type": "markdown",
            "metadata": {},
            "source": [
                "## Provenance and auditing\n",
                "\n",
                "Work in progress..."
            ]
        },
        {
            "cell_type": "markdown",
            "metadata": {},
            "source": []
        }
    ],
    "metadata": {
        "kernelspec": {
            "display_name": "wf12",
            "language": "python",
            "name": "python3"
        },
        "language_info": {
            "codemirror_mode": {
                "name": "ipython",
                "version": 3
            },
            "file_extension": ".py",
            "mimetype": "text/x-python",
            "name": "python",
            "nbconvert_exporter": "python",
            "pygments_lexer": "ipython3",
            "version": "3.12.5"
        }
    },
    "nbformat": 4,
    "nbformat_minor": 2
}
