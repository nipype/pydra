{
    "cells": [
        {
            "cell_type": "markdown",
            "metadata": {},
            "source": [
                "# Execution options\n",
                "\n",
                "One of the key design features of Pydra is the separation between the parameterisation of\n",
                "the task to be executed, and the parameresiation of where and how the task should be\n",
                "executed (e.g. on the cloud, on a HPC cluster, ...). This tutorial steps you through\n",
                "some of the available options for executing a task.\n",
                "\n",
                "[![Binder](https://mybinder.org/badge_logo.svg)](https://mybinder.org/v2/gh/nipype/pydra-tutorial/develop/notebooks/tutorial/advanced_execution.ipynb)"
            ]
        },
        {
            "cell_type": "code",
            "execution_count": 1,
            "metadata": {},
            "outputs": [],
            "source": [
                "import nest_asyncio\n",
                "nest_asyncio.apply()"
            ]
        },
        {
            "cell_type": "markdown",
            "metadata": {},
            "source": [
                "## Workers\n",
                "\n",
                "Pydra supports several workers with which to execute tasks\n",
                "\n",
                "- `debug` (default)\n",
                "- `cf`\n",
                "- `slurm`\n",
                "- `sge`\n",
                "- `psij`\n",
                "- `dask` (experimental)\n",
                "\n",
                "By default, the *debug* worker is used, which runs tasks serially in a single process\n",
                "without use of the `asyncio` module. This makes it easier to debug errors in workflows\n",
                "and python tasks, however, when using in Pydra in production you will typically want to\n",
                "parallelise the execution for efficiency.\n",
                "\n",
                "If running on a local workstation, then the `cf` (*ConcurrentFutures*) worker is a good\n",
                "option because it is able to spread the tasks to be run over multiple processes and\n",
                "maximise CPU usage.\n",
                "\n",
                "If you have access to a high-performance cluster (HPC) then\n",
                "the [SLURM](https://slurm.schedmd.com/documentation.html) and\n",
                "[SGE](https://www.metagenomics.wiki/tools/hpc-sge) and [PSI/J](https://exaworks.org/psij)\n",
                "workers can be used to submit each workflow node as separate jobs to the HPC scheduler.\n",
                "There is also an experimental [Dask](https://www.dask.org/) worker, which provides a\n",
                "range of execution backends to choose from.\n",
                "\n",
                "To specify a worker, the abbreviation can be passed either as a string or using the\n",
                "class itself. Additional parameters can be passed to the worker initialisation as keyword\n",
                "arguments to the execution call. For example, if we wanted to run five tasks using the\n",
                "ConcurentFutures worker but only use three CPUs, we can pass `n_procs=3` to the execution\n",
                "call."
            ]
        },
        {
            "cell_type": "code",
            "execution_count": 5,
            "metadata": {},
            "outputs": [
                {
                    "name": "stdout",
                    "output_type": "stream",
                    "text": [
                        "[TenToThePower(p=1, function=<function TenToThePower at 0x111e5c400>), TenToThePower(p=2, function=<function TenToThePower at 0x111e5c400>), TenToThePower(p=3, function=<function TenToThePower at 0x111e5c400>), TenToThePower(p=4, function=<function TenToThePower at 0x111e5c400>), TenToThePower(p=5, function=<function TenToThePower at 0x111e5c400>)]\n",
                        "8ebcb54492b1642d6ea257afdb33786d\n",
                        "8ebcb54492b1642d6ea257afdb33786d\n"
                    ]
                }
            ],
            "source": [
                "\n",
                "\n",
                "from pydra.design import python\n",
                "\n",
                "if __name__ == \"__main__\":\n",
                "\n",
                "    @python.define\n",
                "    def TenToThePower(p: int) -> int:\n",
                "        return 10 ** p\n",
                "\n",
                "    ten_to_the_power = TenToThePower().split(p=[1, 2, 3, 4, 5])\n",
                "\n",
                "    from pydra.design import workflow\n",
                "    from pydra.engine.core import Workflow\n",
                "    from pydra.engine.specs import TaskDef\n",
                "    from pydra.engine.helpers import list_fields\n",
                "\n",
                "    output_types = {o.name: list[o.type] for o in list_fields(ten_to_the_power.Outputs)}\n",
                "    \n",
                "    @workflow.define(outputs=output_types)\n",
                "    def Split(defn: TaskDef):\n",
                "        node = workflow.add(defn)\n",
                "        return tuple(getattr(node, o) for o in output_types)\n",
                "\n",
                "    split = Split(defn=ten_to_the_power)\n",
                "\n",
                "    wf = Workflow.construct(split)\n",
                "    splits = list(wf[\"TenToThePower\"]._split_definition().values())\n",
                "\n",
                "    print(splits)\n",
                "\n",
                "    print(splits[0]._hash)\n",
                "    print(splits[0]._hash)\n",
                "    \n",
                "\n",
                "    \n",
                "\n",
                "    # # Run the 5 tasks in parallel split across 3 processes\n",
                "    # outputs = ten_to_the_power(worker=\"cf\", n_procs=3)\n",
                "\n",
                "    # p1, p2, p3, p4, p5 = outputs.out\n",
                "\n",
                "    # print(f\"10^5 = {p5}\")"
            ]
        },
        {
            "cell_type": "markdown",
            "metadata": {},
            "source": [
                "Alternatively, the worker object can be initialised in the calling code and passed directly to the execution call"
            ]
        },
        {
            "cell_type": "code",
            "execution_count": null,
            "metadata": {},
            "outputs": [],
            "source": [
                "from pydra.engine.workers import ConcurrentFuturesWorker\n",
                "\n",
                "ten_to_the_power = TenToThePower().split(p=[6, 7, 8, 9, 10])\n",
                "\n",
                "# Run the 5 tasks in parallel split across 3 processes\n",
                "outputs = ten_to_the_power(worker=ConcurrentFuturesWorker(n_procs=3))\n",
                "\n",
                "p6, p7, p8, p9, p10 = outputs.out\n",
                "\n",
                "print(f\"10^10 = {p10}\")"
            ]
        },
        {
            "cell_type": "markdown",
            "metadata": {},
            "source": [
                "## Cache locations\n",
                "\n",
                "When a task runs, a unique hash is generated by the combination of all the inputs to the\n",
                "task and the operation to be performed. This hash is used to name the output directory for\n",
                "the task within the specified cache directory. Therefore, if you use the same cache\n",
                "directory between runs and in a subsequent run the same task is executed with the same\n",
                "inputs then the location of its output directory will also be the same, and the outputs\n",
                "generated by the previous run are reused.\n",
                "\n",
                "For example, using the MrGrid example from the [Getting Started Tutorial](./1-getting-started.html)\n"
            ]
        },
        {
            "cell_type": "code",
            "execution_count": null,
            "metadata": {},
            "outputs": [],
            "source": [
                "from pathlib import Path\n",
                "import tempfile\n",
                "from fileformats.medimage import Nifti1\n",
                "from pydra.engine.submitter import Submitter\n",
                "from pydra.tasks.mrtrix3.v3_0 import MrGrid\n",
                "\n",
                "# Make directory filled with nifti files\n",
                "test_dir = Path(tempfile.mkdtemp())\n",
                "nifti_dir = test_dir / \"nifti\"\n",
                "nifti_dir.mkdir()\n",
                "for i in range(10):\n",
                "    Nifti1.sample(nifti_dir, seed=i)\n",
                "\n",
                "# Instantiate the task definition, \"splitting\" over all NIfTI files in the test directory\n",
                "# by splitting the \"input\" input field over all files in the directory\n",
                "mrgrid = MrGrid(operation=\"regrid\", voxel=(0.5, 0.5, 0.5)).split(\n",
                "    in_file=nifti_dir.iterdir()\n",
                ")\n",
                "\n",
                "# Run the task to resample all NIfTI files\n",
                "outputs = mrgrid()\n",
                "\n",
                "# Create a new custom directory\n",
                "cache_dir = test_dir / \"cache\"\n",
                "cache_dir.mkdir()\n",
                "\n",
                "submitter = Submitter(cache_dir=cache_dir)\n",
                "\n",
                "# Run the task to resample all NIfTI files with different voxel sizes\n",
                "with submitter:\n",
                "    result1 = submitter(mrgrid)\n",
                "\n",
                "print(result1)\n"
            ]
        },
        {
            "cell_type": "markdown",
            "metadata": {},
            "source": [
                "If we attempt to run the same task with the same parameterisation the cache directory\n",
                "will point to the same location and the results will be reused"
            ]
        },
        {
            "cell_type": "code",
            "execution_count": null,
            "metadata": {},
            "outputs": [],
            "source": [
                "mrgrid_varying_vox_sizes2 = MrGrid().split(\n",
                "    (\"input\", \"voxel\"),\n",
                "    input=nifti_dir.iterdir(),\n",
                "    voxel=VOXEL_SIZES\n",
                ")\n",
                "\n",
                "submitter = Submitter(cache_dir=test_dir / \"cache\")\n",
                "\n",
                "# Result from previous run is reused as the task and inputs are identical\n",
                "with submitter:\n",
                "    result2 = submitter(mrgrid_varying_vox_sizes2)\n",
                "\n",
                "\n",
                "# Check that the output directory is the same for both runs\n",
                "assert result2.output_dir == result1.output_dir\n",
                "\n",
                "# Change the voxel sizes to resample the NIfTI files to for one of the files\n",
                "mrgrid_varying_vox_sizes2.inputs.voxel[2] = [0.25]\n",
                "\n",
                "# Result from previous run is reused as the task and inputs are identical\n",
                "with submitter:\n",
                "    result3 = submitter(mrgrid_varying_vox_sizes2)\n",
                "\n",
                "# The output directory will be different as the inputs are now different\n",
                "assert result3.output_dir != result1.output_dir"
            ]
        },
        {
            "cell_type": "markdown",
            "metadata": {},
            "source": [
                "Note that for file objects, the contents of the files are used to calculate the hash\n",
                "not their paths. Therefore, when inputting large files there might be some additional\n",
                "overhead on the first run (the file hashes themselves are cached by path and mtime so\n",
                "shouldn't need to be recalculated unless they are modified). However, this makes the\n",
                "hashes invariant to file-system movement. For example, changing the name of one of the\n",
                "files in the nifti directory won't invalidate the hash."
            ]
        },
        {
            "cell_type": "code",
            "execution_count": null,
            "metadata": {},
            "outputs": [],
            "source": [
                "# Rename a NIfTI file within the test directory\n",
                "first_file = next(nifti_dir.iterdir())\n",
                "first_file.rename(first_file.with_name(\"first.nii.gz\"))\n",
                "\n",
                "mrgrid_varying_vox_sizes3 = MrGrid().split(\n",
                "    (\"input\", \"voxel\"),\n",
                "    input=nifti_dir.iterdir(),\n",
                "    voxel=VOXEL_SIZES\n",
                ")\n",
                "\n",
                "# Result from previous run is reused as the task and inputs are identical\n",
                "with submitter:\n",
                "    result4 = submitter(mrgrid_varying_vox_sizes2)\n",
                "\n",
                "# Check that the output directory is the same for both runs\n",
                "assert result4.output_dir == result1.output_dir"
            ]
        },
        {
            "cell_type": "markdown",
            "metadata": {},
            "source": [
                "See [Caches and hashes](../explanation/hashing-caching.html) for more details on how inputs\n",
                "are hashed for caching and issues to consider."
            ]
        },
        {
            "cell_type": "markdown",
            "metadata": {},
            "source": [
                "## Environments\n",
                "\n",
                "Work in progress...\n",
                "\n",
                "See [Containers and Environments](../explanation/environments.rst) for more details."
            ]
        },
        {
            "cell_type": "markdown",
            "metadata": {},
            "source": [
                "## Provenance and auditing\n",
                "\n",
                "Work in progress..."
            ]
        },
        {
            "cell_type": "markdown",
            "metadata": {},
            "source": []
        }
    ],
    "metadata": {
        "kernelspec": {
            "display_name": "wf12",
            "language": "python",
            "name": "python3"
        },
        "language_info": {
            "codemirror_mode": {
                "name": "ipython",
                "version": 3
            },
            "file_extension": ".py",
            "mimetype": "text/x-python",
            "name": "python",
            "nbconvert_exporter": "python",
            "pygments_lexer": "ipython3",
            "version": "3.12.5"
        }
    },
    "nbformat": 4,
    "nbformat_minor": 2
}
