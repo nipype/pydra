{
 "cells": [
  {
   "cell_type": "markdown",
   "metadata": {},
   "source": [
    "# Executing tasks\n",
    "\n",
    "A *Task* is the basic runnable component in Pydra, and can execute either a Python function,\n",
    "shell command or workflows consisting of combinations of all three types."
   ]
  },
  {
   "cell_type": "code",
   "execution_count": 1,
   "metadata": {},
   "outputs": [
    {
     "name": "stderr",
     "output_type": "stream",
     "text": [
      "A newer version (0.25) of nipype/pydra is available. You are using 0.25.dev71+g0dc7ec60.d20241216\n"
     ]
    },
    {
     "name": "stdout",
     "output_type": "stream",
     "text": [
      "LoadJsonOutputs(out={'a': True, 'b': 'two', 'c': 3, 'd': [7, 0.5598136790149003, 6]})\n"
     ]
    }
   ],
   "source": [
    "from fileformats.application import Json\n",
    "from pydra.tasks.common import LoadJson\n",
    "\n",
    "# Create a sample JSON file to test\n",
    "json_file = Json.sample()\n",
    "\n",
    "# Parameterise the task to load the JSON file\n",
    "load_json = LoadJson(file=json_file)\n",
    "\n",
    "# Run the task\n",
    "result = load_json()\n",
    "\n",
    "# Print the output interface of the of the task (LoadJson.Outputs)\n",
    "print(result.output)"
   ]
  },
  {
   "cell_type": "markdown",
   "metadata": {},
   "source": []
  }
 ],
 "metadata": {
  "kernelspec": {
   "display_name": "wf12",
   "language": "python",
   "name": "python3"
  },
  "language_info": {
   "codemirror_mode": {
    "name": "ipython",
    "version": 3
   },
   "file_extension": ".py",
   "mimetype": "text/x-python",
   "name": "python",
   "nbconvert_exporter": "python",
   "pygments_lexer": "ipython3",
   "version": "3.12.5"
  }
 },
 "nbformat": 4,
 "nbformat_minor": 2
}
