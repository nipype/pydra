{
 "cells": [
  {
   "cell_type": "markdown",
   "metadata": {},
   "source": [
    "# Designing tasks"
   ]
  },
  {
   "cell_type": "code",
   "execution_count": 5,
   "metadata": {},
   "outputs": [
    {
     "name": "stdout",
     "output_type": "stream",
     "text": [
      "funcOutputs(out=2.0)\n"
     ]
    }
   ],
   "source": [
    "from pydra.design import python\n",
    "\n",
    "\n",
    "def func(a: int) -> float:\n",
    "    \"\"\"Sample function with inputs and outputs\"\"\"\n",
    "    return a * 2\n",
    "\n",
    "SampleSpec = python.define(func)\n",
    "\n",
    "spec = SampleSpec(a=1)\n",
    "result = spec()\n",
    "print(result.output)"
   ]
  },
  {
   "cell_type": "markdown",
   "metadata": {},
   "source": [
    "### With typing"
   ]
  },
  {
   "cell_type": "code",
   "execution_count": 6,
   "metadata": {},
   "outputs": [],
   "source": [
    "\n",
    "def func(a: int, k: float = 2.0) -> float:\n",
    "    \"\"\"Sample function with inputs and outputs\"\"\"\n",
    "    return a * k\n",
    "\n",
    "SampleSpec = python.define(func)\n"
   ]
  },
  {
   "cell_type": "markdown",
   "metadata": {},
   "source": [
    "### Augment with explicit inputs and outputs\n"
   ]
  },
  {
   "cell_type": "code",
   "execution_count": 8,
   "metadata": {},
   "outputs": [],
   "source": [
    "from decimal import Decimal\n",
    "\n",
    "def func(a: int) -> float:\n",
    "    \"\"\"Sample function with inputs and outputs\"\"\"\n",
    "    return a * 2\n",
    "\n",
    "SampleSpec = python.define(\n",
    "    func,\n",
    "    inputs={\"a\": python.arg(help_string=\"The argument to be doubled\")},\n",
    "    outputs={\"b\": python.out(help_string=\"the doubled output\", type=Decimal)},\n",
    ")"
   ]
  },
  {
   "cell_type": "markdown",
   "metadata": {},
   "source": [
    "## Decorated_function"
   ]
  },
  {
   "cell_type": "code",
   "execution_count": 11,
   "metadata": {},
   "outputs": [],
   "source": [
    "# Note we use CamelCase as the function is translated to a class\n",
    "\n",
    "@python.define(outputs=[\"c\", \"d\"])\n",
    "def SampleSpec(a: int, b: float) -> tuple[float, float]:\n",
    "    \"\"\"Sample function for testing\"\"\"\n",
    "    return a + b, a * b"
   ]
  },
  {
   "cell_type": "markdown",
   "metadata": {},
   "source": [
    "\n",
    "## Pull helps from docstring"
   ]
  },
  {
   "cell_type": "code",
   "execution_count": 18,
   "metadata": {},
   "outputs": [
    {
     "name": "stdout",
     "output_type": "stream",
     "text": [
      "[arg(name='a', type=<class 'int'>, default=EMPTY, help_string='First input to be inputted', requires=[], converter=None, validator=None, allowed_values=(), xor=(), copy_mode=<CopyMode.any: 15>, copy_collation=<CopyCollation.any: 0>, copy_ext_decomp=<ExtensionDecomposition.single: 1>, readonly=False),\n",
      " arg(name='b', type=<class 'float'>, default=EMPTY, help_string='Second input', requires=[], converter=None, validator=None, allowed_values=(), xor=(), copy_mode=<CopyMode.any: 15>, copy_collation=<CopyCollation.any: 0>, copy_ext_decomp=<ExtensionDecomposition.single: 1>, readonly=False),\n",
      " arg(name='function', type=typing.Callable, default=<function SampleSpec at 0x11ad1c900>, help_string='', requires=[], converter=None, validator=None, allowed_values=(), xor=(), copy_mode=<CopyMode.any: 15>, copy_collation=<CopyCollation.any: 0>, copy_ext_decomp=<ExtensionDecomposition.single: 1>, readonly=False)]\n",
      "[out(name='c', type=<class 'float'>, default=EMPTY, help_string='Sum of a and b', requires=[], converter=None, validator=None),\n",
      " out(name='d', type=<class 'float'>, default=EMPTY, help_string='Product of a and b', requires=[], converter=None, validator=None)]\n"
     ]
    }
   ],
   "source": [
    "from pprint import pprint\n",
    "from pydra.engine.helpers import list_fields\n",
    "\n",
    "@python.define(outputs=[\"c\", \"d\"])\n",
    "def SampleSpec(a: int, b: float) -> tuple[float, float]:\n",
    "    \"\"\"Sample function for testing\n",
    "\n",
    "    Args:\n",
    "        a: First input\n",
    "            to be inputted\n",
    "        b: Second input\n",
    "\n",
    "    Returns:\n",
    "        c: Sum of a and b\n",
    "        d: Product of a and b\n",
    "    \"\"\"\n",
    "    return a + b, a * b\n",
    "\n",
    "pprint(list_fields(SampleSpec))\n",
    "pprint(list_fields(SampleSpec.Outputs))"
   ]
  },
  {
   "cell_type": "markdown",
   "metadata": {},
   "source": [
    "### Dataclass form"
   ]
  },
  {
   "cell_type": "code",
   "execution_count": 19,
   "metadata": {},
   "outputs": [
    {
     "name": "stdout",
     "output_type": "stream",
     "text": [
      "[arg(name='b', type=<class 'float'>, default=2.0, help_string='Second input', requires=[], converter=None, validator=None, allowed_values=(), xor=(), copy_mode=<CopyMode.any: 15>, copy_collation=<CopyCollation.any: 0>, copy_ext_decomp=<ExtensionDecomposition.single: 1>, readonly=False),\n",
      " arg(name='a', type=<class 'int'>, default=EMPTY, help_string='First input to be inputted', requires=[], converter=None, validator=None, allowed_values=(), xor=(), copy_mode=<CopyMode.any: 15>, copy_collation=<CopyCollation.any: 0>, copy_ext_decomp=<ExtensionDecomposition.single: 1>, readonly=False),\n",
      " arg(name='function', type=typing.Callable, default=<function SampleSpec.function at 0x11ad0b600>, help_string='', requires=[], converter=None, validator=None, allowed_values=(), xor=(), copy_mode=<CopyMode.any: 15>, copy_collation=<CopyCollation.any: 0>, copy_ext_decomp=<ExtensionDecomposition.single: 1>, readonly=False)]\n",
      "[out(name='c', type=<class 'float'>, default=EMPTY, help_string='Sum of a and b', requires=[], converter=None, validator=None),\n",
      " out(name='d', type=<class 'float'>, default=EMPTY, help_string='Product of a and b', requires=[], converter=None, validator=None)]\n"
     ]
    }
   ],
   "source": [
    "\n",
    "@python.define\n",
    "class SampleSpec:\n",
    "    \"\"\"Sample class for testing\n",
    "\n",
    "    Args:\n",
    "        a: First input\n",
    "            to be inputted\n",
    "        b: Second input\n",
    "    \"\"\"\n",
    "\n",
    "    a: int\n",
    "    b: float = 2.0\n",
    "\n",
    "    class Outputs:\n",
    "        \"\"\"\n",
    "        Args:\n",
    "            c: Sum of a and b\n",
    "            d: Product of a and b\n",
    "        \"\"\"\n",
    "\n",
    "        c: float\n",
    "        d: float\n",
    "\n",
    "    @staticmethod\n",
    "    def function(a, b):\n",
    "        return a + b, a * b\n",
    "\n",
    "pprint(list_fields(SampleSpec))\n",
    "pprint(list_fields(SampleSpec.Outputs))"
   ]
  },
  {
   "cell_type": "markdown",
   "metadata": {},
   "source": [
    "### Canonical form (to work with static type-checking)"
   ]
  },
  {
   "cell_type": "code",
   "execution_count": 20,
   "metadata": {},
   "outputs": [
    {
     "name": "stdout",
     "output_type": "stream",
     "text": [
      "[arg(name='a', type=<class 'int'>, default=EMPTY, help_string='First input to be inputted', requires=[], converter=None, validator=None, allowed_values=(), xor=(), copy_mode=<CopyMode.any: 15>, copy_collation=<CopyCollation.any: 0>, copy_ext_decomp=<ExtensionDecomposition.single: 1>, readonly=False),\n",
      " arg(name='b', type=<class 'float'>, default=EMPTY, help_string='Second input', requires=[], converter=None, validator=None, allowed_values=(), xor=(), copy_mode=<CopyMode.any: 15>, copy_collation=<CopyCollation.any: 0>, copy_ext_decomp=<ExtensionDecomposition.single: 1>, readonly=False),\n",
      " arg(name='function', type=typing.Callable, default=<function SampleSpec.function at 0x11ad1d300>, help_string='', requires=[], converter=None, validator=None, allowed_values=(), xor=(), copy_mode=<CopyMode.any: 15>, copy_collation=<CopyCollation.any: 0>, copy_ext_decomp=<ExtensionDecomposition.single: 1>, readonly=False)]\n",
      "[out(name='c', type=<class 'float'>, default=EMPTY, help_string='Sum of a and b', requires=[], converter=None, validator=None),\n",
      " out(name='d', type=<class 'float'>, default=EMPTY, help_string='Product of a and b', requires=[], converter=None, validator=None)]\n"
     ]
    }
   ],
   "source": [
    "from pydra.engine.specs import PythonSpec\n",
    "\n",
    "@python.define\n",
    "class SampleSpec(PythonSpec[\"SampleSpec.Outputs\"]):\n",
    "    \"\"\"Sample class for testing\n",
    "\n",
    "    Args:\n",
    "        a: First input\n",
    "            to be inputted\n",
    "        b: Second input\n",
    "    \"\"\"\n",
    "\n",
    "    a: int\n",
    "    b: float\n",
    "\n",
    "    class Outputs:\n",
    "        \"\"\"\n",
    "        Args:\n",
    "            c: Sum of a and b\n",
    "            d: Product of a and b\n",
    "        \"\"\"\n",
    "\n",
    "        c: float\n",
    "        d: float\n",
    "\n",
    "    @staticmethod\n",
    "    def function(a, b):\n",
    "        return a + b, a * b\n",
    "\n",
    "pprint(list_fields(SampleSpec))\n",
    "pprint(list_fields(SampleSpec.Outputs))"
   ]
  },
  {
   "cell_type": "code",
   "execution_count": null,
   "metadata": {},
   "outputs": [],
   "source": []
  }
 ],
 "metadata": {
  "kernelspec": {
   "display_name": "wf12",
   "language": "python",
   "name": "python3"
  },
  "language_info": {
   "codemirror_mode": {
    "name": "ipython",
    "version": 3
   },
   "file_extension": ".py",
   "mimetype": "text/x-python",
   "name": "python",
   "nbconvert_exporter": "python",
   "pygments_lexer": "ipython3",
   "version": "3.12.5"
  }
 },
 "nbformat": 4,
 "nbformat_minor": 2
}
