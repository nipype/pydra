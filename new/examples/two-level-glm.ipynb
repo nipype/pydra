{
 "cells": [
  {
   "cell_type": "markdown",
   "id": "058a991d",
   "metadata": {},
   "source": [
    "# Two-Level GLM"
   ]
  },
  {
   "cell_type": "markdown",
   "id": "2b4f98e0",
   "metadata": {},
   "source": [
    "In this tutorial, which is adapted from the Nilearn docs, we demonstrate how to write pydra tasks for the first level (subject-level) GLM and the second level (group-level) GLM in Nilearn. We use the data from [Balloon Analog Risk-taking Task](https://openneuro.org/datasets/ds000001/versions/1.0.0). \n",
    "Basic information about this dataset:\n",
    "- 16 subjects\n",
    "- 3 runs\n",
    "- functional scan TR: 2.3 \n",
    "- num of functional scan: 300"
   ]
  },
  {
   "cell_type": "code",
   "execution_count": 1,
   "id": "b047e37b",
   "metadata": {
    "execution": {
     "iopub.execute_input": "2025-02-13T23:47:14.505494Z",
     "iopub.status.busy": "2025-02-13T23:47:14.505128Z",
     "iopub.status.idle": "2025-02-13T23:47:14.508444Z",
     "shell.execute_reply": "2025-02-13T23:47:14.508096Z"
    }
   },
   "outputs": [],
   "source": [
    "import nest_asyncio\n",
    "nest_asyncio.apply()"
   ]
  },
  {
   "cell_type": "markdown",
   "id": "897522ee",
   "metadata": {},
   "source": [
    "## Preparation\n",
    "\n",
    "Import packages that will be used globally and set up output directory"
   ]
  },
  {
   "cell_type": "code",
   "execution_count": 2,
   "id": "9c4743db",
   "metadata": {
    "execution": {
     "iopub.execute_input": "2025-02-13T23:47:14.509931Z",
     "iopub.status.busy": "2025-02-13T23:47:14.509665Z",
     "iopub.status.idle": "2025-02-13T23:47:14.773622Z",
     "shell.execute_reply": "2025-02-13T23:47:14.773175Z"
    }
   },
   "outputs": [
    {
     "ename": "ModuleNotFoundError",
     "evalue": "No module named 'datalad'",
     "output_type": "error",
     "traceback": [
      "\u001b[0;31m---------------------------------------------------------------------------\u001b[0m",
      "\u001b[0;31mModuleNotFoundError\u001b[0m                       Traceback (most recent call last)",
      "Cell \u001b[0;32mIn[2], line 13\u001b[0m\n\u001b[1;32m     11\u001b[0m \u001b[38;5;28;01mimport\u001b[39;00m \u001b[38;5;21;01mtyping\u001b[39;00m \u001b[38;5;28;01mas\u001b[39;00m \u001b[38;5;21;01mty\u001b[39;00m\n\u001b[1;32m     12\u001b[0m \u001b[38;5;28;01mfrom\u001b[39;00m \u001b[38;5;21;01mpathlib\u001b[39;00m \u001b[38;5;28;01mimport\u001b[39;00m Path\n\u001b[0;32m---> 13\u001b[0m \u001b[38;5;28;01mimport\u001b[39;00m \u001b[38;5;21;01mdatalad\u001b[39;00m\u001b[38;5;21;01m.\u001b[39;00m\u001b[38;5;21;01mapi\u001b[39;00m \u001b[38;5;28;01mas\u001b[39;00m \u001b[38;5;21;01mdl\u001b[39;00m\n\u001b[1;32m     15\u001b[0m \u001b[38;5;28;01mimport\u001b[39;00m \u001b[38;5;21;01mnumpy\u001b[39;00m \u001b[38;5;28;01mas\u001b[39;00m \u001b[38;5;21;01mnp\u001b[39;00m\n\u001b[1;32m     16\u001b[0m \u001b[38;5;28;01mimport\u001b[39;00m \u001b[38;5;21;01mpandas\u001b[39;00m \u001b[38;5;28;01mas\u001b[39;00m \u001b[38;5;21;01mpd\u001b[39;00m\n",
      "\u001b[0;31mModuleNotFoundError\u001b[0m: No module named 'datalad'"
     ]
    }
   ],
   "source": [
    "import warnings\n",
    "import sys \n",
    "if not sys.warnoptions:\n",
    "    warnings.simplefilter(\"ignore\")\n",
    "\n",
    "import os\n",
    "import glob\n",
    "import datetime\n",
    "import random\n",
    "from pydra.design import python, workflow\n",
    "import typing as ty\n",
    "from pathlib import Path\n",
    "import datalad.api as dl\n",
    "\n",
    "import numpy as np\n",
    "import pandas as pd\n",
    "import nibabel as nib\n",
    "from scipy.stats import norm\n",
    "from nilearn.interfaces.fmriprep import load_confounds_strategy\n",
    "from nilearn.image import load_img, get_data, math_img, threshold_img\n",
    "from nilearn.glm.first_level import make_first_level_design_matrix, FirstLevelModel\n",
    "from nilearn.glm.second_level import SecondLevelModel, non_parametric_inference\n",
    "from nilearn.glm.contrasts import compute_fixed_effects\n",
    "from nilearn.plotting import plot_stat_map, plot_glass_brain"
   ]
  },
  {
   "cell_type": "code",
   "execution_count": 3,
   "id": "270ec541",
   "metadata": {
    "execution": {
     "iopub.execute_input": "2025-02-13T23:47:14.775199Z",
     "iopub.status.busy": "2025-02-13T23:47:14.775037Z",
     "iopub.status.idle": "2025-02-13T23:47:14.777815Z",
     "shell.execute_reply": "2025-02-13T23:47:14.777426Z"
    }
   },
   "outputs": [],
   "source": [
    "# get current directory\n",
    "pydra_tutorial_dir = os.path.dirname(os.getcwd())\n",
    "\n",
    "# set up output directory\n",
    "workflow_dir = Path(pydra_tutorial_dir) / 'outputs'\n",
    "workflow_out_dir = workflow_dir / '9_glm' /'results'\n",
    "\n",
    "# create folders if not exit\n",
    "os.makedirs(workflow_out_dir, exist_ok=True)"
   ]
  },
  {
   "cell_type": "markdown",
   "id": "55fad822",
   "metadata": {},
   "source": [
    "### Download the data\n",
    "\n",
    "[DataLad](http://handbook.datalad.org/en/latest/index.htmlhttp://handbook.datalad.org/en/latest/index.html) is often used in those cases to download data. Here we use its [Python API](http://docs.datalad.org/en/latest/modref.htmlhttp://docs.datalad.org/en/latest/modref.html).\n",
    "\n",
    "We need the following data: \n",
    "\n",
    "1. event information (raw data)\n",
    "2. preprocessed image data (fmriprep)\n",
    "3. masks (fmriprep)\n",
    "4. confounds (fmriprep)"
   ]
  },
  {
   "cell_type": "code",
   "execution_count": 4,
   "id": "a99bf091",
   "metadata": {
    "execution": {
     "iopub.execute_input": "2025-02-13T23:47:14.779506Z",
     "iopub.status.busy": "2025-02-13T23:47:14.779189Z",
     "iopub.status.idle": "2025-02-13T23:47:14.790604Z",
     "shell.execute_reply": "2025-02-13T23:47:14.790187Z"
    },
    "tags": [
     "remove-output"
    ]
   },
   "outputs": [
    {
     "ename": "NameError",
     "evalue": "name 'dl' is not defined",
     "output_type": "error",
     "traceback": [
      "\u001b[0;31m---------------------------------------------------------------------------\u001b[0m",
      "\u001b[0;31mNameError\u001b[0m                                 Traceback (most recent call last)",
      "Cell \u001b[0;32mIn[4], line 8\u001b[0m\n\u001b[1;32m      6\u001b[0m fmriprep_url \u001b[38;5;241m=\u001b[39m \u001b[38;5;124m'\u001b[39m\u001b[38;5;124mhttps://github.com/OpenNeuroDerivatives/ds000001-fmriprep.git\u001b[39m\u001b[38;5;124m'\u001b[39m\n\u001b[1;32m      7\u001b[0m rawdata_url \u001b[38;5;241m=\u001b[39m \u001b[38;5;124m'\u001b[39m\u001b[38;5;124mhttps://github.com/OpenNeuroDatasets/ds000001.git\u001b[39m\u001b[38;5;124m'\u001b[39m\n\u001b[0;32m----> 8\u001b[0m \u001b[43mdl\u001b[49m\u001b[38;5;241m.\u001b[39minstall(source\u001b[38;5;241m=\u001b[39mrawdata_url, path\u001b[38;5;241m=\u001b[39mrawdata_path)\n\u001b[1;32m      9\u001b[0m dl\u001b[38;5;241m.\u001b[39minstall(source\u001b[38;5;241m=\u001b[39mfmriprep_url, path\u001b[38;5;241m=\u001b[39mfmriprep_path)\n",
      "\u001b[0;31mNameError\u001b[0m: name 'dl' is not defined"
     ]
    }
   ],
   "source": [
    "fmriprep_path = workflow_dir / '7_glm'/ 'data'\n",
    "rawdata_path = workflow_dir / '7_glm' / 'raw_data'\n",
    "os.makedirs(fmriprep_path, exist_ok=True)\n",
    "os.makedirs(rawdata_path, exist_ok=True)\n",
    "# Install datasets to specific datapaths\n",
    "fmriprep_url = 'https://github.com/OpenNeuroDerivatives/ds000001-fmriprep.git'\n",
    "rawdata_url = 'https://github.com/OpenNeuroDatasets/ds000001.git'\n",
    "dl.install(source=rawdata_url, path=rawdata_path)\n",
    "dl.install(source=fmriprep_url, path=fmriprep_path)"
   ]
  },
  {
   "cell_type": "markdown",
   "id": "67484d6a",
   "metadata": {},
   "source": [
    "### Get data for each subject\n",
    "\n",
    "By `datalad.api.install`, datalad downloads all symlinks without storing the actual data locally. We can then use `datalad.api.get` to get the data we need for our analysis. \n",
    "We need to get four types of data from two folders:\n",
    "\n",
    "1. event_info: `*events.tsv` from `rawdata_path`\n",
    "2. bold: `*space-MNI152NLin2009cAsym_res-2_desc-preproc_bold.nii.gz` from `fmriprep_path`\n",
    "3. mask: `*space-MNI152NLin2009cAsym_res-2_desc-brain_mask.nii.gz` from `fmriprep_path`\n",
    "4. confounds: `*desc-confounds_timeseries.tsv` from `fmriprep_path` (this is implicitly needed by `load_confounds_strategy`)"
   ]
  },
  {
   "cell_type": "code",
   "execution_count": 5,
   "id": "7d1fbfa3",
   "metadata": {
    "execution": {
     "iopub.execute_input": "2025-02-13T23:47:14.792217Z",
     "iopub.status.busy": "2025-02-13T23:47:14.791927Z",
     "iopub.status.idle": "2025-02-13T23:47:14.814740Z",
     "shell.execute_reply": "2025-02-13T23:47:14.814183Z"
    }
   },
   "outputs": [],
   "source": [
    "\n",
    "@python.define(outputs=['subj_id','subj_events', 'subj_imgs', 'subj_masks'])\n",
    "def GetSubjData(subj_id: int) -> tuple[int, list, list, list]:\n",
    "    print(f\"\\nDownload data for subject-{subj_id}\")\n",
    "    # get events.tsv \n",
    "    subj_events = glob.glob(os.path.join(rawdata_path, 'sub-%02d' % subj_id, 'func', '*events.tsv'))\n",
    "    subj_events.sort()\n",
    "    for i in subj_events:\n",
    "        dl.get(i, dataset=rawdata_path)\n",
    "    # get bold\n",
    "    subj_imgs = glob.glob(os.path.join(fmriprep_path, 'sub-%02d' % subj_id, 'func', '*space-MNI152NLin2009cAsym_res-2_desc-preproc_bold.nii.gz'))\n",
    "    subj_imgs.sort()\n",
    "    for i in subj_imgs:\n",
    "        dl.get(i, dataset=fmriprep_path)\n",
    "    # get mask\n",
    "    subj_masks = glob.glob(os.path.join(fmriprep_path, 'sub-%02d' % subj_id, 'func', '*space-MNI152NLin2009cAsym_res-2_desc-brain_mask.nii.gz'))\n",
    "    subj_masks.sort()\n",
    "    for i in subj_masks:\n",
    "        dl.get(i, dataset=fmriprep_path)\n",
    "    # get confounds list\n",
    "    subj_confounds = glob.glob(os.path.join(fmriprep_path, 'sub-%02d' % subj_id, 'func', '*desc-confounds_timeseries.tsv'))\n",
    "    subj_confounds.sort()\n",
    "    for i in subj_confounds:\n",
    "        dl.get(i, dataset=fmriprep_path)\n",
    "    return subj_id, subj_events, subj_imgs, subj_masks"
   ]
  },
  {
   "cell_type": "markdown",
   "id": "ef024e95",
   "metadata": {},
   "source": [
    "## First-Level GLM\n",
    "\n",
    "The first level GLM has two parts:\n",
    "- conduct GLM for each run on every subject\n",
    "- average across runs for each subject with a fixed-effect model"
   ]
  },
  {
   "cell_type": "markdown",
   "id": "4c652b28",
   "metadata": {},
   "source": [
    "### Get the first-level design matrix\n",
    "\n",
    "The design matrix is a _M(row)_ x _N(columns)_ matrix. _M_ corresponds to the number of _tr_, while _N_ corresponds to event conditions + confounds."
   ]
  },
  {
   "cell_type": "code",
   "execution_count": 6,
   "id": "83b52e93",
   "metadata": {
    "execution": {
     "iopub.execute_input": "2025-02-13T23:47:14.816587Z",
     "iopub.status.busy": "2025-02-13T23:47:14.816264Z",
     "iopub.status.idle": "2025-02-13T23:47:14.822607Z",
     "shell.execute_reply": "2025-02-13T23:47:14.822203Z"
    }
   },
   "outputs": [],
   "source": [
    "@python.define(outputs={'dm_path': str, 'run_id': int})\n",
    "def GetFirstLevelDm(tr: float, n_scans: int, hrf_model: str, subj_id: int, run_id: int, subj_imgs: list, subj_events: list):\n",
    "    print(f\"\\nGet subject-{subj_id}, run-{run_id} firstlevel GLM design matrix...\\n\")\n",
    "    # read event file\n",
    "    run_img = subj_imgs[run_id-1]\n",
    "    run_event = subj_events[run_id-1]\n",
    "    event = pd.read_csv(run_event, sep='\\t').fillna(0)\n",
    "    event = event[['onset', 'duration', 'trial_type']]\n",
    "    # get list of confounds directly from fmriprepped bold\n",
    "    confounds = load_confounds_strategy(run_img, denoise_strategy='simple')[0]\n",
    "    frame_times = np.arange(n_scans) * tr\n",
    "    design_matrix = make_first_level_design_matrix(frame_times, event, \n",
    "                                                   hrf_model=hrf_model,\n",
    "                                                   add_regs=confounds)          \n",
    "\n",
    "    # make sure all design matrices have the same length of column\n",
    "    # if you have a block design, this is not needed.\n",
    "    # 39 = 4(events) + 34(confounds) + 13(drift) + 1(constant)\n",
    "    assert design_matrix.shape[1] == 52, \"This design matrix has the wrong column number\"\n",
    "    # sort the column order alphabetical for contrasts\n",
    "    design_matrix = design_matrix.reindex(sorted(design_matrix.columns), axis=1)\n",
    "    dm_path = os.path.join(workflow_out_dir, 'sub-%s_run-%s_designmatrix.csv' % (subj_id, run_id))\n",
    "    design_matrix.to_csv(dm_path, index=None)\n",
    "    return dm_path, run_id"
   ]
  },
  {
   "cell_type": "markdown",
   "id": "b9d8c639",
   "metadata": {},
   "source": [
    "### Set up the first level contrasts"
   ]
  },
  {
   "cell_type": "code",
   "execution_count": 7,
   "id": "02c14978",
   "metadata": {
    "execution": {
     "iopub.execute_input": "2025-02-13T23:47:14.824183Z",
     "iopub.status.busy": "2025-02-13T23:47:14.823927Z",
     "iopub.status.idle": "2025-02-13T23:47:14.828986Z",
     "shell.execute_reply": "2025-02-13T23:47:14.828511Z"
    }
   },
   "outputs": [],
   "source": [
    "@python.define(outputs={'contrasts': dict})\n",
    "def SetContrast(subj_id: int, run_id: int, dm_path: str):\n",
    "    print(f\"\\nSet firstlevel contrast for subject-{subj_id}, run-{run_id} ...\\n\") \n",
    "    design_matrix = pd.read_csv(dm_path)\n",
    "    contrast_matrix = np.eye(design_matrix.shape[1])\n",
    "    basic_contrasts = dict([(column, contrast_matrix[i])\n",
    "                      for i, column in enumerate(design_matrix.columns)])\n",
    "    contrasts = {\n",
    "        'pumps-control': basic_contrasts['pumps_demean'] - basic_contrasts['control_pumps_demean'],\n",
    "        'control-pumps': -basic_contrasts['control_pumps_demean'] + basic_contrasts['pumps_demean'],\n",
    "        'pumps-baseline': basic_contrasts['pumps_demean'],\n",
    "        'cash-baseline': basic_contrasts['cash_demean'],\n",
    "        'explode-baseline': basic_contrasts['explode_demean']\n",
    "        }\n",
    "    return contrasts"
   ]
  },
  {
   "cell_type": "markdown",
   "id": "c3842a52",
   "metadata": {},
   "source": [
    "### Fit the first level GLM"
   ]
  },
  {
   "cell_type": "code",
   "execution_count": 8,
   "id": "97c51941",
   "metadata": {
    "execution": {
     "iopub.execute_input": "2025-02-13T23:47:14.830551Z",
     "iopub.status.busy": "2025-02-13T23:47:14.830245Z",
     "iopub.status.idle": "2025-02-13T23:47:14.837011Z",
     "shell.execute_reply": "2025-02-13T23:47:14.836539Z"
    }
   },
   "outputs": [],
   "source": [
    "@python.define(outputs={'effect_size_path_dict': dict, 'effect_variance_path_dict': dict})\n",
    "def FirstLevelEstimation(\n",
    "    subj_id: int,\n",
    "    run_id: int,\n",
    "    subj_imgs: list,\n",
    "    subj_masks: list,\n",
    "    smoothing_fwhm:float,\n",
    "    dm_path: str,\n",
    "    contrasts: dict\n",
    "):\n",
    "    print(f\"\\nStart firstlevel estimation for subject-{subj_id}, run-{run_id} ...\\n\")\n",
    "    \n",
    "    # subsample img to reduce memory\n",
    "    run_img = subj_imgs[run_id-1]\n",
    "    img = load_img(run_img)\n",
    "    img_data = get_data(run_img)[::2,::2,::2]\n",
    "    new_img = nib.Nifti1Image(img_data, img.affine)\n",
    "    run_mask = subj_masks[run_id-1]\n",
    "    print('Fit the firstlevel model...')\n",
    "    first_level_model = FirstLevelModel(mask_img=run_mask, smoothing_fwhm=smoothing_fwhm)\n",
    "    dm= pd.read_csv(dm_path)\n",
    "    first_level_model = first_level_model.fit(new_img, design_matrices=dm)\n",
    "    print('Computing contrasts...')\n",
    "    effect_size_path_dict = dict.fromkeys(contrasts.keys())\n",
    "    effect_variance_path_dict = dict.fromkeys(contrasts.keys())\n",
    "    for index, (contrast_id, contrast_val) in enumerate(contrasts.items()):\n",
    "        print('  Contrast % 2i out of %i: %s' % (\n",
    "            index + 1, len(contrasts), contrast_id))\n",
    "        # Estimate the contasts. Note that the model implicitly computes a fixed\n",
    "        # effect across the two sessions\n",
    "        res = first_level_model.compute_contrast(contrast_val, output_type='all')\n",
    "        # write the resulting stat images to file\n",
    "        effect_size_path = os.path.join(workflow_out_dir, 'sub-%s_run-%s_contrast-%s_effect_size.nii.gz' % (subj_id, run_id, contrast_id))\n",
    "        effect_variance_path = os.path.join(workflow_out_dir, 'sub-%s_run-%s_contrast-%s_effect_varaince.nii.gz' % (subj_id, run_id, contrast_id))\n",
    "        effect_size_path_dict[contrast_id] = effect_size_path\n",
    "        effect_variance_path_dict[contrast_id] = effect_variance_path\n",
    "        res['effect_size'].to_filename(effect_size_path)\n",
    "        res['effect_variance'].to_filename(effect_variance_path)\n",
    "        \n",
    "    return effect_size_path_dict, effect_variance_path_dict"
   ]
  },
  {
   "cell_type": "markdown",
   "id": "1565da8f",
   "metadata": {},
   "source": [
    "### Create the first level GLM workflow\n",
    "\n",
    "This workflow include GLM for each run."
   ]
  },
  {
   "cell_type": "code",
   "execution_count": 9,
   "id": "202433ba",
   "metadata": {
    "execution": {
     "iopub.execute_input": "2025-02-13T23:47:14.838465Z",
     "iopub.status.busy": "2025-02-13T23:47:14.838215Z",
     "iopub.status.idle": "2025-02-13T23:47:14.844390Z",
     "shell.execute_reply": "2025-02-13T23:47:14.843906Z"
    }
   },
   "outputs": [],
   "source": [
    "# initiate the first-level GLM workflow\n",
    "@workflow.define(outputs=[\n",
    "    'first_level_contrast',\n",
    "    'first_level_effect_size_list',\n",
    "    'first_level_effect_variance_list'\n",
    "])\n",
    "def GLMWorkflow(\n",
    "    subj_id,\n",
    "    run_id,\n",
    "    subj_imgs,\n",
    "    subj_events,\n",
    "    subj_masks,\n",
    "    tr,\n",
    "    n_scans,\n",
    "    hrf_model,\n",
    "    smoothing_fwhm\n",
    "):\n",
    "    \n",
    "    # add task - get_firstlevel_dm\n",
    "    get_firstlevel_dm = workflow.add(\n",
    "        GetFirstLevelDm(\n",
    "            tr = tr, \n",
    "            n_scans = n_scans, \n",
    "            hrf_model = hrf_model, \n",
    "            subj_id = subj_id, \n",
    "            run_id = run_id, \n",
    "            subj_imgs = subj_imgs, \n",
    "            subj_events = subj_events,\n",
    "        )\n",
    "    )\n",
    "\n",
    "    # add task - set_contrast\n",
    "    set_contrast = workflow.add(\n",
    "        SetContrast(\n",
    "            subj_id = subj_id,\n",
    "            run_id = get_firstlevel_dm.run_id,\n",
    "            dm_path = get_firstlevel_dm.dm_path\n",
    "        )\n",
    "    )\n",
    "\n",
    "    # add task - firstlevel_estimation\n",
    "    firstlevel_estimation = workflow.add(\n",
    "        FirstLevelEstimation(\n",
    "            subj_id = subj_id, \n",
    "            run_id = get_firstlevel_dm.run_id, \n",
    "            subj_imgs = subj_imgs, \n",
    "            subj_masks = subj_masks,\n",
    "            smoothing_fwhm = smoothing_fwhm, \n",
    "            dm_path = get_firstlevel_dm.dm_path, \n",
    "            contrasts = set_contrast.contrasts\n",
    "        )\n",
    "    )\n",
    "\n",
    "    # specify output\n",
    "    return (set_contrast.contrasts,\n",
    "            firstlevel_estimation.effect_size_path_dict,\n",
    "            firstlevel_estimation.effect_variance_path_dict,\n",
    "    )"
   ]
  },
  {
   "cell_type": "markdown",
   "id": "db735ca0",
   "metadata": {},
   "source": [
    "### Compute fixed effects\n",
    "\n",
    "Before we move to the second(group) level, we need to average results from all three runs from a fixed effect model"
   ]
  },
  {
   "cell_type": "code",
   "execution_count": 10,
   "id": "0e42da7a",
   "metadata": {
    "execution": {
     "iopub.execute_input": "2025-02-13T23:47:14.845905Z",
     "iopub.status.busy": "2025-02-13T23:47:14.845613Z",
     "iopub.status.idle": "2025-02-13T23:47:14.852312Z",
     "shell.execute_reply": "2025-02-13T23:47:14.851852Z"
    }
   },
   "outputs": [],
   "source": [
    "@python.define(\n",
    "    outputs={'fixed_fx_contrast_path_dict': dict, 'fixed_fx_variance_path_dict': dict, 'fixed_fx_ttest_path_dict': dict},\n",
    ")\n",
    "def GetFixedEffcts(\n",
    "    subj_id: int,\n",
    "    subj_masks: list,\n",
    "    contrasts: list,\n",
    "    effect_size_path_dict_list: list,\n",
    "    effect_variance_path_dict_list: list\n",
    "):\n",
    "    print(f\"contrasts: {contrasts}\")\n",
    "    print(f'Compute fixed effects for subject-{subj_id}...')\n",
    "    # average mask across three runs\n",
    "    mean_mask = math_img('np.mean(img, axis=-1)', img=subj_masks)\n",
    "    # binarize the mean mask\n",
    "    mask = math_img('img > 0', img=mean_mask)\n",
    "    fixed_fx_contrast_path_dict =dict.fromkeys(contrasts[0].keys())\n",
    "    fixed_fx_variance_path_dict = dict.fromkeys(contrasts[0].keys())\n",
    "    fixed_fx_ttest_path_dict = dict.fromkeys(contrasts[0].keys())\n",
    "    for index, (contrast_id, contrast_val) in enumerate(contrasts[0].items()):\n",
    "        print(' Contrast % 2i out of %i: %s' % (index + 1, len(contrasts[0]), contrast_id))\n",
    "        contrast_imgs = [nib.load(img_dict[contrast_id]) for img_dict in effect_size_path_dict_list]\n",
    "        variance_imgs = [nib.load(img_dict[contrast_id]) for img_dict in effect_variance_path_dict_list]\n",
    "        fixed_fx_contrast, fixed_fx_variance, fixed_fx_ttest = compute_fixed_effects(contrast_imgs, variance_imgs, mask)\n",
    "        \n",
    "        effect_size_path = os.path.join(workflow_out_dir, 'sub-%s_contrast-%s_fx_effect_size.nii.gz' % (subj_id, contrast_id))\n",
    "        variance_path = os.path.join(workflow_out_dir, 'sub-%s_contrast-%s_fx_effect_varaince.nii.gz' % (subj_id, contrast_id))\n",
    "        ttest_path = os.path.join(workflow_out_dir, 'sub-%s_contrast-%s_ttest_map.nii.gz' % (subj_id, contrast_id))\n",
    "        fixed_fx_contrast_path_dict[contrast_id] = effect_size_path\n",
    "        fixed_fx_variance_path_dict[contrast_id] = variance_path\n",
    "        fixed_fx_ttest_path_dict[contrast_id]  = ttest_path\n",
    "        \n",
    "        fixed_fx_contrast.to_filename(effect_size_path)\n",
    "        fixed_fx_variance.to_filename(variance_path)\n",
    "        fixed_fx_ttest.to_filename(ttest_path)\n",
    "    return fixed_fx_contrast_path_dict, fixed_fx_variance_path_dict, fixed_fx_ttest_path_dict"
   ]
  },
  {
   "cell_type": "markdown",
   "id": "b9210376",
   "metadata": {},
   "source": [
    "### Create the fixed effect workflow"
   ]
  },
  {
   "cell_type": "code",
   "execution_count": 11,
   "id": "9f827e8c",
   "metadata": {
    "execution": {
     "iopub.execute_input": "2025-02-13T23:47:14.853823Z",
     "iopub.status.busy": "2025-02-13T23:47:14.853581Z",
     "iopub.status.idle": "2025-02-13T23:47:14.859315Z",
     "shell.execute_reply": "2025-02-13T23:47:14.858843Z"
    }
   },
   "outputs": [],
   "source": [
    "# initiate the fixed effect GLM workflow\n",
    "@workflow.define(\n",
    "    outputs=['first_level_contrast',\n",
    "            'fx_effect_size_list',\n",
    "            'fx_effect_variance_list',\n",
    "            'fx_t_test_list',\n",
    "    ]\n",
    ")\n",
    "def FixedEffectWorkflow(\n",
    "    subj_id,\n",
    "    run_id,\n",
    "    tr,\n",
    "    n_scans,\n",
    "    hrf_model,\n",
    "    smoothing_fwhm,\n",
    "):\n",
    "\n",
    "    # add task - get_subj_file\n",
    "    get_subjdata = workflow.add(\n",
    "        GetSubjData(\n",
    "            subj_id = subj_id, \n",
    "        )\n",
    "    )\n",
    "\n",
    "    wf_firstlevel = workflow.add(\n",
    "        GLMWorkflow(\n",
    "            subj_id=get_subjdata.subj_id,\n",
    "            run_id=run_id,\n",
    "            tr=tr,\n",
    "            n_scans=n_scans,\n",
    "            hrf_model=hrf_model,\n",
    "            smoothing_fwhm=smoothing_fwhm,\n",
    "            subj_imgs=get_subjdata.subj_imgs,\n",
    "            subj_events=get_subjdata.subj_events,\n",
    "            subj_masks=get_subjdata.subj_masks,\n",
    "        )\n",
    "    )\n",
    "    \n",
    "    get_fixed_effcts = workflow.add(\n",
    "        GetFixedEffcts(\n",
    "            subj_id=get_subjdata.subj_id, \n",
    "            subj_masks=get_subjdata.subj_masks,\n",
    "            contrasts=wf_firstlevel.first_level_contrast, \n",
    "            effect_size_path_dict_list=wf_firstlevel.first_level_effect_size_list, \n",
    "            effect_variance_path_dict_list=wf_firstlevel.first_level_effect_variance_list\n",
    "        )\n",
    "    )\n",
    "\n",
    "    # specify output\n",
    "    return (\n",
    "        wf_firstlevel.first_level_contrast,\n",
    "        get_fixed_effcts.fixed_fx_contrast_path_dict,\n",
    "        get_fixed_effcts.fixed_fx_variance_path_dict,\n",
    "        get_fixed_effcts.fixed_fx_ttest_path_dict,\n",
    "    )\n"
   ]
  },
  {
   "cell_type": "markdown",
   "id": "8cef3b93",
   "metadata": {},
   "source": [
    "## Second-Level GLM\n",
    "\n",
    "The second level GLM, as known as the group level, averages results across subjects, containing the following steps:\n",
    "- construct design matrix\n",
    "- fit the second-level GLM\n",
    "- statistical testing"
   ]
  },
  {
   "cell_type": "markdown",
   "id": "594069ce",
   "metadata": {},
   "source": [
    "### Get the second level design matrix\n",
    "\n",
    "This is a one-group design. So we need a design matrix for a one-sample test.\n",
    "\n",
    "The design matrix is a single column of ones, corresponding to the model intercept."
   ]
  },
  {
   "cell_type": "code",
   "execution_count": 12,
   "id": "39b10152",
   "metadata": {
    "execution": {
     "iopub.execute_input": "2025-02-13T23:47:14.860890Z",
     "iopub.status.busy": "2025-02-13T23:47:14.860595Z",
     "iopub.status.idle": "2025-02-13T23:47:14.864604Z",
     "shell.execute_reply": "2025-02-13T23:47:14.864207Z"
    }
   },
   "outputs": [],
   "source": [
    "@python.define(outputs={'design_matrix': ty.Any})\n",
    "def GetSecondLevelDm(n_subj: int):\n",
    "    t1 = datetime.datetime.now()\n",
    "    print(\"\\nGet secondlevel design matrix ...\\n\")\n",
    "    design_matrix = pd.DataFrame([1] * n_subj,columns=['intercept'])\n",
    "    return design_matrix"
   ]
  },
  {
   "cell_type": "markdown",
   "id": "38be698e",
   "metadata": {},
   "source": [
    "### Fit the second level GLM\n",
    "\n",
    "Here, we use the list of FirstLevel z-maps as the input for the SecondLevelModel."
   ]
  },
  {
   "cell_type": "code",
   "execution_count": 13,
   "id": "336cb11a",
   "metadata": {
    "execution": {
     "iopub.execute_input": "2025-02-13T23:47:14.866030Z",
     "iopub.status.busy": "2025-02-13T23:47:14.865878Z",
     "iopub.status.idle": "2025-02-13T23:47:14.871606Z",
     "shell.execute_reply": "2025-02-13T23:47:14.871229Z"
    }
   },
   "outputs": [],
   "source": [
    "@python.define(outputs={'secondlevel_mask': ty.Any, 'stat_maps_dict': dict})\n",
    "def SecondLevelEstimation(firstlevel_stats_list: list, design_matrix, firstlevel_contrast: list):   \n",
    "    print(\"\\nStart secondlevel estimation ...\\n\")\n",
    "    stat_maps_dict = dict.fromkeys(firstlevel_contrast[0][0].keys())\n",
    "    for index, (contrast_id, contrast_val) in enumerate(firstlevel_contrast[0][0].items()):\n",
    "        print(' Contrast % 2i out of %i: %s' % (\n",
    "            index + 1, len(firstlevel_contrast[0][0]), contrast_id))\n",
    "        second_level_input = [nib.load(stats_dict[contrast_id]) for stats_dict in firstlevel_stats_list]\n",
    "        second_level_model = SecondLevelModel()\n",
    "        second_level_model = second_level_model.fit(second_level_input, design_matrix=design_matrix)\n",
    "        secondlevel_mask = second_level_model.masker_.mask_img_\n",
    "    \n",
    "        stats = second_level_model.compute_contrast(output_type='all')\n",
    "        # write the resulting stat images to file\n",
    "        z_image_path = os.path.join(workflow_out_dir, 'secondlevel_contrast-%s_z_map.nii.gz' % contrast_id)\n",
    "        stat_maps_dict[contrast_id] = stats\n",
    "        stats['z_score'].to_filename(z_image_path)\n",
    "        plot_path = os.path.join(workflow_out_dir, 'secondlevel_unthresholded_contrast-%s_zmap.jpg' % contrast_id)\n",
    "        plot_glass_brain(stats['z_score'],\n",
    "                         colorbar=True,\n",
    "                         threshold=norm.isf(0.001),\n",
    "                         title='Unthresholded z map',\n",
    "                         output_file=plot_path)\n",
    "    return secondlevel_mask, stat_maps_dict"
   ]
  },
  {
   "cell_type": "markdown",
   "id": "c2c8e7d2",
   "metadata": {},
   "source": [
    "### Create the second level GLM workflow"
   ]
  },
  {
   "cell_type": "code",
   "execution_count": 14,
   "id": "4e72933d",
   "metadata": {
    "execution": {
     "iopub.execute_input": "2025-02-13T23:47:14.873015Z",
     "iopub.status.busy": "2025-02-13T23:47:14.872861Z",
     "iopub.status.idle": "2025-02-13T23:47:14.877734Z",
     "shell.execute_reply": "2025-02-13T23:47:14.877362Z"
    }
   },
   "outputs": [],
   "source": [
    "# initiate the first-level GLM workflow\n",
    "@workflow.define(\n",
    "    outputs=[\n",
    "        'second_level_designmatrix',\n",
    "        'second_level_mask',\n",
    "        'second_level_stats_map',\n",
    "    ]\n",
    ")\n",
    "def SecondLevelWorkflow(\n",
    "    n_subj,\n",
    "    firstlevel_stats_list, \n",
    "    firstlevel_contrast,\n",
    "    n_perm,\n",
    "):\n",
    "\n",
    "    # add task - get_secondlevel_dm\n",
    "    get_secondlevel_dm = workflow.add(GetSecondLevelDm(n_subj=n_subj))\n",
    "\n",
    "    # add task - secondlevel_estimation\n",
    "    secondlevel_estimation = workflow.add(\n",
    "        SecondLevelEstimation(\n",
    "            firstlevel_stats_list=firstlevel_stats_list,  \n",
    "            design_matrix=get_secondlevel_dm.design_matrix, \n",
    "            firstlevel_contrast=firstlevel_contrast\n",
    "        )\n",
    "    )\n",
    "\n",
    "    # specify output\n",
    "    return (\n",
    "        get_secondlevel_dm.design_matrix,\n",
    "        secondlevel_estimation.secondlevel_mask,\n",
    "        secondlevel_estimation.stat_maps_dict\n",
    "    )"
   ]
  },
  {
   "cell_type": "markdown",
   "id": "e3992216",
   "metadata": {},
   "source": [
    "## Statistical Testing\n",
    "\n",
    "In this section, we present different ways of doing statistical testing\n",
    "\n",
    "1. Cluster-thresholding without multiple comparison\n",
    "2. Multiple comparison using FDR\n",
    "3. Parametric testing\n",
    "4. NonParametric testing"
   ]
  },
  {
   "cell_type": "markdown",
   "id": "81eecd78",
   "metadata": {},
   "source": [
    "### Cluster-thresholding and Plot without multiple comparison\n",
    "\n",
    "Threshold the resulting map without multiple comparisons correction, abs(z) > 3.29 (equivalent to p < 0.001), cluster size > 10 voxels."
   ]
  },
  {
   "cell_type": "code",
   "execution_count": 15,
   "id": "b566f1d3",
   "metadata": {
    "execution": {
     "iopub.execute_input": "2025-02-13T23:47:14.879170Z",
     "iopub.status.busy": "2025-02-13T23:47:14.879017Z",
     "iopub.status.idle": "2025-02-13T23:47:14.884363Z",
     "shell.execute_reply": "2025-02-13T23:47:14.884001Z"
    }
   },
   "outputs": [],
   "source": [
    "@python.define(outputs={'thresholded_map_dict': dict, 'plot_contrast_dict': dict})\n",
    "def ClusterThresholding(stat_maps_dict: dict, threshold: float, cluster_threshold: int):\n",
    "    t1 = datetime.datetime.now()\n",
    "    print(\"\\nStart cluster thresholding ...\\n\")\n",
    "    thresholded_map_dict = dict.fromkeys(stat_maps_dict.keys())\n",
    "    plot_contrast_dict = dict.fromkeys(stat_maps_dict.keys())\n",
    "    for index, (stats_id, stats_val) in enumerate(stat_maps_dict.items()):\n",
    "        print('Contrast % 2i out of %i: %s' % (\n",
    "            index + 1, len(stat_maps_dict), stats_id))\n",
    "        thresholded_map = threshold_img(\n",
    "            img = stats_val['z_score'],\n",
    "            threshold=threshold,\n",
    "            cluster_threshold=cluster_threshold,\n",
    "            two_sided=True,\n",
    "        )\n",
    "        thresholded_map_path = os.path.join(workflow_out_dir, 'secondlevel_cluster_thresholded_contrast-%s_z_map.nii.gz' % stats_id)\n",
    "        thresholded_map_dict[stats_id] = thresholded_map_path\n",
    "        thresholded_map.to_filename(thresholded_map_path)\n",
    "        plot_path = os.path.join(workflow_out_dir, \n",
    "                                   'secondlevel_cluster_thresholded_contrast-%s_zmap.jpg' % stats_id)\n",
    "        plot_contrast_dict[stats_id] = plot_path\n",
    "        plot_stat_map(thresholded_map,\n",
    "                               title='Cluster Thresholded z map',\n",
    "                               output_file=plot_path)\n",
    "    print(\"\\nCluster thresholding is done\")\n",
    "    return thresholded_map_dict, plot_contrast_dict"
   ]
  },
  {
   "cell_type": "markdown",
   "id": "7c830b46",
   "metadata": {},
   "source": [
    "### Multiple comparison and Plot\n",
    "\n",
    "We have the following choices:\n",
    "- `fdr`: False Discovery Rate (FDR <.05) and no cluster-level threshold\n",
    "- `fpr`: False Positive Rate\n",
    "- `bonferroni`\n",
    "\n",
    "More details see [here](https://nilearn.github.io/stable/modules/generated/nilearn.glm.threshold_stats_img.html#nilearn.glm.threshold_stats_img)"
   ]
  },
  {
   "cell_type": "code",
   "execution_count": 16,
   "id": "ce280b52",
   "metadata": {
    "execution": {
     "iopub.execute_input": "2025-02-13T23:47:14.885825Z",
     "iopub.status.busy": "2025-02-13T23:47:14.885673Z",
     "iopub.status.idle": "2025-02-13T23:47:14.891372Z",
     "shell.execute_reply": "2025-02-13T23:47:14.890991Z"
    }
   },
   "outputs": [],
   "source": [
    "@python.define(outputs={'thresholded_map_dict': dict, 'plot_contrast_dict': dict})\n",
    "def MultipleComparison(stat_maps_dict: dict, alpha: float, height_control: str):\n",
    "    print(\"\\nStart multiple comparison ...\\n\")\n",
    "    from nilearn.glm import threshold_stats_img\n",
    "    from nilearn.plotting import plot_stat_map\n",
    "    thresholded_map_dict = dict.fromkeys(stat_maps_dict.keys())\n",
    "    plot_contrast_dict = dict.fromkeys(stat_maps_dict.keys())\n",
    "    for index, (stats_id, stats_val) in enumerate(stat_maps_dict.items()):\n",
    "        print('Contrast % 2i out of %i: %s' % (\n",
    "            index + 1, len(stat_maps_dict), stats_id))\n",
    "        thresholded_map, threshold = threshold_stats_img(\n",
    "            stat_img=stats_val['z_score'], \n",
    "            alpha=alpha, \n",
    "            height_control=height_control)\n",
    "        thresholded_map_path = os.path.join(workflow_out_dir, \n",
    "                                         'secondlevel_multiple_comp_corrected_contrast-%s_z_map.nii.gz' % stats_id)\n",
    "        thresholded_map_dict[stats_id] = thresholded_map_path\n",
    "        thresholded_map.to_filename(thresholded_map_path)\n",
    "        plot_path = os.path.join(workflow_out_dir, \n",
    "                                   'secondlevel_multiple_comp_corrected_contrast-%s_zmap.jpg' % stats_id)\n",
    "        plot_contrast_dict[stats_id] = plot_path\n",
    "        plot_stat_map(thresholded_map,\n",
    "                      title='Thresholded z map, expected fdr = .05',\n",
    "                      threshold=threshold, \n",
    "                      output_file=plot_path)\n",
    "    print(\"\\nMultiple comparison is done\")\n",
    "    return thresholded_map_dict, plot_contrast_dict"
   ]
  },
  {
   "cell_type": "markdown",
   "id": "f75d4d17",
   "metadata": {},
   "source": [
    "### Parametric test & Plot\n",
    "\n",
    "We threshold the second level contrast at uncorrected p < 0.001.\n",
    "\n",
    "A nilearn example see [here](https://nilearn.github.io/dev/auto_examples/05_glm_second_level/plot_second_level_one_sample_test.html)"
   ]
  },
  {
   "cell_type": "code",
   "execution_count": 17,
   "id": "6bd90cb2",
   "metadata": {
    "execution": {
     "iopub.execute_input": "2025-02-13T23:47:14.893010Z",
     "iopub.status.busy": "2025-02-13T23:47:14.892616Z",
     "iopub.status.idle": "2025-02-13T23:47:14.898258Z",
     "shell.execute_reply": "2025-02-13T23:47:14.897779Z"
    }
   },
   "outputs": [],
   "source": [
    "@python.define(outputs={'thresholded_map_dict': dict, 'plot_contrast_dict': dict})\n",
    "def ParametricTest(stat_maps_dict: dict, secondlevel_mask: ty.Any):\n",
    "    print(\"\\nStart parametric test ...\\n\")\n",
    "    thresholded_map_dict = dict.fromkeys(stat_maps_dict.keys())\n",
    "    plot_contrast_dict = dict.fromkeys(stat_maps_dict.keys())\n",
    "    for index, (stats_id, stats_val) in enumerate(stat_maps_dict.items()):\n",
    "        print('Contrast % 2i out of %i: %s' % (\n",
    "            index + 1, len(stat_maps_dict), stats_id))\n",
    "        p_val = stats_val['p_value']\n",
    "        n_voxels = np.sum(get_data(img=secondlevel_mask))\n",
    "        # Correcting the p-values for multiple testing and taking negative logarithm\n",
    "        neg_log_pval = math_img(\"-np.log10(np.minimum(1, img * {}))\"\n",
    "                                .format(str(n_voxels)),\n",
    "                                img=p_val)\n",
    "        \n",
    "        thresholded_map_path = os.path.join(workflow_out_dir, 'secondlevel_Parametric_thresholded_contrast-%s_z_map.nii.gz' % stats_id)\n",
    "        thresholded_map_dict[stats_id] = thresholded_map_path\n",
    "        neg_log_pval.to_filename(thresholded_map_path)\n",
    "    \n",
    "        # Since we are plotting negative log p-values and using a threshold equal to 1,\n",
    "        # it corresponds to corrected p-values lower than 10%, meaning that there is\n",
    "        # less than 10% probability to make a single false discovery (90% chance that\n",
    "        # we make no false discovery at all).  This threshold is much more conservative\n",
    "        # than the previous one.\n",
    "        title = ('parametric test (FWER < 10%)')\n",
    "        plot_path = os.path.join(workflow_out_dir, \n",
    "                                   'secondlevel_Parametric_thresholded_contrast-%s_zmap.jpg' % stats_id)\n",
    "        plot_contrast_dict[stats_id] = plot_path\n",
    "        plot_stat_map(\n",
    "            neg_log_pval, colorbar=True,\n",
    "            title=title, output_file=plot_path)\n",
    "    print(\"\\nParametric test is done\")\n",
    "    return thresholded_map_dict, plot_contrast_dict"
   ]
  },
  {
   "cell_type": "markdown",
   "id": "37358f38",
   "metadata": {},
   "source": [
    "### Non-Parametric test & Plot\n",
    "\n",
    "Here we compute the (corrected) negative log p-values with permutation test."
   ]
  },
  {
   "cell_type": "code",
   "execution_count": 18,
   "id": "5482dcd1",
   "metadata": {
    "execution": {
     "iopub.execute_input": "2025-02-13T23:47:14.899858Z",
     "iopub.status.busy": "2025-02-13T23:47:14.899624Z",
     "iopub.status.idle": "2025-02-13T23:47:14.906586Z",
     "shell.execute_reply": "2025-02-13T23:47:14.906099Z"
    }
   },
   "outputs": [],
   "source": [
    "@python.define(outputs={'thresholded_map_dict': dict, 'plot_contrast_dict': dict})\n",
    "def NonparametricTest(\n",
    "    firstlevel_stats_list: list,\n",
    "    smoothing_fwhm: float,\n",
    "    design_matrix: ty.Any,\n",
    "    firstlevel_contrast: list,\n",
    "    n_perm: int\n",
    "):\n",
    "    print(\"\\nStart nonparametric test ...\\n\")\n",
    "    thresholded_map_dict = dict.fromkeys(firstlevel_contrast[0][0].keys())\n",
    "    plot_contrast_dict = dict.fromkeys(firstlevel_contrast[0][0].keys())\n",
    "    for index, (contrast_id, contrast_val) in enumerate(firstlevel_contrast[0][0].items()):\n",
    "        print('  Contrast % 2i out of %i: %s' % (\n",
    "            index + 1, len(firstlevel_contrast[0][0]), contrast_id))\n",
    "        # here we set threshold as none to do voxel-level FWER-correction.\n",
    "        second_level_input = [nib.load(stats_dict[contrast_id]) for stats_dict in firstlevel_stats_list]\n",
    "        neg_log_pvals_permuted_ols_unmasked = \\\n",
    "            non_parametric_inference(second_level_input=second_level_input, design_matrix=design_matrix,\n",
    "                                     model_intercept=True, n_perm=n_perm,\n",
    "                                     two_sided_test=False, smoothing_fwhm=smoothing_fwhm, n_jobs=1)\n",
    "        thresholded_map_path = os.path.join(workflow_out_dir, 'secondlevel_permutation_contrast-%s_z_map.nii.gz' % contrast_id)\n",
    "        thresholded_map_dict[contrast_id] = thresholded_map_path\n",
    "        neg_log_pvals_permuted_ols_unmasked.to_filename(thresholded_map_path)\n",
    "        # here I actually have more than one contrast\n",
    "        title = ('permutation test (FWER < 10%)')\n",
    "        plot_path = os.path.join(workflow_out_dir, 'secondlevel_permutation_contrast-%s_zmap.jpg' % contrast_id)\n",
    "        plot_contrast_dict[contrast_id] = plot_path\n",
    "        plot_stat_map(\n",
    "            neg_log_pvals_permuted_ols_unmasked, colorbar=True, \n",
    "            title=title, output_file=plot_path)\n",
    "    print(\"\\nPermutation is done\")\n",
    "    return thresholded_map_dict, plot_contrast_dict"
   ]
  },
  {
   "cell_type": "markdown",
   "id": "54c2201a",
   "metadata": {},
   "source": [
    "## The Ultimate Workflow\n",
    "\n",
    "Now, let's connect all tasks and workflows together.\n",
    "\n",
    "Here we randomly choose **5** subjects to perform the analysis. \n",
    "\n",
    "For computational time, we set `n_perm=100`."
   ]
  },
  {
   "cell_type": "code",
   "execution_count": 19,
   "id": "e40304a3",
   "metadata": {
    "execution": {
     "iopub.execute_input": "2025-02-13T23:47:14.908231Z",
     "iopub.status.busy": "2025-02-13T23:47:14.907829Z",
     "iopub.status.idle": "2025-02-13T23:47:14.941626Z",
     "shell.execute_reply": "2025-02-13T23:47:14.941212Z"
    }
   },
   "outputs": [],
   "source": [
    "@workflow.define(\n",
    "    outputs={\n",
    "        'cluster_thresholded_map_dict': dict,\n",
    "        'cluster_plot_contrast_dict': dict,\n",
    "        'mult_comp_thresholded_map_dict': dict,\n",
    "        'mult_comp_plot_contrast_dict': dict,\n",
    "        'parametric_thresholded_map_dict': dict,\n",
    "        'parametric_plot_contrast_dict': dict,\n",
    "        'nonparametric_thresholded_map_dict': dict,\n",
    "        'nonparametric_plot_contrast_dict': dict,\n",
    "    }\n",
    ")\n",
    "def TwoLevelGLM(\n",
    "    n_subj: int,\n",
    "    run_id: list[int] = [1,2],\n",
    "    tr: float = 2.3,\n",
    "    n_scans: int = 300,\n",
    "    hrf_model: str = 'glover',\n",
    "    smoothing_fwhm: float = 5.0,\n",
    "):\n",
    "\n",
    "    # randomly choose subjects\n",
    "    fixed_effect = workflow.add(\n",
    "        FixedEffectWorkflow(\n",
    "            run_id=run_id,\n",
    "            tr=tr,\n",
    "            n_scans=n_scans,\n",
    "            hrf_model=hrf_model,\n",
    "            smoothing_fwhm=smoothing_fwhm,\n",
    "        )\n",
    "        .split(subj_id=random.sample(range(1,17), n_subj))\n",
    "        .combine('subj_id')\n",
    "    )\n",
    "\n",
    "    secondlevel = workflow.add(\n",
    "        SecondLevelWorkflow(\n",
    "            n_subj = n_subj,\n",
    "            firstlevel_stats_list=fixed_effect.fx_t_test_list,\n",
    "            firstlevel_contrast=fixed_effect.first_level_contrast,\n",
    "        )\n",
    "    )\n",
    "            \n",
    "    \n",
    "    # add task - cluster_thresholding\n",
    "    cluster_thresholding = workflow.add(\n",
    "        ClusterThresholding(\n",
    "            stat_maps_dict=secondlevel.second_level_stats_map, \n",
    "            threshold=3.29, \n",
    "            cluster_threshold=10\n",
    "        )\n",
    "    )\n",
    "\n",
    "\n",
    "    # add task - multiple_comparison\n",
    "    multiple_comparison = workflow.add(\n",
    "        MultipleComparison(\n",
    "            stat_maps_dict=secondlevel.second_level_stats_map, \n",
    "            alpha=0.05,\n",
    "            height_control='fdr'\n",
    "        )\n",
    "    )\n",
    "\n",
    "    # add task - parametric_test\n",
    "    parametric_test = workflow.add(\n",
    "        ParametricTest(\n",
    "            stat_maps_dict=secondlevel.second_level_stats_map, \n",
    "            secondlevel_mask=secondlevel.second_level_mask\n",
    "        )\n",
    "        \n",
    "    )\n",
    "\n",
    "    # add task - nonparametric_test\n",
    "    nonparametric_test = workflow.add(\n",
    "        NonparametricTest(\n",
    "            firstlevel_stats_list=fixed_effect.fx_t_test_list,\n",
    "            smoothing_fwhm=5.0,\n",
    "            design_matrix=secondlevel.second_level_designmatrix,\n",
    "            firstlevel_contrast=fixed_effect.first_level_contrast,\n",
    "            n_perm=100,\n",
    "        )\n",
    "    )\n",
    "\n",
    "    return (\n",
    "        secondlevel.second_level_stats_map,\n",
    "        cluster_thresholding.thresholded_map_dict,\n",
    "        cluster_thresholding.plot_contrast_dict,\n",
    "        multiple_comparison.thresholded_map_dict,\n",
    "        multiple_comparison.plot_contrast_dict,\n",
    "        parametric_test.thresholded_map_dict,\n",
    "        parametric_test.plot_contrast_dict,\n",
    "        nonparametric_test.thresholded_map_dict,\n",
    "        nonparametric_test.plot_contrast_dict\n",
    "    )\n"
   ]
  },
  {
   "cell_type": "markdown",
   "id": "27ce8b99",
   "metadata": {},
   "source": [
    "### Run Workflow Run"
   ]
  },
  {
   "cell_type": "code",
   "execution_count": 20,
   "id": "487fc005",
   "metadata": {
    "execution": {
     "iopub.execute_input": "2025-02-13T23:47:14.943119Z",
     "iopub.status.busy": "2025-02-13T23:47:14.942975Z",
     "iopub.status.idle": "2025-02-13T23:47:14.953630Z",
     "shell.execute_reply": "2025-02-13T23:47:14.953223Z"
    },
    "tags": [
     "hide-output"
    ]
   },
   "outputs": [
    {
     "ename": "ImportError",
     "evalue": "cannot import name 'Submitter' from 'pydra' (unknown location)",
     "output_type": "error",
     "traceback": [
      "\u001b[0;31m---------------------------------------------------------------------------\u001b[0m",
      "\u001b[0;31mImportError\u001b[0m                               Traceback (most recent call last)",
      "Cell \u001b[0;32mIn[20], line 1\u001b[0m\n\u001b[0;32m----> 1\u001b[0m \u001b[38;5;28;01mfrom\u001b[39;00m \u001b[38;5;21;01mpydra\u001b[39;00m \u001b[38;5;28;01mimport\u001b[39;00m Submitter\n\u001b[1;32m      3\u001b[0m wf \u001b[38;5;241m=\u001b[39m TwoLevelGLM(n_subj\u001b[38;5;241m=\u001b[39m\u001b[38;5;241m2\u001b[39m)\n\u001b[1;32m      5\u001b[0m \u001b[38;5;28;01mwith\u001b[39;00m Submitter(plugin\u001b[38;5;241m=\u001b[39m\u001b[38;5;124m'\u001b[39m\u001b[38;5;124mcf\u001b[39m\u001b[38;5;124m'\u001b[39m, n_procs\u001b[38;5;241m=\u001b[39m\u001b[38;5;241m1\u001b[39m) \u001b[38;5;28;01mas\u001b[39;00m submitter:\n",
      "\u001b[0;31mImportError\u001b[0m: cannot import name 'Submitter' from 'pydra' (unknown location)"
     ]
    }
   ],
   "source": [
    "from pydra import Submitter\n",
    "\n",
    "wf = TwoLevelGLM(n_subj=2)\n",
    "\n",
    "with Submitter(plugin='cf', n_procs=1) as submitter:\n",
    "    submitter(wf)\n",
    "\n",
    "results = wf.result()\n",
    "\n",
    "print(results)"
   ]
  },
  {
   "cell_type": "markdown",
   "id": "57e9a1a1",
   "metadata": {},
   "source": [
    "## Let's Plot!\n",
    "\n",
    "We only use 5 subjects, so it's reasonable the following plots have nothing survived from testing."
   ]
  },
  {
   "cell_type": "markdown",
   "id": "a9a671d3",
   "metadata": {},
   "source": [
    "### Unthresholded\n",
    "\n",
    "Let's plot the unthresholded image first."
   ]
  },
  {
   "cell_type": "code",
   "execution_count": 21,
   "id": "01f314c3",
   "metadata": {
    "execution": {
     "iopub.execute_input": "2025-02-13T23:47:14.955041Z",
     "iopub.status.busy": "2025-02-13T23:47:14.954897Z",
     "iopub.status.idle": "2025-02-13T23:47:14.964491Z",
     "shell.execute_reply": "2025-02-13T23:47:14.964114Z"
    },
    "tags": [
     "hide-input"
    ]
   },
   "outputs": [
    {
     "ename": "IndexError",
     "evalue": "list index out of range",
     "output_type": "error",
     "traceback": [
      "\u001b[0;31m---------------------------------------------------------------------------\u001b[0m",
      "\u001b[0;31mIndexError\u001b[0m                                Traceback (most recent call last)",
      "Cell \u001b[0;32mIn[21], line 3\u001b[0m\n\u001b[1;32m      1\u001b[0m \u001b[38;5;28;01mfrom\u001b[39;00m \u001b[38;5;21;01mIPython\u001b[39;00m\u001b[38;5;21;01m.\u001b[39;00m\u001b[38;5;21;01mdisplay\u001b[39;00m \u001b[38;5;28;01mimport\u001b[39;00m Image\n\u001b[1;32m      2\u001b[0m ut_list \u001b[38;5;241m=\u001b[39m glob\u001b[38;5;241m.\u001b[39mglob(os\u001b[38;5;241m.\u001b[39mpath\u001b[38;5;241m.\u001b[39mjoin(workflow_out_dir, \u001b[38;5;124m\"\u001b[39m\u001b[38;5;124msecondlevel_unthresholded*.jpg\u001b[39m\u001b[38;5;124m\"\u001b[39m))\n\u001b[0;32m----> 3\u001b[0m Image(filename\u001b[38;5;241m=\u001b[39m\u001b[43mut_list\u001b[49m\u001b[43m[\u001b[49m\u001b[38;5;241;43m0\u001b[39;49m\u001b[43m]\u001b[49m)\n",
      "\u001b[0;31mIndexError\u001b[0m: list index out of range"
     ]
    }
   ],
   "source": [
    "from IPython.display import Image\n",
    "ut_list = glob.glob(os.path.join(workflow_out_dir, \"secondlevel_unthresholded*.jpg\"))\n",
    "Image(filename=ut_list[0])"
   ]
  },
  {
   "cell_type": "markdown",
   "id": "e87582eb",
   "metadata": {},
   "source": [
    "### Cluster Thresholding"
   ]
  },
  {
   "cell_type": "code",
   "execution_count": 22,
   "id": "92797899",
   "metadata": {
    "execution": {
     "iopub.execute_input": "2025-02-13T23:47:14.966069Z",
     "iopub.status.busy": "2025-02-13T23:47:14.965697Z",
     "iopub.status.idle": "2025-02-13T23:47:14.975066Z",
     "shell.execute_reply": "2025-02-13T23:47:14.974705Z"
    },
    "tags": [
     "hide-input"
    ]
   },
   "outputs": [
    {
     "ename": "IndexError",
     "evalue": "list index out of range",
     "output_type": "error",
     "traceback": [
      "\u001b[0;31m---------------------------------------------------------------------------\u001b[0m",
      "\u001b[0;31mIndexError\u001b[0m                                Traceback (most recent call last)",
      "Cell \u001b[0;32mIn[22], line 3\u001b[0m\n\u001b[1;32m      1\u001b[0m \u001b[38;5;28;01mfrom\u001b[39;00m \u001b[38;5;21;01mIPython\u001b[39;00m\u001b[38;5;21;01m.\u001b[39;00m\u001b[38;5;21;01mdisplay\u001b[39;00m \u001b[38;5;28;01mimport\u001b[39;00m Image\n\u001b[1;32m      2\u001b[0m ct_list \u001b[38;5;241m=\u001b[39m glob\u001b[38;5;241m.\u001b[39mglob(os\u001b[38;5;241m.\u001b[39mpath\u001b[38;5;241m.\u001b[39mjoin(workflow_out_dir, \u001b[38;5;124m\"\u001b[39m\u001b[38;5;124msecondlevel_cluster_thresholded*.jpg\u001b[39m\u001b[38;5;124m\"\u001b[39m))\n\u001b[0;32m----> 3\u001b[0m Image(filename\u001b[38;5;241m=\u001b[39m\u001b[43mct_list\u001b[49m\u001b[43m[\u001b[49m\u001b[38;5;241;43m0\u001b[39;49m\u001b[43m]\u001b[49m)\n",
      "\u001b[0;31mIndexError\u001b[0m: list index out of range"
     ]
    }
   ],
   "source": [
    "from IPython.display import Image\n",
    "ct_list = glob.glob(os.path.join(workflow_out_dir, \"secondlevel_cluster_thresholded*.jpg\"))\n",
    "Image(filename=ct_list[0])"
   ]
  },
  {
   "cell_type": "markdown",
   "id": "a6b6f0ac",
   "metadata": {},
   "source": [
    "### Multiple Comparison"
   ]
  },
  {
   "cell_type": "code",
   "execution_count": 23,
   "id": "270bf2b9",
   "metadata": {
    "execution": {
     "iopub.execute_input": "2025-02-13T23:47:14.976583Z",
     "iopub.status.busy": "2025-02-13T23:47:14.976256Z",
     "iopub.status.idle": "2025-02-13T23:47:14.985580Z",
     "shell.execute_reply": "2025-02-13T23:47:14.985099Z"
    },
    "tags": [
     "hide-input"
    ]
   },
   "outputs": [
    {
     "ename": "IndexError",
     "evalue": "list index out of range",
     "output_type": "error",
     "traceback": [
      "\u001b[0;31m---------------------------------------------------------------------------\u001b[0m",
      "\u001b[0;31mIndexError\u001b[0m                                Traceback (most recent call last)",
      "Cell \u001b[0;32mIn[23], line 2\u001b[0m\n\u001b[1;32m      1\u001b[0m mc_list \u001b[38;5;241m=\u001b[39m glob\u001b[38;5;241m.\u001b[39mglob(os\u001b[38;5;241m.\u001b[39mpath\u001b[38;5;241m.\u001b[39mjoin(workflow_out_dir, \u001b[38;5;124m\"\u001b[39m\u001b[38;5;124msecondlevel_multiple_comp*.jpg\u001b[39m\u001b[38;5;124m\"\u001b[39m))\n\u001b[0;32m----> 2\u001b[0m Image(filename\u001b[38;5;241m=\u001b[39m\u001b[43mmc_list\u001b[49m\u001b[43m[\u001b[49m\u001b[38;5;241;43m0\u001b[39;49m\u001b[43m]\u001b[49m)\n",
      "\u001b[0;31mIndexError\u001b[0m: list index out of range"
     ]
    }
   ],
   "source": [
    "mc_list = glob.glob(os.path.join(workflow_out_dir, \"secondlevel_multiple_comp*.jpg\"))\n",
    "Image(filename=mc_list[0])"
   ]
  },
  {
   "cell_type": "markdown",
   "id": "1a106690",
   "metadata": {},
   "source": [
    "### Parametric Test"
   ]
  },
  {
   "cell_type": "code",
   "execution_count": 24,
   "id": "34d1d04f",
   "metadata": {
    "execution": {
     "iopub.execute_input": "2025-02-13T23:47:14.987205Z",
     "iopub.status.busy": "2025-02-13T23:47:14.986793Z",
     "iopub.status.idle": "2025-02-13T23:47:14.996131Z",
     "shell.execute_reply": "2025-02-13T23:47:14.995686Z"
    },
    "tags": [
     "hide-input"
    ]
   },
   "outputs": [
    {
     "ename": "IndexError",
     "evalue": "list index out of range",
     "output_type": "error",
     "traceback": [
      "\u001b[0;31m---------------------------------------------------------------------------\u001b[0m",
      "\u001b[0;31mIndexError\u001b[0m                                Traceback (most recent call last)",
      "Cell \u001b[0;32mIn[24], line 2\u001b[0m\n\u001b[1;32m      1\u001b[0m pt_list \u001b[38;5;241m=\u001b[39m glob\u001b[38;5;241m.\u001b[39mglob(os\u001b[38;5;241m.\u001b[39mpath\u001b[38;5;241m.\u001b[39mjoin(workflow_out_dir, \u001b[38;5;124m\"\u001b[39m\u001b[38;5;124msecondlevel_Parametric*.jpg\u001b[39m\u001b[38;5;124m\"\u001b[39m))\n\u001b[0;32m----> 2\u001b[0m Image(filename\u001b[38;5;241m=\u001b[39m\u001b[43mpt_list\u001b[49m\u001b[43m[\u001b[49m\u001b[38;5;241;43m0\u001b[39;49m\u001b[43m]\u001b[49m)\n",
      "\u001b[0;31mIndexError\u001b[0m: list index out of range"
     ]
    }
   ],
   "source": [
    "pt_list = glob.glob(os.path.join(workflow_out_dir, \"secondlevel_Parametric*.jpg\"))\n",
    "Image(filename=pt_list[0])"
   ]
  },
  {
   "cell_type": "markdown",
   "id": "b4710f5d",
   "metadata": {},
   "source": [
    "### NonParametric Test"
   ]
  },
  {
   "cell_type": "code",
   "execution_count": 25,
   "id": "b1f354cc",
   "metadata": {
    "execution": {
     "iopub.execute_input": "2025-02-13T23:47:14.997636Z",
     "iopub.status.busy": "2025-02-13T23:47:14.997337Z",
     "iopub.status.idle": "2025-02-13T23:47:15.007217Z",
     "shell.execute_reply": "2025-02-13T23:47:15.006764Z"
    },
    "tags": [
     "hide-input"
    ]
   },
   "outputs": [
    {
     "ename": "IndexError",
     "evalue": "list index out of range",
     "output_type": "error",
     "traceback": [
      "\u001b[0;31m---------------------------------------------------------------------------\u001b[0m",
      "\u001b[0;31mIndexError\u001b[0m                                Traceback (most recent call last)",
      "Cell \u001b[0;32mIn[25], line 2\u001b[0m\n\u001b[1;32m      1\u001b[0m npt_list \u001b[38;5;241m=\u001b[39m glob\u001b[38;5;241m.\u001b[39mglob(os\u001b[38;5;241m.\u001b[39mpath\u001b[38;5;241m.\u001b[39mjoin(workflow_out_dir, \u001b[38;5;124m\"\u001b[39m\u001b[38;5;124msecondlevel_permutation*.jpg\u001b[39m\u001b[38;5;124m\"\u001b[39m))\n\u001b[0;32m----> 2\u001b[0m Image(filename\u001b[38;5;241m=\u001b[39m\u001b[43mnpt_list\u001b[49m\u001b[43m[\u001b[49m\u001b[38;5;241;43m0\u001b[39;49m\u001b[43m]\u001b[49m)\n",
      "\u001b[0;31mIndexError\u001b[0m: list index out of range"
     ]
    }
   ],
   "source": [
    "npt_list = glob.glob(os.path.join(workflow_out_dir, \"secondlevel_permutation*.jpg\"))\n",
    "Image(filename=npt_list[0])"
   ]
  },
  {
   "cell_type": "markdown",
   "id": "47100abc",
   "metadata": {},
   "source": [
    "## Exercise #1"
   ]
  },
  {
   "cell_type": "markdown",
   "id": "900179cf",
   "metadata": {},
   "source": [
    "In this example, we conducted GLM on each run per subject separately and then used a fixed-effect model to average across runs. \n",
    "\n",
    "Where did we put `.splitter` and `.combiner`. Why did we put it there?"
   ]
  },
  {
   "cell_type": "markdown",
   "id": "20c26eac",
   "metadata": {},
   "source": [
    "## Exercise #2"
   ]
  },
  {
   "cell_type": "markdown",
   "id": "a3193098",
   "metadata": {},
   "source": [
    "Moreover, We choose this approach due to limited memory on GitHub. [FirstLevelModel](https://nilearn.github.io/stable/modules/generated/nilearn.glm.first_level.FirstLevelModel.html) in Nilearn also allows to compute multiple runs with a fixed-effect model simultaneously. Here is an [example](https://nilearn.github.io/stable/auto_examples/04_glm_first_level/plot_fiac_analysis.html#sphx-glr-auto-examples-04-glm-first-level-plot-fiac-analysis-py). \n",
    "\n",
    "Would you like to give it a try on your own?"
   ]
  }
 ],
 "metadata": {
  "jupytext": {
   "formats": "ipynb,md:myst"
  },
  "kernelspec": {
   "display_name": "Python 3 (ipykernel)",
   "language": "python",
   "name": "python3"
  },
  "language_info": {
   "codemirror_mode": {
    "name": "ipython",
    "version": 3
   },
   "file_extension": ".py",
   "mimetype": "text/x-python",
   "name": "python",
   "nbconvert_exporter": "python",
   "pygments_lexer": "ipython3",
   "version": "3.12.8"
  }
 },
 "nbformat": 4,
 "nbformat_minor": 5
}
