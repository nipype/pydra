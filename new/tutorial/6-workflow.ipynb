{
 "cells": [
  {
   "cell_type": "markdown",
   "metadata": {},
   "source": [
    "# Workflows\n",
    "\n",
    "In Pydra, workflows are DAG of component tasks to be executed on specified inputs.\n",
    "Workflow definitions are dataclasses, which interchangeable with Python and shell tasks\n",
    "definitions and executed in the same way."
   ]
  },
  {
   "cell_type": "markdown",
   "metadata": {},
   "source": [
    "## Constructor functions\n",
    "\n",
    "Workflows are typically defined using the `pydra.design.workflow.define` decorator on \n",
    "a \"constructor\" function that generates the workflow. For example, given two task\n",
    "definitions, `Add` and `Mul`."
   ]
  },
  {
   "cell_type": "code",
   "execution_count": 1,
   "metadata": {
    "execution": {
     "iopub.execute_input": "2025-02-12T09:14:30.046745Z",
     "iopub.status.busy": "2025-02-12T09:14:30.046565Z",
     "iopub.status.idle": "2025-02-12T09:14:30.243065Z",
     "shell.execute_reply": "2025-02-12T09:14:30.242594Z"
    }
   },
   "outputs": [],
   "source": [
    "from pydra.design import workflow, python\n",
    "\n",
    "# Example python task definitions\n",
    "@python.define\n",
    "def Add(a, b):\n",
    "    return a + b\n",
    "\n",
    "\n",
    "@python.define\n",
    "def Mul(a, b):\n",
    "    return a * b"
   ]
  },
  {
   "cell_type": "markdown",
   "metadata": {},
   "source": [
    " we can create a simple workflow definition using `workflow.define` to decorate a function that constructs the workflow. Nodes are added to the workflow being constructed by calling `workflow.add` function."
   ]
  },
  {
   "cell_type": "code",
   "execution_count": 2,
   "metadata": {
    "execution": {
     "iopub.execute_input": "2025-02-12T09:14:30.244921Z",
     "iopub.status.busy": "2025-02-12T09:14:30.244699Z",
     "iopub.status.idle": "2025-02-12T09:14:30.249596Z",
     "shell.execute_reply": "2025-02-12T09:14:30.249152Z"
    }
   },
   "outputs": [],
   "source": [
    "@workflow.define\n",
    "def BasicWorkflow(a, b):\n",
    "    add = workflow.add(Add(a=a, b=b))\n",
    "    mul = workflow.add(Mul(a=add.out, b=b))\n",
    "    return mul.out"
   ]
  },
  {
   "cell_type": "markdown",
   "metadata": {},
   "source": [
    "`workflow.add` returns an \"outputs\" object corresponding to the definition added to the\n",
    "workflow. The fields of the outptus object can be referenced as inputs to downstream\n",
    "workflow nodes. Note that these output fields are just placeholders for the values that will\n",
    "be returned and can't be used in conditional statements during workflow construction\n",
    "(see [Dynamic construction](../explanation/conditional-lazy.html) on how to work around this\n",
    "limitation). The fields of the outputs to be returned by the workflow should be returned\n",
    "in a tuple."
   ]
  },
  {
   "cell_type": "code",
   "execution_count": 3,
   "metadata": {
    "execution": {
     "iopub.execute_input": "2025-02-12T09:14:30.251139Z",
     "iopub.status.busy": "2025-02-12T09:14:30.250960Z",
     "iopub.status.idle": "2025-02-12T09:14:30.257110Z",
     "shell.execute_reply": "2025-02-12T09:14:30.256667Z"
    }
   },
   "outputs": [],
   "source": [
    "from pydra.design import shell\n",
    "from fileformats import image, video\n",
    "\n",
    "@workflow.define\n",
    "def ShellWorkflow(\n",
    "    input_video: video.Mp4,\n",
    "    watermark: image.Png,\n",
    "    watermark_dims: tuple[int, int] = (10, 10),\n",
    ") -> video.Mp4:\n",
    "\n",
    "    add_watermark = workflow.add(\n",
    "        shell.define(\n",
    "            \"ffmpeg -i <in_video> -i <watermark:image/png> \"\n",
    "            \"-filter_complex <filter> <out|out_video>\"\n",
    "        )(\n",
    "            in_video=input_video,\n",
    "            watermark=watermark,\n",
    "            filter=\"overlay={}:{}\".format(*watermark_dims),\n",
    "        )\n",
    "    )\n",
    "    output_video = workflow.add(\n",
    "        shell.define(\n",
    "            \"HandBrakeCLI -i <in_video:video/mp4> -o <out|out_video:video/mp4> \"\n",
    "            \"--width <width:int> --height <height:int>\",\n",
    "        )(in_video=add_watermark.out_video, width=1280, height=720)\n",
    "    ).out_video\n",
    "\n",
    "    return output_video  # test implicit detection of output name"
   ]
  },
  {
   "cell_type": "markdown",
   "metadata": {},
   "source": [
    "## Splitting/combining task inputs\n",
    "\n",
    "Sometimes, you might want to perform the same task over a set of input values/files, and then collect the results into a list to perform further processing. This can be achieved by using the `split` and `combine` methods"
   ]
  },
  {
   "cell_type": "code",
   "execution_count": 4,
   "metadata": {
    "execution": {
     "iopub.execute_input": "2025-02-12T09:14:30.258647Z",
     "iopub.status.busy": "2025-02-12T09:14:30.258471Z",
     "iopub.status.idle": "2025-02-12T09:14:30.266044Z",
     "shell.execute_reply": "2025-02-12T09:14:30.265581Z"
    }
   },
   "outputs": [],
   "source": [
    "@python.define\n",
    "def Sum(x: list[float]) -> float:\n",
    "    return sum(x)\n",
    "\n",
    "@workflow.define\n",
    "def SplitWorkflow(a: list[int], b: list[float]) -> list[float]:\n",
    "    # Multiply over all combinations of the elements of a and b, then combine the results\n",
    "    # for each a element into a list over each b element\n",
    "    mul = workflow.add(Mul().split(x=a, y=b).combine(\"x\"))\n",
    "    # Sume the multiplications across all all b elements for each a element\n",
    "    sum = workflow.add(Sum(x=mul.out))\n",
    "    return sum.out"
   ]
  },
  {
   "cell_type": "markdown",
   "metadata": {},
   "source": [
    "The combination step doesn't have to be done on the same step as the split, in which case the splits propagate to downstream nodes"
   ]
  },
  {
   "cell_type": "code",
   "execution_count": 5,
   "metadata": {
    "execution": {
     "iopub.execute_input": "2025-02-12T09:14:30.267756Z",
     "iopub.status.busy": "2025-02-12T09:14:30.267480Z",
     "iopub.status.idle": "2025-02-12T09:14:30.272870Z",
     "shell.execute_reply": "2025-02-12T09:14:30.272334Z"
    }
   },
   "outputs": [],
   "source": [
    "@workflow.define\n",
    "def SplitThenCombineWorkflow(a: list[int], b: list[float], c: float) -> list[float]:\n",
    "    mul = workflow.add(Mul().split(x=a, y=b))\n",
    "    add = workflow.add(Add(x=mul.out, y=c).combine(\"Mul.x\"))\n",
    "    sum = workflow.add(Sum(x=add.out))\n",
    "    return sum.out"
   ]
  },
  {
   "cell_type": "markdown",
   "metadata": {},
   "source": [
    "For more advanced discussion on the intricacies of splitting and combining see [Splitting and combining](../explanation/splitting-combining.html)"
   ]
  },
  {
   "cell_type": "markdown",
   "metadata": {},
   "source": [
    "## Nested and conditional workflows\n",
    "\n",
    "One of the most powerful features of Pydra is the ability to use inline Python code to conditionally add/omit nodes to workflow, and alter the parameterisation of the nodes, depending on inputs to the workflow "
   ]
  },
  {
   "cell_type": "code",
   "execution_count": 6,
   "metadata": {
    "execution": {
     "iopub.execute_input": "2025-02-12T09:14:30.274620Z",
     "iopub.status.busy": "2025-02-12T09:14:30.274288Z",
     "iopub.status.idle": "2025-02-12T09:14:30.281651Z",
     "shell.execute_reply": "2025-02-12T09:14:30.281185Z"
    }
   },
   "outputs": [],
   "source": [
    "@workflow.define\n",
    "def ConditionalWorkflow(\n",
    "    input_video: video.Mp4,\n",
    "    watermark: image.Png,\n",
    "    watermark_dims: tuple[int, int] | None = None,\n",
    ") -> video.Mp4:\n",
    "\n",
    "    if watermark_dims is not None:\n",
    "        add_watermark = workflow.add(\n",
    "            shell.define(\n",
    "                \"ffmpeg -i <in_video> -i <watermark:image/png> \"\n",
    "                \"-filter_complex <filter> <out|out_video>\"\n",
    "            )(\n",
    "                in_video=input_video,\n",
    "                watermark=watermark,\n",
    "                filter=\"overlay={}:{}\".format(*watermark_dims),\n",
    "            )\n",
    "        )\n",
    "        handbrake_input = add_watermark.out_video\n",
    "    else:\n",
    "        handbrake_input = input_video\n",
    "\n",
    "    output_video = workflow.add(\n",
    "        shell.define(\n",
    "            \"HandBrakeCLI -i <in_video:video/mp4> -o <out|out_video:video/mp4> \"\n",
    "            \"--width <width:int> --height <height:int>\",\n",
    "        )(in_video=handbrake_input, width=1280, height=720)\n",
    "    ).out_video\n",
    "\n",
    "    return output_video  # test implicit detection of output name"
   ]
  },
  {
   "cell_type": "markdown",
   "metadata": {},
   "source": [
    "Note that outputs of upstream nodes cannot be used in conditional statements, since these are just placeholders at the time the workflow is being constructed. However, you can get around\n",
    "this limitation by placing the conditional logic within a nested workflow"
   ]
  },
  {
   "cell_type": "code",
   "execution_count": 7,
   "metadata": {
    "execution": {
     "iopub.execute_input": "2025-02-12T09:14:30.283519Z",
     "iopub.status.busy": "2025-02-12T09:14:30.283107Z",
     "iopub.status.idle": "2025-02-12T09:14:30.290557Z",
     "shell.execute_reply": "2025-02-12T09:14:30.290122Z"
    }
   },
   "outputs": [],
   "source": [
    "@python.define\n",
    "def Subtract(x: float, y: float) -> float:\n",
    "    return x - y\n",
    "\n",
    "@workflow.define\n",
    "def RecursiveNestedWorkflow(a: float, depth: int) -> float:\n",
    "    add = workflow.add(Add(x=a, y=1))\n",
    "    decrement_depth = workflow.add(Subtract(x=depth, y=1))\n",
    "    if depth > 0:\n",
    "        out_node = workflow.add(\n",
    "            RecursiveNestedWorkflow(a=add.out, depth=decrement_depth.out)\n",
    "        )\n",
    "    else:\n",
    "        out_node = add\n",
    "    return out_node.out"
   ]
  },
  {
   "cell_type": "markdown",
   "metadata": {},
   "source": [
    "For more detailed discussion of the construction of conditional workflows and \"lazy field\"\n",
    "placeholders see [Conditionals and lazy fields](../explanation/conditional-lazy.html)"
   ]
  },
  {
   "cell_type": "markdown",
   "metadata": {},
   "source": [
    "## Type-checking between nodes\n",
    "\n",
    "Pydra utilizes Python type annotations to implement strong type-checking, which is performed\n",
    "when values or upstream outputs are assigned to task definition inputs.\n",
    "\n",
    "Task input and output fields do not need to be assigned types, since they will default to `typing.Any`.\n",
    "However, if they are assigned a type and a value or output from an upstream node conflicts\n",
    "with the type, a `TypeError` will be raised at construction time.\n",
    "\n",
    "Note that the type-checking \"assumes the best\", and will pass if the upstream field is typed\n",
    "by `Any` or a super-class of the field being assigned to. For example, an input of\n",
    "`fileformats.generic.File` passed to a field expecting a `fileformats.image.Png` file type,\n",
    "because `Png` is a subtype of `File`, where as `fileformats.image.Jpeg` input would fail\n",
    "since it is clearly not the intended type.\n"
   ]
  },
  {
   "cell_type": "code",
   "execution_count": 8,
   "metadata": {
    "execution": {
     "iopub.execute_input": "2025-02-12T09:14:30.292200Z",
     "iopub.status.busy": "2025-02-12T09:14:30.292027Z",
     "iopub.status.idle": "2025-02-12T09:14:30.388984Z",
     "shell.execute_reply": "2025-02-12T09:14:30.388498Z"
    }
   },
   "outputs": [],
   "source": [
    "from fileformats import generic\n",
    "\n",
    "Mp4Handbrake = shell.define(\n",
    "    \"HandBrakeCLI -i <in_video:video/mp4> -o <out|out_video:video/mp4> \"\n",
    "    \"--width <width:int> --height <height:int>\",\n",
    ")\n",
    "\n",
    "\n",
    "QuicktimeHandbrake = shell.define(\n",
    "    \"HandBrakeCLI -i <in_video:video/quicktime> -o <out|out_video:video/quicktime> \"\n",
    "    \"--width <width:int> --height <height:int>\",\n",
    ")\n",
    "\n",
    "@workflow.define\n",
    "def TypeErrorWorkflow(\n",
    "    input_video: video.Mp4,\n",
    "    watermark: generic.File,\n",
    "    watermark_dims: tuple[int, int] = (10, 10),\n",
    ") -> video.Mp4:\n",
    "\n",
    "    add_watermark = workflow.add(\n",
    "        shell.define(\n",
    "            \"ffmpeg -i <in_video> -i <watermark:image/png> \"\n",
    "            \"-filter_complex <filter> <out|out_video:video/mp4>\"\n",
    "        )(\n",
    "            in_video=input_video,  # This is OK because in_video is typed Any\n",
    "            watermark=watermark,  # Type is OK because generic.File is superclass of image.Png\n",
    "            filter=\"overlay={}:{}\".format(*watermark_dims),\n",
    "        ),\n",
    "        name=\"add_watermark\",\n",
    "    )\n",
    "\n",
    "    try:\n",
    "        handbrake = workflow.add(\n",
    "            QuicktimeHandbrake(in_video=add_watermark.out_video, width=1280, height=720),\n",
    "        )  # This will raise a TypeError because the input video is an Mp4\n",
    "    except TypeError:\n",
    "        handbrake = workflow.add(\n",
    "            Mp4Handbrake(in_video=add_watermark.out_video, width=1280, height=720),\n",
    "        )  # The type of the input video is now correct\n",
    "\n",
    "    return handbrake.output_video"
   ]
  },
  {
   "cell_type": "markdown",
   "metadata": {},
   "source": [
    "For more detailed discussion on Pydra's type-checking see [Type Checking](../explanation/typing.html)."
   ]
  },
  {
   "cell_type": "markdown",
   "metadata": {},
   "source": [
    "## Accessing the workflow object\n",
    "\n",
    "If you need to access the workflow object being constructed from inside the constructor function you can use `workflow.this()`."
   ]
  },
  {
   "cell_type": "code",
   "execution_count": 9,
   "metadata": {
    "execution": {
     "iopub.execute_input": "2025-02-12T09:14:30.390885Z",
     "iopub.status.busy": "2025-02-12T09:14:30.390701Z",
     "iopub.status.idle": "2025-02-12T09:14:30.399468Z",
     "shell.execute_reply": "2025-02-12T09:14:30.399015Z"
    }
   },
   "outputs": [],
   "source": [
    "@python.define(outputs=[\"divided\"])\n",
    "def Divide(x, y):\n",
    "    return x / y\n",
    "\n",
    "\n",
    "@workflow.define(outputs=[\"out1\", \"out2\"])\n",
    "def DirectAccesWorkflow(a: int, b: float) -> tuple[float, float]:\n",
    "    \"\"\"A test workflow demonstration a few alternative ways to set and connect nodes\n",
    "\n",
    "    Args:\n",
    "        a: An integer input\n",
    "        b: A float input\n",
    "\n",
    "    Returns:\n",
    "        out1: The first output\n",
    "        out2: The second output\n",
    "    \"\"\"\n",
    "\n",
    "    wf = workflow.this()\n",
    "\n",
    "    add = wf.add(Add(x=a, y=b), name=\"addition\")\n",
    "    mul = wf.add(python.define(Mul, outputs={\"out\": float})(x=add.z, y=b))\n",
    "    divide = wf.add(Divide(x=wf[\"addition\"].lzout.z, y=mul.out), name=\"division\")\n",
    "\n",
    "    # Alter one of the inputs to a node after it has been initialised\n",
    "    wf[\"Mul\"].inputs.y *= 2\n",
    "\n",
    "    return mul.out, divide.divided"
   ]
  },
  {
   "cell_type": "markdown",
   "metadata": {},
   "source": [
    "Directly access the workflow being constructed also enables you to set the outputs of the workflow directly"
   ]
  },
  {
   "cell_type": "code",
   "execution_count": 10,
   "metadata": {
    "execution": {
     "iopub.execute_input": "2025-02-12T09:14:30.401336Z",
     "iopub.status.busy": "2025-02-12T09:14:30.400904Z",
     "iopub.status.idle": "2025-02-12T09:14:30.406686Z",
     "shell.execute_reply": "2025-02-12T09:14:30.406262Z"
    }
   },
   "outputs": [],
   "source": [
    "@workflow.define(outputs={\"out1\": float, \"out2\": float})\n",
    "def SetOutputsOfWorkflow(a: int, b: float):\n",
    "    \"\"\"A test workflow demonstration a few alternative ways to set and connect nodes\n",
    "\n",
    "    Args:\n",
    "        a: An integer input\n",
    "        b: A float input\n",
    "\n",
    "    Returns:\n",
    "        out1: The first output\n",
    "        out2: The second output\n",
    "    \"\"\"\n",
    "\n",
    "    wf = workflow.this()\n",
    "\n",
    "    add = wf.add(Add(x=a, y=b), name=\"addition\")\n",
    "    mul = wf.add(python.define(Mul, outputs={\"out\": float})(x=add.z, y=b))\n",
    "    divide = wf.add(Divide(x=wf[\"addition\"].lzout.z, y=mul.out), name=\"division\")\n",
    "\n",
    "    # Alter one of the inputs to a node after it has been initialised\n",
    "    wf[\"Mul\"].inputs.y *= 2\n",
    "\n",
    "    # Set the outputs of the workflow directly\n",
    "    wf.outputs.out1 = mul.out\n",
    "    wf.outputs.out2 = divide.divided"
   ]
  },
  {
   "cell_type": "markdown",
   "metadata": {},
   "source": [
    "## Setting software environments per node\n",
    "\n",
    "The [Advanced execution tutorial](./2-advanced-execution.html) showed how the software\n",
    "environment (e.g. Docker container) could be specified for shell tasks by passing the\n",
    "`environment` variable to the task execution/submission call. For shell tasks\n",
    "within workflows, the software environment used for them is specified when adding\n",
    "a new workflow node, i.e."
   ]
  },
  {
   "cell_type": "code",
   "execution_count": 11,
   "metadata": {
    "execution": {
     "iopub.execute_input": "2025-02-12T09:14:30.408538Z",
     "iopub.status.busy": "2025-02-12T09:14:30.408089Z",
     "iopub.status.idle": "2025-02-12T09:14:32.082187Z",
     "shell.execute_reply": "2025-02-12T09:14:32.081557Z"
    }
   },
   "outputs": [
    {
     "name": "stderr",
     "output_type": "stream",
     "text": [
      "A newer version (0.25) of nipype/pydra is available. You are using 0.25.dev206+gd1d95cc9\n"
     ]
    },
    {
     "ename": "TypeError",
     "evalue": "add() got an unexpected keyword argument 'environment'",
     "output_type": "error",
     "traceback": [
      "\u001b[0;31m---------------------------------------------------------------------------\u001b[0m",
      "\u001b[0;31mTypeError\u001b[0m                                 Traceback (most recent call last)",
      "Cell \u001b[0;32mIn[11], line 60\u001b[0m\n\u001b[1;32m     56\u001b[0m nifti_file \u001b[38;5;241m=\u001b[39m Nifti1\u001b[38;5;241m.\u001b[39msample(test_dir, seed\u001b[38;5;241m=\u001b[39m\u001b[38;5;241m0\u001b[39m)\n\u001b[1;32m     58\u001b[0m wf \u001b[38;5;241m=\u001b[39m ToyMedianThreshold(in_image\u001b[38;5;241m=\u001b[39mnifti_file)\n\u001b[0;32m---> 60\u001b[0m outputs \u001b[38;5;241m=\u001b[39m \u001b[43mwf\u001b[49m\u001b[43m(\u001b[49m\u001b[43m)\u001b[49m\n\u001b[1;32m     62\u001b[0m \u001b[38;5;28mprint\u001b[39m(outputs)\n",
      "File \u001b[0;32m/opt/hostedtoolcache/Python/3.13.1/x64/lib/python3.13/site-packages/pydra/engine/specs.py:220\u001b[0m, in \u001b[0;36mTaskDef.__call__\u001b[0;34m(self, cache_dir, worker, environment, rerun, cache_locations, audit_flags, messengers, messenger_args, name, pre_run, post_run, pre_run_task, post_run_task, **kwargs)\u001b[0m\n\u001b[1;32m    208\u001b[0m \u001b[38;5;28;01mtry\u001b[39;00m:\n\u001b[1;32m    209\u001b[0m     \u001b[38;5;28;01mwith\u001b[39;00m Submitter(\n\u001b[1;32m    210\u001b[0m         audit_flags\u001b[38;5;241m=\u001b[39maudit_flags,\n\u001b[1;32m    211\u001b[0m         cache_dir\u001b[38;5;241m=\u001b[39mcache_dir,\n\u001b[0;32m   (...)\u001b[0m\n\u001b[1;32m    218\u001b[0m         \u001b[38;5;241m*\u001b[39m\u001b[38;5;241m*\u001b[39mkwargs,\n\u001b[1;32m    219\u001b[0m     ) \u001b[38;5;28;01mas\u001b[39;00m sub:\n\u001b[0;32m--> 220\u001b[0m         result \u001b[38;5;241m=\u001b[39m \u001b[43msub\u001b[49m\u001b[43m(\u001b[49m\n\u001b[1;32m    221\u001b[0m \u001b[43m            \u001b[49m\u001b[38;5;28;43mself\u001b[39;49m\u001b[43m,\u001b[49m\n\u001b[1;32m    222\u001b[0m \u001b[43m            \u001b[49m\u001b[43mname\u001b[49m\u001b[38;5;241;43m=\u001b[39;49m\u001b[43mname\u001b[49m\u001b[43m,\u001b[49m\n\u001b[1;32m    223\u001b[0m \u001b[43m            \u001b[49m\u001b[43mpre_run\u001b[49m\u001b[38;5;241;43m=\u001b[39;49m\u001b[43mpre_run\u001b[49m\u001b[43m,\u001b[49m\n\u001b[1;32m    224\u001b[0m \u001b[43m            \u001b[49m\u001b[43mpost_run\u001b[49m\u001b[38;5;241;43m=\u001b[39;49m\u001b[43mpost_run\u001b[49m\u001b[43m,\u001b[49m\n\u001b[1;32m    225\u001b[0m \u001b[43m            \u001b[49m\u001b[43mpre_run_task\u001b[49m\u001b[38;5;241;43m=\u001b[39;49m\u001b[43mpre_run_task\u001b[49m\u001b[43m,\u001b[49m\n\u001b[1;32m    226\u001b[0m \u001b[43m            \u001b[49m\u001b[43mpost_run_task\u001b[49m\u001b[38;5;241;43m=\u001b[39;49m\u001b[43mpost_run_task\u001b[49m\u001b[43m,\u001b[49m\n\u001b[1;32m    227\u001b[0m \u001b[43m        \u001b[49m\u001b[43m)\u001b[49m\n\u001b[1;32m    228\u001b[0m \u001b[38;5;28;01mexcept\u001b[39;00m \u001b[38;5;167;01mTypeError\u001b[39;00m \u001b[38;5;28;01mas\u001b[39;00m e:\n\u001b[1;32m    229\u001b[0m     \u001b[38;5;66;03m# Catch any inadvertent passing of task definition parameters to the\u001b[39;00m\n\u001b[1;32m    230\u001b[0m     \u001b[38;5;66;03m# execution call\u001b[39;00m\n\u001b[1;32m    231\u001b[0m     \u001b[38;5;28;01mif\u001b[39;00m \u001b[38;5;28mhasattr\u001b[39m(e, \u001b[38;5;124m\"\u001b[39m\u001b[38;5;124m__notes__\u001b[39m\u001b[38;5;124m\"\u001b[39m) \u001b[38;5;129;01mand\u001b[39;00m WORKER_KWARG_FAIL_NOTE \u001b[38;5;129;01min\u001b[39;00m e\u001b[38;5;241m.\u001b[39m__notes__:\n",
      "File \u001b[0;32m/opt/hostedtoolcache/Python/3.13.1/x64/lib/python3.13/site-packages/pydra/engine/submitter.py:224\u001b[0m, in \u001b[0;36mSubmitter.__call__\u001b[0;34m(self, task_def, name, pre_run, post_run, pre_run_task, post_run_task)\u001b[0m\n\u001b[1;32m    219\u001b[0m \u001b[38;5;28;01mexcept\u001b[39;00m \u001b[38;5;167;01mException\u001b[39;00m \u001b[38;5;28;01mas\u001b[39;00m e:\n\u001b[1;32m    220\u001b[0m     e\u001b[38;5;241m.\u001b[39madd_note(\n\u001b[1;32m    221\u001b[0m         \u001b[38;5;124mf\u001b[39m\u001b[38;5;124m\"\u001b[39m\u001b[38;5;124mFull crash report for \u001b[39m\u001b[38;5;132;01m{\u001b[39;00m\u001b[38;5;28mtype\u001b[39m(task_def)\u001b[38;5;241m.\u001b[39m\u001b[38;5;18m__name__\u001b[39m\u001b[38;5;132;01m!r}\u001b[39;00m\u001b[38;5;124m task is here: \u001b[39m\u001b[38;5;124m\"\u001b[39m\n\u001b[1;32m    222\u001b[0m         \u001b[38;5;241m+\u001b[39m \u001b[38;5;28mstr\u001b[39m(task\u001b[38;5;241m.\u001b[39moutput_dir \u001b[38;5;241m/\u001b[39m \u001b[38;5;124m\"\u001b[39m\u001b[38;5;124m_error.pklz\u001b[39m\u001b[38;5;124m\"\u001b[39m)\n\u001b[1;32m    223\u001b[0m     )\n\u001b[0;32m--> 224\u001b[0m     \u001b[38;5;28;01mraise\u001b[39;00m e\n\u001b[1;32m    225\u001b[0m \u001b[38;5;28;01mfinally\u001b[39;00m:\n\u001b[1;32m    226\u001b[0m     \u001b[38;5;28mself\u001b[39m\u001b[38;5;241m.\u001b[39mrun_start_time \u001b[38;5;241m=\u001b[39m \u001b[38;5;28;01mNone\u001b[39;00m\n",
      "File \u001b[0;32m/opt/hostedtoolcache/Python/3.13.1/x64/lib/python3.13/site-packages/pydra/engine/submitter.py:218\u001b[0m, in \u001b[0;36mSubmitter.__call__\u001b[0;34m(self, task_def, name, pre_run, post_run, pre_run_task, post_run_task)\u001b[0m\n\u001b[1;32m    214\u001b[0m         \u001b[38;5;28mself\u001b[39m\u001b[38;5;241m.\u001b[39mloop\u001b[38;5;241m.\u001b[39mrun_until_complete(\n\u001b[1;32m    215\u001b[0m             \u001b[38;5;28mself\u001b[39m\u001b[38;5;241m.\u001b[39mworker\u001b[38;5;241m.\u001b[39mrun_async(task, rerun\u001b[38;5;241m=\u001b[39m\u001b[38;5;28mself\u001b[39m\u001b[38;5;241m.\u001b[39mrerun)\n\u001b[1;32m    216\u001b[0m         )\n\u001b[1;32m    217\u001b[0m     \u001b[38;5;28;01melse\u001b[39;00m:\n\u001b[0;32m--> 218\u001b[0m         \u001b[38;5;28;43mself\u001b[39;49m\u001b[38;5;241;43m.\u001b[39;49m\u001b[43mworker\u001b[49m\u001b[38;5;241;43m.\u001b[39;49m\u001b[43mrun\u001b[49m\u001b[43m(\u001b[49m\u001b[43mtask\u001b[49m\u001b[43m,\u001b[49m\u001b[43m \u001b[49m\u001b[43mrerun\u001b[49m\u001b[38;5;241;43m=\u001b[39;49m\u001b[38;5;28;43mself\u001b[39;49m\u001b[38;5;241;43m.\u001b[39;49m\u001b[43mrerun\u001b[49m\u001b[43m)\u001b[49m\n\u001b[1;32m    219\u001b[0m \u001b[38;5;28;01mexcept\u001b[39;00m \u001b[38;5;167;01mException\u001b[39;00m \u001b[38;5;28;01mas\u001b[39;00m e:\n\u001b[1;32m    220\u001b[0m     e\u001b[38;5;241m.\u001b[39madd_note(\n\u001b[1;32m    221\u001b[0m         \u001b[38;5;124mf\u001b[39m\u001b[38;5;124m\"\u001b[39m\u001b[38;5;124mFull crash report for \u001b[39m\u001b[38;5;132;01m{\u001b[39;00m\u001b[38;5;28mtype\u001b[39m(task_def)\u001b[38;5;241m.\u001b[39m\u001b[38;5;18m__name__\u001b[39m\u001b[38;5;132;01m!r}\u001b[39;00m\u001b[38;5;124m task is here: \u001b[39m\u001b[38;5;124m\"\u001b[39m\n\u001b[1;32m    222\u001b[0m         \u001b[38;5;241m+\u001b[39m \u001b[38;5;28mstr\u001b[39m(task\u001b[38;5;241m.\u001b[39moutput_dir \u001b[38;5;241m/\u001b[39m \u001b[38;5;124m\"\u001b[39m\u001b[38;5;124m_error.pklz\u001b[39m\u001b[38;5;124m\"\u001b[39m)\n\u001b[1;32m    223\u001b[0m     )\n",
      "File \u001b[0;32m/opt/hostedtoolcache/Python/3.13.1/x64/lib/python3.13/site-packages/pydra/engine/workers.py:163\u001b[0m, in \u001b[0;36mDebugWorker.run\u001b[0;34m(self, task, rerun)\u001b[0m\n\u001b[1;32m    157\u001b[0m \u001b[38;5;28;01mdef\u001b[39;00m\u001b[38;5;250m \u001b[39m\u001b[38;5;21mrun\u001b[39m(\n\u001b[1;32m    158\u001b[0m     \u001b[38;5;28mself\u001b[39m,\n\u001b[1;32m    159\u001b[0m     task: \u001b[38;5;124m\"\u001b[39m\u001b[38;5;124mTask[DefType]\u001b[39m\u001b[38;5;124m\"\u001b[39m,\n\u001b[1;32m    160\u001b[0m     rerun: \u001b[38;5;28mbool\u001b[39m \u001b[38;5;241m=\u001b[39m \u001b[38;5;28;01mFalse\u001b[39;00m,\n\u001b[1;32m    161\u001b[0m ) \u001b[38;5;241m-\u001b[39m\u001b[38;5;241m>\u001b[39m \u001b[38;5;124m\"\u001b[39m\u001b[38;5;124mResult\u001b[39m\u001b[38;5;124m\"\u001b[39m:\n\u001b[1;32m    162\u001b[0m \u001b[38;5;250m    \u001b[39m\u001b[38;5;124;03m\"\"\"Run a task.\"\"\"\u001b[39;00m\n\u001b[0;32m--> 163\u001b[0m     \u001b[38;5;28;01mreturn\u001b[39;00m \u001b[43mtask\u001b[49m\u001b[38;5;241;43m.\u001b[39;49m\u001b[43mrun\u001b[49m\u001b[43m(\u001b[49m\u001b[43mrerun\u001b[49m\u001b[38;5;241;43m=\u001b[39;49m\u001b[43mrerun\u001b[49m\u001b[43m)\u001b[49m\n",
      "File \u001b[0;32m/opt/hostedtoolcache/Python/3.13.1/x64/lib/python3.13/site-packages/pydra/engine/core.py:375\u001b[0m, in \u001b[0;36mTask.run\u001b[0;34m(self, rerun)\u001b[0m\n\u001b[1;32m    373\u001b[0m \u001b[38;5;28;01mtry\u001b[39;00m:\n\u001b[1;32m    374\u001b[0m     \u001b[38;5;28mself\u001b[39m\u001b[38;5;241m.\u001b[39maudit\u001b[38;5;241m.\u001b[39mmonitor()\n\u001b[0;32m--> 375\u001b[0m     \u001b[38;5;28;43mself\u001b[39;49m\u001b[38;5;241;43m.\u001b[39;49m\u001b[43mdefinition\u001b[49m\u001b[38;5;241;43m.\u001b[39;49m\u001b[43m_run\u001b[49m\u001b[43m(\u001b[49m\u001b[38;5;28;43mself\u001b[39;49m\u001b[43m)\u001b[49m\n\u001b[1;32m    376\u001b[0m     result\u001b[38;5;241m.\u001b[39moutputs \u001b[38;5;241m=\u001b[39m \u001b[38;5;28mself\u001b[39m\u001b[38;5;241m.\u001b[39mdefinition\u001b[38;5;241m.\u001b[39mOutputs\u001b[38;5;241m.\u001b[39m_from_task(\u001b[38;5;28mself\u001b[39m)\n\u001b[1;32m    377\u001b[0m \u001b[38;5;28;01mexcept\u001b[39;00m \u001b[38;5;167;01mException\u001b[39;00m:\n",
      "File \u001b[0;32m/opt/hostedtoolcache/Python/3.13.1/x64/lib/python3.13/site-packages/pydra/engine/specs.py:790\u001b[0m, in \u001b[0;36mWorkflowDef._run\u001b[0;34m(self, task)\u001b[0m\n\u001b[1;32m    788\u001b[0m \u001b[38;5;28;01mdef\u001b[39;00m\u001b[38;5;250m \u001b[39m\u001b[38;5;21m_run\u001b[39m(\u001b[38;5;28mself\u001b[39m, task: \u001b[38;5;124m\"\u001b[39m\u001b[38;5;124mTask[WorkflowDef]\u001b[39m\u001b[38;5;124m\"\u001b[39m) \u001b[38;5;241m-\u001b[39m\u001b[38;5;241m>\u001b[39m \u001b[38;5;28;01mNone\u001b[39;00m:\n\u001b[1;32m    789\u001b[0m \u001b[38;5;250m    \u001b[39m\u001b[38;5;124;03m\"\"\"Run the workflow.\"\"\"\u001b[39;00m\n\u001b[0;32m--> 790\u001b[0m     \u001b[43mtask\u001b[49m\u001b[38;5;241;43m.\u001b[39;49m\u001b[43msubmitter\u001b[49m\u001b[38;5;241;43m.\u001b[39;49m\u001b[43mexpand_workflow\u001b[49m\u001b[43m(\u001b[49m\u001b[43mtask\u001b[49m\u001b[43m)\u001b[49m\n",
      "File \u001b[0;32m/opt/hostedtoolcache/Python/3.13.1/x64/lib/python3.13/site-packages/pydra/engine/submitter.py:267\u001b[0m, in \u001b[0;36mSubmitter.expand_workflow\u001b[0;34m(self, workflow_task)\u001b[0m\n\u001b[1;32m    257\u001b[0m \u001b[38;5;250m\u001b[39m\u001b[38;5;124;03m\"\"\"Expands and executes a workflow task synchronously. Typically only used during\u001b[39;00m\n\u001b[1;32m    258\u001b[0m \u001b[38;5;124;03mdebugging and testing, as the asynchronous version is more efficient.\u001b[39;00m\n\u001b[1;32m    259\u001b[0m \n\u001b[0;32m   (...)\u001b[0m\n\u001b[1;32m    264\u001b[0m \n\u001b[1;32m    265\u001b[0m \u001b[38;5;124;03m\"\"\"\u001b[39;00m\n\u001b[1;32m    266\u001b[0m \u001b[38;5;66;03m# Construct the workflow\u001b[39;00m\n\u001b[0;32m--> 267\u001b[0m wf \u001b[38;5;241m=\u001b[39m \u001b[43mworkflow_task\u001b[49m\u001b[38;5;241;43m.\u001b[39;49m\u001b[43mdefinition\u001b[49m\u001b[38;5;241;43m.\u001b[39;49m\u001b[43mconstruct\u001b[49m\u001b[43m(\u001b[49m\u001b[43m)\u001b[49m\n\u001b[1;32m    268\u001b[0m \u001b[38;5;66;03m# Generate the execution graph\u001b[39;00m\n\u001b[1;32m    269\u001b[0m exec_graph \u001b[38;5;241m=\u001b[39m wf\u001b[38;5;241m.\u001b[39mexecution_graph(submitter\u001b[38;5;241m=\u001b[39m\u001b[38;5;28mself\u001b[39m)\n",
      "File \u001b[0;32m/opt/hostedtoolcache/Python/3.13.1/x64/lib/python3.13/site-packages/pydra/engine/specs.py:801\u001b[0m, in \u001b[0;36mWorkflowDef.construct\u001b[0;34m(self)\u001b[0m\n\u001b[1;32m    799\u001b[0m \u001b[38;5;28;01mif\u001b[39;00m \u001b[38;5;28mself\u001b[39m\u001b[38;5;241m.\u001b[39m_constructed \u001b[38;5;129;01mis\u001b[39;00m \u001b[38;5;129;01mnot\u001b[39;00m \u001b[38;5;28;01mNone\u001b[39;00m:\n\u001b[1;32m    800\u001b[0m     \u001b[38;5;28;01mreturn\u001b[39;00m \u001b[38;5;28mself\u001b[39m\u001b[38;5;241m.\u001b[39m_constructed\n\u001b[0;32m--> 801\u001b[0m \u001b[38;5;28mself\u001b[39m\u001b[38;5;241m.\u001b[39m_constructed \u001b[38;5;241m=\u001b[39m \u001b[43mWorkflow\u001b[49m\u001b[38;5;241;43m.\u001b[39;49m\u001b[43mconstruct\u001b[49m\u001b[43m(\u001b[49m\u001b[38;5;28;43mself\u001b[39;49m\u001b[43m)\u001b[49m\n\u001b[1;32m    802\u001b[0m \u001b[38;5;28;01mreturn\u001b[39;00m \u001b[38;5;28mself\u001b[39m\u001b[38;5;241m.\u001b[39m_constructed\n",
      "File \u001b[0;32m/opt/hostedtoolcache/Python/3.13.1/x64/lib/python3.13/site-packages/pydra/engine/core.py:698\u001b[0m, in \u001b[0;36mWorkflow.construct\u001b[0;34m(cls, definition)\u001b[0m\n\u001b[1;32m    696\u001b[0m constructor \u001b[38;5;241m=\u001b[39m input_values\u001b[38;5;241m.\u001b[39mpop(\u001b[38;5;124m\"\u001b[39m\u001b[38;5;124mconstructor\u001b[39m\u001b[38;5;124m\"\u001b[39m)\n\u001b[1;32m    697\u001b[0m \u001b[38;5;66;03m# Call the user defined constructor to set the outputs\u001b[39;00m\n\u001b[0;32m--> 698\u001b[0m output_lazy_fields \u001b[38;5;241m=\u001b[39m \u001b[43mconstructor\u001b[49m\u001b[43m(\u001b[49m\u001b[38;5;241;43m*\u001b[39;49m\u001b[38;5;241;43m*\u001b[39;49m\u001b[43minput_values\u001b[49m\u001b[43m)\u001b[49m\n\u001b[1;32m    699\u001b[0m \u001b[38;5;66;03m# Check to see whether any mandatory inputs are not set\u001b[39;00m\n\u001b[1;32m    700\u001b[0m \u001b[38;5;28;01mfor\u001b[39;00m node \u001b[38;5;129;01min\u001b[39;00m workflow\u001b[38;5;241m.\u001b[39mnodes:\n",
      "Cell \u001b[0;32mIn[11], line 19\u001b[0m, in \u001b[0;36mToyMedianThreshold\u001b[0;34m(in_image)\u001b[0m\n\u001b[1;32m     11\u001b[0m \u001b[38;5;129m@workflow\u001b[39m\u001b[38;5;241m.\u001b[39mdefine(outputs\u001b[38;5;241m=\u001b[39m[\u001b[38;5;124m\"\u001b[39m\u001b[38;5;124mout_image\u001b[39m\u001b[38;5;124m\"\u001b[39m])\n\u001b[1;32m     12\u001b[0m \u001b[38;5;28;01mdef\u001b[39;00m\u001b[38;5;250m \u001b[39m\u001b[38;5;21mToyMedianThreshold\u001b[39m(in_image: Nifti1) \u001b[38;5;241m-\u001b[39m\u001b[38;5;241m>\u001b[39m Mif:\n\u001b[1;32m     13\u001b[0m \u001b[38;5;250m    \u001b[39m\u001b[38;5;124;03m\"\"\"A toy example workflow that\u001b[39;00m\n\u001b[1;32m     14\u001b[0m \n\u001b[1;32m     15\u001b[0m \u001b[38;5;124;03m    * converts a NIfTI image to MRTrix3 image format with a separate header\u001b[39;00m\n\u001b[1;32m     16\u001b[0m \u001b[38;5;124;03m    * loads the separate data file and selects the median value\u001b[39;00m\n\u001b[1;32m     17\u001b[0m \u001b[38;5;124;03m    \"\"\"\u001b[39;00m\n\u001b[0;32m---> 19\u001b[0m     input_conversion \u001b[38;5;241m=\u001b[39m \u001b[43mworkflow\u001b[49m\u001b[38;5;241;43m.\u001b[39;49m\u001b[43madd\u001b[49m\u001b[43m(\u001b[49m\n\u001b[1;32m     20\u001b[0m \u001b[43m        \u001b[49m\u001b[43mMrConvert\u001b[49m\u001b[43m(\u001b[49m\u001b[43min_file\u001b[49m\u001b[38;5;241;43m=\u001b[39;49m\u001b[43min_image\u001b[49m\u001b[43m,\u001b[49m\u001b[43m \u001b[49m\u001b[43mout_file\u001b[49m\u001b[38;5;241;43m=\u001b[39;49m\u001b[38;5;124;43m\"\u001b[39;49m\u001b[38;5;124;43mout_file.mih\u001b[39;49m\u001b[38;5;124;43m\"\u001b[39;49m\u001b[43m)\u001b[49m\u001b[43m,\u001b[49m\n\u001b[1;32m     21\u001b[0m \u001b[43m        \u001b[49m\u001b[43mname\u001b[49m\u001b[38;5;241;43m=\u001b[39;49m\u001b[38;5;124;43m\"\u001b[39;49m\u001b[38;5;124;43minput_conversion\u001b[39;49m\u001b[38;5;124;43m\"\u001b[39;49m\u001b[43m,\u001b[49m\n\u001b[1;32m     22\u001b[0m \u001b[43m        \u001b[49m\u001b[43menvironment\u001b[49m\u001b[38;5;241;43m=\u001b[39;49m\u001b[43mDocker\u001b[49m\u001b[43m(\u001b[49m\u001b[38;5;124;43m\"\u001b[39;49m\u001b[38;5;124;43mmrtrix3/mrtrix3\u001b[39;49m\u001b[38;5;124;43m\"\u001b[39;49m\u001b[43m,\u001b[49m\u001b[43m \u001b[49m\u001b[43mtag\u001b[49m\u001b[38;5;241;43m=\u001b[39;49m\u001b[38;5;124;43m\"\u001b[39;49m\u001b[38;5;124;43mlatest\u001b[39;49m\u001b[38;5;124;43m\"\u001b[39;49m\u001b[43m)\u001b[49m\u001b[43m,\u001b[49m\n\u001b[1;32m     23\u001b[0m \u001b[43m    \u001b[49m\u001b[43m)\u001b[49m\n\u001b[1;32m     25\u001b[0m     \u001b[38;5;129m@python\u001b[39m\u001b[38;5;241m.\u001b[39mdefine\n\u001b[1;32m     26\u001b[0m     \u001b[38;5;28;01mdef\u001b[39;00m\u001b[38;5;250m \u001b[39m\u001b[38;5;21mSelectDataFile\u001b[39m(in_file: Mih) \u001b[38;5;241m-\u001b[39m\u001b[38;5;241m>\u001b[39m Mid:\n\u001b[1;32m     27\u001b[0m         \u001b[38;5;28;01mreturn\u001b[39;00m in_file\u001b[38;5;241m.\u001b[39mdata_file\n",
      "\u001b[0;31mTypeError\u001b[0m: add() got an unexpected keyword argument 'environment'",
      "\u001b[0mFull crash report for 'ToyMedianThreshold' task is here: /home/runner/.cache/pydra/0.25.dev206+gd1d95cc9/run-cache/workflow-924a85142a36d807123041509b053bf5/_error.pklz"
     ]
    }
   ],
   "source": [
    "import tempfile\n",
    "import numpy as np\n",
    "from fileformats.medimage import Nifti1\n",
    "from fileformats.medimage_mrtrix3 import (\n",
    "    ImageFormat as Mif, ImageHeader as Mih, ImageDataFile as Mid\n",
    ")\n",
    "from pydra.engine.environments import Docker\n",
    "from pydra.design import workflow, python\n",
    "from pydra.tasks.mrtrix3.v3_0 import MrConvert, MrThreshold\n",
    "\n",
    "@workflow.define(outputs=[\"out_image\"])\n",
    "def ToyMedianThreshold(in_image: Nifti1) -> Mif:\n",
    "    \"\"\"A toy example workflow that\n",
    "\n",
    "    * converts a NIfTI image to MRTrix3 image format with a separate header\n",
    "    * loads the separate data file and selects the median value\n",
    "    \"\"\"\n",
    "\n",
    "    input_conversion = workflow.add(\n",
    "        MrConvert(in_file=in_image, out_file=\"out_file.mih\"),\n",
    "        name=\"input_conversion\",\n",
    "        environment=Docker(\"mrtrix3/mrtrix3\", tag=\"latest\"),\n",
    "    )\n",
    "\n",
    "    @python.define\n",
    "    def SelectDataFile(in_file: Mih) -> Mid:\n",
    "        return in_file.data_file\n",
    "\n",
    "    select_data_file = workflow.add(SelectDataFile(in_file=input_conversion.out_file))\n",
    "\n",
    "    @python.define\n",
    "    def Median(data_file: Mid) -> float:\n",
    "        data = np.load(data_file)\n",
    "        return np.median(data)\n",
    "\n",
    "    median = workflow.add(Median(data_file=select_data_file.out))\n",
    "    threshold = workflow.add(\n",
    "        MrThreshold(\n",
    "            in_file=select_data_file.out,\n",
    "            abs=median.out\n",
    "        ),                     \n",
    "        environment=Docker(\"mrtrix3/mrtrix3\", tag=\"\")\n",
    "    )\n",
    "\n",
    "    output_conversion = workflow.add(\n",
    "        MrConvert(in_file=threshold.out_file, out_file=\"out_image.mif\"),\n",
    "        name=\"output_conversion\",\n",
    "        environment=Docker(\"mrtrix3/mrtrix3\", tag=\"latest\"),\n",
    "    )\n",
    "\n",
    "    return output_conversion.out_file\n",
    "\n",
    "\n",
    "test_dir = tempfile.mkdtemp()\n",
    "\n",
    "nifti_file = Nifti1.sample(test_dir, seed=0)\n",
    "\n",
    "wf = ToyMedianThreshold(in_image=nifti_file)\n",
    "\n",
    "outputs = wf()\n",
    "\n",
    "print(outputs)"
   ]
  },
  {
   "cell_type": "markdown",
   "metadata": {},
   "source": [
    "See [Containers and Environments](../explanation/environments.rst) for more details on\n",
    "how to utilise containers and add support for other software environments."
   ]
  },
  {
   "cell_type": "markdown",
   "metadata": {},
   "source": []
  }
 ],
 "metadata": {
  "kernelspec": {
   "display_name": "wf12",
   "language": "python",
   "name": "python3"
  },
  "language_info": {
   "codemirror_mode": {
    "name": "ipython",
    "version": 3
   },
   "file_extension": ".py",
   "mimetype": "text/x-python",
   "name": "python",
   "nbconvert_exporter": "python",
   "pygments_lexer": "ipython3",
   "version": "3.13.1"
  }
 },
 "nbformat": 4,
 "nbformat_minor": 4
}
