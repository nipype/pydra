{
 "cells": [
  {
   "cell_type": "markdown",
   "metadata": {},
   "source": [
    "# Workflows\n",
    "\n",
    "In Pydra, workflows are DAG of component tasks to be executed on specified inputs.\n",
    "Workflow definitions are dataclasses, which interchangeable with Python and shell tasks\n",
    "definitions and executed in the same way."
   ]
  },
  {
   "cell_type": "markdown",
   "metadata": {},
   "source": [
    "## Constructor functions\n",
    "\n",
    "Workflows are typically defined using the `pydra.design.workflow.define` decorator on \n",
    "a \"constructor\" function that generates the workflow. For example, given two task\n",
    "definitions, `Add` and `Mul`."
   ]
  },
  {
   "cell_type": "code",
   "execution_count": 1,
   "metadata": {
    "execution": {
     "iopub.execute_input": "2025-02-13T23:47:36.379506Z",
     "iopub.status.busy": "2025-02-13T23:47:36.379131Z",
     "iopub.status.idle": "2025-02-13T23:47:36.543837Z",
     "shell.execute_reply": "2025-02-13T23:47:36.543406Z"
    }
   },
   "outputs": [],
   "source": [
    "from pydra.design import workflow, python\n",
    "\n",
    "# Example python task definitions\n",
    "@python.define\n",
    "def Add(a, b):\n",
    "    return a + b\n",
    "\n",
    "\n",
    "@python.define\n",
    "def Mul(a, b):\n",
    "    return a * b"
   ]
  },
  {
   "cell_type": "markdown",
   "metadata": {},
   "source": [
    " we can create a simple workflow definition using `workflow.define` to decorate a function that constructs the workflow. Nodes are added to the workflow being constructed by calling `workflow.add` function."
   ]
  },
  {
   "cell_type": "code",
   "execution_count": 2,
   "metadata": {
    "execution": {
     "iopub.execute_input": "2025-02-13T23:47:36.545783Z",
     "iopub.status.busy": "2025-02-13T23:47:36.545410Z",
     "iopub.status.idle": "2025-02-13T23:47:36.549865Z",
     "shell.execute_reply": "2025-02-13T23:47:36.549447Z"
    }
   },
   "outputs": [],
   "source": [
    "@workflow.define\n",
    "def BasicWorkflow(a, b):\n",
    "    add = workflow.add(Add(a=a, b=b))\n",
    "    mul = workflow.add(Mul(a=add.out, b=b))\n",
    "    return mul.out"
   ]
  },
  {
   "cell_type": "markdown",
   "metadata": {},
   "source": [
    "`workflow.add` returns an \"outputs\" object corresponding to the definition added to the\n",
    "workflow. The fields of the outptus object can be referenced as inputs to downstream\n",
    "workflow nodes. Note that these output fields are just placeholders for the values that will\n",
    "be returned and can't be used in conditional statements during workflow construction\n",
    "(see [Dynamic construction](../explanation/conditional-lazy.html) on how to work around this\n",
    "limitation). The fields of the outputs to be returned by the workflow should be returned\n",
    "in a tuple."
   ]
  },
  {
   "cell_type": "code",
   "execution_count": 3,
   "metadata": {
    "execution": {
     "iopub.execute_input": "2025-02-13T23:47:36.551257Z",
     "iopub.status.busy": "2025-02-13T23:47:36.551102Z",
     "iopub.status.idle": "2025-02-13T23:47:36.556364Z",
     "shell.execute_reply": "2025-02-13T23:47:36.555980Z"
    }
   },
   "outputs": [],
   "source": [
    "from pydra.design import shell\n",
    "from fileformats import image, video\n",
    "\n",
    "@workflow.define\n",
    "def ShellWorkflow(\n",
    "    input_video: video.Mp4,\n",
    "    watermark: image.Png,\n",
    "    watermark_dims: tuple[int, int] = (10, 10),\n",
    ") -> video.Mp4:\n",
    "\n",
    "    add_watermark = workflow.add(\n",
    "        shell.define(\n",
    "            \"ffmpeg -i <in_video> -i <watermark:image/png> \"\n",
    "            \"-filter_complex <filter> <out|out_video>\"\n",
    "        )(\n",
    "            in_video=input_video,\n",
    "            watermark=watermark,\n",
    "            filter=\"overlay={}:{}\".format(*watermark_dims),\n",
    "        )\n",
    "    )\n",
    "    output_video = workflow.add(\n",
    "        shell.define(\n",
    "            \"HandBrakeCLI -i <in_video:video/mp4> -o <out|out_video:video/mp4> \"\n",
    "            \"--width <width:int> --height <height:int>\",\n",
    "        )(in_video=add_watermark.out_video, width=1280, height=720)\n",
    "    ).out_video\n",
    "\n",
    "    return output_video  # test implicit detection of output name"
   ]
  },
  {
   "cell_type": "markdown",
   "metadata": {},
   "source": [
    "## Splitting/combining task inputs\n",
    "\n",
    "Sometimes, you might want to perform the same task over a set of input values/files, and then collect the results into a list to perform further processing. This can be achieved by using the `split` and `combine` methods"
   ]
  },
  {
   "cell_type": "code",
   "execution_count": 4,
   "metadata": {
    "execution": {
     "iopub.execute_input": "2025-02-13T23:47:36.557728Z",
     "iopub.status.busy": "2025-02-13T23:47:36.557569Z",
     "iopub.status.idle": "2025-02-13T23:47:36.563690Z",
     "shell.execute_reply": "2025-02-13T23:47:36.563287Z"
    }
   },
   "outputs": [],
   "source": [
    "@python.define\n",
    "def Sum(x: list[float]) -> float:\n",
    "    return sum(x)\n",
    "\n",
    "@workflow.define\n",
    "def SplitWorkflow(a: list[int], b: list[float]) -> list[float]:\n",
    "    # Multiply over all combinations of the elements of a and b, then combine the results\n",
    "    # for each a element into a list over each b element\n",
    "    mul = workflow.add(Mul().split(x=a, y=b).combine(\"x\"))\n",
    "    # Sume the multiplications across all all b elements for each a element\n",
    "    sum = workflow.add(Sum(x=mul.out))\n",
    "    return sum.out"
   ]
  },
  {
   "cell_type": "markdown",
   "metadata": {},
   "source": [
    "The combination step doesn't have to be done on the same step as the split, in which case the splits propagate to downstream nodes"
   ]
  },
  {
   "cell_type": "code",
   "execution_count": 5,
   "metadata": {
    "execution": {
     "iopub.execute_input": "2025-02-13T23:47:36.565094Z",
     "iopub.status.busy": "2025-02-13T23:47:36.564936Z",
     "iopub.status.idle": "2025-02-13T23:47:36.569550Z",
     "shell.execute_reply": "2025-02-13T23:47:36.569138Z"
    }
   },
   "outputs": [],
   "source": [
    "@workflow.define\n",
    "def SplitThenCombineWorkflow(a: list[int], b: list[float], c: float) -> list[float]:\n",
    "    mul = workflow.add(Mul().split(x=a, y=b))\n",
    "    add = workflow.add(Add(x=mul.out, y=c).combine(\"Mul.x\"))\n",
    "    sum = workflow.add(Sum(x=add.out))\n",
    "    return sum.out"
   ]
  },
  {
   "cell_type": "markdown",
   "metadata": {},
   "source": [
    "For more advanced discussion on the intricacies of splitting and combining see [Splitting and combining](../explanation/splitting-combining.html)"
   ]
  },
  {
   "cell_type": "markdown",
   "metadata": {},
   "source": [
    "## Nested and conditional workflows\n",
    "\n",
    "One of the most powerful features of Pydra is the ability to use inline Python code to conditionally add/omit nodes to workflow, and alter the parameterisation of the nodes, depending on inputs to the workflow "
   ]
  },
  {
   "cell_type": "code",
   "execution_count": 6,
   "metadata": {
    "execution": {
     "iopub.execute_input": "2025-02-13T23:47:36.571141Z",
     "iopub.status.busy": "2025-02-13T23:47:36.570762Z",
     "iopub.status.idle": "2025-02-13T23:47:36.576913Z",
     "shell.execute_reply": "2025-02-13T23:47:36.576439Z"
    }
   },
   "outputs": [],
   "source": [
    "@workflow.define\n",
    "def ConditionalWorkflow(\n",
    "    input_video: video.Mp4,\n",
    "    watermark: image.Png,\n",
    "    watermark_dims: tuple[int, int] | None = None,\n",
    ") -> video.Mp4:\n",
    "\n",
    "    if watermark_dims is not None:\n",
    "        add_watermark = workflow.add(\n",
    "            shell.define(\n",
    "                \"ffmpeg -i <in_video> -i <watermark:image/png> \"\n",
    "                \"-filter_complex <filter> <out|out_video>\"\n",
    "            )(\n",
    "                in_video=input_video,\n",
    "                watermark=watermark,\n",
    "                filter=\"overlay={}:{}\".format(*watermark_dims),\n",
    "            )\n",
    "        )\n",
    "        handbrake_input = add_watermark.out_video\n",
    "    else:\n",
    "        handbrake_input = input_video\n",
    "\n",
    "    output_video = workflow.add(\n",
    "        shell.define(\n",
    "            \"HandBrakeCLI -i <in_video:video/mp4> -o <out|out_video:video/mp4> \"\n",
    "            \"--width <width:int> --height <height:int>\",\n",
    "        )(in_video=handbrake_input, width=1280, height=720)\n",
    "    ).out_video\n",
    "\n",
    "    return output_video  # test implicit detection of output name"
   ]
  },
  {
   "cell_type": "markdown",
   "metadata": {},
   "source": [
    "Note that outputs of upstream nodes cannot be used in conditional statements, since these are just placeholders at the time the workflow is being constructed. However, you can get around\n",
    "this limitation by placing the conditional logic within a nested workflow"
   ]
  },
  {
   "cell_type": "code",
   "execution_count": 7,
   "metadata": {
    "execution": {
     "iopub.execute_input": "2025-02-13T23:47:36.578437Z",
     "iopub.status.busy": "2025-02-13T23:47:36.578154Z",
     "iopub.status.idle": "2025-02-13T23:47:36.584187Z",
     "shell.execute_reply": "2025-02-13T23:47:36.583823Z"
    }
   },
   "outputs": [],
   "source": [
    "@python.define\n",
    "def Subtract(x: float, y: float) -> float:\n",
    "    return x - y\n",
    "\n",
    "@workflow.define\n",
    "def RecursiveNestedWorkflow(a: float, depth: int) -> float:\n",
    "    add = workflow.add(Add(x=a, y=1))\n",
    "    decrement_depth = workflow.add(Subtract(x=depth, y=1))\n",
    "    if depth > 0:\n",
    "        out_node = workflow.add(\n",
    "            RecursiveNestedWorkflow(a=add.out, depth=decrement_depth.out)\n",
    "        )\n",
    "    else:\n",
    "        out_node = add\n",
    "    return out_node.out"
   ]
  },
  {
   "cell_type": "markdown",
   "metadata": {},
   "source": [
    "For more detailed discussion of the construction of conditional workflows and \"lazy field\"\n",
    "placeholders see [Conditionals and lazy fields](../explanation/conditional-lazy.html)"
   ]
  },
  {
   "cell_type": "markdown",
   "metadata": {},
   "source": [
    "## Type-checking between nodes\n",
    "\n",
    "Pydra utilizes Python type annotations to implement strong type-checking, which is performed\n",
    "when values or upstream outputs are assigned to task definition inputs.\n",
    "\n",
    "Task input and output fields do not need to be assigned types, since they will default to `typing.Any`.\n",
    "However, if they are assigned a type and a value or output from an upstream node conflicts\n",
    "with the type, a `TypeError` will be raised at construction time.\n",
    "\n",
    "Note that the type-checking \"assumes the best\", and will pass if the upstream field is typed\n",
    "by `Any` or a super-class of the field being assigned to. For example, an input of\n",
    "`fileformats.generic.File` passed to a field expecting a `fileformats.image.Png` file type,\n",
    "because `Png` is a subtype of `File`, where as `fileformats.image.Jpeg` input would fail\n",
    "since it is clearly not the intended type.\n"
   ]
  },
  {
   "cell_type": "code",
   "execution_count": 8,
   "metadata": {
    "execution": {
     "iopub.execute_input": "2025-02-13T23:47:36.585653Z",
     "iopub.status.busy": "2025-02-13T23:47:36.585497Z",
     "iopub.status.idle": "2025-02-13T23:47:36.658709Z",
     "shell.execute_reply": "2025-02-13T23:47:36.658276Z"
    }
   },
   "outputs": [],
   "source": [
    "from fileformats import generic\n",
    "\n",
    "Mp4Handbrake = shell.define(\n",
    "    \"HandBrakeCLI -i <in_video:video/mp4> -o <out|out_video:video/mp4> \"\n",
    "    \"--width <width:int> --height <height:int>\",\n",
    ")\n",
    "\n",
    "\n",
    "QuicktimeHandbrake = shell.define(\n",
    "    \"HandBrakeCLI -i <in_video:video/quicktime> -o <out|out_video:video/quicktime> \"\n",
    "    \"--width <width:int> --height <height:int>\",\n",
    ")\n",
    "\n",
    "@workflow.define\n",
    "def TypeErrorWorkflow(\n",
    "    input_video: video.Mp4,\n",
    "    watermark: generic.File,\n",
    "    watermark_dims: tuple[int, int] = (10, 10),\n",
    ") -> video.Mp4:\n",
    "\n",
    "    add_watermark = workflow.add(\n",
    "        shell.define(\n",
    "            \"ffmpeg -i <in_video> -i <watermark:image/png> \"\n",
    "            \"-filter_complex <filter> <out|out_video:video/mp4>\"\n",
    "        )(\n",
    "            in_video=input_video,  # This is OK because in_video is typed Any\n",
    "            watermark=watermark,  # Type is OK because generic.File is superclass of image.Png\n",
    "            filter=\"overlay={}:{}\".format(*watermark_dims),\n",
    "        ),\n",
    "        name=\"add_watermark\",\n",
    "    )\n",
    "\n",
    "    try:\n",
    "        handbrake = workflow.add(\n",
    "            QuicktimeHandbrake(in_video=add_watermark.out_video, width=1280, height=720),\n",
    "        )  # This will raise a TypeError because the input video is an Mp4\n",
    "    except TypeError:\n",
    "        handbrake = workflow.add(\n",
    "            Mp4Handbrake(in_video=add_watermark.out_video, width=1280, height=720),\n",
    "        )  # The type of the input video is now correct\n",
    "\n",
    "    return handbrake.output_video"
   ]
  },
  {
   "cell_type": "markdown",
   "metadata": {},
   "source": [
    "For more detailed discussion on Pydra's type-checking see [Type Checking](../explanation/typing.html)."
   ]
  },
  {
   "cell_type": "markdown",
   "metadata": {},
   "source": [
    "## Accessing the workflow object\n",
    "\n",
    "If you need to access the workflow object being constructed from inside the constructor function you can use `workflow.this()`."
   ]
  },
  {
   "cell_type": "code",
   "execution_count": 9,
   "metadata": {
    "execution": {
     "iopub.execute_input": "2025-02-13T23:47:36.660676Z",
     "iopub.status.busy": "2025-02-13T23:47:36.660227Z",
     "iopub.status.idle": "2025-02-13T23:47:36.667752Z",
     "shell.execute_reply": "2025-02-13T23:47:36.667347Z"
    }
   },
   "outputs": [],
   "source": [
    "@python.define(outputs=[\"divided\"])\n",
    "def Divide(x, y):\n",
    "    return x / y\n",
    "\n",
    "\n",
    "@workflow.define(outputs=[\"out1\", \"out2\"])\n",
    "def DirectAccesWorkflow(a: int, b: float) -> tuple[float, float]:\n",
    "    \"\"\"A test workflow demonstration a few alternative ways to set and connect nodes\n",
    "\n",
    "    Args:\n",
    "        a: An integer input\n",
    "        b: A float input\n",
    "\n",
    "    Returns:\n",
    "        out1: The first output\n",
    "        out2: The second output\n",
    "    \"\"\"\n",
    "\n",
    "    wf = workflow.this()\n",
    "\n",
    "    add = wf.add(Add(x=a, y=b), name=\"addition\")\n",
    "    mul = wf.add(python.define(Mul, outputs={\"out\": float})(x=add.z, y=b))\n",
    "    divide = wf.add(Divide(x=wf[\"addition\"].lzout.z, y=mul.out), name=\"division\")\n",
    "\n",
    "    # Alter one of the inputs to a node after it has been initialised\n",
    "    wf[\"Mul\"].inputs.y *= 2\n",
    "\n",
    "    return mul.out, divide.divided"
   ]
  },
  {
   "cell_type": "markdown",
   "metadata": {},
   "source": [
    "Directly access the workflow being constructed also enables you to set the outputs of the workflow directly"
   ]
  },
  {
   "cell_type": "code",
   "execution_count": 10,
   "metadata": {
    "execution": {
     "iopub.execute_input": "2025-02-13T23:47:36.669138Z",
     "iopub.status.busy": "2025-02-13T23:47:36.668980Z",
     "iopub.status.idle": "2025-02-13T23:47:36.674027Z",
     "shell.execute_reply": "2025-02-13T23:47:36.673637Z"
    }
   },
   "outputs": [],
   "source": [
    "@workflow.define(outputs={\"out1\": float, \"out2\": float})\n",
    "def SetOutputsOfWorkflow(a: int, b: float):\n",
    "    \"\"\"A test workflow demonstration a few alternative ways to set and connect nodes\n",
    "\n",
    "    Args:\n",
    "        a: An integer input\n",
    "        b: A float input\n",
    "\n",
    "    Returns:\n",
    "        out1: The first output\n",
    "        out2: The second output\n",
    "    \"\"\"\n",
    "\n",
    "    wf = workflow.this()\n",
    "\n",
    "    add = wf.add(Add(x=a, y=b), name=\"addition\")\n",
    "    mul = wf.add(python.define(Mul, outputs={\"out\": float})(x=add.z, y=b))\n",
    "    divide = wf.add(Divide(x=wf[\"addition\"].lzout.z, y=mul.out), name=\"division\")\n",
    "\n",
    "    # Alter one of the inputs to a node after it has been initialised\n",
    "    wf[\"Mul\"].inputs.y *= 2\n",
    "\n",
    "    # Set the outputs of the workflow directly\n",
    "    wf.outputs.out1 = mul.out\n",
    "    wf.outputs.out2 = divide.divided"
   ]
  },
  {
   "cell_type": "markdown",
   "metadata": {},
   "source": [
    "## Setting software environments per node\n",
    "\n",
    "The [Advanced execution tutorial](./2-advanced-execution.html) showed how the software\n",
    "environment (e.g. Docker container) could be specified for shell tasks by passing the\n",
    "`environment` variable to the task execution/submission call. For shell tasks\n",
    "within workflows, the software environment used for them is specified when adding\n",
    "a new workflow node, i.e."
   ]
  },
  {
   "cell_type": "code",
   "execution_count": 11,
   "metadata": {
    "execution": {
     "iopub.execute_input": "2025-02-13T23:47:36.675346Z",
     "iopub.status.busy": "2025-02-13T23:47:36.675188Z",
     "iopub.status.idle": "2025-02-13T23:47:38.163423Z",
     "shell.execute_reply": "2025-02-13T23:47:38.162560Z"
    }
   },
   "outputs": [
    {
     "name": "stderr",
     "output_type": "stream",
     "text": [
      "A newer version (0.25) of nipype/pydra is available. You are using 0.25.dev216+ga56b61e5\n"
     ]
    },
    {
     "ename": "TypeError",
     "evalue": "Incorrect type for lazy field in 'in_file' field of MrConvert interface : typing.Union[fileformats.medimage_mrtrix3.image.ImageFormat, fileformats.medimage_mrtrix3.image.ImageFormatGz, fileformats.medimage_mrtrix3.image.ImageHeader, fileformats.medimage_mrtrix3.dwi.ImageFormatB, fileformats.medimage_mrtrix3.dwi.ImageFormatGzB, fileformats.medimage_mrtrix3.dwi.ImageHeaderB, fileformats.medimage.nifti.NiftiGzX, fileformats.medimage.nifti.NiftiGz, fileformats.medimage.nifti.NiftiX, fileformats.medimage.nifti.Nifti1, fileformats.medimage.nifti.Nifti2, fileformats.medimage_mrtrix3.dwi.NiftiB, fileformats.medimage_mrtrix3.dwi.NiftiGzB, fileformats.medimage_mrtrix3.dwi.NiftiGzXB, fileformats.medimage_mrtrix3.dwi.NiftiXB, fileformats.medimage.diffusion.NiftiBvec, fileformats.medimage.diffusion.NiftiGzBvec, fileformats.medimage.diffusion.NiftiXBvec, fileformats.medimage.diffusion.NiftiGzXBvec, fileformats.medimage.misc.Mgh, fileformats.medimage.misc.MghGz, fileformats.medimage.misc.Analyze, NoneType] is not a subclass or superclass of typing.Union[fileformats.medimage_mrtrix3.image.ImageFormat, fileformats.medimage_mrtrix3.image.ImageFormatGz, fileformats.medimage_mrtrix3.image.ImageHeader, fileformats.medimage_mrtrix3.dwi.ImageFormatB, fileformats.medimage_mrtrix3.dwi.ImageFormatGzB, fileformats.medimage_mrtrix3.dwi.ImageHeaderB, fileformats.medimage.dicom.DicomImage, fileformats.medimage.dicom.DicomDir, fileformats.medimage.nifti.NiftiGzX, fileformats.medimage.nifti.NiftiGz, fileformats.medimage.nifti.NiftiX, fileformats.medimage.nifti.Nifti1, fileformats.medimage.nifti.Nifti2, fileformats.medimage_mrtrix3.dwi.NiftiB, fileformats.medimage_mrtrix3.dwi.NiftiGzB, fileformats.medimage_mrtrix3.dwi.NiftiGzXB, fileformats.medimage_mrtrix3.dwi.NiftiXB, fileformats.medimage.misc.Mgh, fileformats.medimage.misc.MghGz, fileformats.medimage.misc.Analyze] (and will not be able to be coerced to one that is)",
     "output_type": "error",
     "traceback": [
      "\u001b[0;31m---------------------------------------------------------------------------\u001b[0m",
      "\u001b[0;31mTypeError\u001b[0m                                 Traceback (most recent call last)",
      "File \u001b[0;32m/usr/share/miniconda/lib/python3.12/site-packages/pydra/utils/typing.py:224\u001b[0m, in \u001b[0;36mTypeParser.__call__\u001b[0;34m(self, obj)\u001b[0m\n\u001b[1;32m    223\u001b[0m \u001b[38;5;28;01mtry\u001b[39;00m:\n\u001b[0;32m--> 224\u001b[0m     \u001b[38;5;28;43mself\u001b[39;49m\u001b[38;5;241;43m.\u001b[39;49m\u001b[43mcheck_type\u001b[49m\u001b[43m(\u001b[49m\u001b[43mobj\u001b[49m\u001b[38;5;241;43m.\u001b[39;49m\u001b[43m_type\u001b[49m\u001b[43m)\u001b[49m\n\u001b[1;32m    225\u001b[0m \u001b[38;5;28;01mexcept\u001b[39;00m \u001b[38;5;167;01mTypeError\u001b[39;00m \u001b[38;5;28;01mas\u001b[39;00m e:\n",
      "File \u001b[0;32m/usr/share/miniconda/lib/python3.12/site-packages/pydra/utils/typing.py:592\u001b[0m, in \u001b[0;36mTypeParser.check_type\u001b[0;34m(self, type_)\u001b[0m\n\u001b[1;32m    591\u001b[0m \u001b[38;5;28;01mif\u001b[39;00m \u001b[38;5;129;01mnot\u001b[39;00m \u001b[38;5;28misinstance\u001b[39m(\u001b[38;5;28mself\u001b[39m\u001b[38;5;241m.\u001b[39mpattern, \u001b[38;5;28mtuple\u001b[39m) \u001b[38;5;129;01mor\u001b[39;00m \u001b[38;5;28mself\u001b[39m\u001b[38;5;241m.\u001b[39mpattern[\u001b[38;5;241m0\u001b[39m] \u001b[38;5;241m!=\u001b[39m MultiInputObj:\n\u001b[0;32m--> 592\u001b[0m     \u001b[38;5;28;01mraise\u001b[39;00m e\n\u001b[1;32m    593\u001b[0m \u001b[38;5;66;03m# Attempt to coerce the object into arg type of the MultiInputObj first,\u001b[39;00m\n\u001b[1;32m    594\u001b[0m \u001b[38;5;66;03m# and if that fails, try to coerce it into a list of the arg type\u001b[39;00m\n",
      "File \u001b[0;32m/usr/share/miniconda/lib/python3.12/site-packages/pydra/utils/typing.py:588\u001b[0m, in \u001b[0;36mTypeParser.check_type\u001b[0;34m(self, type_)\u001b[0m\n\u001b[1;32m    587\u001b[0m \u001b[38;5;28;01mtry\u001b[39;00m:\n\u001b[0;32m--> 588\u001b[0m     \u001b[38;5;28;01mreturn\u001b[39;00m \u001b[43mexpand_and_check\u001b[49m\u001b[43m(\u001b[49m\u001b[43mtype_\u001b[49m\u001b[43m,\u001b[49m\u001b[43m \u001b[49m\u001b[38;5;28;43mself\u001b[39;49m\u001b[38;5;241;43m.\u001b[39;49m\u001b[43mpattern\u001b[49m\u001b[43m)\u001b[49m\n\u001b[1;32m    589\u001b[0m \u001b[38;5;28;01mexcept\u001b[39;00m \u001b[38;5;167;01mTypeError\u001b[39;00m \u001b[38;5;28;01mas\u001b[39;00m e:\n\u001b[1;32m    590\u001b[0m     \u001b[38;5;66;03m# Special handling for MultiInputObjects (which are annoying)\u001b[39;00m\n",
      "File \u001b[0;32m/usr/share/miniconda/lib/python3.12/site-packages/pydra/utils/typing.py:461\u001b[0m, in \u001b[0;36mTypeParser.check_type.<locals>.expand_and_check\u001b[0;34m(tp, pattern)\u001b[0m\n\u001b[1;32m    460\u001b[0m \u001b[38;5;28;01mif\u001b[39;00m pattern_origin \u001b[38;5;129;01min\u001b[39;00m UNION_TYPES:\n\u001b[0;32m--> 461\u001b[0m     \u001b[38;5;28;01mreturn\u001b[39;00m \u001b[43mcheck_union\u001b[49m\u001b[43m(\u001b[49m\u001b[43mtp\u001b[49m\u001b[43m,\u001b[49m\u001b[43m \u001b[49m\u001b[43mpattern_args\u001b[49m\u001b[43m)\u001b[49m\n\u001b[1;32m    462\u001b[0m tp_origin \u001b[38;5;241m=\u001b[39m get_origin(tp)\n",
      "File \u001b[0;32m/usr/share/miniconda/lib/python3.12/site-packages/pydra/utils/typing.py:527\u001b[0m, in \u001b[0;36mTypeParser.check_type.<locals>.check_union\u001b[0;34m(tp, pattern_args)\u001b[0m\n\u001b[1;32m    526\u001b[0m         determiner \u001b[38;5;241m=\u001b[39m \u001b[38;5;124m\"\u001b[39m\u001b[38;5;124many\u001b[39m\u001b[38;5;124m\"\u001b[39m \u001b[38;5;28;01mif\u001b[39;00m \u001b[38;5;28mself\u001b[39m\u001b[38;5;241m.\u001b[39mmatch_any_of_union \u001b[38;5;28;01melse\u001b[39;00m \u001b[38;5;124m\"\u001b[39m\u001b[38;5;124mall\u001b[39m\u001b[38;5;124m\"\u001b[39m\n\u001b[0;32m--> 527\u001b[0m         \u001b[38;5;28;01mraise\u001b[39;00m \u001b[38;5;167;01mTypeError\u001b[39;00m(\n\u001b[1;32m    528\u001b[0m             \u001b[38;5;124mf\u001b[39m\u001b[38;5;124m\"\u001b[39m\u001b[38;5;124mCannot coerce \u001b[39m\u001b[38;5;132;01m{\u001b[39;00mtp\u001b[38;5;132;01m}\u001b[39;00m\u001b[38;5;124m to ty.Union[\u001b[39m\u001b[38;5;124m\"\u001b[39m\n\u001b[1;32m    529\u001b[0m             \u001b[38;5;124mf\u001b[39m\u001b[38;5;124m\"\u001b[39m\u001b[38;5;132;01m{\u001b[39;00m\u001b[38;5;124m'\u001b[39m\u001b[38;5;124m, \u001b[39m\u001b[38;5;124m'\u001b[39m\u001b[38;5;241m.\u001b[39mjoin(\u001b[38;5;28mstr\u001b[39m(a)\u001b[38;5;250m \u001b[39m\u001b[38;5;28;01mfor\u001b[39;00m\u001b[38;5;250m \u001b[39ma\u001b[38;5;250m \u001b[39m\u001b[38;5;129;01min\u001b[39;00m\u001b[38;5;250m \u001b[39mpattern_args)\u001b[38;5;132;01m}\u001b[39;00m\u001b[38;5;124m]\u001b[39m\u001b[38;5;132;01m{\u001b[39;00m\u001b[38;5;28mself\u001b[39m\u001b[38;5;241m.\u001b[39mlabel_str\u001b[38;5;132;01m}\u001b[39;00m\u001b[38;5;124m, \u001b[39m\u001b[38;5;124m\"\u001b[39m\n\u001b[1;32m    530\u001b[0m             \u001b[38;5;124mf\u001b[39m\u001b[38;5;124m\"\u001b[39m\u001b[38;5;124mbecause \u001b[39m\u001b[38;5;132;01m{\u001b[39;00mtp_arg\u001b[38;5;132;01m}\u001b[39;00m\u001b[38;5;124m cannot be coerced to \u001b[39m\u001b[38;5;132;01m{\u001b[39;00mdeterminer\u001b[38;5;132;01m}\u001b[39;00m\u001b[38;5;124m of its args:\u001b[39m\u001b[38;5;130;01m\\n\u001b[39;00m\u001b[38;5;130;01m\\n\u001b[39;00m\u001b[38;5;124m\"\u001b[39m\n\u001b[1;32m    531\u001b[0m             \u001b[38;5;241m+\u001b[39m \u001b[38;5;124m\"\u001b[39m\u001b[38;5;130;01m\\n\u001b[39;00m\u001b[38;5;130;01m\\n\u001b[39;00m\u001b[38;5;124m\"\u001b[39m\u001b[38;5;241m.\u001b[39mjoin(\n\u001b[1;32m    532\u001b[0m                 \u001b[38;5;124mf\u001b[39m\u001b[38;5;124m\"\u001b[39m\u001b[38;5;132;01m{\u001b[39;00ma\u001b[38;5;132;01m}\u001b[39;00m\u001b[38;5;124m -> \u001b[39m\u001b[38;5;132;01m{\u001b[39;00me\u001b[38;5;132;01m}\u001b[39;00m\u001b[38;5;124m\"\u001b[39m \u001b[38;5;28;01mfor\u001b[39;00m a, e \u001b[38;5;129;01min\u001b[39;00m \u001b[38;5;28mzip\u001b[39m(pattern_args, reasons)\n\u001b[1;32m    533\u001b[0m             )\n\u001b[1;32m    534\u001b[0m         )\n\u001b[1;32m    535\u001b[0m \u001b[38;5;28;01mreturn\u001b[39;00m\n",
      "\u001b[0;31mTypeError\u001b[0m: Cannot coerce typing.Union[fileformats.medimage_mrtrix3.image.ImageFormat, fileformats.medimage_mrtrix3.image.ImageFormatGz, fileformats.medimage_mrtrix3.image.ImageHeader, fileformats.medimage_mrtrix3.dwi.ImageFormatB, fileformats.medimage_mrtrix3.dwi.ImageFormatGzB, fileformats.medimage_mrtrix3.dwi.ImageHeaderB, fileformats.medimage.nifti.NiftiGzX, fileformats.medimage.nifti.NiftiGz, fileformats.medimage.nifti.NiftiX, fileformats.medimage.nifti.Nifti1, fileformats.medimage.nifti.Nifti2, fileformats.medimage_mrtrix3.dwi.NiftiB, fileformats.medimage_mrtrix3.dwi.NiftiGzB, fileformats.medimage_mrtrix3.dwi.NiftiGzXB, fileformats.medimage_mrtrix3.dwi.NiftiXB, fileformats.medimage.diffusion.NiftiBvec, fileformats.medimage.diffusion.NiftiGzBvec, fileformats.medimage.diffusion.NiftiXBvec, fileformats.medimage.diffusion.NiftiGzXBvec, fileformats.medimage.misc.Mgh, fileformats.medimage.misc.MghGz, fileformats.medimage.misc.Analyze, NoneType] to ty.Union[<class 'fileformats.medimage_mrtrix3.image.ImageFormat'>, <class 'fileformats.medimage_mrtrix3.image.ImageFormatGz'>, <class 'fileformats.medimage_mrtrix3.image.ImageHeader'>, <class 'fileformats.medimage_mrtrix3.dwi.ImageFormatB'>, <class 'fileformats.medimage_mrtrix3.dwi.ImageFormatGzB'>, <class 'fileformats.medimage_mrtrix3.dwi.ImageHeaderB'>, <class 'fileformats.medimage.dicom.DicomImage'>, <class 'fileformats.medimage.dicom.DicomDir'>, <class 'fileformats.medimage.nifti.NiftiGzX'>, <class 'fileformats.medimage.nifti.NiftiGz'>, <class 'fileformats.medimage.nifti.NiftiX'>, <class 'fileformats.medimage.nifti.Nifti1'>, <class 'fileformats.medimage.nifti.Nifti2'>, <class 'fileformats.medimage_mrtrix3.dwi.NiftiB'>, <class 'fileformats.medimage_mrtrix3.dwi.NiftiGzB'>, <class 'fileformats.medimage_mrtrix3.dwi.NiftiGzXB'>, <class 'fileformats.medimage_mrtrix3.dwi.NiftiXB'>, <class 'fileformats.medimage.misc.Mgh'>, <class 'fileformats.medimage.misc.MghGz'>, <class 'fileformats.medimage.misc.Analyze'>] in 'in_file' field of MrConvert interface , because <class 'NoneType'> cannot be coerced to all of its args:\n\n<class 'fileformats.medimage_mrtrix3.image.ImageFormat'> -> Cannot coerce <class 'NoneType'> into <class 'fileformats.medimage_mrtrix3.image.ImageFormat'> in 'in_file' field of MrConvert interface  as the coercion doesn't match any of the explicit inclusion criteria: Sequence -> Sequence, Mapping -> Mapping, Path -> PathLike, str -> PathLike, PathLike -> Path, PathLike -> str, Any -> MultiInputObj, int -> float, Integer -> float, int -> Decimal, Boolean -> bool, Decimal -> float, Integer -> int, Text -> str, bool -> Boolean, float -> Decimal, int -> Integer, str -> Text, integer -> int, floating -> float, bool -> bool, integer -> float, character -> str, complexfloating -> complex, bytes_ -> bytes, ndarray -> Sequence, Sequence -> ndarray\n\n<class 'fileformats.medimage_mrtrix3.image.ImageFormatGz'> -> Cannot coerce <class 'NoneType'> into <class 'fileformats.medimage_mrtrix3.image.ImageFormatGz'> in 'in_file' field of MrConvert interface  as the coercion doesn't match any of the explicit inclusion criteria: Sequence -> Sequence, Mapping -> Mapping, Path -> PathLike, str -> PathLike, PathLike -> Path, PathLike -> str, Any -> MultiInputObj, int -> float, Integer -> float, int -> Decimal, Boolean -> bool, Decimal -> float, Integer -> int, Text -> str, bool -> Boolean, float -> Decimal, int -> Integer, str -> Text, integer -> int, floating -> float, bool -> bool, integer -> float, character -> str, complexfloating -> complex, bytes_ -> bytes, ndarray -> Sequence, Sequence -> ndarray\n\n<class 'fileformats.medimage_mrtrix3.image.ImageHeader'> -> Cannot coerce <class 'NoneType'> into <class 'fileformats.medimage_mrtrix3.image.ImageHeader'> in 'in_file' field of MrConvert interface  as the coercion doesn't match any of the explicit inclusion criteria: Sequence -> Sequence, Mapping -> Mapping, Path -> PathLike, str -> PathLike, PathLike -> Path, PathLike -> str, Any -> MultiInputObj, int -> float, Integer -> float, int -> Decimal, Boolean -> bool, Decimal -> float, Integer -> int, Text -> str, bool -> Boolean, float -> Decimal, int -> Integer, str -> Text, integer -> int, floating -> float, bool -> bool, integer -> float, character -> str, complexfloating -> complex, bytes_ -> bytes, ndarray -> Sequence, Sequence -> ndarray\n\n<class 'fileformats.medimage_mrtrix3.dwi.ImageFormatB'> -> Cannot coerce <class 'NoneType'> into <class 'fileformats.medimage_mrtrix3.dwi.ImageFormatB'> in 'in_file' field of MrConvert interface  as the coercion doesn't match any of the explicit inclusion criteria: Sequence -> Sequence, Mapping -> Mapping, Path -> PathLike, str -> PathLike, PathLike -> Path, PathLike -> str, Any -> MultiInputObj, int -> float, Integer -> float, int -> Decimal, Boolean -> bool, Decimal -> float, Integer -> int, Text -> str, bool -> Boolean, float -> Decimal, int -> Integer, str -> Text, integer -> int, floating -> float, bool -> bool, integer -> float, character -> str, complexfloating -> complex, bytes_ -> bytes, ndarray -> Sequence, Sequence -> ndarray\n\n<class 'fileformats.medimage_mrtrix3.dwi.ImageFormatGzB'> -> Cannot coerce <class 'NoneType'> into <class 'fileformats.medimage_mrtrix3.dwi.ImageFormatGzB'> in 'in_file' field of MrConvert interface  as the coercion doesn't match any of the explicit inclusion criteria: Sequence -> Sequence, Mapping -> Mapping, Path -> PathLike, str -> PathLike, PathLike -> Path, PathLike -> str, Any -> MultiInputObj, int -> float, Integer -> float, int -> Decimal, Boolean -> bool, Decimal -> float, Integer -> int, Text -> str, bool -> Boolean, float -> Decimal, int -> Integer, str -> Text, integer -> int, floating -> float, bool -> bool, integer -> float, character -> str, complexfloating -> complex, bytes_ -> bytes, ndarray -> Sequence, Sequence -> ndarray\n\n<class 'fileformats.medimage_mrtrix3.dwi.ImageHeaderB'> -> Cannot coerce <class 'NoneType'> into <class 'fileformats.medimage_mrtrix3.dwi.ImageHeaderB'> in 'in_file' field of MrConvert interface  as the coercion doesn't match any of the explicit inclusion criteria: Sequence -> Sequence, Mapping -> Mapping, Path -> PathLike, str -> PathLike, PathLike -> Path, PathLike -> str, Any -> MultiInputObj, int -> float, Integer -> float, int -> Decimal, Boolean -> bool, Decimal -> float, Integer -> int, Text -> str, bool -> Boolean, float -> Decimal, int -> Integer, str -> Text, integer -> int, floating -> float, bool -> bool, integer -> float, character -> str, complexfloating -> complex, bytes_ -> bytes, ndarray -> Sequence, Sequence -> ndarray\n\n<class 'fileformats.medimage.dicom.DicomImage'> -> Cannot coerce <class 'NoneType'> into <class 'fileformats.medimage.dicom.DicomImage'> in 'in_file' field of MrConvert interface  as the coercion doesn't match any of the explicit inclusion criteria: Sequence -> Sequence, Mapping -> Mapping, Path -> PathLike, str -> PathLike, PathLike -> Path, PathLike -> str, Any -> MultiInputObj, int -> float, Integer -> float, int -> Decimal, Boolean -> bool, Decimal -> float, Integer -> int, Text -> str, bool -> Boolean, float -> Decimal, int -> Integer, str -> Text, integer -> int, floating -> float, bool -> bool, integer -> float, character -> str, complexfloating -> complex, bytes_ -> bytes, ndarray -> Sequence, Sequence -> ndarray\n\n<class 'fileformats.medimage.dicom.DicomDir'> -> Cannot coerce <class 'NoneType'> into <class 'fileformats.medimage.dicom.DicomDir'> in 'in_file' field of MrConvert interface  as the coercion doesn't match any of the explicit inclusion criteria: Sequence -> Sequence, Mapping -> Mapping, Path -> PathLike, str -> PathLike, PathLike -> Path, PathLike -> str, Any -> MultiInputObj, int -> float, Integer -> float, int -> Decimal, Boolean -> bool, Decimal -> float, Integer -> int, Text -> str, bool -> Boolean, float -> Decimal, int -> Integer, str -> Text, integer -> int, floating -> float, bool -> bool, integer -> float, character -> str, complexfloating -> complex, bytes_ -> bytes, ndarray -> Sequence, Sequence -> ndarray\n\n<class 'fileformats.medimage.nifti.NiftiGzX'> -> Cannot coerce <class 'NoneType'> into <class 'fileformats.medimage.nifti.NiftiGzX'> in 'in_file' field of MrConvert interface  as the coercion doesn't match any of the explicit inclusion criteria: Sequence -> Sequence, Mapping -> Mapping, Path -> PathLike, str -> PathLike, PathLike -> Path, PathLike -> str, Any -> MultiInputObj, int -> float, Integer -> float, int -> Decimal, Boolean -> bool, Decimal -> float, Integer -> int, Text -> str, bool -> Boolean, float -> Decimal, int -> Integer, str -> Text, integer -> int, floating -> float, bool -> bool, integer -> float, character -> str, complexfloating -> complex, bytes_ -> bytes, ndarray -> Sequence, Sequence -> ndarray\n\n<class 'fileformats.medimage.nifti.NiftiGz'> -> Cannot coerce <class 'NoneType'> into <class 'fileformats.medimage.nifti.NiftiGz'> in 'in_file' field of MrConvert interface  as the coercion doesn't match any of the explicit inclusion criteria: Sequence -> Sequence, Mapping -> Mapping, Path -> PathLike, str -> PathLike, PathLike -> Path, PathLike -> str, Any -> MultiInputObj, int -> float, Integer -> float, int -> Decimal, Boolean -> bool, Decimal -> float, Integer -> int, Text -> str, bool -> Boolean, float -> Decimal, int -> Integer, str -> Text, integer -> int, floating -> float, bool -> bool, integer -> float, character -> str, complexfloating -> complex, bytes_ -> bytes, ndarray -> Sequence, Sequence -> ndarray\n\n<class 'fileformats.medimage.nifti.NiftiX'> -> Cannot coerce <class 'NoneType'> into <class 'fileformats.medimage.nifti.NiftiX'> in 'in_file' field of MrConvert interface  as the coercion doesn't match any of the explicit inclusion criteria: Sequence -> Sequence, Mapping -> Mapping, Path -> PathLike, str -> PathLike, PathLike -> Path, PathLike -> str, Any -> MultiInputObj, int -> float, Integer -> float, int -> Decimal, Boolean -> bool, Decimal -> float, Integer -> int, Text -> str, bool -> Boolean, float -> Decimal, int -> Integer, str -> Text, integer -> int, floating -> float, bool -> bool, integer -> float, character -> str, complexfloating -> complex, bytes_ -> bytes, ndarray -> Sequence, Sequence -> ndarray\n\n<class 'fileformats.medimage.nifti.Nifti1'> -> Cannot coerce <class 'NoneType'> into <class 'fileformats.medimage.nifti.Nifti1'> in 'in_file' field of MrConvert interface  as the coercion doesn't match any of the explicit inclusion criteria: Sequence -> Sequence, Mapping -> Mapping, Path -> PathLike, str -> PathLike, PathLike -> Path, PathLike -> str, Any -> MultiInputObj, int -> float, Integer -> float, int -> Decimal, Boolean -> bool, Decimal -> float, Integer -> int, Text -> str, bool -> Boolean, float -> Decimal, int -> Integer, str -> Text, integer -> int, floating -> float, bool -> bool, integer -> float, character -> str, complexfloating -> complex, bytes_ -> bytes, ndarray -> Sequence, Sequence -> ndarray\n\n<class 'fileformats.medimage.nifti.Nifti2'> -> Cannot coerce <class 'NoneType'> into <class 'fileformats.medimage.nifti.Nifti2'> in 'in_file' field of MrConvert interface  as the coercion doesn't match any of the explicit inclusion criteria: Sequence -> Sequence, Mapping -> Mapping, Path -> PathLike, str -> PathLike, PathLike -> Path, PathLike -> str, Any -> MultiInputObj, int -> float, Integer -> float, int -> Decimal, Boolean -> bool, Decimal -> float, Integer -> int, Text -> str, bool -> Boolean, float -> Decimal, int -> Integer, str -> Text, integer -> int, floating -> float, bool -> bool, integer -> float, character -> str, complexfloating -> complex, bytes_ -> bytes, ndarray -> Sequence, Sequence -> ndarray\n\n<class 'fileformats.medimage_mrtrix3.dwi.NiftiB'> -> Cannot coerce <class 'NoneType'> into <class 'fileformats.medimage_mrtrix3.dwi.NiftiB'> in 'in_file' field of MrConvert interface  as the coercion doesn't match any of the explicit inclusion criteria: Sequence -> Sequence, Mapping -> Mapping, Path -> PathLike, str -> PathLike, PathLike -> Path, PathLike -> str, Any -> MultiInputObj, int -> float, Integer -> float, int -> Decimal, Boolean -> bool, Decimal -> float, Integer -> int, Text -> str, bool -> Boolean, float -> Decimal, int -> Integer, str -> Text, integer -> int, floating -> float, bool -> bool, integer -> float, character -> str, complexfloating -> complex, bytes_ -> bytes, ndarray -> Sequence, Sequence -> ndarray\n\n<class 'fileformats.medimage_mrtrix3.dwi.NiftiGzB'> -> Cannot coerce <class 'NoneType'> into <class 'fileformats.medimage_mrtrix3.dwi.NiftiGzB'> in 'in_file' field of MrConvert interface  as the coercion doesn't match any of the explicit inclusion criteria: Sequence -> Sequence, Mapping -> Mapping, Path -> PathLike, str -> PathLike, PathLike -> Path, PathLike -> str, Any -> MultiInputObj, int -> float, Integer -> float, int -> Decimal, Boolean -> bool, Decimal -> float, Integer -> int, Text -> str, bool -> Boolean, float -> Decimal, int -> Integer, str -> Text, integer -> int, floating -> float, bool -> bool, integer -> float, character -> str, complexfloating -> complex, bytes_ -> bytes, ndarray -> Sequence, Sequence -> ndarray\n\n<class 'fileformats.medimage_mrtrix3.dwi.NiftiGzXB'> -> Cannot coerce <class 'NoneType'> into <class 'fileformats.medimage_mrtrix3.dwi.NiftiGzXB'> in 'in_file' field of MrConvert interface  as the coercion doesn't match any of the explicit inclusion criteria: Sequence -> Sequence, Mapping -> Mapping, Path -> PathLike, str -> PathLike, PathLike -> Path, PathLike -> str, Any -> MultiInputObj, int -> float, Integer -> float, int -> Decimal, Boolean -> bool, Decimal -> float, Integer -> int, Text -> str, bool -> Boolean, float -> Decimal, int -> Integer, str -> Text, integer -> int, floating -> float, bool -> bool, integer -> float, character -> str, complexfloating -> complex, bytes_ -> bytes, ndarray -> Sequence, Sequence -> ndarray\n\n<class 'fileformats.medimage_mrtrix3.dwi.NiftiXB'> -> Cannot coerce <class 'NoneType'> into <class 'fileformats.medimage_mrtrix3.dwi.NiftiXB'> in 'in_file' field of MrConvert interface  as the coercion doesn't match any of the explicit inclusion criteria: Sequence -> Sequence, Mapping -> Mapping, Path -> PathLike, str -> PathLike, PathLike -> Path, PathLike -> str, Any -> MultiInputObj, int -> float, Integer -> float, int -> Decimal, Boolean -> bool, Decimal -> float, Integer -> int, Text -> str, bool -> Boolean, float -> Decimal, int -> Integer, str -> Text, integer -> int, floating -> float, bool -> bool, integer -> float, character -> str, complexfloating -> complex, bytes_ -> bytes, ndarray -> Sequence, Sequence -> ndarray\n\n<class 'fileformats.medimage.misc.Mgh'> -> Cannot coerce <class 'NoneType'> into <class 'fileformats.medimage.misc.Mgh'> in 'in_file' field of MrConvert interface  as the coercion doesn't match any of the explicit inclusion criteria: Sequence -> Sequence, Mapping -> Mapping, Path -> PathLike, str -> PathLike, PathLike -> Path, PathLike -> str, Any -> MultiInputObj, int -> float, Integer -> float, int -> Decimal, Boolean -> bool, Decimal -> float, Integer -> int, Text -> str, bool -> Boolean, float -> Decimal, int -> Integer, str -> Text, integer -> int, floating -> float, bool -> bool, integer -> float, character -> str, complexfloating -> complex, bytes_ -> bytes, ndarray -> Sequence, Sequence -> ndarray\n\n<class 'fileformats.medimage.misc.MghGz'> -> Cannot coerce <class 'NoneType'> into <class 'fileformats.medimage.misc.MghGz'> in 'in_file' field of MrConvert interface  as the coercion doesn't match any of the explicit inclusion criteria: Sequence -> Sequence, Mapping -> Mapping, Path -> PathLike, str -> PathLike, PathLike -> Path, PathLike -> str, Any -> MultiInputObj, int -> float, Integer -> float, int -> Decimal, Boolean -> bool, Decimal -> float, Integer -> int, Text -> str, bool -> Boolean, float -> Decimal, int -> Integer, str -> Text, integer -> int, floating -> float, bool -> bool, integer -> float, character -> str, complexfloating -> complex, bytes_ -> bytes, ndarray -> Sequence, Sequence -> ndarray\n\n<class 'fileformats.medimage.misc.Analyze'> -> Cannot coerce <class 'NoneType'> into <class 'fileformats.medimage.misc.Analyze'> in 'in_file' field of MrConvert interface  as the coercion doesn't match any of the explicit inclusion criteria: Sequence -> Sequence, Mapping -> Mapping, Path -> PathLike, str -> PathLike, PathLike -> Path, PathLike -> str, Any -> MultiInputObj, int -> float, Integer -> float, int -> Decimal, Boolean -> bool, Decimal -> float, Integer -> int, Text -> str, bool -> Boolean, float -> Decimal, int -> Integer, str -> Text, integer -> int, floating -> float, bool -> bool, integer -> float, character -> str, complexfloating -> complex, bytes_ -> bytes, ndarray -> Sequence, Sequence -> ndarray",
      "\nThe above exception was the direct cause of the following exception:\n",
      "\u001b[0;31mTypeError\u001b[0m                                 Traceback (most recent call last)",
      "Cell \u001b[0;32mIn[11], line 59\u001b[0m\n\u001b[1;32m     55\u001b[0m nifti_file \u001b[38;5;241m=\u001b[39m Nifti1\u001b[38;5;241m.\u001b[39msample(test_dir, seed\u001b[38;5;241m=\u001b[39m\u001b[38;5;241m0\u001b[39m)\n\u001b[1;32m     57\u001b[0m wf \u001b[38;5;241m=\u001b[39m ToyMedianThreshold(in_image\u001b[38;5;241m=\u001b[39mnifti_file)\n\u001b[0;32m---> 59\u001b[0m outputs \u001b[38;5;241m=\u001b[39m \u001b[43mwf\u001b[49m\u001b[43m(\u001b[49m\u001b[43m)\u001b[49m\n\u001b[1;32m     61\u001b[0m \u001b[38;5;28mprint\u001b[39m(outputs)\n",
      "File \u001b[0;32m/usr/share/miniconda/lib/python3.12/site-packages/pydra/engine/specs.py:243\u001b[0m, in \u001b[0;36mTaskDef.__call__\u001b[0;34m(self, cache_dir, worker, environment, rerun, cache_locations, audit_flags, messengers, messenger_args, name, hooks, **kwargs)\u001b[0m\n\u001b[1;32m    231\u001b[0m \u001b[38;5;28;01mtry\u001b[39;00m:\n\u001b[1;32m    232\u001b[0m     \u001b[38;5;28;01mwith\u001b[39;00m Submitter(\n\u001b[1;32m    233\u001b[0m         audit_flags\u001b[38;5;241m=\u001b[39maudit_flags,\n\u001b[1;32m    234\u001b[0m         cache_dir\u001b[38;5;241m=\u001b[39mcache_dir,\n\u001b[0;32m   (...)\u001b[0m\n\u001b[1;32m    241\u001b[0m         \u001b[38;5;241m*\u001b[39m\u001b[38;5;241m*\u001b[39mkwargs,\n\u001b[1;32m    242\u001b[0m     ) \u001b[38;5;28;01mas\u001b[39;00m sub:\n\u001b[0;32m--> 243\u001b[0m         result \u001b[38;5;241m=\u001b[39m \u001b[43msub\u001b[49m\u001b[43m(\u001b[49m\n\u001b[1;32m    244\u001b[0m \u001b[43m            \u001b[49m\u001b[38;5;28;43mself\u001b[39;49m\u001b[43m,\u001b[49m\n\u001b[1;32m    245\u001b[0m \u001b[43m            \u001b[49m\u001b[43mname\u001b[49m\u001b[38;5;241;43m=\u001b[39;49m\u001b[43mname\u001b[49m\u001b[43m,\u001b[49m\n\u001b[1;32m    246\u001b[0m \u001b[43m            \u001b[49m\u001b[43mhooks\u001b[49m\u001b[38;5;241;43m=\u001b[39;49m\u001b[43mhooks\u001b[49m\u001b[43m,\u001b[49m\n\u001b[1;32m    247\u001b[0m \u001b[43m        \u001b[49m\u001b[43m)\u001b[49m\n\u001b[1;32m    248\u001b[0m \u001b[38;5;28;01mexcept\u001b[39;00m \u001b[38;5;167;01mTypeError\u001b[39;00m \u001b[38;5;28;01mas\u001b[39;00m e:\n\u001b[1;32m    249\u001b[0m     \u001b[38;5;66;03m# Catch any inadvertent passing of task definition parameters to the\u001b[39;00m\n\u001b[1;32m    250\u001b[0m     \u001b[38;5;66;03m# execution call\u001b[39;00m\n\u001b[1;32m    251\u001b[0m     \u001b[38;5;28;01mif\u001b[39;00m \u001b[38;5;28mhasattr\u001b[39m(e, \u001b[38;5;124m\"\u001b[39m\u001b[38;5;124m__notes__\u001b[39m\u001b[38;5;124m\"\u001b[39m) \u001b[38;5;129;01mand\u001b[39;00m WORKER_KWARG_FAIL_NOTE \u001b[38;5;129;01min\u001b[39;00m e\u001b[38;5;241m.\u001b[39m__notes__:\n",
      "File \u001b[0;32m/usr/share/miniconda/lib/python3.12/site-packages/pydra/engine/submitter.py:218\u001b[0m, in \u001b[0;36mSubmitter.__call__\u001b[0;34m(self, task_def, name, hooks)\u001b[0m\n\u001b[1;32m    213\u001b[0m \u001b[38;5;28;01mexcept\u001b[39;00m \u001b[38;5;167;01mException\u001b[39;00m \u001b[38;5;28;01mas\u001b[39;00m e:\n\u001b[1;32m    214\u001b[0m     e\u001b[38;5;241m.\u001b[39madd_note(\n\u001b[1;32m    215\u001b[0m         \u001b[38;5;124mf\u001b[39m\u001b[38;5;124m\"\u001b[39m\u001b[38;5;124mFull crash report for \u001b[39m\u001b[38;5;132;01m{\u001b[39;00m\u001b[38;5;28mtype\u001b[39m(task_def)\u001b[38;5;241m.\u001b[39m\u001b[38;5;18m__name__\u001b[39m\u001b[38;5;132;01m!r}\u001b[39;00m\u001b[38;5;124m task is here: \u001b[39m\u001b[38;5;124m\"\u001b[39m\n\u001b[1;32m    216\u001b[0m         \u001b[38;5;241m+\u001b[39m \u001b[38;5;28mstr\u001b[39m(task\u001b[38;5;241m.\u001b[39moutput_dir \u001b[38;5;241m/\u001b[39m \u001b[38;5;124m\"\u001b[39m\u001b[38;5;124m_error.pklz\u001b[39m\u001b[38;5;124m\"\u001b[39m)\n\u001b[1;32m    217\u001b[0m     )\n\u001b[0;32m--> 218\u001b[0m     \u001b[38;5;28;01mraise\u001b[39;00m e\n\u001b[1;32m    219\u001b[0m \u001b[38;5;28;01mfinally\u001b[39;00m:\n\u001b[1;32m    220\u001b[0m     \u001b[38;5;28mself\u001b[39m\u001b[38;5;241m.\u001b[39mrun_start_time \u001b[38;5;241m=\u001b[39m \u001b[38;5;28;01mNone\u001b[39;00m\n",
      "File \u001b[0;32m/usr/share/miniconda/lib/python3.12/site-packages/pydra/engine/submitter.py:212\u001b[0m, in \u001b[0;36mSubmitter.__call__\u001b[0;34m(self, task_def, name, hooks)\u001b[0m\n\u001b[1;32m    208\u001b[0m         \u001b[38;5;28mself\u001b[39m\u001b[38;5;241m.\u001b[39mloop\u001b[38;5;241m.\u001b[39mrun_until_complete(\n\u001b[1;32m    209\u001b[0m             \u001b[38;5;28mself\u001b[39m\u001b[38;5;241m.\u001b[39mworker\u001b[38;5;241m.\u001b[39mrun_async(task, rerun\u001b[38;5;241m=\u001b[39m\u001b[38;5;28mself\u001b[39m\u001b[38;5;241m.\u001b[39mrerun)\n\u001b[1;32m    210\u001b[0m         )\n\u001b[1;32m    211\u001b[0m     \u001b[38;5;28;01melse\u001b[39;00m:\n\u001b[0;32m--> 212\u001b[0m         \u001b[38;5;28;43mself\u001b[39;49m\u001b[38;5;241;43m.\u001b[39;49m\u001b[43mworker\u001b[49m\u001b[38;5;241;43m.\u001b[39;49m\u001b[43mrun\u001b[49m\u001b[43m(\u001b[49m\u001b[43mtask\u001b[49m\u001b[43m,\u001b[49m\u001b[43m \u001b[49m\u001b[43mrerun\u001b[49m\u001b[38;5;241;43m=\u001b[39;49m\u001b[38;5;28;43mself\u001b[39;49m\u001b[38;5;241;43m.\u001b[39;49m\u001b[43mrerun\u001b[49m\u001b[43m)\u001b[49m\n\u001b[1;32m    213\u001b[0m \u001b[38;5;28;01mexcept\u001b[39;00m \u001b[38;5;167;01mException\u001b[39;00m \u001b[38;5;28;01mas\u001b[39;00m e:\n\u001b[1;32m    214\u001b[0m     e\u001b[38;5;241m.\u001b[39madd_note(\n\u001b[1;32m    215\u001b[0m         \u001b[38;5;124mf\u001b[39m\u001b[38;5;124m\"\u001b[39m\u001b[38;5;124mFull crash report for \u001b[39m\u001b[38;5;132;01m{\u001b[39;00m\u001b[38;5;28mtype\u001b[39m(task_def)\u001b[38;5;241m.\u001b[39m\u001b[38;5;18m__name__\u001b[39m\u001b[38;5;132;01m!r}\u001b[39;00m\u001b[38;5;124m task is here: \u001b[39m\u001b[38;5;124m\"\u001b[39m\n\u001b[1;32m    216\u001b[0m         \u001b[38;5;241m+\u001b[39m \u001b[38;5;28mstr\u001b[39m(task\u001b[38;5;241m.\u001b[39moutput_dir \u001b[38;5;241m/\u001b[39m \u001b[38;5;124m\"\u001b[39m\u001b[38;5;124m_error.pklz\u001b[39m\u001b[38;5;124m\"\u001b[39m)\n\u001b[1;32m    217\u001b[0m     )\n",
      "File \u001b[0;32m/usr/share/miniconda/lib/python3.12/site-packages/pydra/engine/workers.py:163\u001b[0m, in \u001b[0;36mDebugWorker.run\u001b[0;34m(self, task, rerun)\u001b[0m\n\u001b[1;32m    157\u001b[0m \u001b[38;5;28;01mdef\u001b[39;00m \u001b[38;5;21mrun\u001b[39m(\n\u001b[1;32m    158\u001b[0m     \u001b[38;5;28mself\u001b[39m,\n\u001b[1;32m    159\u001b[0m     task: \u001b[38;5;124m\"\u001b[39m\u001b[38;5;124mTask[DefType]\u001b[39m\u001b[38;5;124m\"\u001b[39m,\n\u001b[1;32m    160\u001b[0m     rerun: \u001b[38;5;28mbool\u001b[39m \u001b[38;5;241m=\u001b[39m \u001b[38;5;28;01mFalse\u001b[39;00m,\n\u001b[1;32m    161\u001b[0m ) \u001b[38;5;241m-\u001b[39m\u001b[38;5;241m>\u001b[39m \u001b[38;5;124m\"\u001b[39m\u001b[38;5;124mResult\u001b[39m\u001b[38;5;124m\"\u001b[39m:\n\u001b[1;32m    162\u001b[0m \u001b[38;5;250m    \u001b[39m\u001b[38;5;124;03m\"\"\"Run a task.\"\"\"\u001b[39;00m\n\u001b[0;32m--> 163\u001b[0m     \u001b[38;5;28;01mreturn\u001b[39;00m \u001b[43mtask\u001b[49m\u001b[38;5;241;43m.\u001b[39;49m\u001b[43mrun\u001b[49m\u001b[43m(\u001b[49m\u001b[43mrerun\u001b[49m\u001b[38;5;241;43m=\u001b[39;49m\u001b[43mrerun\u001b[49m\u001b[43m)\u001b[49m\n",
      "File \u001b[0;32m/usr/share/miniconda/lib/python3.12/site-packages/pydra/engine/core.py:367\u001b[0m, in \u001b[0;36mTask.run\u001b[0;34m(self, rerun)\u001b[0m\n\u001b[1;32m    365\u001b[0m \u001b[38;5;28;01mtry\u001b[39;00m:\n\u001b[1;32m    366\u001b[0m     \u001b[38;5;28mself\u001b[39m\u001b[38;5;241m.\u001b[39maudit\u001b[38;5;241m.\u001b[39mmonitor()\n\u001b[0;32m--> 367\u001b[0m     \u001b[38;5;28;43mself\u001b[39;49m\u001b[38;5;241;43m.\u001b[39;49m\u001b[43mdefinition\u001b[49m\u001b[38;5;241;43m.\u001b[39;49m\u001b[43m_run\u001b[49m\u001b[43m(\u001b[49m\u001b[38;5;28;43mself\u001b[39;49m\u001b[43m)\u001b[49m\n\u001b[1;32m    368\u001b[0m     result\u001b[38;5;241m.\u001b[39moutputs \u001b[38;5;241m=\u001b[39m \u001b[38;5;28mself\u001b[39m\u001b[38;5;241m.\u001b[39mdefinition\u001b[38;5;241m.\u001b[39mOutputs\u001b[38;5;241m.\u001b[39m_from_task(\u001b[38;5;28mself\u001b[39m)\n\u001b[1;32m    369\u001b[0m \u001b[38;5;28;01mexcept\u001b[39;00m \u001b[38;5;167;01mException\u001b[39;00m:\n",
      "File \u001b[0;32m/usr/share/miniconda/lib/python3.12/site-packages/pydra/engine/specs.py:810\u001b[0m, in \u001b[0;36mWorkflowDef._run\u001b[0;34m(self, task)\u001b[0m\n\u001b[1;32m    808\u001b[0m \u001b[38;5;28;01mdef\u001b[39;00m \u001b[38;5;21m_run\u001b[39m(\u001b[38;5;28mself\u001b[39m, task: \u001b[38;5;124m\"\u001b[39m\u001b[38;5;124mTask[WorkflowDef]\u001b[39m\u001b[38;5;124m\"\u001b[39m) \u001b[38;5;241m-\u001b[39m\u001b[38;5;241m>\u001b[39m \u001b[38;5;28;01mNone\u001b[39;00m:\n\u001b[1;32m    809\u001b[0m \u001b[38;5;250m    \u001b[39m\u001b[38;5;124;03m\"\"\"Run the workflow.\"\"\"\u001b[39;00m\n\u001b[0;32m--> 810\u001b[0m     \u001b[43mtask\u001b[49m\u001b[38;5;241;43m.\u001b[39;49m\u001b[43msubmitter\u001b[49m\u001b[38;5;241;43m.\u001b[39;49m\u001b[43mexpand_workflow\u001b[49m\u001b[43m(\u001b[49m\u001b[43mtask\u001b[49m\u001b[43m)\u001b[49m\n",
      "File \u001b[0;32m/usr/share/miniconda/lib/python3.12/site-packages/pydra/engine/submitter.py:261\u001b[0m, in \u001b[0;36mSubmitter.expand_workflow\u001b[0;34m(self, workflow_task)\u001b[0m\n\u001b[1;32m    251\u001b[0m \u001b[38;5;250m\u001b[39m\u001b[38;5;124;03m\"\"\"Expands and executes a workflow task synchronously. Typically only used during\u001b[39;00m\n\u001b[1;32m    252\u001b[0m \u001b[38;5;124;03mdebugging and testing, as the asynchronous version is more efficient.\u001b[39;00m\n\u001b[1;32m    253\u001b[0m \n\u001b[0;32m   (...)\u001b[0m\n\u001b[1;32m    258\u001b[0m \n\u001b[1;32m    259\u001b[0m \u001b[38;5;124;03m\"\"\"\u001b[39;00m\n\u001b[1;32m    260\u001b[0m \u001b[38;5;66;03m# Construct the workflow\u001b[39;00m\n\u001b[0;32m--> 261\u001b[0m wf \u001b[38;5;241m=\u001b[39m \u001b[43mworkflow_task\u001b[49m\u001b[38;5;241;43m.\u001b[39;49m\u001b[43mdefinition\u001b[49m\u001b[38;5;241;43m.\u001b[39;49m\u001b[43mconstruct\u001b[49m\u001b[43m(\u001b[49m\u001b[43m)\u001b[49m\n\u001b[1;32m    262\u001b[0m \u001b[38;5;66;03m# Generate the execution graph\u001b[39;00m\n\u001b[1;32m    263\u001b[0m exec_graph \u001b[38;5;241m=\u001b[39m wf\u001b[38;5;241m.\u001b[39mexecution_graph(submitter\u001b[38;5;241m=\u001b[39m\u001b[38;5;28mself\u001b[39m)\n",
      "File \u001b[0;32m/usr/share/miniconda/lib/python3.12/site-packages/pydra/engine/specs.py:821\u001b[0m, in \u001b[0;36mWorkflowDef.construct\u001b[0;34m(self)\u001b[0m\n\u001b[1;32m    819\u001b[0m \u001b[38;5;28;01mif\u001b[39;00m \u001b[38;5;28mself\u001b[39m\u001b[38;5;241m.\u001b[39m_constructed \u001b[38;5;129;01mis\u001b[39;00m \u001b[38;5;129;01mnot\u001b[39;00m \u001b[38;5;28;01mNone\u001b[39;00m:\n\u001b[1;32m    820\u001b[0m     \u001b[38;5;28;01mreturn\u001b[39;00m \u001b[38;5;28mself\u001b[39m\u001b[38;5;241m.\u001b[39m_constructed\n\u001b[0;32m--> 821\u001b[0m \u001b[38;5;28mself\u001b[39m\u001b[38;5;241m.\u001b[39m_constructed \u001b[38;5;241m=\u001b[39m \u001b[43mWorkflow\u001b[49m\u001b[38;5;241;43m.\u001b[39;49m\u001b[43mconstruct\u001b[49m\u001b[43m(\u001b[49m\u001b[38;5;28;43mself\u001b[39;49m\u001b[43m)\u001b[49m\n\u001b[1;32m    822\u001b[0m \u001b[38;5;28;01mreturn\u001b[39;00m \u001b[38;5;28mself\u001b[39m\u001b[38;5;241m.\u001b[39m_constructed\n",
      "File \u001b[0;32m/usr/share/miniconda/lib/python3.12/site-packages/pydra/engine/core.py:690\u001b[0m, in \u001b[0;36mWorkflow.construct\u001b[0;34m(cls, definition)\u001b[0m\n\u001b[1;32m    688\u001b[0m constructor \u001b[38;5;241m=\u001b[39m input_values\u001b[38;5;241m.\u001b[39mpop(\u001b[38;5;124m\"\u001b[39m\u001b[38;5;124mconstructor\u001b[39m\u001b[38;5;124m\"\u001b[39m)\n\u001b[1;32m    689\u001b[0m \u001b[38;5;66;03m# Call the user defined constructor to set the outputs\u001b[39;00m\n\u001b[0;32m--> 690\u001b[0m output_lazy_fields \u001b[38;5;241m=\u001b[39m \u001b[43mconstructor\u001b[49m\u001b[43m(\u001b[49m\u001b[38;5;241;43m*\u001b[39;49m\u001b[38;5;241;43m*\u001b[39;49m\u001b[43minput_values\u001b[49m\u001b[43m)\u001b[49m\n\u001b[1;32m    691\u001b[0m \u001b[38;5;66;03m# Check to see whether any mandatory inputs are not set\u001b[39;00m\n\u001b[1;32m    692\u001b[0m \u001b[38;5;28;01mfor\u001b[39;00m node \u001b[38;5;129;01min\u001b[39;00m workflow\u001b[38;5;241m.\u001b[39mnodes:\n",
      "Cell \u001b[0;32mIn[11], line 45\u001b[0m, in \u001b[0;36mToyMedianThreshold\u001b[0;34m(in_image)\u001b[0m\n\u001b[1;32m     35\u001b[0m median \u001b[38;5;241m=\u001b[39m workflow\u001b[38;5;241m.\u001b[39madd(Median(data_file\u001b[38;5;241m=\u001b[39mselect_data\u001b[38;5;241m.\u001b[39mout))\n\u001b[1;32m     36\u001b[0m threshold \u001b[38;5;241m=\u001b[39m workflow\u001b[38;5;241m.\u001b[39madd(\n\u001b[1;32m     37\u001b[0m     MrThreshold(\n\u001b[1;32m     38\u001b[0m         in_file\u001b[38;5;241m=\u001b[39min_image,\n\u001b[0;32m   (...)\u001b[0m\n\u001b[1;32m     41\u001b[0m     environment\u001b[38;5;241m=\u001b[39mDocker(\u001b[38;5;124m\"\u001b[39m\u001b[38;5;124mmrtrix3/mrtrix3\u001b[39m\u001b[38;5;124m\"\u001b[39m, tag\u001b[38;5;241m=\u001b[39m\u001b[38;5;124m\"\u001b[39m\u001b[38;5;124m\"\u001b[39m)\n\u001b[1;32m     42\u001b[0m )\n\u001b[1;32m     44\u001b[0m output_conversion \u001b[38;5;241m=\u001b[39m workflow\u001b[38;5;241m.\u001b[39madd(\n\u001b[0;32m---> 45\u001b[0m     \u001b[43mMrConvert\u001b[49m\u001b[43m(\u001b[49m\u001b[43min_file\u001b[49m\u001b[38;5;241;43m=\u001b[39;49m\u001b[43mthreshold\u001b[49m\u001b[38;5;241;43m.\u001b[39;49m\u001b[43mout_file\u001b[49m\u001b[43m,\u001b[49m\u001b[43m \u001b[49m\u001b[43mout_file\u001b[49m\u001b[38;5;241;43m=\u001b[39;49m\u001b[38;5;124;43m\"\u001b[39;49m\u001b[38;5;124;43mout_image.mif\u001b[39;49m\u001b[38;5;124;43m\"\u001b[39;49m\u001b[43m)\u001b[49m,\n\u001b[1;32m     46\u001b[0m     name\u001b[38;5;241m=\u001b[39m\u001b[38;5;124m\"\u001b[39m\u001b[38;5;124moutput_conversion\u001b[39m\u001b[38;5;124m\"\u001b[39m,\n\u001b[1;32m     47\u001b[0m     environment\u001b[38;5;241m=\u001b[39mDocker(\u001b[38;5;124m\"\u001b[39m\u001b[38;5;124mmrtrix3/mrtrix3\u001b[39m\u001b[38;5;124m\"\u001b[39m, tag\u001b[38;5;241m=\u001b[39m\u001b[38;5;124m\"\u001b[39m\u001b[38;5;124mlatest\u001b[39m\u001b[38;5;124m\"\u001b[39m),\n\u001b[1;32m     48\u001b[0m )\n\u001b[1;32m     50\u001b[0m \u001b[38;5;28;01mreturn\u001b[39;00m output_conversion\u001b[38;5;241m.\u001b[39mout_file\n",
      "File \u001b[0;32m<attrs generated init pydra.tasks.mrtrix3.v3_0.mrconvert.MrConvert>:26\u001b[0m, in \u001b[0;36m__init__\u001b[0;34m(self, additional_args, append_property, axes, bvalue_scaling, clear_property, config, coord, copy_properties, datatype, debug, force, fslgrad, grad, import_pe_eddy, import_pe_table, in_file, info, json_import, nthreads, quiet, scaling, set_property, strides, vox, export_grad_fsl, export_grad_mrtrix, export_pe_eddy, export_pe_table, json_export, out_file, executable)\u001b[0m\n\u001b[1;32m     24\u001b[0m _setattr(\u001b[38;5;124m'\u001b[39m\u001b[38;5;124mimport_pe_table\u001b[39m\u001b[38;5;124m'\u001b[39m, __attr_converter_import_pe_table(import_pe_table))\n\u001b[1;32m     25\u001b[0m \u001b[38;5;28;01mif\u001b[39;00m in_file \u001b[38;5;129;01mis\u001b[39;00m \u001b[38;5;129;01mnot\u001b[39;00m NOTHING:\n\u001b[0;32m---> 26\u001b[0m     _setattr(\u001b[38;5;124m'\u001b[39m\u001b[38;5;124min_file\u001b[39m\u001b[38;5;124m'\u001b[39m, \u001b[43m__attr_converter_in_file\u001b[49m\u001b[43m(\u001b[49m\u001b[43min_file\u001b[49m\u001b[43m)\u001b[49m)\n\u001b[1;32m     27\u001b[0m \u001b[38;5;28;01melse\u001b[39;00m:\n\u001b[1;32m     28\u001b[0m     _setattr(\u001b[38;5;124m'\u001b[39m\u001b[38;5;124min_file\u001b[39m\u001b[38;5;124m'\u001b[39m, __attr_converter_in_file(__attr_factory_in_file()))\n",
      "File \u001b[0;32m/usr/share/miniconda/lib/python3.12/site-packages/pydra/utils/typing.py:235\u001b[0m, in \u001b[0;36mTypeParser.__call__\u001b[0;34m(self, obj)\u001b[0m\n\u001b[1;32m    231\u001b[0m     TypeParser(obj\u001b[38;5;241m.\u001b[39m_type, match_any_of_union\u001b[38;5;241m=\u001b[39m\u001b[38;5;28;01mTrue\u001b[39;00m)\u001b[38;5;241m.\u001b[39mcheck_type(\n\u001b[1;32m    232\u001b[0m         \u001b[38;5;28mself\u001b[39m\u001b[38;5;241m.\u001b[39mtp\n\u001b[1;32m    233\u001b[0m     )\n\u001b[1;32m    234\u001b[0m \u001b[38;5;28;01mexcept\u001b[39;00m \u001b[38;5;167;01mTypeError\u001b[39;00m:\n\u001b[0;32m--> 235\u001b[0m     \u001b[38;5;28;01mraise\u001b[39;00m \u001b[38;5;167;01mTypeError\u001b[39;00m(\n\u001b[1;32m    236\u001b[0m         \u001b[38;5;124mf\u001b[39m\u001b[38;5;124m\"\u001b[39m\u001b[38;5;124mIncorrect type for lazy field\u001b[39m\u001b[38;5;132;01m{\u001b[39;00m\u001b[38;5;28mself\u001b[39m\u001b[38;5;241m.\u001b[39mlabel_str\u001b[38;5;132;01m}\u001b[39;00m\u001b[38;5;124m: \u001b[39m\u001b[38;5;132;01m{\u001b[39;00mobj\u001b[38;5;241m.\u001b[39m_type\u001b[38;5;132;01m!r}\u001b[39;00m\u001b[38;5;124m \u001b[39m\u001b[38;5;124m\"\u001b[39m\n\u001b[1;32m    237\u001b[0m         \u001b[38;5;124mf\u001b[39m\u001b[38;5;124m\"\u001b[39m\u001b[38;5;124mis not a subclass or superclass of \u001b[39m\u001b[38;5;132;01m{\u001b[39;00m\u001b[38;5;28mself\u001b[39m\u001b[38;5;241m.\u001b[39mtp\u001b[38;5;132;01m}\u001b[39;00m\u001b[38;5;124m (and will not \u001b[39m\u001b[38;5;124m\"\u001b[39m\n\u001b[1;32m    238\u001b[0m         \u001b[38;5;124m\"\u001b[39m\u001b[38;5;124mbe able to be coerced to one that is)\u001b[39m\u001b[38;5;124m\"\u001b[39m\n\u001b[1;32m    239\u001b[0m     ) \u001b[38;5;28;01mfrom\u001b[39;00m \u001b[38;5;21;01me\u001b[39;00m\n\u001b[1;32m    240\u001b[0m \u001b[38;5;28;01melse\u001b[39;00m:\n\u001b[1;32m    241\u001b[0m     logger\u001b[38;5;241m.\u001b[39minfo(\n\u001b[1;32m    242\u001b[0m         \u001b[38;5;124m\"\u001b[39m\u001b[38;5;124mConnecting lazy field \u001b[39m\u001b[38;5;132;01m%s\u001b[39;00m\u001b[38;5;124m to \u001b[39m\u001b[38;5;132;01m%s\u001b[39;00m\u001b[38;5;132;01m%s\u001b[39;00m\u001b[38;5;124m via permissive typing that \u001b[39m\u001b[38;5;124m\"\u001b[39m\n\u001b[1;32m    243\u001b[0m         \u001b[38;5;124m\"\u001b[39m\u001b[38;5;124mallows super-to-sub type connections\u001b[39m\u001b[38;5;124m\"\u001b[39m,\n\u001b[0;32m   (...)\u001b[0m\n\u001b[1;32m    246\u001b[0m         \u001b[38;5;28mself\u001b[39m\u001b[38;5;241m.\u001b[39mlabel_str,\n\u001b[1;32m    247\u001b[0m     )\n",
      "\u001b[0;31mTypeError\u001b[0m: Incorrect type for lazy field in 'in_file' field of MrConvert interface : typing.Union[fileformats.medimage_mrtrix3.image.ImageFormat, fileformats.medimage_mrtrix3.image.ImageFormatGz, fileformats.medimage_mrtrix3.image.ImageHeader, fileformats.medimage_mrtrix3.dwi.ImageFormatB, fileformats.medimage_mrtrix3.dwi.ImageFormatGzB, fileformats.medimage_mrtrix3.dwi.ImageHeaderB, fileformats.medimage.nifti.NiftiGzX, fileformats.medimage.nifti.NiftiGz, fileformats.medimage.nifti.NiftiX, fileformats.medimage.nifti.Nifti1, fileformats.medimage.nifti.Nifti2, fileformats.medimage_mrtrix3.dwi.NiftiB, fileformats.medimage_mrtrix3.dwi.NiftiGzB, fileformats.medimage_mrtrix3.dwi.NiftiGzXB, fileformats.medimage_mrtrix3.dwi.NiftiXB, fileformats.medimage.diffusion.NiftiBvec, fileformats.medimage.diffusion.NiftiGzBvec, fileformats.medimage.diffusion.NiftiXBvec, fileformats.medimage.diffusion.NiftiGzXBvec, fileformats.medimage.misc.Mgh, fileformats.medimage.misc.MghGz, fileformats.medimage.misc.Analyze, NoneType] is not a subclass or superclass of typing.Union[fileformats.medimage_mrtrix3.image.ImageFormat, fileformats.medimage_mrtrix3.image.ImageFormatGz, fileformats.medimage_mrtrix3.image.ImageHeader, fileformats.medimage_mrtrix3.dwi.ImageFormatB, fileformats.medimage_mrtrix3.dwi.ImageFormatGzB, fileformats.medimage_mrtrix3.dwi.ImageHeaderB, fileformats.medimage.dicom.DicomImage, fileformats.medimage.dicom.DicomDir, fileformats.medimage.nifti.NiftiGzX, fileformats.medimage.nifti.NiftiGz, fileformats.medimage.nifti.NiftiX, fileformats.medimage.nifti.Nifti1, fileformats.medimage.nifti.Nifti2, fileformats.medimage_mrtrix3.dwi.NiftiB, fileformats.medimage_mrtrix3.dwi.NiftiGzB, fileformats.medimage_mrtrix3.dwi.NiftiGzXB, fileformats.medimage_mrtrix3.dwi.NiftiXB, fileformats.medimage.misc.Mgh, fileformats.medimage.misc.MghGz, fileformats.medimage.misc.Analyze] (and will not be able to be coerced to one that is)",
      "\u001b[0mFull crash report for 'ToyMedianThreshold' task is here: /home/runner/.cache/pydra/0.25.dev216+ga56b61e5/run-cache/workflow-88f5e9bbc693291c11214422a41c24bb/_error.pklz"
     ]
    }
   ],
   "source": [
    "import tempfile\n",
    "import numpy as np\n",
    "from fileformats.medimage import Nifti1\n",
    "import fileformats.medimage_mrtrix3 as mrtrix3\n",
    "from pydra.engine.environments import Docker\n",
    "from pydra.design import workflow, python\n",
    "from pydra.tasks.mrtrix3.v3_0 import MrConvert, MrThreshold\n",
    "\n",
    "@workflow.define(outputs=[\"out_image\"])\n",
    "def ToyMedianThreshold(in_image: Nifti1) -> mrtrix3.ImageFormat:\n",
    "    \"\"\"A toy example workflow that\n",
    "\n",
    "    * converts a NIfTI image to MRTrix3 image format with a separate header\n",
    "    * loads the separate data file and selects the median value\n",
    "    \"\"\"\n",
    "\n",
    "    input_conversion = workflow.add(\n",
    "        MrConvert(in_file=in_image, out_file=\"out_file.mih\"),\n",
    "        name=\"input_conversion\",\n",
    "        environment=Docker(\"mrtrix3/mrtrix3\", tag=\"latest\"),\n",
    "    )\n",
    "\n",
    "\n",
    "    @python.define\n",
    "    def SelectDataFile(in_file: mrtrix3.ImageHeader) -> mrtrix3.ImageDataFile:\n",
    "        return in_file.data_file\n",
    "\n",
    "    select_data = workflow.add(SelectDataFile(in_file=input_conversion.out_file))\n",
    "\n",
    "    @python.define\n",
    "    def Median(data_file: mrtrix3.ImageDataFile) -> float:\n",
    "        data = np.load(data_file)\n",
    "        return np.median(data)\n",
    "\n",
    "    median = workflow.add(Median(data_file=select_data.out))\n",
    "    threshold = workflow.add(\n",
    "        MrThreshold(\n",
    "            in_file=in_image,\n",
    "            abs=median.out\n",
    "        ),                     \n",
    "        environment=Docker(\"mrtrix3/mrtrix3\", tag=\"\")\n",
    "    )\n",
    "\n",
    "    output_conversion = workflow.add(\n",
    "        MrConvert(in_file=threshold.out_file, out_file=\"out_image.mif\"),\n",
    "        name=\"output_conversion\",\n",
    "        environment=Docker(\"mrtrix3/mrtrix3\", tag=\"latest\"),\n",
    "    )\n",
    "\n",
    "    return output_conversion.out_file\n",
    "\n",
    "\n",
    "test_dir = tempfile.mkdtemp()\n",
    "\n",
    "nifti_file = Nifti1.sample(test_dir, seed=0)\n",
    "\n",
    "wf = ToyMedianThreshold(in_image=nifti_file)\n",
    "\n",
    "outputs = wf()\n",
    "\n",
    "print(outputs)"
   ]
  },
  {
   "cell_type": "markdown",
   "metadata": {},
   "source": [
    "See [Containers and Environments](../explanation/environments.rst) for more details on\n",
    "how to utilise containers and add support for other software environments."
   ]
  },
  {
   "cell_type": "markdown",
   "metadata": {},
   "source": []
  }
 ],
 "metadata": {
  "kernelspec": {
   "display_name": "wf12",
   "language": "python",
   "name": "python3"
  },
  "language_info": {
   "codemirror_mode": {
    "name": "ipython",
    "version": 3
   },
   "file_extension": ".py",
   "mimetype": "text/x-python",
   "name": "python",
   "nbconvert_exporter": "python",
   "pygments_lexer": "ipython3",
   "version": "3.12.8"
  }
 },
 "nbformat": 4,
 "nbformat_minor": 4
}
