{
 "cells": [
  {
   "cell_type": "markdown",
   "metadata": {},
   "source": [
    "# Advanced execution\n",
    "\n",
    "One of the key design features of Pydra is the separation between the parameterisation of\n",
    "the task to be executed, and the parameresiation of where and how the task should be\n",
    "executed (e.g. on the cloud, on a HPC cluster, ...). This tutorial steps you through\n",
    "some of the available options for executing a task.\n",
    "\n",
    "[![Binder](https://mybinder.org/badge_logo.svg)](https://mybinder.org/v2/gh/nipype/pydra-tutorial/develop/notebooks/tutorial/advanced_execution.ipynb)\n",
    "\n",
    "Remember that before attempting to run multi-process code in Jupyter notebooks, the\n",
    "following snippet must be called"
   ]
  },
  {
   "cell_type": "code",
   "execution_count": 1,
   "metadata": {
    "execution": {
     "iopub.execute_input": "2025-02-13T22:32:49.292791Z",
     "iopub.status.busy": "2025-02-13T22:32:49.292600Z",
     "iopub.status.idle": "2025-02-13T22:32:49.295986Z",
     "shell.execute_reply": "2025-02-13T22:32:49.295593Z"
    }
   },
   "outputs": [],
   "source": [
    "import nest_asyncio\n",
    "nest_asyncio.apply()"
   ]
  },
  {
   "cell_type": "markdown",
   "metadata": {},
   "source": [
    "## Submitter\n",
    "\n",
    "If you want to access a richer `Result` object you can use a Submitter object to initiate\n",
    "the task execution. For example, using the `TenToThePower` task from the testing package"
   ]
  },
  {
   "cell_type": "code",
   "execution_count": 2,
   "metadata": {
    "execution": {
     "iopub.execute_input": "2025-02-13T22:32:49.297463Z",
     "iopub.status.busy": "2025-02-13T22:32:49.297305Z",
     "iopub.status.idle": "2025-02-13T22:32:49.887540Z",
     "shell.execute_reply": "2025-02-13T22:32:49.887106Z"
    }
   },
   "outputs": [
    {
     "name": "stderr",
     "output_type": "stream",
     "text": [
      "A newer version (0.25) of nipype/pydra is available. You are using 0.25.dev215+ga4e0b126\n"
     ]
    },
    {
     "name": "stdout",
     "output_type": "stream",
     "text": [
      "Result(output_dir=PosixPath('/home/runner/.cache/pydra/0.25.dev215+ga4e0b126/run-cache/python-425c2576a48f771273fc025773a7c6e1'), outputs=TenToThePowerOutputs(out=1000), runtime=None, errored=False, definition=TenToThePower(p=3, function=<function TenToThePower at 0x7fabf07c09a0>))\n"
     ]
    }
   ],
   "source": [
    "from pydra.engine.submitter import Submitter\n",
    "from pydra.tasks.testing import TenToThePower\n",
    "\n",
    "\n",
    "ten_to_the_power = TenToThePower(p=3)\n",
    "\n",
    "with Submitter() as submitter:\n",
    "    result = submitter(ten_to_the_power)\n",
    "\n",
    "print(result)"
   ]
  },
  {
   "cell_type": "markdown",
   "metadata": {},
   "source": [
    "The `Result` object contains\n",
    "\n",
    "* `output`: the outputs of the task (if there is only one output it is called `out` by default)\n",
    "* `runtime`: information about the peak memory and CPU usage\n",
    "* `errored`: the error status of the task\n",
    "* `task`: the task object that generated the results\n",
    "* `output_dir`: the output directory the results are stored in"
   ]
  },
  {
   "cell_type": "markdown",
   "metadata": {},
   "source": [
    "## Workers\n",
    "\n",
    "Pydra supports several workers with which to execute tasks\n",
    "\n",
    "- `debug` (default)\n",
    "- `cf`\n",
    "- `slurm`\n",
    "- `sge`\n",
    "- `psij`\n",
    "- `dask` (experimental)\n",
    "\n",
    "By default, the *debug* worker is used, which runs tasks serially in a single process\n",
    "without use of the `asyncio` module. This makes it easier to debug errors in workflows\n",
    "and python tasks, however, when using in Pydra in production you will typically want to\n",
    "parallelise the execution for efficiency.\n",
    "\n",
    "If running on a local workstation, then the `cf` (*ConcurrentFutures*) worker is a good\n",
    "option because it is able to spread the tasks to be run over multiple processes and\n",
    "maximise CPU usage.\n",
    "\n",
    "If you have access to a high-performance cluster (HPC) then\n",
    "the [SLURM](https://slurm.schedmd.com/documentation.html) and\n",
    "[SGE](https://www.metagenomics.wiki/tools/hpc-sge) and [PSI/J](https://exaworks.org/psij)\n",
    "workers can be used to submit each workflow node as separate jobs to the HPC scheduler.\n",
    "There is also an experimental [Dask](https://www.dask.org/) worker, which provides a\n",
    "range of execution backends to choose from.\n",
    "\n",
    "To specify a worker, the abbreviation can be passed either as a string or using the\n",
    "class itself. Additional parameters can be passed to the worker initialisation as keyword\n",
    "arguments to the execution call. For example, if we wanted to run five tasks using the\n",
    "ConcurentFutures worker but only use three CPUs, we can pass `n_procs=3` to the execution\n",
    "call.\n",
    "\n",
    "Remember that when calling multi-process code in a top level script the call must be\n",
    "enclosed within a `if __name__ == \"__main__\"` block to allow the worker processes to\n",
    "import the module without re-executing it."
   ]
  },
  {
   "cell_type": "code",
   "execution_count": 3,
   "metadata": {
    "execution": {
     "iopub.execute_input": "2025-02-13T22:32:49.889445Z",
     "iopub.status.busy": "2025-02-13T22:32:49.888945Z",
     "iopub.status.idle": "2025-02-13T22:32:50.003737Z",
     "shell.execute_reply": "2025-02-13T22:32:50.003253Z"
    }
   },
   "outputs": [
    {
     "name": "stdout",
     "output_type": "stream",
     "text": [
      "10^5 = 100000\n"
     ]
    }
   ],
   "source": [
    "import tempfile\n",
    "\n",
    "cache_root = tempfile.mkdtemp()\n",
    "\n",
    "if __name__ == \"__main__\":\n",
    "\n",
    "    ten_to_the_power = TenToThePower().split(p=[1, 2, 3, 4, 5])\n",
    "\n",
    "    # Run the 5 tasks in parallel split across 3 processes\n",
    "    outputs = ten_to_the_power(worker=\"cf\", n_procs=3, cache_dir=cache_root)\n",
    "\n",
    "    p1, p2, p3, p4, p5 = outputs.out\n",
    "\n",
    "    print(f\"10^5 = {p5}\")"
   ]
  },
  {
   "cell_type": "markdown",
   "metadata": {},
   "source": [
    "Alternatively, the worker object can be initialised in the calling code and passed directly to the execution call"
   ]
  },
  {
   "cell_type": "code",
   "execution_count": 4,
   "metadata": {
    "execution": {
     "iopub.execute_input": "2025-02-13T22:32:50.005729Z",
     "iopub.status.busy": "2025-02-13T22:32:50.005252Z",
     "iopub.status.idle": "2025-02-13T22:32:50.102831Z",
     "shell.execute_reply": "2025-02-13T22:32:50.102259Z"
    }
   },
   "outputs": [
    {
     "name": "stdout",
     "output_type": "stream",
     "text": [
      "10^10 = 10000000000\n"
     ]
    }
   ],
   "source": [
    "from pydra.engine.workers import ConcurrentFuturesWorker\n",
    "\n",
    "ten_to_the_power = TenToThePower().split(p=[6, 7, 8, 9, 10])\n",
    "\n",
    "# Run the 5 tasks in parallel split across 3 processes\n",
    "outputs = ten_to_the_power(worker=ConcurrentFuturesWorker(n_procs=3))\n",
    "\n",
    "p6, p7, p8, p9, p10 = outputs.out\n",
    "\n",
    "print(f\"10^10 = {p10}\")"
   ]
  },
  {
   "cell_type": "markdown",
   "metadata": {},
   "source": [
    "## Reusing previously generated results\n",
    "\n",
    "Pydra caches all task results in the runtime cache (see [File-system locations](./1-getting-started.html##File-system-locations))\n",
    "as long as exactly the hashes of the inputs provided to the task are the same. Here we\n",
    "go through some of the practicalities of this caching and hashing (see\n",
    "[Caches and hashes](../explanation/hashing-caching.html) for more details and issues\n",
    "to consider).\n",
    "\n",
    "First we import the functions and classes we need andcreate some sample NIfTI files to work with"
   ]
  },
  {
   "cell_type": "code",
   "execution_count": 5,
   "metadata": {
    "execution": {
     "iopub.execute_input": "2025-02-13T22:32:50.104638Z",
     "iopub.status.busy": "2025-02-13T22:32:50.104418Z",
     "iopub.status.idle": "2025-02-13T22:32:50.588054Z",
     "shell.execute_reply": "2025-02-13T22:32:50.587449Z"
    }
   },
   "outputs": [],
   "source": [
    "from pathlib import Path\n",
    "import tempfile\n",
    "from pprint import pprint\n",
    "from fileformats.medimage import Nifti1\n",
    "from pydra.engine.submitter import Submitter\n",
    "from pydra.tasks.mrtrix3.v3_0 import MrGrid\n",
    "\n",
    "# Make a temporary directory\n",
    "test_dir = Path(tempfile.mkdtemp())\n",
    "nifti_dir = test_dir / \"nifti\"\n",
    "nifti_dir.mkdir()\n",
    "\n",
    "# Generate some random NIfTI files to work with\n",
    "nifti_files = [Nifti1.sample(nifti_dir, seed=i) for i in range(10)]"
   ]
  },
  {
   "cell_type": "markdown",
   "metadata": {},
   "source": [
    "If we attempt to run the same task with the same parameterisation the cache directory\n",
    "will point to the same location and the results will be reused"
   ]
  },
  {
   "cell_type": "code",
   "execution_count": 6,
   "metadata": {
    "execution": {
     "iopub.execute_input": "2025-02-13T22:32:50.590050Z",
     "iopub.status.busy": "2025-02-13T22:32:50.589882Z",
     "iopub.status.idle": "2025-02-13T22:32:51.139484Z",
     "shell.execute_reply": "2025-02-13T22:32:51.138900Z"
    }
   },
   "outputs": [
    {
     "ename": "RuntimeError",
     "evalue": "Error running 'MrGrid' task with ['mrgrid', '/tmp/tmp6_52dmm5/nifti/0UAqFzWsDK4FrUMp48Y3tT3Q.nii', 'regrid', '/tmp/tmp6_52dmm5/cache/shell-b70952aaf1f98d57a954334cc3df37b5/out_file.mif', '-voxel', '0.5,0.5,0.5']:\n\nstderr:\nmrgrid: \u001b[01;31m[ERROR] image \"/tmp/tmp6_52dmm5/nifti/0UAqFzWsDK4FrUMp48Y3tT3Q.nii\" is not in NIFTI-1.1 format (sizeof_hdr != 348)\u001b[0m\nmrgrid: \u001b[01;31m[ERROR] image \"/tmp/tmp6_52dmm5/nifti/0UAqFzWsDK4FrUMp48Y3tT3Q.nii\" is not in NIFTI-2 format (sizeof_hdr != 540)\u001b[0m\nmrgrid: \u001b[01;31m[ERROR] unknown format for image \"/tmp/tmp6_52dmm5/nifti/0UAqFzWsDK4FrUMp48Y3tT3Q.nii\"\u001b[0m\nmrgrid: \u001b[01;31m[ERROR] error opening image \"/tmp/tmp6_52dmm5/nifti/0UAqFzWsDK4FrUMp48Y3tT3Q.nii\"\u001b[0m\n",
     "output_type": "error",
     "traceback": [
      "\u001b[0;31m---------------------------------------------------------------------------\u001b[0m",
      "\u001b[0;31mRuntimeError\u001b[0m                              Traceback (most recent call last)",
      "Cell \u001b[0;32mIn[6], line 26\u001b[0m\n\u001b[1;32m     22\u001b[0m submitter \u001b[38;5;241m=\u001b[39m Submitter(cache_dir\u001b[38;5;241m=\u001b[39mtest_dir \u001b[38;5;241m/\u001b[39m \u001b[38;5;124m\"\u001b[39m\u001b[38;5;124mcache\u001b[39m\u001b[38;5;124m\"\u001b[39m)\n\u001b[1;32m     25\u001b[0m \u001b[38;5;28;01mwith\u001b[39;00m submitter:\n\u001b[0;32m---> 26\u001b[0m     result1 \u001b[38;5;241m=\u001b[39m \u001b[43msubmitter\u001b[49m\u001b[43m(\u001b[49m\u001b[43mmrgrid_varying_vox\u001b[49m\u001b[43m)\u001b[49m\n\u001b[1;32m     29\u001b[0m mrgrid_varying_vox2 \u001b[38;5;241m=\u001b[39m MrGrid(operation\u001b[38;5;241m=\u001b[39m\u001b[38;5;124m\"\u001b[39m\u001b[38;5;124mregrid\u001b[39m\u001b[38;5;124m\"\u001b[39m)\u001b[38;5;241m.\u001b[39msplit(\n\u001b[1;32m     30\u001b[0m     (\u001b[38;5;124m\"\u001b[39m\u001b[38;5;124min_file\u001b[39m\u001b[38;5;124m\"\u001b[39m, \u001b[38;5;124m\"\u001b[39m\u001b[38;5;124mvoxel\u001b[39m\u001b[38;5;124m\"\u001b[39m),\n\u001b[1;32m     31\u001b[0m     in_file\u001b[38;5;241m=\u001b[39mnifti_files,\n\u001b[1;32m     32\u001b[0m     voxel\u001b[38;5;241m=\u001b[39mcopy(VOX_SIZES),\n\u001b[1;32m     33\u001b[0m )\n\u001b[1;32m     35\u001b[0m \u001b[38;5;66;03m# Result from previous run is reused as the task and inputs are identical\u001b[39;00m\n",
      "File \u001b[0;32m/usr/share/miniconda/lib/python3.12/site-packages/pydra/engine/submitter.py:218\u001b[0m, in \u001b[0;36mSubmitter.__call__\u001b[0;34m(self, task_def, name, hooks)\u001b[0m\n\u001b[1;32m    213\u001b[0m \u001b[38;5;28;01mexcept\u001b[39;00m \u001b[38;5;167;01mException\u001b[39;00m \u001b[38;5;28;01mas\u001b[39;00m e:\n\u001b[1;32m    214\u001b[0m     e\u001b[38;5;241m.\u001b[39madd_note(\n\u001b[1;32m    215\u001b[0m         \u001b[38;5;124mf\u001b[39m\u001b[38;5;124m\"\u001b[39m\u001b[38;5;124mFull crash report for \u001b[39m\u001b[38;5;132;01m{\u001b[39;00m\u001b[38;5;28mtype\u001b[39m(task_def)\u001b[38;5;241m.\u001b[39m\u001b[38;5;18m__name__\u001b[39m\u001b[38;5;132;01m!r}\u001b[39;00m\u001b[38;5;124m task is here: \u001b[39m\u001b[38;5;124m\"\u001b[39m\n\u001b[1;32m    216\u001b[0m         \u001b[38;5;241m+\u001b[39m \u001b[38;5;28mstr\u001b[39m(task\u001b[38;5;241m.\u001b[39moutput_dir \u001b[38;5;241m/\u001b[39m \u001b[38;5;124m\"\u001b[39m\u001b[38;5;124m_error.pklz\u001b[39m\u001b[38;5;124m\"\u001b[39m)\n\u001b[1;32m    217\u001b[0m     )\n\u001b[0;32m--> 218\u001b[0m     \u001b[38;5;28;01mraise\u001b[39;00m e\n\u001b[1;32m    219\u001b[0m \u001b[38;5;28;01mfinally\u001b[39;00m:\n\u001b[1;32m    220\u001b[0m     \u001b[38;5;28mself\u001b[39m\u001b[38;5;241m.\u001b[39mrun_start_time \u001b[38;5;241m=\u001b[39m \u001b[38;5;28;01mNone\u001b[39;00m\n",
      "File \u001b[0;32m/usr/share/miniconda/lib/python3.12/site-packages/pydra/engine/submitter.py:212\u001b[0m, in \u001b[0;36mSubmitter.__call__\u001b[0;34m(self, task_def, name, hooks)\u001b[0m\n\u001b[1;32m    208\u001b[0m         \u001b[38;5;28mself\u001b[39m\u001b[38;5;241m.\u001b[39mloop\u001b[38;5;241m.\u001b[39mrun_until_complete(\n\u001b[1;32m    209\u001b[0m             \u001b[38;5;28mself\u001b[39m\u001b[38;5;241m.\u001b[39mworker\u001b[38;5;241m.\u001b[39mrun_async(task, rerun\u001b[38;5;241m=\u001b[39m\u001b[38;5;28mself\u001b[39m\u001b[38;5;241m.\u001b[39mrerun)\n\u001b[1;32m    210\u001b[0m         )\n\u001b[1;32m    211\u001b[0m     \u001b[38;5;28;01melse\u001b[39;00m:\n\u001b[0;32m--> 212\u001b[0m         \u001b[38;5;28;43mself\u001b[39;49m\u001b[38;5;241;43m.\u001b[39;49m\u001b[43mworker\u001b[49m\u001b[38;5;241;43m.\u001b[39;49m\u001b[43mrun\u001b[49m\u001b[43m(\u001b[49m\u001b[43mtask\u001b[49m\u001b[43m,\u001b[49m\u001b[43m \u001b[49m\u001b[43mrerun\u001b[49m\u001b[38;5;241;43m=\u001b[39;49m\u001b[38;5;28;43mself\u001b[39;49m\u001b[38;5;241;43m.\u001b[39;49m\u001b[43mrerun\u001b[49m\u001b[43m)\u001b[49m\n\u001b[1;32m    213\u001b[0m \u001b[38;5;28;01mexcept\u001b[39;00m \u001b[38;5;167;01mException\u001b[39;00m \u001b[38;5;28;01mas\u001b[39;00m e:\n\u001b[1;32m    214\u001b[0m     e\u001b[38;5;241m.\u001b[39madd_note(\n\u001b[1;32m    215\u001b[0m         \u001b[38;5;124mf\u001b[39m\u001b[38;5;124m\"\u001b[39m\u001b[38;5;124mFull crash report for \u001b[39m\u001b[38;5;132;01m{\u001b[39;00m\u001b[38;5;28mtype\u001b[39m(task_def)\u001b[38;5;241m.\u001b[39m\u001b[38;5;18m__name__\u001b[39m\u001b[38;5;132;01m!r}\u001b[39;00m\u001b[38;5;124m task is here: \u001b[39m\u001b[38;5;124m\"\u001b[39m\n\u001b[1;32m    216\u001b[0m         \u001b[38;5;241m+\u001b[39m \u001b[38;5;28mstr\u001b[39m(task\u001b[38;5;241m.\u001b[39moutput_dir \u001b[38;5;241m/\u001b[39m \u001b[38;5;124m\"\u001b[39m\u001b[38;5;124m_error.pklz\u001b[39m\u001b[38;5;124m\"\u001b[39m)\n\u001b[1;32m    217\u001b[0m     )\n",
      "File \u001b[0;32m/usr/share/miniconda/lib/python3.12/site-packages/pydra/engine/workers.py:163\u001b[0m, in \u001b[0;36mDebugWorker.run\u001b[0;34m(self, task, rerun)\u001b[0m\n\u001b[1;32m    157\u001b[0m \u001b[38;5;28;01mdef\u001b[39;00m \u001b[38;5;21mrun\u001b[39m(\n\u001b[1;32m    158\u001b[0m     \u001b[38;5;28mself\u001b[39m,\n\u001b[1;32m    159\u001b[0m     task: \u001b[38;5;124m\"\u001b[39m\u001b[38;5;124mTask[DefType]\u001b[39m\u001b[38;5;124m\"\u001b[39m,\n\u001b[1;32m    160\u001b[0m     rerun: \u001b[38;5;28mbool\u001b[39m \u001b[38;5;241m=\u001b[39m \u001b[38;5;28;01mFalse\u001b[39;00m,\n\u001b[1;32m    161\u001b[0m ) \u001b[38;5;241m-\u001b[39m\u001b[38;5;241m>\u001b[39m \u001b[38;5;124m\"\u001b[39m\u001b[38;5;124mResult\u001b[39m\u001b[38;5;124m\"\u001b[39m:\n\u001b[1;32m    162\u001b[0m \u001b[38;5;250m    \u001b[39m\u001b[38;5;124;03m\"\"\"Run a task.\"\"\"\u001b[39;00m\n\u001b[0;32m--> 163\u001b[0m     \u001b[38;5;28;01mreturn\u001b[39;00m \u001b[43mtask\u001b[49m\u001b[38;5;241;43m.\u001b[39;49m\u001b[43mrun\u001b[49m\u001b[43m(\u001b[49m\u001b[43mrerun\u001b[49m\u001b[38;5;241;43m=\u001b[39;49m\u001b[43mrerun\u001b[49m\u001b[43m)\u001b[49m\n",
      "File \u001b[0;32m/usr/share/miniconda/lib/python3.12/site-packages/pydra/engine/core.py:367\u001b[0m, in \u001b[0;36mTask.run\u001b[0;34m(self, rerun)\u001b[0m\n\u001b[1;32m    365\u001b[0m \u001b[38;5;28;01mtry\u001b[39;00m:\n\u001b[1;32m    366\u001b[0m     \u001b[38;5;28mself\u001b[39m\u001b[38;5;241m.\u001b[39maudit\u001b[38;5;241m.\u001b[39mmonitor()\n\u001b[0;32m--> 367\u001b[0m     \u001b[38;5;28;43mself\u001b[39;49m\u001b[38;5;241;43m.\u001b[39;49m\u001b[43mdefinition\u001b[49m\u001b[38;5;241;43m.\u001b[39;49m\u001b[43m_run\u001b[49m\u001b[43m(\u001b[49m\u001b[38;5;28;43mself\u001b[39;49m\u001b[43m)\u001b[49m\n\u001b[1;32m    368\u001b[0m     result\u001b[38;5;241m.\u001b[39moutputs \u001b[38;5;241m=\u001b[39m \u001b[38;5;28mself\u001b[39m\u001b[38;5;241m.\u001b[39mdefinition\u001b[38;5;241m.\u001b[39mOutputs\u001b[38;5;241m.\u001b[39m_from_task(\u001b[38;5;28mself\u001b[39m)\n\u001b[1;32m    369\u001b[0m \u001b[38;5;28;01mexcept\u001b[39;00m \u001b[38;5;167;01mException\u001b[39;00m:\n",
      "File \u001b[0;32m/usr/share/miniconda/lib/python3.12/site-packages/pydra/engine/specs.py:810\u001b[0m, in \u001b[0;36mWorkflowDef._run\u001b[0;34m(self, task)\u001b[0m\n\u001b[1;32m    808\u001b[0m \u001b[38;5;28;01mdef\u001b[39;00m \u001b[38;5;21m_run\u001b[39m(\u001b[38;5;28mself\u001b[39m, task: \u001b[38;5;124m\"\u001b[39m\u001b[38;5;124mTask[WorkflowDef]\u001b[39m\u001b[38;5;124m\"\u001b[39m) \u001b[38;5;241m-\u001b[39m\u001b[38;5;241m>\u001b[39m \u001b[38;5;28;01mNone\u001b[39;00m:\n\u001b[1;32m    809\u001b[0m \u001b[38;5;250m    \u001b[39m\u001b[38;5;124;03m\"\"\"Run the workflow.\"\"\"\u001b[39;00m\n\u001b[0;32m--> 810\u001b[0m     \u001b[43mtask\u001b[49m\u001b[38;5;241;43m.\u001b[39;49m\u001b[43msubmitter\u001b[49m\u001b[38;5;241;43m.\u001b[39;49m\u001b[43mexpand_workflow\u001b[49m\u001b[43m(\u001b[49m\u001b[43mtask\u001b[49m\u001b[43m)\u001b[49m\n",
      "File \u001b[0;32m/usr/share/miniconda/lib/python3.12/site-packages/pydra/engine/submitter.py:267\u001b[0m, in \u001b[0;36mSubmitter.expand_workflow\u001b[0;34m(self, workflow_task)\u001b[0m\n\u001b[1;32m    265\u001b[0m \u001b[38;5;28;01mwhile\u001b[39;00m tasks \u001b[38;5;129;01mor\u001b[39;00m \u001b[38;5;28many\u001b[39m(\u001b[38;5;129;01mnot\u001b[39;00m n\u001b[38;5;241m.\u001b[39mdone \u001b[38;5;28;01mfor\u001b[39;00m n \u001b[38;5;129;01min\u001b[39;00m exec_graph\u001b[38;5;241m.\u001b[39mnodes):\n\u001b[1;32m    266\u001b[0m     \u001b[38;5;28;01mfor\u001b[39;00m task \u001b[38;5;129;01min\u001b[39;00m tasks:\n\u001b[0;32m--> 267\u001b[0m         \u001b[38;5;28;43mself\u001b[39;49m\u001b[38;5;241;43m.\u001b[39;49m\u001b[43mworker\u001b[49m\u001b[38;5;241;43m.\u001b[39;49m\u001b[43mrun\u001b[49m\u001b[43m(\u001b[49m\u001b[43mtask\u001b[49m\u001b[43m,\u001b[49m\u001b[43m \u001b[49m\u001b[43mrerun\u001b[49m\u001b[38;5;241;43m=\u001b[39;49m\u001b[38;5;28;43mself\u001b[39;49m\u001b[38;5;241;43m.\u001b[39;49m\u001b[43mrerun\u001b[49m\u001b[43m)\u001b[49m\n\u001b[1;32m    268\u001b[0m     tasks \u001b[38;5;241m=\u001b[39m \u001b[38;5;28mself\u001b[39m\u001b[38;5;241m.\u001b[39mget_runnable_tasks(exec_graph)\n\u001b[1;32m    269\u001b[0m workflow_task\u001b[38;5;241m.\u001b[39mreturn_values \u001b[38;5;241m=\u001b[39m {\u001b[38;5;124m\"\u001b[39m\u001b[38;5;124mworkflow\u001b[39m\u001b[38;5;124m\"\u001b[39m: wf, \u001b[38;5;124m\"\u001b[39m\u001b[38;5;124mexec_graph\u001b[39m\u001b[38;5;124m\"\u001b[39m: exec_graph}\n",
      "File \u001b[0;32m/usr/share/miniconda/lib/python3.12/site-packages/pydra/engine/workers.py:163\u001b[0m, in \u001b[0;36mDebugWorker.run\u001b[0;34m(self, task, rerun)\u001b[0m\n\u001b[1;32m    157\u001b[0m \u001b[38;5;28;01mdef\u001b[39;00m \u001b[38;5;21mrun\u001b[39m(\n\u001b[1;32m    158\u001b[0m     \u001b[38;5;28mself\u001b[39m,\n\u001b[1;32m    159\u001b[0m     task: \u001b[38;5;124m\"\u001b[39m\u001b[38;5;124mTask[DefType]\u001b[39m\u001b[38;5;124m\"\u001b[39m,\n\u001b[1;32m    160\u001b[0m     rerun: \u001b[38;5;28mbool\u001b[39m \u001b[38;5;241m=\u001b[39m \u001b[38;5;28;01mFalse\u001b[39;00m,\n\u001b[1;32m    161\u001b[0m ) \u001b[38;5;241m-\u001b[39m\u001b[38;5;241m>\u001b[39m \u001b[38;5;124m\"\u001b[39m\u001b[38;5;124mResult\u001b[39m\u001b[38;5;124m\"\u001b[39m:\n\u001b[1;32m    162\u001b[0m \u001b[38;5;250m    \u001b[39m\u001b[38;5;124;03m\"\"\"Run a task.\"\"\"\u001b[39;00m\n\u001b[0;32m--> 163\u001b[0m     \u001b[38;5;28;01mreturn\u001b[39;00m \u001b[43mtask\u001b[49m\u001b[38;5;241;43m.\u001b[39;49m\u001b[43mrun\u001b[49m\u001b[43m(\u001b[49m\u001b[43mrerun\u001b[49m\u001b[38;5;241;43m=\u001b[39;49m\u001b[43mrerun\u001b[49m\u001b[43m)\u001b[49m\n",
      "File \u001b[0;32m/usr/share/miniconda/lib/python3.12/site-packages/pydra/engine/core.py:367\u001b[0m, in \u001b[0;36mTask.run\u001b[0;34m(self, rerun)\u001b[0m\n\u001b[1;32m    365\u001b[0m \u001b[38;5;28;01mtry\u001b[39;00m:\n\u001b[1;32m    366\u001b[0m     \u001b[38;5;28mself\u001b[39m\u001b[38;5;241m.\u001b[39maudit\u001b[38;5;241m.\u001b[39mmonitor()\n\u001b[0;32m--> 367\u001b[0m     \u001b[38;5;28;43mself\u001b[39;49m\u001b[38;5;241;43m.\u001b[39;49m\u001b[43mdefinition\u001b[49m\u001b[38;5;241;43m.\u001b[39;49m\u001b[43m_run\u001b[49m\u001b[43m(\u001b[49m\u001b[38;5;28;43mself\u001b[39;49m\u001b[43m)\u001b[49m\n\u001b[1;32m    368\u001b[0m     result\u001b[38;5;241m.\u001b[39moutputs \u001b[38;5;241m=\u001b[39m \u001b[38;5;28mself\u001b[39m\u001b[38;5;241m.\u001b[39mdefinition\u001b[38;5;241m.\u001b[39mOutputs\u001b[38;5;241m.\u001b[39m_from_task(\u001b[38;5;28mself\u001b[39m)\n\u001b[1;32m    369\u001b[0m \u001b[38;5;28;01mexcept\u001b[39;00m \u001b[38;5;167;01mException\u001b[39;00m:\n",
      "File \u001b[0;32m/usr/share/miniconda/lib/python3.12/site-packages/pydra/engine/specs.py:1010\u001b[0m, in \u001b[0;36mShellDef._run\u001b[0;34m(self, task)\u001b[0m\n\u001b[1;32m   1008\u001b[0m \u001b[38;5;28;01mdef\u001b[39;00m \u001b[38;5;21m_run\u001b[39m(\u001b[38;5;28mself\u001b[39m, task: \u001b[38;5;124m\"\u001b[39m\u001b[38;5;124mTask[ShellDef]\u001b[39m\u001b[38;5;124m\"\u001b[39m) \u001b[38;5;241m-\u001b[39m\u001b[38;5;241m>\u001b[39m \u001b[38;5;28;01mNone\u001b[39;00m:\n\u001b[1;32m   1009\u001b[0m \u001b[38;5;250m    \u001b[39m\u001b[38;5;124;03m\"\"\"Run the shell command.\"\"\"\u001b[39;00m\n\u001b[0;32m-> 1010\u001b[0m     task\u001b[38;5;241m.\u001b[39mreturn_values \u001b[38;5;241m=\u001b[39m \u001b[43mtask\u001b[49m\u001b[38;5;241;43m.\u001b[39;49m\u001b[43menvironment\u001b[49m\u001b[38;5;241;43m.\u001b[39;49m\u001b[43mexecute\u001b[49m\u001b[43m(\u001b[49m\u001b[43mtask\u001b[49m\u001b[43m)\u001b[49m\n",
      "File \u001b[0;32m/usr/share/miniconda/lib/python3.12/site-packages/pydra/engine/environments.py:56\u001b[0m, in \u001b[0;36mNative.execute\u001b[0;34m(self, task)\u001b[0m\n\u001b[1;32m     54\u001b[0m     \u001b[38;5;28;01mif\u001b[39;00m output[\u001b[38;5;124m\"\u001b[39m\u001b[38;5;124mstdout\u001b[39m\u001b[38;5;124m\"\u001b[39m]:\n\u001b[1;32m     55\u001b[0m         msg \u001b[38;5;241m+\u001b[39m\u001b[38;5;241m=\u001b[39m \u001b[38;5;124m\"\u001b[39m\u001b[38;5;130;01m\\n\u001b[39;00m\u001b[38;5;130;01m\\n\u001b[39;00m\u001b[38;5;124mstdout:\u001b[39m\u001b[38;5;130;01m\\n\u001b[39;00m\u001b[38;5;124m\"\u001b[39m \u001b[38;5;241m+\u001b[39m output[\u001b[38;5;124m\"\u001b[39m\u001b[38;5;124mstdout\u001b[39m\u001b[38;5;124m\"\u001b[39m]\n\u001b[0;32m---> 56\u001b[0m     \u001b[38;5;28;01mraise\u001b[39;00m \u001b[38;5;167;01mRuntimeError\u001b[39;00m(msg)\n\u001b[1;32m     57\u001b[0m \u001b[38;5;28;01mreturn\u001b[39;00m output\n",
      "\u001b[0;31mRuntimeError\u001b[0m: Error running 'MrGrid' task with ['mrgrid', '/tmp/tmp6_52dmm5/nifti/0UAqFzWsDK4FrUMp48Y3tT3Q.nii', 'regrid', '/tmp/tmp6_52dmm5/cache/shell-b70952aaf1f98d57a954334cc3df37b5/out_file.mif', '-voxel', '0.5,0.5,0.5']:\n\nstderr:\nmrgrid: \u001b[01;31m[ERROR] image \"/tmp/tmp6_52dmm5/nifti/0UAqFzWsDK4FrUMp48Y3tT3Q.nii\" is not in NIFTI-1.1 format (sizeof_hdr != 348)\u001b[0m\nmrgrid: \u001b[01;31m[ERROR] image \"/tmp/tmp6_52dmm5/nifti/0UAqFzWsDK4FrUMp48Y3tT3Q.nii\" is not in NIFTI-2 format (sizeof_hdr != 540)\u001b[0m\nmrgrid: \u001b[01;31m[ERROR] unknown format for image \"/tmp/tmp6_52dmm5/nifti/0UAqFzWsDK4FrUMp48Y3tT3Q.nii\"\u001b[0m\nmrgrid: \u001b[01;31m[ERROR] error opening image \"/tmp/tmp6_52dmm5/nifti/0UAqFzWsDK4FrUMp48Y3tT3Q.nii\"\u001b[0m\n",
      "\u001b[0mFull crash report for 'Split' task is here: /tmp/tmp6_52dmm5/cache/workflow-130dfff879abb61b31526b94dbc3683f/_error.pklz"
     ]
    }
   ],
   "source": [
    "from copy import copy\n",
    "\n",
    "VOX_SIZES = [\n",
    "        (0.5, 0.5, 0.5),\n",
    "        (0.25, 0.25, 0.25),\n",
    "        (0.1, 0.1, 0.1),\n",
    "        (0.35, 0.35, 0.35),\n",
    "        (0.1, 0.1, 0.1),\n",
    "        (0.5, 0.5, 0.5),\n",
    "        (0.25, 0.25, 0.25),\n",
    "        (0.2, 0.2, 0.2),\n",
    "        (0.35, 0.35, 0.35),\n",
    "        (0.1, 0.1, 0.1),\n",
    "    ]\n",
    "\n",
    "mrgrid_varying_vox = MrGrid(operation=\"regrid\").split(\n",
    "    (\"in_file\", \"voxel\"),\n",
    "    in_file=nifti_files,\n",
    "    voxel=VOX_SIZES,\n",
    ")\n",
    "\n",
    "submitter = Submitter(cache_dir=test_dir / \"cache\")\n",
    "\n",
    "\n",
    "with submitter:\n",
    "    result1 = submitter(mrgrid_varying_vox)\n",
    "\n",
    "\n",
    "mrgrid_varying_vox2 = MrGrid(operation=\"regrid\").split(\n",
    "    (\"in_file\", \"voxel\"),\n",
    "    in_file=nifti_files,\n",
    "    voxel=copy(VOX_SIZES),\n",
    ")\n",
    "\n",
    "# Result from previous run is reused as the task and inputs are identical\n",
    "with submitter:\n",
    "    result2 = submitter(mrgrid_varying_vox2)\n",
    "\n",
    "# Check that the output directory is the same for both runs\n",
    "assert result2.output_dir == result1.output_dir\n",
    "\n",
    "# Change the voxel sizes to resample the NIfTI files to for one of the files\n",
    "mrgrid_varying_vox2.voxel[2] = [0.25]\n",
    "\n",
    "# Result from previous run is reused as the task and inputs are identical\n",
    "with submitter:\n",
    "    result3 = submitter(mrgrid_varying_vox2)\n",
    "\n",
    "# The output directory will be different as the inputs are now different\n",
    "assert result3.output_dir != result1.output_dir"
   ]
  },
  {
   "cell_type": "markdown",
   "metadata": {},
   "source": [
    "Note that for file objects, the contents of the files are used to calculate the hash\n",
    "not their paths. Therefore, when inputting large files there might be some additional\n",
    "overhead on the first run (the file hashes themselves are cached by path and mtime so\n",
    "shouldn't need to be recalculated unless they are modified). However, this makes the\n",
    "hashes invariant to file-system movement. For example, changing the name of one of the\n",
    "files in the nifti directory won't invalidate the hash."
   ]
  },
  {
   "cell_type": "code",
   "execution_count": 7,
   "metadata": {
    "execution": {
     "iopub.execute_input": "2025-02-13T22:32:51.141450Z",
     "iopub.status.busy": "2025-02-13T22:32:51.141050Z",
     "iopub.status.idle": "2025-02-13T22:32:51.549775Z",
     "shell.execute_reply": "2025-02-13T22:32:51.549124Z"
    }
   },
   "outputs": [
    {
     "ename": "FileNotFoundError",
     "evalue": "[Errno 2] No such file or directory: '/tmp/tmp6_52dmm5/nifti/0UAqFzWsDK4FrUMp48Y3tT3Q.nii'",
     "output_type": "error",
     "traceback": [
      "\u001b[0;31m---------------------------------------------------------------------------\u001b[0m",
      "\u001b[0;31mFileNotFoundError\u001b[0m                         Traceback (most recent call last)",
      "Cell \u001b[0;32mIn[7], line 15\u001b[0m\n\u001b[1;32m     12\u001b[0m \u001b[38;5;66;03m# Result from previous run is reused as contents of the files have not changed, despite\u001b[39;00m\n\u001b[1;32m     13\u001b[0m \u001b[38;5;66;03m# the file names changing\u001b[39;00m\n\u001b[1;32m     14\u001b[0m \u001b[38;5;28;01mwith\u001b[39;00m submitter:\n\u001b[0;32m---> 15\u001b[0m     result4 \u001b[38;5;241m=\u001b[39m \u001b[43msubmitter\u001b[49m\u001b[43m(\u001b[49m\u001b[43mmrgrid_varying_vox3\u001b[49m\u001b[43m)\u001b[49m\n\u001b[1;32m     17\u001b[0m \u001b[38;5;28;01massert\u001b[39;00m result4\u001b[38;5;241m.\u001b[39moutput_dir \u001b[38;5;241m==\u001b[39m result1\u001b[38;5;241m.\u001b[39moutput_dir\n\u001b[1;32m     19\u001b[0m \u001b[38;5;66;03m# Replace the first NIfTI file with a new file\u001b[39;00m\n",
      "File \u001b[0;32m/usr/share/miniconda/lib/python3.12/site-packages/pydra/engine/submitter.py:218\u001b[0m, in \u001b[0;36mSubmitter.__call__\u001b[0;34m(self, task_def, name, hooks)\u001b[0m\n\u001b[1;32m    213\u001b[0m \u001b[38;5;28;01mexcept\u001b[39;00m \u001b[38;5;167;01mException\u001b[39;00m \u001b[38;5;28;01mas\u001b[39;00m e:\n\u001b[1;32m    214\u001b[0m     e\u001b[38;5;241m.\u001b[39madd_note(\n\u001b[1;32m    215\u001b[0m         \u001b[38;5;124mf\u001b[39m\u001b[38;5;124m\"\u001b[39m\u001b[38;5;124mFull crash report for \u001b[39m\u001b[38;5;132;01m{\u001b[39;00m\u001b[38;5;28mtype\u001b[39m(task_def)\u001b[38;5;241m.\u001b[39m\u001b[38;5;18m__name__\u001b[39m\u001b[38;5;132;01m!r}\u001b[39;00m\u001b[38;5;124m task is here: \u001b[39m\u001b[38;5;124m\"\u001b[39m\n\u001b[1;32m    216\u001b[0m         \u001b[38;5;241m+\u001b[39m \u001b[38;5;28mstr\u001b[39m(task\u001b[38;5;241m.\u001b[39moutput_dir \u001b[38;5;241m/\u001b[39m \u001b[38;5;124m\"\u001b[39m\u001b[38;5;124m_error.pklz\u001b[39m\u001b[38;5;124m\"\u001b[39m)\n\u001b[1;32m    217\u001b[0m     )\n\u001b[0;32m--> 218\u001b[0m     \u001b[38;5;28;01mraise\u001b[39;00m e\n\u001b[1;32m    219\u001b[0m \u001b[38;5;28;01mfinally\u001b[39;00m:\n\u001b[1;32m    220\u001b[0m     \u001b[38;5;28mself\u001b[39m\u001b[38;5;241m.\u001b[39mrun_start_time \u001b[38;5;241m=\u001b[39m \u001b[38;5;28;01mNone\u001b[39;00m\n",
      "File \u001b[0;32m/usr/share/miniconda/lib/python3.12/site-packages/pydra/engine/submitter.py:212\u001b[0m, in \u001b[0;36mSubmitter.__call__\u001b[0;34m(self, task_def, name, hooks)\u001b[0m\n\u001b[1;32m    208\u001b[0m         \u001b[38;5;28mself\u001b[39m\u001b[38;5;241m.\u001b[39mloop\u001b[38;5;241m.\u001b[39mrun_until_complete(\n\u001b[1;32m    209\u001b[0m             \u001b[38;5;28mself\u001b[39m\u001b[38;5;241m.\u001b[39mworker\u001b[38;5;241m.\u001b[39mrun_async(task, rerun\u001b[38;5;241m=\u001b[39m\u001b[38;5;28mself\u001b[39m\u001b[38;5;241m.\u001b[39mrerun)\n\u001b[1;32m    210\u001b[0m         )\n\u001b[1;32m    211\u001b[0m     \u001b[38;5;28;01melse\u001b[39;00m:\n\u001b[0;32m--> 212\u001b[0m         \u001b[38;5;28;43mself\u001b[39;49m\u001b[38;5;241;43m.\u001b[39;49m\u001b[43mworker\u001b[49m\u001b[38;5;241;43m.\u001b[39;49m\u001b[43mrun\u001b[49m\u001b[43m(\u001b[49m\u001b[43mtask\u001b[49m\u001b[43m,\u001b[49m\u001b[43m \u001b[49m\u001b[43mrerun\u001b[49m\u001b[38;5;241;43m=\u001b[39;49m\u001b[38;5;28;43mself\u001b[39;49m\u001b[38;5;241;43m.\u001b[39;49m\u001b[43mrerun\u001b[49m\u001b[43m)\u001b[49m\n\u001b[1;32m    213\u001b[0m \u001b[38;5;28;01mexcept\u001b[39;00m \u001b[38;5;167;01mException\u001b[39;00m \u001b[38;5;28;01mas\u001b[39;00m e:\n\u001b[1;32m    214\u001b[0m     e\u001b[38;5;241m.\u001b[39madd_note(\n\u001b[1;32m    215\u001b[0m         \u001b[38;5;124mf\u001b[39m\u001b[38;5;124m\"\u001b[39m\u001b[38;5;124mFull crash report for \u001b[39m\u001b[38;5;132;01m{\u001b[39;00m\u001b[38;5;28mtype\u001b[39m(task_def)\u001b[38;5;241m.\u001b[39m\u001b[38;5;18m__name__\u001b[39m\u001b[38;5;132;01m!r}\u001b[39;00m\u001b[38;5;124m task is here: \u001b[39m\u001b[38;5;124m\"\u001b[39m\n\u001b[1;32m    216\u001b[0m         \u001b[38;5;241m+\u001b[39m \u001b[38;5;28mstr\u001b[39m(task\u001b[38;5;241m.\u001b[39moutput_dir \u001b[38;5;241m/\u001b[39m \u001b[38;5;124m\"\u001b[39m\u001b[38;5;124m_error.pklz\u001b[39m\u001b[38;5;124m\"\u001b[39m)\n\u001b[1;32m    217\u001b[0m     )\n",
      "File \u001b[0;32m/usr/share/miniconda/lib/python3.12/site-packages/pydra/engine/workers.py:163\u001b[0m, in \u001b[0;36mDebugWorker.run\u001b[0;34m(self, task, rerun)\u001b[0m\n\u001b[1;32m    157\u001b[0m \u001b[38;5;28;01mdef\u001b[39;00m \u001b[38;5;21mrun\u001b[39m(\n\u001b[1;32m    158\u001b[0m     \u001b[38;5;28mself\u001b[39m,\n\u001b[1;32m    159\u001b[0m     task: \u001b[38;5;124m\"\u001b[39m\u001b[38;5;124mTask[DefType]\u001b[39m\u001b[38;5;124m\"\u001b[39m,\n\u001b[1;32m    160\u001b[0m     rerun: \u001b[38;5;28mbool\u001b[39m \u001b[38;5;241m=\u001b[39m \u001b[38;5;28;01mFalse\u001b[39;00m,\n\u001b[1;32m    161\u001b[0m ) \u001b[38;5;241m-\u001b[39m\u001b[38;5;241m>\u001b[39m \u001b[38;5;124m\"\u001b[39m\u001b[38;5;124mResult\u001b[39m\u001b[38;5;124m\"\u001b[39m:\n\u001b[1;32m    162\u001b[0m \u001b[38;5;250m    \u001b[39m\u001b[38;5;124;03m\"\"\"Run a task.\"\"\"\u001b[39;00m\n\u001b[0;32m--> 163\u001b[0m     \u001b[38;5;28;01mreturn\u001b[39;00m \u001b[43mtask\u001b[49m\u001b[38;5;241;43m.\u001b[39;49m\u001b[43mrun\u001b[49m\u001b[43m(\u001b[49m\u001b[43mrerun\u001b[49m\u001b[38;5;241;43m=\u001b[39;49m\u001b[43mrerun\u001b[49m\u001b[43m)\u001b[49m\n",
      "File \u001b[0;32m/usr/share/miniconda/lib/python3.12/site-packages/pydra/engine/core.py:367\u001b[0m, in \u001b[0;36mTask.run\u001b[0;34m(self, rerun)\u001b[0m\n\u001b[1;32m    365\u001b[0m \u001b[38;5;28;01mtry\u001b[39;00m:\n\u001b[1;32m    366\u001b[0m     \u001b[38;5;28mself\u001b[39m\u001b[38;5;241m.\u001b[39maudit\u001b[38;5;241m.\u001b[39mmonitor()\n\u001b[0;32m--> 367\u001b[0m     \u001b[38;5;28;43mself\u001b[39;49m\u001b[38;5;241;43m.\u001b[39;49m\u001b[43mdefinition\u001b[49m\u001b[38;5;241;43m.\u001b[39;49m\u001b[43m_run\u001b[49m\u001b[43m(\u001b[49m\u001b[38;5;28;43mself\u001b[39;49m\u001b[43m)\u001b[49m\n\u001b[1;32m    368\u001b[0m     result\u001b[38;5;241m.\u001b[39moutputs \u001b[38;5;241m=\u001b[39m \u001b[38;5;28mself\u001b[39m\u001b[38;5;241m.\u001b[39mdefinition\u001b[38;5;241m.\u001b[39mOutputs\u001b[38;5;241m.\u001b[39m_from_task(\u001b[38;5;28mself\u001b[39m)\n\u001b[1;32m    369\u001b[0m \u001b[38;5;28;01mexcept\u001b[39;00m \u001b[38;5;167;01mException\u001b[39;00m:\n",
      "File \u001b[0;32m/usr/share/miniconda/lib/python3.12/site-packages/pydra/engine/specs.py:810\u001b[0m, in \u001b[0;36mWorkflowDef._run\u001b[0;34m(self, task)\u001b[0m\n\u001b[1;32m    808\u001b[0m \u001b[38;5;28;01mdef\u001b[39;00m \u001b[38;5;21m_run\u001b[39m(\u001b[38;5;28mself\u001b[39m, task: \u001b[38;5;124m\"\u001b[39m\u001b[38;5;124mTask[WorkflowDef]\u001b[39m\u001b[38;5;124m\"\u001b[39m) \u001b[38;5;241m-\u001b[39m\u001b[38;5;241m>\u001b[39m \u001b[38;5;28;01mNone\u001b[39;00m:\n\u001b[1;32m    809\u001b[0m \u001b[38;5;250m    \u001b[39m\u001b[38;5;124;03m\"\"\"Run the workflow.\"\"\"\u001b[39;00m\n\u001b[0;32m--> 810\u001b[0m     \u001b[43mtask\u001b[49m\u001b[38;5;241;43m.\u001b[39;49m\u001b[43msubmitter\u001b[49m\u001b[38;5;241;43m.\u001b[39;49m\u001b[43mexpand_workflow\u001b[49m\u001b[43m(\u001b[49m\u001b[43mtask\u001b[49m\u001b[43m)\u001b[49m\n",
      "File \u001b[0;32m/usr/share/miniconda/lib/python3.12/site-packages/pydra/engine/submitter.py:264\u001b[0m, in \u001b[0;36mSubmitter.expand_workflow\u001b[0;34m(self, workflow_task)\u001b[0m\n\u001b[1;32m    262\u001b[0m \u001b[38;5;66;03m# Generate the execution graph\u001b[39;00m\n\u001b[1;32m    263\u001b[0m exec_graph \u001b[38;5;241m=\u001b[39m wf\u001b[38;5;241m.\u001b[39mexecution_graph(submitter\u001b[38;5;241m=\u001b[39m\u001b[38;5;28mself\u001b[39m)\n\u001b[0;32m--> 264\u001b[0m tasks \u001b[38;5;241m=\u001b[39m \u001b[38;5;28;43mself\u001b[39;49m\u001b[38;5;241;43m.\u001b[39;49m\u001b[43mget_runnable_tasks\u001b[49m\u001b[43m(\u001b[49m\u001b[43mexec_graph\u001b[49m\u001b[43m)\u001b[49m\n\u001b[1;32m    265\u001b[0m \u001b[38;5;28;01mwhile\u001b[39;00m tasks \u001b[38;5;129;01mor\u001b[39;00m \u001b[38;5;28many\u001b[39m(\u001b[38;5;129;01mnot\u001b[39;00m n\u001b[38;5;241m.\u001b[39mdone \u001b[38;5;28;01mfor\u001b[39;00m n \u001b[38;5;129;01min\u001b[39;00m exec_graph\u001b[38;5;241m.\u001b[39mnodes):\n\u001b[1;32m    266\u001b[0m     \u001b[38;5;28;01mfor\u001b[39;00m task \u001b[38;5;129;01min\u001b[39;00m tasks:\n",
      "File \u001b[0;32m/usr/share/miniconda/lib/python3.12/site-packages/pydra/engine/submitter.py:423\u001b[0m, in \u001b[0;36mSubmitter.get_runnable_tasks\u001b[0;34m(self, graph)\u001b[0m\n\u001b[1;32m    421\u001b[0m         not_started\u001b[38;5;241m.\u001b[39madd(node)\n\u001b[1;32m    422\u001b[0m     tasks\u001b[38;5;241m.\u001b[39mextend(node\u001b[38;5;241m.\u001b[39mget_runnable_tasks(graph))\n\u001b[0;32m--> 423\u001b[0m \u001b[38;5;28;43mself\u001b[39;49m\u001b[38;5;241;43m.\u001b[39;49m\u001b[43m_check_locks\u001b[49m\u001b[43m(\u001b[49m\u001b[43mtasks\u001b[49m\u001b[43m)\u001b[49m\n\u001b[1;32m    424\u001b[0m \u001b[38;5;28;01mreturn\u001b[39;00m tasks\n",
      "File \u001b[0;32m/usr/share/miniconda/lib/python3.12/site-packages/pydra/engine/submitter.py:390\u001b[0m, in \u001b[0;36mSubmitter._check_locks\u001b[0;34m(self, tasks)\u001b[0m\n\u001b[1;32m    388\u001b[0m \u001b[38;5;28;01mif\u001b[39;00m \u001b[38;5;28mself\u001b[39m\u001b[38;5;241m.\u001b[39mclean_stale_locks:\n\u001b[1;32m    389\u001b[0m     \u001b[38;5;28;01mfor\u001b[39;00m task \u001b[38;5;129;01min\u001b[39;00m tasks:\n\u001b[0;32m--> 390\u001b[0m         start_time \u001b[38;5;241m=\u001b[39m \u001b[43mtask\u001b[49m\u001b[38;5;241;43m.\u001b[39;49m\u001b[43mrun_start_time\u001b[49m\n\u001b[1;32m    391\u001b[0m         \u001b[38;5;28;01mif\u001b[39;00m start_time \u001b[38;5;129;01mand\u001b[39;00m start_time \u001b[38;5;241m<\u001b[39m \u001b[38;5;28mself\u001b[39m\u001b[38;5;241m.\u001b[39mrun_start_time:\n\u001b[1;32m    392\u001b[0m             task\u001b[38;5;241m.\u001b[39mlockfile\u001b[38;5;241m.\u001b[39munlink()\n",
      "File \u001b[0;32m/usr/share/miniconda/lib/python3.12/site-packages/pydra/engine/core.py:469\u001b[0m, in \u001b[0;36mTask.run_start_time\u001b[0;34m(self)\u001b[0m\n\u001b[1;32m    466\u001b[0m \u001b[38;5;129m@property\u001b[39m\n\u001b[1;32m    467\u001b[0m \u001b[38;5;28;01mdef\u001b[39;00m \u001b[38;5;21mrun_start_time\u001b[39m(\u001b[38;5;28mself\u001b[39m) \u001b[38;5;241m-\u001b[39m\u001b[38;5;241m>\u001b[39m datetime \u001b[38;5;241m|\u001b[39m \u001b[38;5;28;01mNone\u001b[39;00m:\n\u001b[1;32m    468\u001b[0m \u001b[38;5;250m    \u001b[39m\u001b[38;5;124;03m\"\"\"Check whether the task is currently running.\"\"\"\u001b[39;00m\n\u001b[0;32m--> 469\u001b[0m     \u001b[38;5;28;01mif\u001b[39;00m \u001b[38;5;129;01mnot\u001b[39;00m \u001b[38;5;28;43mself\u001b[39;49m\u001b[38;5;241;43m.\u001b[39;49m\u001b[43mlockfile\u001b[49m\u001b[38;5;241m.\u001b[39mexists():\n\u001b[1;32m    470\u001b[0m         \u001b[38;5;28;01mreturn\u001b[39;00m \u001b[38;5;28;01mNone\u001b[39;00m\n\u001b[1;32m    471\u001b[0m     \u001b[38;5;28;01mreturn\u001b[39;00m datetime\u001b[38;5;241m.\u001b[39mfromtimestamp(\u001b[38;5;28mself\u001b[39m\u001b[38;5;241m.\u001b[39mlockfile\u001b[38;5;241m.\u001b[39mstat()\u001b[38;5;241m.\u001b[39mst_ctime)\n",
      "File \u001b[0;32m/usr/share/miniconda/lib/python3.12/site-packages/pydra/engine/core.py:211\u001b[0m, in \u001b[0;36mTask.lockfile\u001b[0;34m(self)\u001b[0m\n\u001b[1;32m    209\u001b[0m \u001b[38;5;129m@property\u001b[39m\n\u001b[1;32m    210\u001b[0m \u001b[38;5;28;01mdef\u001b[39;00m \u001b[38;5;21mlockfile\u001b[39m(\u001b[38;5;28mself\u001b[39m):\n\u001b[0;32m--> 211\u001b[0m     \u001b[38;5;28;01mreturn\u001b[39;00m \u001b[38;5;28;43mself\u001b[39;49m\u001b[38;5;241;43m.\u001b[39;49m\u001b[43moutput_dir\u001b[49m\u001b[38;5;241m.\u001b[39mwith_suffix(\u001b[38;5;124m\"\u001b[39m\u001b[38;5;124m.lock\u001b[39m\u001b[38;5;124m\"\u001b[39m)\n",
      "File \u001b[0;32m/usr/share/miniconda/lib/python3.12/site-packages/pydra/engine/core.py:260\u001b[0m, in \u001b[0;36mTask.output_dir\u001b[0;34m(self)\u001b[0m\n\u001b[1;32m    257\u001b[0m \u001b[38;5;129m@property\u001b[39m\n\u001b[1;32m    258\u001b[0m \u001b[38;5;28;01mdef\u001b[39;00m \u001b[38;5;21moutput_dir\u001b[39m(\u001b[38;5;28mself\u001b[39m):\n\u001b[1;32m    259\u001b[0m \u001b[38;5;250m    \u001b[39m\u001b[38;5;124;03m\"\"\"Get the filesystem path where outputs will be written.\"\"\"\u001b[39;00m\n\u001b[0;32m--> 260\u001b[0m     \u001b[38;5;28;01mreturn\u001b[39;00m \u001b[38;5;28mself\u001b[39m\u001b[38;5;241m.\u001b[39mcache_dir \u001b[38;5;241m/\u001b[39m \u001b[38;5;28;43mself\u001b[39;49m\u001b[38;5;241;43m.\u001b[39;49m\u001b[43mchecksum\u001b[49m\n",
      "File \u001b[0;32m/usr/share/miniconda/lib/python3.12/site-packages/pydra/engine/core.py:206\u001b[0m, in \u001b[0;36mTask.checksum\u001b[0;34m(self)\u001b[0m\n\u001b[1;32m    204\u001b[0m \u001b[38;5;28;01mif\u001b[39;00m \u001b[38;5;28mself\u001b[39m\u001b[38;5;241m.\u001b[39m_checksum \u001b[38;5;129;01mis\u001b[39;00m \u001b[38;5;129;01mnot\u001b[39;00m \u001b[38;5;28;01mNone\u001b[39;00m:\n\u001b[1;32m    205\u001b[0m     \u001b[38;5;28;01mreturn\u001b[39;00m \u001b[38;5;28mself\u001b[39m\u001b[38;5;241m.\u001b[39m_checksum\n\u001b[0;32m--> 206\u001b[0m \u001b[38;5;28mself\u001b[39m\u001b[38;5;241m.\u001b[39m_checksum \u001b[38;5;241m=\u001b[39m \u001b[38;5;28;43mself\u001b[39;49m\u001b[38;5;241;43m.\u001b[39;49m\u001b[43mdefinition\u001b[49m\u001b[38;5;241;43m.\u001b[39;49m\u001b[43m_checksum\u001b[49m\n\u001b[1;32m    207\u001b[0m \u001b[38;5;28;01mreturn\u001b[39;00m \u001b[38;5;28mself\u001b[39m\u001b[38;5;241m.\u001b[39m_checksum\n",
      "File \u001b[0;32m/usr/share/miniconda/lib/python3.12/site-packages/pydra/engine/specs.py:454\u001b[0m, in \u001b[0;36mTaskDef._checksum\u001b[0;34m(self)\u001b[0m\n\u001b[1;32m    452\u001b[0m \u001b[38;5;129m@property\u001b[39m\n\u001b[1;32m    453\u001b[0m \u001b[38;5;28;01mdef\u001b[39;00m \u001b[38;5;21m_checksum\u001b[39m(\u001b[38;5;28mself\u001b[39m):\n\u001b[0;32m--> 454\u001b[0m     \u001b[38;5;28;01mreturn\u001b[39;00m \u001b[38;5;124mf\u001b[39m\u001b[38;5;124m\"\u001b[39m\u001b[38;5;132;01m{\u001b[39;00m\u001b[38;5;28mself\u001b[39m\u001b[38;5;241m.\u001b[39m_task_type\u001b[38;5;132;01m}\u001b[39;00m\u001b[38;5;124m-\u001b[39m\u001b[38;5;132;01m{\u001b[39;00m\u001b[38;5;28;43mself\u001b[39;49m\u001b[38;5;241;43m.\u001b[39;49m\u001b[43m_hash\u001b[49m\u001b[38;5;132;01m}\u001b[39;00m\u001b[38;5;124m\"\u001b[39m\n",
      "File \u001b[0;32m/usr/share/miniconda/lib/python3.12/site-packages/pydra/engine/specs.py:449\u001b[0m, in \u001b[0;36mTaskDef._hash\u001b[0;34m(self)\u001b[0m\n\u001b[1;32m    447\u001b[0m \u001b[38;5;129m@property\u001b[39m\n\u001b[1;32m    448\u001b[0m \u001b[38;5;28;01mdef\u001b[39;00m \u001b[38;5;21m_hash\u001b[39m(\u001b[38;5;28mself\u001b[39m):\n\u001b[0;32m--> 449\u001b[0m     hsh, \u001b[38;5;28mself\u001b[39m\u001b[38;5;241m.\u001b[39m_hashes \u001b[38;5;241m=\u001b[39m \u001b[38;5;28;43mself\u001b[39;49m\u001b[38;5;241;43m.\u001b[39;49m\u001b[43m_compute_hashes\u001b[49m\u001b[43m(\u001b[49m\u001b[43m)\u001b[49m\n\u001b[1;32m    450\u001b[0m     \u001b[38;5;28;01mreturn\u001b[39;00m hsh\n",
      "File \u001b[0;32m/usr/share/miniconda/lib/python3.12/site-packages/pydra/engine/specs.py:478\u001b[0m, in \u001b[0;36mTaskDef._compute_hashes\u001b[0;34m(self)\u001b[0m\n\u001b[1;32m    475\u001b[0m inp_dict[\u001b[38;5;124m\"\u001b[39m\u001b[38;5;124mOutputs\u001b[39m\u001b[38;5;124m\"\u001b[39m] \u001b[38;5;241m=\u001b[39m \u001b[38;5;28mself\u001b[39m\u001b[38;5;241m.\u001b[39mOutputs\n\u001b[1;32m    476\u001b[0m hash_cache \u001b[38;5;241m=\u001b[39m Cache()\n\u001b[1;32m    477\u001b[0m field_hashes \u001b[38;5;241m=\u001b[39m {\n\u001b[0;32m--> 478\u001b[0m     k: \u001b[43mhash_function\u001b[49m\u001b[43m(\u001b[49m\u001b[43mv\u001b[49m\u001b[43m,\u001b[49m\u001b[43m \u001b[49m\u001b[43mcache\u001b[49m\u001b[38;5;241;43m=\u001b[39;49m\u001b[43mhash_cache\u001b[49m\u001b[43m)\u001b[49m \u001b[38;5;28;01mfor\u001b[39;00m k, v \u001b[38;5;129;01min\u001b[39;00m inp_dict\u001b[38;5;241m.\u001b[39mitems()\n\u001b[1;32m    479\u001b[0m }\n\u001b[1;32m    480\u001b[0m \u001b[38;5;28;01mreturn\u001b[39;00m hash_function(\u001b[38;5;28msorted\u001b[39m(field_hashes\u001b[38;5;241m.\u001b[39mitems())), field_hashes\n",
      "File \u001b[0;32m/usr/share/miniconda/lib/python3.12/site-packages/pydra/utils/hash.py:209\u001b[0m, in \u001b[0;36mhash_function\u001b[0;34m(obj, **kwargs)\u001b[0m\n\u001b[1;32m    207\u001b[0m \u001b[38;5;28;01mdef\u001b[39;00m \u001b[38;5;21mhash_function\u001b[39m(obj, \u001b[38;5;241m*\u001b[39m\u001b[38;5;241m*\u001b[39mkwargs):\n\u001b[1;32m    208\u001b[0m \u001b[38;5;250m    \u001b[39m\u001b[38;5;124;03m\"\"\"Generate hash of object.\"\"\"\u001b[39;00m\n\u001b[0;32m--> 209\u001b[0m     \u001b[38;5;28;01mreturn\u001b[39;00m \u001b[43mhash_object\u001b[49m\u001b[43m(\u001b[49m\u001b[43mobj\u001b[49m\u001b[43m,\u001b[49m\u001b[43m \u001b[49m\u001b[38;5;241;43m*\u001b[39;49m\u001b[38;5;241;43m*\u001b[39;49m\u001b[43mkwargs\u001b[49m\u001b[43m)\u001b[49m\u001b[38;5;241m.\u001b[39mhex()\n",
      "File \u001b[0;32m/usr/share/miniconda/lib/python3.12/site-packages/pydra/utils/hash.py:240\u001b[0m, in \u001b[0;36mhash_object\u001b[0;34m(obj, cache, persistent_cache)\u001b[0m\n\u001b[1;32m    230\u001b[0m tp \u001b[38;5;241m=\u001b[39m \u001b[38;5;28mtype\u001b[39m(obj)\n\u001b[1;32m    231\u001b[0m add_exc_note(\n\u001b[1;32m    232\u001b[0m     e,\n\u001b[1;32m    233\u001b[0m     (\n\u001b[0;32m   (...)\u001b[0m\n\u001b[1;32m    238\u001b[0m     ),\n\u001b[1;32m    239\u001b[0m )\n\u001b[0;32m--> 240\u001b[0m \u001b[38;5;28;01mraise\u001b[39;00m e\n",
      "File \u001b[0;32m/usr/share/miniconda/lib/python3.12/site-packages/pydra/utils/hash.py:228\u001b[0m, in \u001b[0;36mhash_object\u001b[0;34m(obj, cache, persistent_cache)\u001b[0m\n\u001b[1;32m    226\u001b[0m     cache \u001b[38;5;241m=\u001b[39m Cache(persistent\u001b[38;5;241m=\u001b[39mpersistent_cache)\n\u001b[1;32m    227\u001b[0m \u001b[38;5;28;01mtry\u001b[39;00m:\n\u001b[0;32m--> 228\u001b[0m     \u001b[38;5;28;01mreturn\u001b[39;00m \u001b[43mhash_single\u001b[49m\u001b[43m(\u001b[49m\u001b[43mobj\u001b[49m\u001b[43m,\u001b[49m\u001b[43m \u001b[49m\u001b[43mcache\u001b[49m\u001b[43m)\u001b[49m\n\u001b[1;32m    229\u001b[0m \u001b[38;5;28;01mexcept\u001b[39;00m \u001b[38;5;167;01mException\u001b[39;00m \u001b[38;5;28;01mas\u001b[39;00m e:\n\u001b[1;32m    230\u001b[0m     tp \u001b[38;5;241m=\u001b[39m \u001b[38;5;28mtype\u001b[39m(obj)\n",
      "File \u001b[0;32m/usr/share/miniconda/lib/python3.12/site-packages/pydra/utils/hash.py:284\u001b[0m, in \u001b[0;36mhash_single\u001b[0;34m(obj, cache)\u001b[0m\n\u001b[1;32m    275\u001b[0m     \u001b[38;5;28;01mreturn\u001b[39;00m Hash(h\u001b[38;5;241m.\u001b[39mdigest())\n\u001b[1;32m    277\u001b[0m \u001b[38;5;66;03m# Read the first item of the bytes_repr iterator and check to see whether it yields\u001b[39;00m\n\u001b[1;32m    278\u001b[0m \u001b[38;5;66;03m# a \"cache-key\" tuple instead of a bytes chunk for the type of the object to be cached\u001b[39;00m\n\u001b[1;32m    279\u001b[0m \u001b[38;5;66;03m# (e.g. file-system path + mtime for fileformats.core.FileSet objects). If it\u001b[39;00m\n\u001b[0;32m   (...)\u001b[0m\n\u001b[1;32m    282\u001b[0m \u001b[38;5;66;03m# cache with that hash of that key (not to be confused with the hash of the\u001b[39;00m\n\u001b[1;32m    283\u001b[0m \u001b[38;5;66;03m# object that is saved/retrieved).\u001b[39;00m\n\u001b[0;32m--> 284\u001b[0m first \u001b[38;5;241m=\u001b[39m \u001b[38;5;28;43mnext\u001b[39;49m\u001b[43m(\u001b[49m\u001b[43mbytes_it\u001b[49m\u001b[43m)\u001b[49m\n\u001b[1;32m    285\u001b[0m \u001b[38;5;28;01mif\u001b[39;00m \u001b[38;5;28misinstance\u001b[39m(first, \u001b[38;5;28mtuple\u001b[39m):\n\u001b[1;32m    286\u001b[0m     tp \u001b[38;5;241m=\u001b[39m \u001b[38;5;28mtype\u001b[39m(obj)\n",
      "File \u001b[0;32m/usr/share/miniconda/lib/python3.12/site-packages/pydra/utils/hash.py:555\u001b[0m, in \u001b[0;36mbytes_repr_fileset\u001b[0;34m(fileset, cache)\u001b[0m\n\u001b[1;32m    549\u001b[0m fspaths \u001b[38;5;241m=\u001b[39m \u001b[38;5;28msorted\u001b[39m(fileset\u001b[38;5;241m.\u001b[39mfspaths)\n\u001b[1;32m    550\u001b[0m \u001b[38;5;66;03m# Yield the cache key for the fileset, which is a tuple of the file-system paths\u001b[39;00m\n\u001b[1;32m    551\u001b[0m \u001b[38;5;66;03m# and their mtime. Is used to store persistent cache of the fileset hashes\u001b[39;00m\n\u001b[1;32m    552\u001b[0m \u001b[38;5;66;03m# to avoid recomputation between calls\u001b[39;00m\n\u001b[1;32m    553\u001b[0m \u001b[38;5;28;01myield\u001b[39;00m CacheKey(\n\u001b[1;32m    554\u001b[0m     \u001b[38;5;28mtuple\u001b[39m(\u001b[38;5;28mrepr\u001b[39m(p) \u001b[38;5;28;01mfor\u001b[39;00m p \u001b[38;5;129;01min\u001b[39;00m fspaths)  \u001b[38;5;66;03m# type: ignore[arg-type]\u001b[39;00m\n\u001b[0;32m--> 555\u001b[0m     \u001b[38;5;241m+\u001b[39m \u001b[38;5;28;43mtuple\u001b[39;49m\u001b[43m(\u001b[49m\u001b[43mp\u001b[49m\u001b[38;5;241;43m.\u001b[39;49m\u001b[43mlstat\u001b[49m\u001b[43m(\u001b[49m\u001b[43m)\u001b[49m\u001b[38;5;241;43m.\u001b[39;49m\u001b[43mst_mtime_ns\u001b[49m\u001b[43m \u001b[49m\u001b[38;5;28;43;01mfor\u001b[39;49;00m\u001b[43m \u001b[49m\u001b[43mp\u001b[49m\u001b[43m \u001b[49m\u001b[38;5;129;43;01min\u001b[39;49;00m\u001b[43m \u001b[49m\u001b[43mfspaths\u001b[49m\u001b[43m)\u001b[49m\n\u001b[1;32m    556\u001b[0m )\n\u001b[1;32m    557\u001b[0m \u001b[38;5;28mcls\u001b[39m \u001b[38;5;241m=\u001b[39m \u001b[38;5;28mtype\u001b[39m(fileset)\n\u001b[1;32m    558\u001b[0m \u001b[38;5;28;01myield\u001b[39;00m \u001b[38;5;124mf\u001b[39m\u001b[38;5;124m\"\u001b[39m\u001b[38;5;132;01m{\u001b[39;00m\u001b[38;5;28mcls\u001b[39m\u001b[38;5;241m.\u001b[39m\u001b[38;5;18m__module__\u001b[39m\u001b[38;5;132;01m}\u001b[39;00m\u001b[38;5;124m.\u001b[39m\u001b[38;5;132;01m{\u001b[39;00m\u001b[38;5;28mcls\u001b[39m\u001b[38;5;241m.\u001b[39m\u001b[38;5;18m__name__\u001b[39m\u001b[38;5;132;01m}\u001b[39;00m\u001b[38;5;124m:\u001b[39m\u001b[38;5;124m\"\u001b[39m\u001b[38;5;241m.\u001b[39mencode()\n",
      "File \u001b[0;32m/usr/share/miniconda/lib/python3.12/site-packages/pydra/utils/hash.py:555\u001b[0m, in \u001b[0;36m<genexpr>\u001b[0;34m(.0)\u001b[0m\n\u001b[1;32m    549\u001b[0m fspaths \u001b[38;5;241m=\u001b[39m \u001b[38;5;28msorted\u001b[39m(fileset\u001b[38;5;241m.\u001b[39mfspaths)\n\u001b[1;32m    550\u001b[0m \u001b[38;5;66;03m# Yield the cache key for the fileset, which is a tuple of the file-system paths\u001b[39;00m\n\u001b[1;32m    551\u001b[0m \u001b[38;5;66;03m# and their mtime. Is used to store persistent cache of the fileset hashes\u001b[39;00m\n\u001b[1;32m    552\u001b[0m \u001b[38;5;66;03m# to avoid recomputation between calls\u001b[39;00m\n\u001b[1;32m    553\u001b[0m \u001b[38;5;28;01myield\u001b[39;00m CacheKey(\n\u001b[1;32m    554\u001b[0m     \u001b[38;5;28mtuple\u001b[39m(\u001b[38;5;28mrepr\u001b[39m(p) \u001b[38;5;28;01mfor\u001b[39;00m p \u001b[38;5;129;01min\u001b[39;00m fspaths)  \u001b[38;5;66;03m# type: ignore[arg-type]\u001b[39;00m\n\u001b[0;32m--> 555\u001b[0m     \u001b[38;5;241m+\u001b[39m \u001b[38;5;28mtuple\u001b[39m(\u001b[43mp\u001b[49m\u001b[38;5;241;43m.\u001b[39;49m\u001b[43mlstat\u001b[49m\u001b[43m(\u001b[49m\u001b[43m)\u001b[49m\u001b[38;5;241m.\u001b[39mst_mtime_ns \u001b[38;5;28;01mfor\u001b[39;00m p \u001b[38;5;129;01min\u001b[39;00m fspaths)\n\u001b[1;32m    556\u001b[0m )\n\u001b[1;32m    557\u001b[0m \u001b[38;5;28mcls\u001b[39m \u001b[38;5;241m=\u001b[39m \u001b[38;5;28mtype\u001b[39m(fileset)\n\u001b[1;32m    558\u001b[0m \u001b[38;5;28;01myield\u001b[39;00m \u001b[38;5;124mf\u001b[39m\u001b[38;5;124m\"\u001b[39m\u001b[38;5;132;01m{\u001b[39;00m\u001b[38;5;28mcls\u001b[39m\u001b[38;5;241m.\u001b[39m\u001b[38;5;18m__module__\u001b[39m\u001b[38;5;132;01m}\u001b[39;00m\u001b[38;5;124m.\u001b[39m\u001b[38;5;132;01m{\u001b[39;00m\u001b[38;5;28mcls\u001b[39m\u001b[38;5;241m.\u001b[39m\u001b[38;5;18m__name__\u001b[39m\u001b[38;5;132;01m}\u001b[39;00m\u001b[38;5;124m:\u001b[39m\u001b[38;5;124m\"\u001b[39m\u001b[38;5;241m.\u001b[39mencode()\n",
      "File \u001b[0;32m/usr/share/miniconda/lib/python3.12/pathlib.py:847\u001b[0m, in \u001b[0;36mPath.lstat\u001b[0;34m(self)\u001b[0m\n\u001b[1;32m    842\u001b[0m \u001b[38;5;28;01mdef\u001b[39;00m \u001b[38;5;21mlstat\u001b[39m(\u001b[38;5;28mself\u001b[39m):\n\u001b[1;32m    843\u001b[0m \u001b[38;5;250m    \u001b[39m\u001b[38;5;124;03m\"\"\"\u001b[39;00m\n\u001b[1;32m    844\u001b[0m \u001b[38;5;124;03m    Like stat(), except if the path points to a symlink, the symlink's\u001b[39;00m\n\u001b[1;32m    845\u001b[0m \u001b[38;5;124;03m    status information is returned, rather than its target's.\u001b[39;00m\n\u001b[1;32m    846\u001b[0m \u001b[38;5;124;03m    \"\"\"\u001b[39;00m\n\u001b[0;32m--> 847\u001b[0m     \u001b[38;5;28;01mreturn\u001b[39;00m \u001b[38;5;28;43mself\u001b[39;49m\u001b[38;5;241;43m.\u001b[39;49m\u001b[43mstat\u001b[49m\u001b[43m(\u001b[49m\u001b[43mfollow_symlinks\u001b[49m\u001b[38;5;241;43m=\u001b[39;49m\u001b[38;5;28;43;01mFalse\u001b[39;49;00m\u001b[43m)\u001b[49m\n",
      "File \u001b[0;32m/usr/share/miniconda/lib/python3.12/pathlib.py:840\u001b[0m, in \u001b[0;36mPath.stat\u001b[0;34m(self, follow_symlinks)\u001b[0m\n\u001b[1;32m    835\u001b[0m \u001b[38;5;28;01mdef\u001b[39;00m \u001b[38;5;21mstat\u001b[39m(\u001b[38;5;28mself\u001b[39m, \u001b[38;5;241m*\u001b[39m, follow_symlinks\u001b[38;5;241m=\u001b[39m\u001b[38;5;28;01mTrue\u001b[39;00m):\n\u001b[1;32m    836\u001b[0m \u001b[38;5;250m    \u001b[39m\u001b[38;5;124;03m\"\"\"\u001b[39;00m\n\u001b[1;32m    837\u001b[0m \u001b[38;5;124;03m    Return the result of the stat() system call on this path, like\u001b[39;00m\n\u001b[1;32m    838\u001b[0m \u001b[38;5;124;03m    os.stat() does.\u001b[39;00m\n\u001b[1;32m    839\u001b[0m \u001b[38;5;124;03m    \"\"\"\u001b[39;00m\n\u001b[0;32m--> 840\u001b[0m     \u001b[38;5;28;01mreturn\u001b[39;00m \u001b[43mos\u001b[49m\u001b[38;5;241;43m.\u001b[39;49m\u001b[43mstat\u001b[49m\u001b[43m(\u001b[49m\u001b[38;5;28;43mself\u001b[39;49m\u001b[43m,\u001b[49m\u001b[43m \u001b[49m\u001b[43mfollow_symlinks\u001b[49m\u001b[38;5;241;43m=\u001b[39;49m\u001b[43mfollow_symlinks\u001b[49m\u001b[43m)\u001b[49m\n",
      "\u001b[0;31mFileNotFoundError\u001b[0m: [Errno 2] No such file or directory: '/tmp/tmp6_52dmm5/nifti/0UAqFzWsDK4FrUMp48Y3tT3Q.nii'",
      "\u001b[0mand therefore cannot hash `Nifti1('/tmp/tmp6_52dmm5/nifti/0UAqFzWsDK4FrUMp48Y3tT3Q.nii')` of type `fileformats.medimage.nifti.Nifti1`. Consider implementing a specific `bytes_repr()`(see pydra.utils.hash.register_serializer) or a `__bytes_repr__()` dunder methods for this type",
      "\u001b[0mFull crash report for 'Split' task is here: /tmp/tmp6_52dmm5/cache/workflow-130dfff879abb61b31526b94dbc3683f/_error.pklz"
     ]
    }
   ],
   "source": [
    "# Rename a NIfTI file within the test directory\n",
    "nifti_files[0] = Nifti1(\n",
    "    nifti_files[0].fspath.rename(nifti_files[0].fspath.with_name(\"first.nii\"))\n",
    ")\n",
    "\n",
    "mrgrid_varying_vox3 = MrGrid(operation=\"regrid\").split(\n",
    "    (\"in_file\", \"voxel\"),\n",
    "    in_file=nifti_files,\n",
    "    voxel=VOX_SIZES,\n",
    ")\n",
    "\n",
    "# Result from previous run is reused as contents of the files have not changed, despite\n",
    "# the file names changing\n",
    "with submitter:\n",
    "    result4 = submitter(mrgrid_varying_vox3)\n",
    "\n",
    "assert result4.output_dir == result1.output_dir\n",
    "\n",
    "# Replace the first NIfTI file with a new file\n",
    "nifti_files[0] = Nifti1.sample(nifti_dir, seed=100)\n",
    "\n",
    "# Update the in_file input field to include the new file\n",
    "mrgrid_varying_vox4 = MrGrid(operation=\"regrid\").split(\n",
    "    (\"in_file\", \"voxel\"),\n",
    "    in_file=nifti_files,\n",
    "    voxel=VOX_SIZES,\n",
    ")\n",
    "\n",
    "# The results from the previous runs are ignored as the files have changed\n",
    "with submitter:\n",
    "    result4 = submitter(mrgrid_varying_vox4)\n",
    "\n",
    "# The cache directory for the new run is different \n",
    "assert result4.output_dir != result1.output_dir"
   ]
  },
  {
   "cell_type": "markdown",
   "metadata": {},
   "source": [
    "## Environments and hooks\n",
    "\n",
    "For shell tasks, it is possible to specify that the command runs within a specific\n",
    "software environment, such as those provided by software containers (e.g. Docker or Singularity/Apptainer).\n",
    "This is down by providing the environment to the submitter/execution call,"
   ]
  },
  {
   "cell_type": "code",
   "execution_count": 8,
   "metadata": {
    "execution": {
     "iopub.execute_input": "2025-02-13T22:32:51.551632Z",
     "iopub.status.busy": "2025-02-13T22:32:51.551457Z",
     "iopub.status.idle": "2025-02-13T22:32:51.623545Z",
     "shell.execute_reply": "2025-02-13T22:32:51.622981Z"
    }
   },
   "outputs": [
    {
     "ename": "NotImplementedError",
     "evalue": "Generating environment bindings for nested FileSets are not yet supported",
     "output_type": "error",
     "traceback": [
      "\u001b[0;31m---------------------------------------------------------------------------\u001b[0m",
      "\u001b[0;31mNotImplementedError\u001b[0m                       Traceback (most recent call last)",
      "Cell \u001b[0;32mIn[8], line 14\u001b[0m\n\u001b[1;32m     11\u001b[0m mrgrid \u001b[38;5;241m=\u001b[39m MrGrid(in_file\u001b[38;5;241m=\u001b[39mnifti_file, operation\u001b[38;5;241m=\u001b[39m\u001b[38;5;124m\"\u001b[39m\u001b[38;5;124mregrid\u001b[39m\u001b[38;5;124m\"\u001b[39m, voxel\u001b[38;5;241m=\u001b[39m(\u001b[38;5;241m0.5\u001b[39m,\u001b[38;5;241m0.5\u001b[39m,\u001b[38;5;241m0.5\u001b[39m))\n\u001b[1;32m     13\u001b[0m \u001b[38;5;66;03m# Run the task to resample all NIfTI files\u001b[39;00m\n\u001b[0;32m---> 14\u001b[0m outputs \u001b[38;5;241m=\u001b[39m \u001b[43mmrgrid\u001b[49m\u001b[43m(\u001b[49m\u001b[43menvironment\u001b[49m\u001b[38;5;241;43m=\u001b[39;49m\u001b[43mDocker\u001b[49m\u001b[43m(\u001b[49m\u001b[43mimage\u001b[49m\u001b[38;5;241;43m=\u001b[39;49m\u001b[38;5;124;43m\"\u001b[39;49m\u001b[38;5;124;43mmrtrix3/mrtrix3\u001b[39;49m\u001b[38;5;124;43m\"\u001b[39;49m\u001b[43m,\u001b[49m\u001b[43m \u001b[49m\u001b[43mtag\u001b[49m\u001b[38;5;241;43m=\u001b[39;49m\u001b[38;5;124;43m\"\u001b[39;49m\u001b[38;5;124;43mlatest\u001b[39;49m\u001b[38;5;124;43m\"\u001b[39;49m\u001b[43m)\u001b[49m\u001b[43m)\u001b[49m\n\u001b[1;32m     16\u001b[0m \u001b[38;5;66;03m# Print the locations of the output files\u001b[39;00m\n\u001b[1;32m     17\u001b[0m pprint(outputs\u001b[38;5;241m.\u001b[39mout_file)\n",
      "File \u001b[0;32m/usr/share/miniconda/lib/python3.12/site-packages/pydra/engine/specs.py:243\u001b[0m, in \u001b[0;36mTaskDef.__call__\u001b[0;34m(self, cache_dir, worker, environment, rerun, cache_locations, audit_flags, messengers, messenger_args, name, hooks, **kwargs)\u001b[0m\n\u001b[1;32m    231\u001b[0m \u001b[38;5;28;01mtry\u001b[39;00m:\n\u001b[1;32m    232\u001b[0m     \u001b[38;5;28;01mwith\u001b[39;00m Submitter(\n\u001b[1;32m    233\u001b[0m         audit_flags\u001b[38;5;241m=\u001b[39maudit_flags,\n\u001b[1;32m    234\u001b[0m         cache_dir\u001b[38;5;241m=\u001b[39mcache_dir,\n\u001b[0;32m   (...)\u001b[0m\n\u001b[1;32m    241\u001b[0m         \u001b[38;5;241m*\u001b[39m\u001b[38;5;241m*\u001b[39mkwargs,\n\u001b[1;32m    242\u001b[0m     ) \u001b[38;5;28;01mas\u001b[39;00m sub:\n\u001b[0;32m--> 243\u001b[0m         result \u001b[38;5;241m=\u001b[39m \u001b[43msub\u001b[49m\u001b[43m(\u001b[49m\n\u001b[1;32m    244\u001b[0m \u001b[43m            \u001b[49m\u001b[38;5;28;43mself\u001b[39;49m\u001b[43m,\u001b[49m\n\u001b[1;32m    245\u001b[0m \u001b[43m            \u001b[49m\u001b[43mname\u001b[49m\u001b[38;5;241;43m=\u001b[39;49m\u001b[43mname\u001b[49m\u001b[43m,\u001b[49m\n\u001b[1;32m    246\u001b[0m \u001b[43m            \u001b[49m\u001b[43mhooks\u001b[49m\u001b[38;5;241;43m=\u001b[39;49m\u001b[43mhooks\u001b[49m\u001b[43m,\u001b[49m\n\u001b[1;32m    247\u001b[0m \u001b[43m        \u001b[49m\u001b[43m)\u001b[49m\n\u001b[1;32m    248\u001b[0m \u001b[38;5;28;01mexcept\u001b[39;00m \u001b[38;5;167;01mTypeError\u001b[39;00m \u001b[38;5;28;01mas\u001b[39;00m e:\n\u001b[1;32m    249\u001b[0m     \u001b[38;5;66;03m# Catch any inadvertent passing of task definition parameters to the\u001b[39;00m\n\u001b[1;32m    250\u001b[0m     \u001b[38;5;66;03m# execution call\u001b[39;00m\n\u001b[1;32m    251\u001b[0m     \u001b[38;5;28;01mif\u001b[39;00m \u001b[38;5;28mhasattr\u001b[39m(e, \u001b[38;5;124m\"\u001b[39m\u001b[38;5;124m__notes__\u001b[39m\u001b[38;5;124m\"\u001b[39m) \u001b[38;5;129;01mand\u001b[39;00m WORKER_KWARG_FAIL_NOTE \u001b[38;5;129;01min\u001b[39;00m e\u001b[38;5;241m.\u001b[39m__notes__:\n",
      "File \u001b[0;32m/usr/share/miniconda/lib/python3.12/site-packages/pydra/engine/submitter.py:218\u001b[0m, in \u001b[0;36mSubmitter.__call__\u001b[0;34m(self, task_def, name, hooks)\u001b[0m\n\u001b[1;32m    213\u001b[0m \u001b[38;5;28;01mexcept\u001b[39;00m \u001b[38;5;167;01mException\u001b[39;00m \u001b[38;5;28;01mas\u001b[39;00m e:\n\u001b[1;32m    214\u001b[0m     e\u001b[38;5;241m.\u001b[39madd_note(\n\u001b[1;32m    215\u001b[0m         \u001b[38;5;124mf\u001b[39m\u001b[38;5;124m\"\u001b[39m\u001b[38;5;124mFull crash report for \u001b[39m\u001b[38;5;132;01m{\u001b[39;00m\u001b[38;5;28mtype\u001b[39m(task_def)\u001b[38;5;241m.\u001b[39m\u001b[38;5;18m__name__\u001b[39m\u001b[38;5;132;01m!r}\u001b[39;00m\u001b[38;5;124m task is here: \u001b[39m\u001b[38;5;124m\"\u001b[39m\n\u001b[1;32m    216\u001b[0m         \u001b[38;5;241m+\u001b[39m \u001b[38;5;28mstr\u001b[39m(task\u001b[38;5;241m.\u001b[39moutput_dir \u001b[38;5;241m/\u001b[39m \u001b[38;5;124m\"\u001b[39m\u001b[38;5;124m_error.pklz\u001b[39m\u001b[38;5;124m\"\u001b[39m)\n\u001b[1;32m    217\u001b[0m     )\n\u001b[0;32m--> 218\u001b[0m     \u001b[38;5;28;01mraise\u001b[39;00m e\n\u001b[1;32m    219\u001b[0m \u001b[38;5;28;01mfinally\u001b[39;00m:\n\u001b[1;32m    220\u001b[0m     \u001b[38;5;28mself\u001b[39m\u001b[38;5;241m.\u001b[39mrun_start_time \u001b[38;5;241m=\u001b[39m \u001b[38;5;28;01mNone\u001b[39;00m\n",
      "File \u001b[0;32m/usr/share/miniconda/lib/python3.12/site-packages/pydra/engine/submitter.py:212\u001b[0m, in \u001b[0;36mSubmitter.__call__\u001b[0;34m(self, task_def, name, hooks)\u001b[0m\n\u001b[1;32m    208\u001b[0m         \u001b[38;5;28mself\u001b[39m\u001b[38;5;241m.\u001b[39mloop\u001b[38;5;241m.\u001b[39mrun_until_complete(\n\u001b[1;32m    209\u001b[0m             \u001b[38;5;28mself\u001b[39m\u001b[38;5;241m.\u001b[39mworker\u001b[38;5;241m.\u001b[39mrun_async(task, rerun\u001b[38;5;241m=\u001b[39m\u001b[38;5;28mself\u001b[39m\u001b[38;5;241m.\u001b[39mrerun)\n\u001b[1;32m    210\u001b[0m         )\n\u001b[1;32m    211\u001b[0m     \u001b[38;5;28;01melse\u001b[39;00m:\n\u001b[0;32m--> 212\u001b[0m         \u001b[38;5;28;43mself\u001b[39;49m\u001b[38;5;241;43m.\u001b[39;49m\u001b[43mworker\u001b[49m\u001b[38;5;241;43m.\u001b[39;49m\u001b[43mrun\u001b[49m\u001b[43m(\u001b[49m\u001b[43mtask\u001b[49m\u001b[43m,\u001b[49m\u001b[43m \u001b[49m\u001b[43mrerun\u001b[49m\u001b[38;5;241;43m=\u001b[39;49m\u001b[38;5;28;43mself\u001b[39;49m\u001b[38;5;241;43m.\u001b[39;49m\u001b[43mrerun\u001b[49m\u001b[43m)\u001b[49m\n\u001b[1;32m    213\u001b[0m \u001b[38;5;28;01mexcept\u001b[39;00m \u001b[38;5;167;01mException\u001b[39;00m \u001b[38;5;28;01mas\u001b[39;00m e:\n\u001b[1;32m    214\u001b[0m     e\u001b[38;5;241m.\u001b[39madd_note(\n\u001b[1;32m    215\u001b[0m         \u001b[38;5;124mf\u001b[39m\u001b[38;5;124m\"\u001b[39m\u001b[38;5;124mFull crash report for \u001b[39m\u001b[38;5;132;01m{\u001b[39;00m\u001b[38;5;28mtype\u001b[39m(task_def)\u001b[38;5;241m.\u001b[39m\u001b[38;5;18m__name__\u001b[39m\u001b[38;5;132;01m!r}\u001b[39;00m\u001b[38;5;124m task is here: \u001b[39m\u001b[38;5;124m\"\u001b[39m\n\u001b[1;32m    216\u001b[0m         \u001b[38;5;241m+\u001b[39m \u001b[38;5;28mstr\u001b[39m(task\u001b[38;5;241m.\u001b[39moutput_dir \u001b[38;5;241m/\u001b[39m \u001b[38;5;124m\"\u001b[39m\u001b[38;5;124m_error.pklz\u001b[39m\u001b[38;5;124m\"\u001b[39m)\n\u001b[1;32m    217\u001b[0m     )\n",
      "File \u001b[0;32m/usr/share/miniconda/lib/python3.12/site-packages/pydra/engine/workers.py:163\u001b[0m, in \u001b[0;36mDebugWorker.run\u001b[0;34m(self, task, rerun)\u001b[0m\n\u001b[1;32m    157\u001b[0m \u001b[38;5;28;01mdef\u001b[39;00m \u001b[38;5;21mrun\u001b[39m(\n\u001b[1;32m    158\u001b[0m     \u001b[38;5;28mself\u001b[39m,\n\u001b[1;32m    159\u001b[0m     task: \u001b[38;5;124m\"\u001b[39m\u001b[38;5;124mTask[DefType]\u001b[39m\u001b[38;5;124m\"\u001b[39m,\n\u001b[1;32m    160\u001b[0m     rerun: \u001b[38;5;28mbool\u001b[39m \u001b[38;5;241m=\u001b[39m \u001b[38;5;28;01mFalse\u001b[39;00m,\n\u001b[1;32m    161\u001b[0m ) \u001b[38;5;241m-\u001b[39m\u001b[38;5;241m>\u001b[39m \u001b[38;5;124m\"\u001b[39m\u001b[38;5;124mResult\u001b[39m\u001b[38;5;124m\"\u001b[39m:\n\u001b[1;32m    162\u001b[0m \u001b[38;5;250m    \u001b[39m\u001b[38;5;124;03m\"\"\"Run a task.\"\"\"\u001b[39;00m\n\u001b[0;32m--> 163\u001b[0m     \u001b[38;5;28;01mreturn\u001b[39;00m \u001b[43mtask\u001b[49m\u001b[38;5;241;43m.\u001b[39;49m\u001b[43mrun\u001b[49m\u001b[43m(\u001b[49m\u001b[43mrerun\u001b[49m\u001b[38;5;241;43m=\u001b[39;49m\u001b[43mrerun\u001b[49m\u001b[43m)\u001b[49m\n",
      "File \u001b[0;32m/usr/share/miniconda/lib/python3.12/site-packages/pydra/engine/core.py:367\u001b[0m, in \u001b[0;36mTask.run\u001b[0;34m(self, rerun)\u001b[0m\n\u001b[1;32m    365\u001b[0m \u001b[38;5;28;01mtry\u001b[39;00m:\n\u001b[1;32m    366\u001b[0m     \u001b[38;5;28mself\u001b[39m\u001b[38;5;241m.\u001b[39maudit\u001b[38;5;241m.\u001b[39mmonitor()\n\u001b[0;32m--> 367\u001b[0m     \u001b[38;5;28;43mself\u001b[39;49m\u001b[38;5;241;43m.\u001b[39;49m\u001b[43mdefinition\u001b[49m\u001b[38;5;241;43m.\u001b[39;49m\u001b[43m_run\u001b[49m\u001b[43m(\u001b[49m\u001b[38;5;28;43mself\u001b[39;49m\u001b[43m)\u001b[49m\n\u001b[1;32m    368\u001b[0m     result\u001b[38;5;241m.\u001b[39moutputs \u001b[38;5;241m=\u001b[39m \u001b[38;5;28mself\u001b[39m\u001b[38;5;241m.\u001b[39mdefinition\u001b[38;5;241m.\u001b[39mOutputs\u001b[38;5;241m.\u001b[39m_from_task(\u001b[38;5;28mself\u001b[39m)\n\u001b[1;32m    369\u001b[0m \u001b[38;5;28;01mexcept\u001b[39;00m \u001b[38;5;167;01mException\u001b[39;00m:\n",
      "File \u001b[0;32m/usr/share/miniconda/lib/python3.12/site-packages/pydra/engine/specs.py:1010\u001b[0m, in \u001b[0;36mShellDef._run\u001b[0;34m(self, task)\u001b[0m\n\u001b[1;32m   1008\u001b[0m \u001b[38;5;28;01mdef\u001b[39;00m \u001b[38;5;21m_run\u001b[39m(\u001b[38;5;28mself\u001b[39m, task: \u001b[38;5;124m\"\u001b[39m\u001b[38;5;124mTask[ShellDef]\u001b[39m\u001b[38;5;124m\"\u001b[39m) \u001b[38;5;241m-\u001b[39m\u001b[38;5;241m>\u001b[39m \u001b[38;5;28;01mNone\u001b[39;00m:\n\u001b[1;32m   1009\u001b[0m \u001b[38;5;250m    \u001b[39m\u001b[38;5;124;03m\"\"\"Run the shell command.\"\"\"\u001b[39;00m\n\u001b[0;32m-> 1010\u001b[0m     task\u001b[38;5;241m.\u001b[39mreturn_values \u001b[38;5;241m=\u001b[39m \u001b[43mtask\u001b[49m\u001b[38;5;241;43m.\u001b[39;49m\u001b[43menvironment\u001b[49m\u001b[38;5;241;43m.\u001b[39;49m\u001b[43mexecute\u001b[49m\u001b[43m(\u001b[49m\u001b[43mtask\u001b[49m\u001b[43m)\u001b[49m\n",
      "File \u001b[0;32m/usr/share/miniconda/lib/python3.12/site-packages/pydra/engine/environments.py:97\u001b[0m, in \u001b[0;36mDocker.execute\u001b[0;34m(self, task)\u001b[0m\n\u001b[1;32m     95\u001b[0m docker_img \u001b[38;5;241m=\u001b[39m \u001b[38;5;124mf\u001b[39m\u001b[38;5;124m\"\u001b[39m\u001b[38;5;132;01m{\u001b[39;00m\u001b[38;5;28mself\u001b[39m\u001b[38;5;241m.\u001b[39mimage\u001b[38;5;132;01m}\u001b[39;00m\u001b[38;5;124m:\u001b[39m\u001b[38;5;132;01m{\u001b[39;00m\u001b[38;5;28mself\u001b[39m\u001b[38;5;241m.\u001b[39mtag\u001b[38;5;132;01m}\u001b[39;00m\u001b[38;5;124m\"\u001b[39m\n\u001b[1;32m     96\u001b[0m \u001b[38;5;66;03m# mounting all input locations\u001b[39;00m\n\u001b[0;32m---> 97\u001b[0m mounts \u001b[38;5;241m=\u001b[39m \u001b[43mtask\u001b[49m\u001b[38;5;241;43m.\u001b[39;49m\u001b[43mdefinition\u001b[49m\u001b[38;5;241;43m.\u001b[39;49m\u001b[43m_get_bindings\u001b[49m\u001b[43m(\u001b[49m\u001b[43mroot\u001b[49m\u001b[38;5;241;43m=\u001b[39;49m\u001b[38;5;28;43mself\u001b[39;49m\u001b[38;5;241;43m.\u001b[39;49m\u001b[43mroot\u001b[49m\u001b[43m)\u001b[49m\n\u001b[1;32m     99\u001b[0m docker_args \u001b[38;5;241m=\u001b[39m [\n\u001b[1;32m    100\u001b[0m     \u001b[38;5;124m\"\u001b[39m\u001b[38;5;124mdocker\u001b[39m\u001b[38;5;124m\"\u001b[39m,\n\u001b[1;32m    101\u001b[0m     \u001b[38;5;124m\"\u001b[39m\u001b[38;5;124mrun\u001b[39m\u001b[38;5;124m\"\u001b[39m,\n\u001b[0;32m   (...)\u001b[0m\n\u001b[1;32m    104\u001b[0m     \u001b[38;5;241m*\u001b[39m\u001b[38;5;28mself\u001b[39m\u001b[38;5;241m.\u001b[39mxargs,\n\u001b[1;32m    105\u001b[0m ]\n\u001b[1;32m    106\u001b[0m docker_args\u001b[38;5;241m.\u001b[39mextend(\n\u001b[1;32m    107\u001b[0m     \u001b[38;5;124m\"\u001b[39m\u001b[38;5;124m \u001b[39m\u001b[38;5;124m\"\u001b[39m\u001b[38;5;241m.\u001b[39mjoin(\n\u001b[1;32m    108\u001b[0m         [\u001b[38;5;124mf\u001b[39m\u001b[38;5;124m\"\u001b[39m\u001b[38;5;124m-v \u001b[39m\u001b[38;5;132;01m{\u001b[39;00mkey\u001b[38;5;132;01m}\u001b[39;00m\u001b[38;5;124m:\u001b[39m\u001b[38;5;132;01m{\u001b[39;00mval[\u001b[38;5;241m0\u001b[39m]\u001b[38;5;132;01m}\u001b[39;00m\u001b[38;5;124m:\u001b[39m\u001b[38;5;132;01m{\u001b[39;00mval[\u001b[38;5;241m1\u001b[39m]\u001b[38;5;132;01m}\u001b[39;00m\u001b[38;5;124m\"\u001b[39m \u001b[38;5;28;01mfor\u001b[39;00m (key, val) \u001b[38;5;129;01min\u001b[39;00m mounts\u001b[38;5;241m.\u001b[39mitems()]\n\u001b[1;32m    109\u001b[0m     )\u001b[38;5;241m.\u001b[39msplit()\n\u001b[1;32m    110\u001b[0m )\n",
      "File \u001b[0;32m/usr/share/miniconda/lib/python3.12/site-packages/pydra/engine/specs.py:1227\u001b[0m, in \u001b[0;36mShellDef._get_bindings\u001b[0;34m(self, root)\u001b[0m\n\u001b[1;32m   1225\u001b[0m     \u001b[38;5;28;01mreturn\u001b[39;00m {}\n\u001b[1;32m   1226\u001b[0m \u001b[38;5;28;01melse\u001b[39;00m:\n\u001b[0;32m-> 1227\u001b[0m     \u001b[38;5;28;43mself\u001b[39;49m\u001b[38;5;241;43m.\u001b[39;49m\u001b[43m_prepare_bindings\u001b[49m\u001b[43m(\u001b[49m\u001b[43mroot\u001b[49m\u001b[38;5;241;43m=\u001b[39;49m\u001b[43mroot\u001b[49m\u001b[43m)\u001b[49m\n\u001b[1;32m   1228\u001b[0m     \u001b[38;5;28;01mreturn\u001b[39;00m \u001b[38;5;28mself\u001b[39m\u001b[38;5;241m.\u001b[39mbindings\n",
      "File \u001b[0;32m/usr/share/miniconda/lib/python3.12/site-packages/pydra/engine/specs.py:1241\u001b[0m, in \u001b[0;36mShellDef._prepare_bindings\u001b[0;34m(self, root)\u001b[0m\n\u001b[1;32m   1239\u001b[0m fileset: FileSet \u001b[38;5;241m=\u001b[39m \u001b[38;5;28mself\u001b[39m[fld\u001b[38;5;241m.\u001b[39mname]\n\u001b[1;32m   1240\u001b[0m \u001b[38;5;28;01mif\u001b[39;00m \u001b[38;5;129;01mnot\u001b[39;00m \u001b[38;5;28misinstance\u001b[39m(fileset, FileSet):\n\u001b[0;32m-> 1241\u001b[0m     \u001b[38;5;28;01mraise\u001b[39;00m \u001b[38;5;167;01mNotImplementedError\u001b[39;00m(\n\u001b[1;32m   1242\u001b[0m         \u001b[38;5;124m\"\u001b[39m\u001b[38;5;124mGenerating environment bindings for nested FileSets are not \u001b[39m\u001b[38;5;124m\"\u001b[39m\n\u001b[1;32m   1243\u001b[0m         \u001b[38;5;124m\"\u001b[39m\u001b[38;5;124myet supported\u001b[39m\u001b[38;5;124m\"\u001b[39m\n\u001b[1;32m   1244\u001b[0m     )\n\u001b[1;32m   1245\u001b[0m copy \u001b[38;5;241m=\u001b[39m fld\u001b[38;5;241m.\u001b[39mcopy_mode \u001b[38;5;241m==\u001b[39m FileSet\u001b[38;5;241m.\u001b[39mCopyMode\u001b[38;5;241m.\u001b[39mcopy\n\u001b[1;32m   1247\u001b[0m host_path, env_path \u001b[38;5;241m=\u001b[39m fileset\u001b[38;5;241m.\u001b[39mparent, Path(\u001b[38;5;124mf\u001b[39m\u001b[38;5;124m\"\u001b[39m\u001b[38;5;132;01m{\u001b[39;00mroot\u001b[38;5;132;01m}\u001b[39;00m\u001b[38;5;132;01m{\u001b[39;00mfileset\u001b[38;5;241m.\u001b[39mparent\u001b[38;5;132;01m}\u001b[39;00m\u001b[38;5;124m\"\u001b[39m)\n",
      "\u001b[0;31mNotImplementedError\u001b[0m: Generating environment bindings for nested FileSets are not yet supported",
      "\u001b[0mFull crash report for 'MrGrid' task is here: /home/runner/.cache/pydra/0.25.dev215+ga4e0b126/run-cache/shell-b70952aaf1f98d57a954334cc3df37b5/_error.pklz"
     ]
    }
   ],
   "source": [
    "import tempfile\n",
    "from pydra.tasks.mrtrix3.v3_0 import MrGrid\n",
    "from pydra.engine.environments import Docker\n",
    "\n",
    "test_dir = tempfile.mkdtemp()\n",
    "\n",
    "nifti_file = Nifti1.sample(test_dir, seed=0)\n",
    "\n",
    "# Instantiate the task definition, \"splitting\" over all NIfTI files in the test directory\n",
    "# by splitting the \"input\" input field over all files in the directory\n",
    "mrgrid = MrGrid(in_file=nifti_file, operation=\"regrid\", voxel=(0.5,0.5,0.5))\n",
    "\n",
    "# Run the task to resample all NIfTI files\n",
    "outputs = mrgrid(environment=Docker(image=\"mrtrix3/mrtrix3\", tag=\"latest\"))\n",
    "\n",
    "# Print the locations of the output files\n",
    "pprint(outputs.out_file)"
   ]
  },
  {
   "cell_type": "markdown",
   "metadata": {},
   "source": [
    "Of course for this to work Docker needs to work and be configured for\n",
    "[sudo-less execution](https://docs.docker.com/engine/install/linux-postinstall/).\n",
    "See [Containers and Environments](../explanation/environments.rst) for more details on\n",
    "how to utilise containers and add support for other software environments.\n",
    "\n",
    "It is also possible to specify functions to run at hooks that are immediately before and after\n",
    "the task is executed by passing a `pydra.engine.spec.TaskHooks` object to the `hooks`\n",
    "keyword arg. The callable should take the `pydra.engine.core.Task` object as its only\n",
    "argument and return None. The available hooks to attach functions are:\n",
    "\n",
    "* pre_run: before the task cache directory is created\n",
    "* pre_run_task: after the cache directory has been created and the inputs resolved but before the task is executed\n",
    "* post_run_task: after the task has been run and the outputs collected\n",
    "* post_run: after the cache directory has been finalised\n",
    "\n",
    "\n",
    "QUESTION: What are these hooks intended for? Should the post_run_task hook be run before the outputs have been\n",
    "collected?"
   ]
  },
  {
   "cell_type": "code",
   "execution_count": 9,
   "metadata": {
    "execution": {
     "iopub.execute_input": "2025-02-13T22:32:51.625557Z",
     "iopub.status.busy": "2025-02-13T22:32:51.625203Z",
     "iopub.status.idle": "2025-02-13T22:32:51.685347Z",
     "shell.execute_reply": "2025-02-13T22:32:51.684806Z"
    }
   },
   "outputs": [
    {
     "ename": "RuntimeError",
     "evalue": "Error running 'task' task with ['mrgrid', '/tmp/tmpx9hs_y9_/0UAqFzWsDK4FrUMp48Y3tT3Q.nii', 'regrid', '/tmp/tmpipt4dlc7/shell-b70952aaf1f98d57a954334cc3df37b5/out_file.mif', '-voxel', '0.5,0.5,0.5']:\n\nstderr:\nmrgrid: \u001b[01;31m[ERROR] image \"/tmp/tmpx9hs_y9_/0UAqFzWsDK4FrUMp48Y3tT3Q.nii\" is not in NIFTI-1.1 format (sizeof_hdr != 348)\u001b[0m\nmrgrid: \u001b[01;31m[ERROR] image \"/tmp/tmpx9hs_y9_/0UAqFzWsDK4FrUMp48Y3tT3Q.nii\" is not in NIFTI-2 format (sizeof_hdr != 540)\u001b[0m\nmrgrid: \u001b[01;31m[ERROR] unknown format for image \"/tmp/tmpx9hs_y9_/0UAqFzWsDK4FrUMp48Y3tT3Q.nii\"\u001b[0m\nmrgrid: \u001b[01;31m[ERROR] error opening image \"/tmp/tmpx9hs_y9_/0UAqFzWsDK4FrUMp48Y3tT3Q.nii\"\u001b[0m\n",
     "output_type": "error",
     "traceback": [
      "\u001b[0;31m---------------------------------------------------------------------------\u001b[0m",
      "\u001b[0;31mRuntimeError\u001b[0m                              Traceback (most recent call last)",
      "Cell \u001b[0;32mIn[9], line 19\u001b[0m\n\u001b[1;32m     16\u001b[0m         os\u001b[38;5;241m.\u001b[39msystem(\u001b[38;5;124m'\u001b[39m\u001b[38;5;124mmsg * \u001b[39m\u001b[38;5;124m\"\u001b[39m\u001b[38;5;124mTask has completed successfully!\u001b[39m\u001b[38;5;124m\"\u001b[39m\u001b[38;5;124m'\u001b[39m)\n\u001b[1;32m     18\u001b[0m \u001b[38;5;66;03m# Run the task to resample all NIfTI files\u001b[39;00m\n\u001b[0;32m---> 19\u001b[0m outputs \u001b[38;5;241m=\u001b[39m \u001b[43mmrgrid\u001b[49m\u001b[43m(\u001b[49m\u001b[43mhooks\u001b[49m\u001b[38;5;241;43m=\u001b[39;49m\u001b[43mTaskHooks\u001b[49m\u001b[43m(\u001b[49m\u001b[43mpost_run\u001b[49m\u001b[38;5;241;43m=\u001b[39;49m\u001b[43mnotify_task_completion\u001b[49m\u001b[43m)\u001b[49m\u001b[43m,\u001b[49m\u001b[43m \u001b[49m\u001b[43mcache_dir\u001b[49m\u001b[38;5;241;43m=\u001b[39;49m\u001b[43mtempfile\u001b[49m\u001b[38;5;241;43m.\u001b[39;49m\u001b[43mmkdtemp\u001b[49m\u001b[43m(\u001b[49m\u001b[43m)\u001b[49m\u001b[43m)\u001b[49m\n\u001b[1;32m     21\u001b[0m \u001b[38;5;66;03m# Print the locations of the output files\u001b[39;00m\n\u001b[1;32m     22\u001b[0m pprint(outputs\u001b[38;5;241m.\u001b[39mout_file)\n",
      "File \u001b[0;32m/usr/share/miniconda/lib/python3.12/site-packages/pydra/engine/specs.py:243\u001b[0m, in \u001b[0;36mTaskDef.__call__\u001b[0;34m(self, cache_dir, worker, environment, rerun, cache_locations, audit_flags, messengers, messenger_args, name, hooks, **kwargs)\u001b[0m\n\u001b[1;32m    231\u001b[0m \u001b[38;5;28;01mtry\u001b[39;00m:\n\u001b[1;32m    232\u001b[0m     \u001b[38;5;28;01mwith\u001b[39;00m Submitter(\n\u001b[1;32m    233\u001b[0m         audit_flags\u001b[38;5;241m=\u001b[39maudit_flags,\n\u001b[1;32m    234\u001b[0m         cache_dir\u001b[38;5;241m=\u001b[39mcache_dir,\n\u001b[0;32m   (...)\u001b[0m\n\u001b[1;32m    241\u001b[0m         \u001b[38;5;241m*\u001b[39m\u001b[38;5;241m*\u001b[39mkwargs,\n\u001b[1;32m    242\u001b[0m     ) \u001b[38;5;28;01mas\u001b[39;00m sub:\n\u001b[0;32m--> 243\u001b[0m         result \u001b[38;5;241m=\u001b[39m \u001b[43msub\u001b[49m\u001b[43m(\u001b[49m\n\u001b[1;32m    244\u001b[0m \u001b[43m            \u001b[49m\u001b[38;5;28;43mself\u001b[39;49m\u001b[43m,\u001b[49m\n\u001b[1;32m    245\u001b[0m \u001b[43m            \u001b[49m\u001b[43mname\u001b[49m\u001b[38;5;241;43m=\u001b[39;49m\u001b[43mname\u001b[49m\u001b[43m,\u001b[49m\n\u001b[1;32m    246\u001b[0m \u001b[43m            \u001b[49m\u001b[43mhooks\u001b[49m\u001b[38;5;241;43m=\u001b[39;49m\u001b[43mhooks\u001b[49m\u001b[43m,\u001b[49m\n\u001b[1;32m    247\u001b[0m \u001b[43m        \u001b[49m\u001b[43m)\u001b[49m\n\u001b[1;32m    248\u001b[0m \u001b[38;5;28;01mexcept\u001b[39;00m \u001b[38;5;167;01mTypeError\u001b[39;00m \u001b[38;5;28;01mas\u001b[39;00m e:\n\u001b[1;32m    249\u001b[0m     \u001b[38;5;66;03m# Catch any inadvertent passing of task definition parameters to the\u001b[39;00m\n\u001b[1;32m    250\u001b[0m     \u001b[38;5;66;03m# execution call\u001b[39;00m\n\u001b[1;32m    251\u001b[0m     \u001b[38;5;28;01mif\u001b[39;00m \u001b[38;5;28mhasattr\u001b[39m(e, \u001b[38;5;124m\"\u001b[39m\u001b[38;5;124m__notes__\u001b[39m\u001b[38;5;124m\"\u001b[39m) \u001b[38;5;129;01mand\u001b[39;00m WORKER_KWARG_FAIL_NOTE \u001b[38;5;129;01min\u001b[39;00m e\u001b[38;5;241m.\u001b[39m__notes__:\n",
      "File \u001b[0;32m/usr/share/miniconda/lib/python3.12/site-packages/pydra/engine/submitter.py:218\u001b[0m, in \u001b[0;36mSubmitter.__call__\u001b[0;34m(self, task_def, name, hooks)\u001b[0m\n\u001b[1;32m    213\u001b[0m \u001b[38;5;28;01mexcept\u001b[39;00m \u001b[38;5;167;01mException\u001b[39;00m \u001b[38;5;28;01mas\u001b[39;00m e:\n\u001b[1;32m    214\u001b[0m     e\u001b[38;5;241m.\u001b[39madd_note(\n\u001b[1;32m    215\u001b[0m         \u001b[38;5;124mf\u001b[39m\u001b[38;5;124m\"\u001b[39m\u001b[38;5;124mFull crash report for \u001b[39m\u001b[38;5;132;01m{\u001b[39;00m\u001b[38;5;28mtype\u001b[39m(task_def)\u001b[38;5;241m.\u001b[39m\u001b[38;5;18m__name__\u001b[39m\u001b[38;5;132;01m!r}\u001b[39;00m\u001b[38;5;124m task is here: \u001b[39m\u001b[38;5;124m\"\u001b[39m\n\u001b[1;32m    216\u001b[0m         \u001b[38;5;241m+\u001b[39m \u001b[38;5;28mstr\u001b[39m(task\u001b[38;5;241m.\u001b[39moutput_dir \u001b[38;5;241m/\u001b[39m \u001b[38;5;124m\"\u001b[39m\u001b[38;5;124m_error.pklz\u001b[39m\u001b[38;5;124m\"\u001b[39m)\n\u001b[1;32m    217\u001b[0m     )\n\u001b[0;32m--> 218\u001b[0m     \u001b[38;5;28;01mraise\u001b[39;00m e\n\u001b[1;32m    219\u001b[0m \u001b[38;5;28;01mfinally\u001b[39;00m:\n\u001b[1;32m    220\u001b[0m     \u001b[38;5;28mself\u001b[39m\u001b[38;5;241m.\u001b[39mrun_start_time \u001b[38;5;241m=\u001b[39m \u001b[38;5;28;01mNone\u001b[39;00m\n",
      "File \u001b[0;32m/usr/share/miniconda/lib/python3.12/site-packages/pydra/engine/submitter.py:212\u001b[0m, in \u001b[0;36mSubmitter.__call__\u001b[0;34m(self, task_def, name, hooks)\u001b[0m\n\u001b[1;32m    208\u001b[0m         \u001b[38;5;28mself\u001b[39m\u001b[38;5;241m.\u001b[39mloop\u001b[38;5;241m.\u001b[39mrun_until_complete(\n\u001b[1;32m    209\u001b[0m             \u001b[38;5;28mself\u001b[39m\u001b[38;5;241m.\u001b[39mworker\u001b[38;5;241m.\u001b[39mrun_async(task, rerun\u001b[38;5;241m=\u001b[39m\u001b[38;5;28mself\u001b[39m\u001b[38;5;241m.\u001b[39mrerun)\n\u001b[1;32m    210\u001b[0m         )\n\u001b[1;32m    211\u001b[0m     \u001b[38;5;28;01melse\u001b[39;00m:\n\u001b[0;32m--> 212\u001b[0m         \u001b[38;5;28;43mself\u001b[39;49m\u001b[38;5;241;43m.\u001b[39;49m\u001b[43mworker\u001b[49m\u001b[38;5;241;43m.\u001b[39;49m\u001b[43mrun\u001b[49m\u001b[43m(\u001b[49m\u001b[43mtask\u001b[49m\u001b[43m,\u001b[49m\u001b[43m \u001b[49m\u001b[43mrerun\u001b[49m\u001b[38;5;241;43m=\u001b[39;49m\u001b[38;5;28;43mself\u001b[39;49m\u001b[38;5;241;43m.\u001b[39;49m\u001b[43mrerun\u001b[49m\u001b[43m)\u001b[49m\n\u001b[1;32m    213\u001b[0m \u001b[38;5;28;01mexcept\u001b[39;00m \u001b[38;5;167;01mException\u001b[39;00m \u001b[38;5;28;01mas\u001b[39;00m e:\n\u001b[1;32m    214\u001b[0m     e\u001b[38;5;241m.\u001b[39madd_note(\n\u001b[1;32m    215\u001b[0m         \u001b[38;5;124mf\u001b[39m\u001b[38;5;124m\"\u001b[39m\u001b[38;5;124mFull crash report for \u001b[39m\u001b[38;5;132;01m{\u001b[39;00m\u001b[38;5;28mtype\u001b[39m(task_def)\u001b[38;5;241m.\u001b[39m\u001b[38;5;18m__name__\u001b[39m\u001b[38;5;132;01m!r}\u001b[39;00m\u001b[38;5;124m task is here: \u001b[39m\u001b[38;5;124m\"\u001b[39m\n\u001b[1;32m    216\u001b[0m         \u001b[38;5;241m+\u001b[39m \u001b[38;5;28mstr\u001b[39m(task\u001b[38;5;241m.\u001b[39moutput_dir \u001b[38;5;241m/\u001b[39m \u001b[38;5;124m\"\u001b[39m\u001b[38;5;124m_error.pklz\u001b[39m\u001b[38;5;124m\"\u001b[39m)\n\u001b[1;32m    217\u001b[0m     )\n",
      "File \u001b[0;32m/usr/share/miniconda/lib/python3.12/site-packages/pydra/engine/workers.py:163\u001b[0m, in \u001b[0;36mDebugWorker.run\u001b[0;34m(self, task, rerun)\u001b[0m\n\u001b[1;32m    157\u001b[0m \u001b[38;5;28;01mdef\u001b[39;00m \u001b[38;5;21mrun\u001b[39m(\n\u001b[1;32m    158\u001b[0m     \u001b[38;5;28mself\u001b[39m,\n\u001b[1;32m    159\u001b[0m     task: \u001b[38;5;124m\"\u001b[39m\u001b[38;5;124mTask[DefType]\u001b[39m\u001b[38;5;124m\"\u001b[39m,\n\u001b[1;32m    160\u001b[0m     rerun: \u001b[38;5;28mbool\u001b[39m \u001b[38;5;241m=\u001b[39m \u001b[38;5;28;01mFalse\u001b[39;00m,\n\u001b[1;32m    161\u001b[0m ) \u001b[38;5;241m-\u001b[39m\u001b[38;5;241m>\u001b[39m \u001b[38;5;124m\"\u001b[39m\u001b[38;5;124mResult\u001b[39m\u001b[38;5;124m\"\u001b[39m:\n\u001b[1;32m    162\u001b[0m \u001b[38;5;250m    \u001b[39m\u001b[38;5;124;03m\"\"\"Run a task.\"\"\"\u001b[39;00m\n\u001b[0;32m--> 163\u001b[0m     \u001b[38;5;28;01mreturn\u001b[39;00m \u001b[43mtask\u001b[49m\u001b[38;5;241;43m.\u001b[39;49m\u001b[43mrun\u001b[49m\u001b[43m(\u001b[49m\u001b[43mrerun\u001b[49m\u001b[38;5;241;43m=\u001b[39;49m\u001b[43mrerun\u001b[49m\u001b[43m)\u001b[49m\n",
      "File \u001b[0;32m/usr/share/miniconda/lib/python3.12/site-packages/pydra/engine/core.py:367\u001b[0m, in \u001b[0;36mTask.run\u001b[0;34m(self, rerun)\u001b[0m\n\u001b[1;32m    365\u001b[0m \u001b[38;5;28;01mtry\u001b[39;00m:\n\u001b[1;32m    366\u001b[0m     \u001b[38;5;28mself\u001b[39m\u001b[38;5;241m.\u001b[39maudit\u001b[38;5;241m.\u001b[39mmonitor()\n\u001b[0;32m--> 367\u001b[0m     \u001b[38;5;28;43mself\u001b[39;49m\u001b[38;5;241;43m.\u001b[39;49m\u001b[43mdefinition\u001b[49m\u001b[38;5;241;43m.\u001b[39;49m\u001b[43m_run\u001b[49m\u001b[43m(\u001b[49m\u001b[38;5;28;43mself\u001b[39;49m\u001b[43m)\u001b[49m\n\u001b[1;32m    368\u001b[0m     result\u001b[38;5;241m.\u001b[39moutputs \u001b[38;5;241m=\u001b[39m \u001b[38;5;28mself\u001b[39m\u001b[38;5;241m.\u001b[39mdefinition\u001b[38;5;241m.\u001b[39mOutputs\u001b[38;5;241m.\u001b[39m_from_task(\u001b[38;5;28mself\u001b[39m)\n\u001b[1;32m    369\u001b[0m \u001b[38;5;28;01mexcept\u001b[39;00m \u001b[38;5;167;01mException\u001b[39;00m:\n",
      "File \u001b[0;32m/usr/share/miniconda/lib/python3.12/site-packages/pydra/engine/specs.py:1010\u001b[0m, in \u001b[0;36mShellDef._run\u001b[0;34m(self, task)\u001b[0m\n\u001b[1;32m   1008\u001b[0m \u001b[38;5;28;01mdef\u001b[39;00m \u001b[38;5;21m_run\u001b[39m(\u001b[38;5;28mself\u001b[39m, task: \u001b[38;5;124m\"\u001b[39m\u001b[38;5;124mTask[ShellDef]\u001b[39m\u001b[38;5;124m\"\u001b[39m) \u001b[38;5;241m-\u001b[39m\u001b[38;5;241m>\u001b[39m \u001b[38;5;28;01mNone\u001b[39;00m:\n\u001b[1;32m   1009\u001b[0m \u001b[38;5;250m    \u001b[39m\u001b[38;5;124;03m\"\"\"Run the shell command.\"\"\"\u001b[39;00m\n\u001b[0;32m-> 1010\u001b[0m     task\u001b[38;5;241m.\u001b[39mreturn_values \u001b[38;5;241m=\u001b[39m \u001b[43mtask\u001b[49m\u001b[38;5;241;43m.\u001b[39;49m\u001b[43menvironment\u001b[49m\u001b[38;5;241;43m.\u001b[39;49m\u001b[43mexecute\u001b[49m\u001b[43m(\u001b[49m\u001b[43mtask\u001b[49m\u001b[43m)\u001b[49m\n",
      "File \u001b[0;32m/usr/share/miniconda/lib/python3.12/site-packages/pydra/engine/environments.py:56\u001b[0m, in \u001b[0;36mNative.execute\u001b[0;34m(self, task)\u001b[0m\n\u001b[1;32m     54\u001b[0m     \u001b[38;5;28;01mif\u001b[39;00m output[\u001b[38;5;124m\"\u001b[39m\u001b[38;5;124mstdout\u001b[39m\u001b[38;5;124m\"\u001b[39m]:\n\u001b[1;32m     55\u001b[0m         msg \u001b[38;5;241m+\u001b[39m\u001b[38;5;241m=\u001b[39m \u001b[38;5;124m\"\u001b[39m\u001b[38;5;130;01m\\n\u001b[39;00m\u001b[38;5;130;01m\\n\u001b[39;00m\u001b[38;5;124mstdout:\u001b[39m\u001b[38;5;130;01m\\n\u001b[39;00m\u001b[38;5;124m\"\u001b[39m \u001b[38;5;241m+\u001b[39m output[\u001b[38;5;124m\"\u001b[39m\u001b[38;5;124mstdout\u001b[39m\u001b[38;5;124m\"\u001b[39m]\n\u001b[0;32m---> 56\u001b[0m     \u001b[38;5;28;01mraise\u001b[39;00m \u001b[38;5;167;01mRuntimeError\u001b[39;00m(msg)\n\u001b[1;32m     57\u001b[0m \u001b[38;5;28;01mreturn\u001b[39;00m output\n",
      "\u001b[0;31mRuntimeError\u001b[0m: Error running 'task' task with ['mrgrid', '/tmp/tmpx9hs_y9_/0UAqFzWsDK4FrUMp48Y3tT3Q.nii', 'regrid', '/tmp/tmpipt4dlc7/shell-b70952aaf1f98d57a954334cc3df37b5/out_file.mif', '-voxel', '0.5,0.5,0.5']:\n\nstderr:\nmrgrid: \u001b[01;31m[ERROR] image \"/tmp/tmpx9hs_y9_/0UAqFzWsDK4FrUMp48Y3tT3Q.nii\" is not in NIFTI-1.1 format (sizeof_hdr != 348)\u001b[0m\nmrgrid: \u001b[01;31m[ERROR] image \"/tmp/tmpx9hs_y9_/0UAqFzWsDK4FrUMp48Y3tT3Q.nii\" is not in NIFTI-2 format (sizeof_hdr != 540)\u001b[0m\nmrgrid: \u001b[01;31m[ERROR] unknown format for image \"/tmp/tmpx9hs_y9_/0UAqFzWsDK4FrUMp48Y3tT3Q.nii\"\u001b[0m\nmrgrid: \u001b[01;31m[ERROR] error opening image \"/tmp/tmpx9hs_y9_/0UAqFzWsDK4FrUMp48Y3tT3Q.nii\"\u001b[0m\n",
      "\u001b[0mFull crash report for 'MrGrid' task is here: /tmp/tmpipt4dlc7/shell-b70952aaf1f98d57a954334cc3df37b5/_error.pklz"
     ]
    }
   ],
   "source": [
    "from pydra.engine.core import Task\n",
    "from pydra.engine.specs import TaskHooks, Result\n",
    "import os\n",
    "import platform\n",
    "\n",
    "def notify_task_completion(task: Task, result: Result):\n",
    "    # Print a message to the terminal\n",
    "    print(f\"Task completed! Results are stored in {str(task.output_dir)!r}\")\n",
    "\n",
    "    # Platform-specific notifications\n",
    "    if platform.system() == \"Darwin\":  # macOS\n",
    "        os.system('osascript -e \\'display notification \"Task has completed successfully!\" with title \"Task Notification\"\\'')\n",
    "    elif platform.system() == \"Linux\":  # Linux\n",
    "        os.system('notify-send \"Task Notification\" \"Task has completed successfully!\"')\n",
    "    elif platform.system() == \"Windows\":  # Windows\n",
    "        os.system('msg * \"Task has completed successfully!\"')\n",
    "\n",
    "# Run the task to resample all NIfTI files\n",
    "outputs = mrgrid(hooks=TaskHooks(post_run=notify_task_completion), cache_dir=tempfile.mkdtemp())\n",
    "\n",
    "# Print the locations of the output files\n",
    "pprint(outputs.out_file)"
   ]
  },
  {
   "cell_type": "markdown",
   "metadata": {},
   "source": [
    "## Provenance and auditing\n",
    "\n",
    "Work in progress..."
   ]
  }
 ],
 "metadata": {
  "kernelspec": {
   "display_name": "wf12",
   "language": "python",
   "name": "python3"
  },
  "language_info": {
   "codemirror_mode": {
    "name": "ipython",
    "version": 3
   },
   "file_extension": ".py",
   "mimetype": "text/x-python",
   "name": "python",
   "nbconvert_exporter": "python",
   "pygments_lexer": "ipython3",
   "version": "3.12.8"
  }
 },
 "nbformat": 4,
 "nbformat_minor": 2
}
