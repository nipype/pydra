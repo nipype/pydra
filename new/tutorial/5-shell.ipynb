{
 "cells": [
  {
   "cell_type": "markdown",
   "metadata": {},
   "source": [
    "# Shell-tasks"
   ]
  },
  {
   "cell_type": "markdown",
   "metadata": {},
   "source": [
    "## Command-line templates\n",
    "\n",
    "Shell task specs can be defined using from string templates that resemble the command-line usage examples typically used in in-line help. Therefore, they can be quick and intuitive way to specify a shell task. For example, a simple spec  for the copy command `cp` that omits optional flags,"
   ]
  },
  {
   "cell_type": "code",
   "execution_count": 1,
   "metadata": {
    "execution": {
     "iopub.execute_input": "2025-02-12T09:14:26.611123Z",
     "iopub.status.busy": "2025-02-12T09:14:26.610935Z",
     "iopub.status.idle": "2025-02-12T09:14:26.795491Z",
     "shell.execute_reply": "2025-02-12T09:14:26.794999Z"
    }
   },
   "outputs": [],
   "source": [
    "from pydra.design import shell\n",
    "\n",
    "Cp = shell.define(\"cp <in_file> <out|destination>\")"
   ]
  },
  {
   "cell_type": "markdown",
   "metadata": {},
   "source": [
    "Input and output fields are both specified by placing the name of the field within enclosing `<` and `>`. Outputs are differentiated by the `out|` prefix.\n",
    "\n",
    "This shell task can then be run just as a Python task would be run, first parameterising it, then executing"
   ]
  },
  {
   "cell_type": "code",
   "execution_count": 2,
   "metadata": {
    "execution": {
     "iopub.execute_input": "2025-02-12T09:14:26.797463Z",
     "iopub.status.busy": "2025-02-12T09:14:26.797254Z",
     "iopub.status.idle": "2025-02-12T09:14:27.408444Z",
     "shell.execute_reply": "2025-02-12T09:14:27.407957Z"
    }
   },
   "outputs": [
    {
     "name": "stdout",
     "output_type": "stream",
     "text": [
      "Command-line to be run: cp /tmp/tmpg8i7_zop/in.txt /tmp/tmpg8i7_zop/out.txt\n"
     ]
    },
    {
     "name": "stderr",
     "output_type": "stream",
     "text": [
      "A newer version (0.25) of nipype/pydra is available. You are using 0.25.dev206+gd1d95cc9\n"
     ]
    },
    {
     "name": "stdout",
     "output_type": "stream",
     "text": [
      "Contents of copied file ('/tmp/tmpg8i7_zop/out.txt'): 'Contents to be copied'\n"
     ]
    }
   ],
   "source": [
    "from pathlib import Path\n",
    "from tempfile import mkdtemp\n",
    "\n",
    "# Make a test file to copy\n",
    "test_dir = Path(mkdtemp())\n",
    "test_file = test_dir / \"in.txt\"\n",
    "with open(test_file, \"w\") as f:\n",
    "    f.write(\"Contents to be copied\")\n",
    "\n",
    "# Parameterise the task definition\n",
    "cp = Cp(in_file=test_file, destination=test_dir / \"out.txt\")\n",
    "\n",
    "# Print the cmdline to be run to double check\n",
    "print(f\"Command-line to be run: {cp.cmdline}\")\n",
    "\n",
    "# Run the shell-comand task\n",
    "outputs = cp()\n",
    "\n",
    "print(\n",
    "    f\"Contents of copied file ('{outputs.destination}'): \"\n",
    "    f\"'{Path(outputs.destination).read_text()}'\"\n",
    ")"
   ]
  },
  {
   "cell_type": "markdown",
   "metadata": {},
   "source": [
    "If paths to output files are not provided in the parameterisation, it will default to the name of the field"
   ]
  },
  {
   "cell_type": "code",
   "execution_count": 3,
   "metadata": {
    "execution": {
     "iopub.execute_input": "2025-02-12T09:14:27.410382Z",
     "iopub.status.busy": "2025-02-12T09:14:27.410009Z",
     "iopub.status.idle": "2025-02-12T09:14:27.414982Z",
     "shell.execute_reply": "2025-02-12T09:14:27.414529Z"
    }
   },
   "outputs": [
    {
     "name": "stdout",
     "output_type": "stream",
     "text": [
      "cp /tmp/tmpg8i7_zop/in.txt /home/runner/work/pydra/pydra/new-docs/source/tutorial/destination\n"
     ]
    }
   ],
   "source": [
    "cp = Cp(in_file=test_file)\n",
    "print(cp.cmdline)"
   ]
  },
  {
   "cell_type": "markdown",
   "metadata": {},
   "source": [
    "### Defifying types\n",
    "\n",
    "By default, shell-command fields are considered to be of `fileformats.generic.FsObject` type. However, more specific file formats or built-in Python types can be specified by appending the type to the field name after a `:`.\n",
    "\n",
    "File formats are specified by their MIME type or \"MIME-like\" strings (see the [FileFormats docs](https://arcanaframework.github.io/fileformats/mime.html) for details)"
   ]
  },
  {
   "cell_type": "code",
   "execution_count": 4,
   "metadata": {
    "execution": {
     "iopub.execute_input": "2025-02-12T09:14:27.416846Z",
     "iopub.status.busy": "2025-02-12T09:14:27.416487Z",
     "iopub.status.idle": "2025-02-12T09:14:27.513387Z",
     "shell.execute_reply": "2025-02-12T09:14:27.512907Z"
    }
   },
   "outputs": [
    {
     "name": "stdout",
     "output_type": "stream",
     "text": [
      "trim-png /mock/png.png /path/to/output.png\n"
     ]
    }
   ],
   "source": [
    "from fileformats.image import Png\n",
    "\n",
    "TrimPng = shell.define(\"trim-png <in_image:image/png> <out|out_image:image/png>\")\n",
    "\n",
    "trim_png = TrimPng(in_image=Png.mock(), out_image=\"/path/to/output.png\")\n",
    "\n",
    "print(trim_png.cmdline)"
   ]
  },
  {
   "cell_type": "markdown",
   "metadata": {},
   "source": []
  },
  {
   "cell_type": "markdown",
   "metadata": {},
   "source": [
    "### Flags and options\n",
    "\n",
    "Command line flags can also be added to the shell template, either the single or double hyphen form. The field template name immediately following the flag will be associate with that flag.\n",
    "\n",
    "If there is no space between the flag and the field template, then the field is assumed to be a boolean, otherwise it is assumed to be of type string unless otherwise specified.\n",
    "\n",
    "If a field is optional, the field template should end with a `?`. Tuple fields are specified by comma separated types.\n",
    "\n",
    "Varargs are specified by the type followed by an ellipsis, e.g. `<my_varargs:generic/file,...>`"
   ]
  },
  {
   "cell_type": "code",
   "execution_count": 5,
   "metadata": {
    "execution": {
     "iopub.execute_input": "2025-02-12T09:14:27.515363Z",
     "iopub.status.busy": "2025-02-12T09:14:27.514985Z",
     "iopub.status.idle": "2025-02-12T09:14:27.781751Z",
     "shell.execute_reply": "2025-02-12T09:14:27.781100Z"
    }
   },
   "outputs": [
    {
     "ename": "ValueError",
     "evalue": "sep (' ') can only be provided when type is iterable <class 'fileformats.generic.fsobject.FsObject'> for field 'in_fs_objects'",
     "output_type": "error",
     "traceback": [
      "\u001b[0;31m---------------------------------------------------------------------------\u001b[0m",
      "\u001b[0;31mKeyError\u001b[0m                                  Traceback (most recent call last)",
      "File \u001b[0;32m/opt/hostedtoolcache/Python/3.13.1/x64/lib/python3.13/site-packages/pydra/design/shell.py:531\u001b[0m, in \u001b[0;36mparse_command_line_template.<locals>.add_arg\u001b[0;34m(name, field_type, kwds)\u001b[0m\n\u001b[1;32m    530\u001b[0m \u001b[38;5;28;01mtry\u001b[39;00m:\n\u001b[0;32m--> 531\u001b[0m     field \u001b[38;5;241m=\u001b[39m \u001b[43mdct\u001b[49m\u001b[38;5;241;43m.\u001b[39;49m\u001b[43mpop\u001b[49m\u001b[43m(\u001b[49m\u001b[43mname\u001b[49m\u001b[43m)\u001b[49m\n\u001b[1;32m    532\u001b[0m \u001b[38;5;28;01mexcept\u001b[39;00m \u001b[38;5;167;01mKeyError\u001b[39;00m:\n",
      "\u001b[0;31mKeyError\u001b[0m: 'in_fs_objects'",
      "\nDuring handling of the above exception, another exception occurred:\n",
      "\u001b[0;31mValueError\u001b[0m                                Traceback (most recent call last)",
      "Cell \u001b[0;32mIn[5], line 4\u001b[0m\n\u001b[1;32m      1\u001b[0m \u001b[38;5;28;01mfrom\u001b[39;00m\u001b[38;5;250m \u001b[39m\u001b[38;5;21;01mpprint\u001b[39;00m\u001b[38;5;250m \u001b[39m\u001b[38;5;28;01mimport\u001b[39;00m pprint\n\u001b[1;32m      2\u001b[0m \u001b[38;5;28;01mfrom\u001b[39;00m\u001b[38;5;250m \u001b[39m\u001b[38;5;21;01mpydra\u001b[39;00m\u001b[38;5;21;01m.\u001b[39;00m\u001b[38;5;21;01mengine\u001b[39;00m\u001b[38;5;21;01m.\u001b[39;00m\u001b[38;5;21;01mhelpers\u001b[39;00m\u001b[38;5;250m \u001b[39m\u001b[38;5;28;01mimport\u001b[39;00m fields_dict\n\u001b[0;32m----> 4\u001b[0m Cp \u001b[38;5;241m=\u001b[39m \u001b[43mshell\u001b[49m\u001b[38;5;241;43m.\u001b[39;49m\u001b[43mdefine\u001b[49m\u001b[43m(\u001b[49m\n\u001b[1;32m      5\u001b[0m \u001b[43m        \u001b[49m\u001b[43m(\u001b[49m\n\u001b[1;32m      6\u001b[0m \u001b[43m            \u001b[49m\u001b[38;5;124;43m\"\u001b[39;49m\u001b[38;5;124;43mcp <in_fs_objects:fs-object,...> <out|out_dir:directory> \u001b[39;49m\u001b[38;5;124;43m\"\u001b[39;49m\n\u001b[1;32m      7\u001b[0m \u001b[43m            \u001b[49m\u001b[38;5;124;43m\"\u001b[39;49m\u001b[38;5;124;43m-R<recursive> \u001b[39;49m\u001b[38;5;124;43m\"\u001b[39;49m\n\u001b[1;32m      8\u001b[0m \u001b[43m            \u001b[49m\u001b[38;5;124;43m\"\u001b[39;49m\u001b[38;5;124;43m--text-arg <text_arg?> \u001b[39;49m\u001b[38;5;124;43m\"\u001b[39;49m\n\u001b[1;32m      9\u001b[0m \u001b[43m            \u001b[49m\u001b[38;5;124;43m\"\u001b[39;49m\u001b[38;5;124;43m--int-arg <int_arg:int?> \u001b[39;49m\u001b[38;5;124;43m\"\u001b[39;49m\n\u001b[1;32m     10\u001b[0m \u001b[43m            \u001b[49m\u001b[38;5;124;43m\"\u001b[39;49m\u001b[38;5;124;43m--tuple-arg <tuple_arg:int,str?> \u001b[39;49m\u001b[38;5;124;43m\"\u001b[39;49m\n\u001b[1;32m     11\u001b[0m \u001b[43m        \u001b[49m\u001b[43m)\u001b[49m\u001b[43m,\u001b[49m\n\u001b[1;32m     12\u001b[0m \u001b[43m    \u001b[49m\u001b[43m)\u001b[49m\n\u001b[1;32m     14\u001b[0m pprint(fields_dict(Cp))\n\u001b[1;32m     15\u001b[0m pprint(fields_dict(Cp\u001b[38;5;241m.\u001b[39mOutputs))\n",
      "File \u001b[0;32m/opt/hostedtoolcache/Python/3.13.1/x64/lib/python3.13/site-packages/pydra/design/shell.py:432\u001b[0m, in \u001b[0;36mdefine\u001b[0;34m(wrapped, inputs, outputs, bases, outputs_bases, auto_attribs, name)\u001b[0m\n\u001b[1;32m    430\u001b[0m     \u001b[38;5;28;01mif\u001b[39;00m \u001b[38;5;129;01mnot\u001b[39;00m \u001b[38;5;28misinstance\u001b[39m(wrapped, (\u001b[38;5;28mtype\u001b[39m, \u001b[38;5;28mstr\u001b[39m)):\n\u001b[1;32m    431\u001b[0m         \u001b[38;5;28;01mraise\u001b[39;00m \u001b[38;5;167;01mValueError\u001b[39;00m(\u001b[38;5;124mf\u001b[39m\u001b[38;5;124m\"\u001b[39m\u001b[38;5;124mwrapped must be a class or a string, not \u001b[39m\u001b[38;5;132;01m{\u001b[39;00mwrapped\u001b[38;5;132;01m!r}\u001b[39;00m\u001b[38;5;124m\"\u001b[39m)\n\u001b[0;32m--> 432\u001b[0m     \u001b[38;5;28;01mreturn\u001b[39;00m \u001b[43mmake\u001b[49m\u001b[43m(\u001b[49m\u001b[43mwrapped\u001b[49m\u001b[43m)\u001b[49m\n\u001b[1;32m    433\u001b[0m \u001b[38;5;28;01mreturn\u001b[39;00m make\n",
      "File \u001b[0;32m/opt/hostedtoolcache/Python/3.13.1/x64/lib/python3.13/site-packages/pydra/design/shell.py:343\u001b[0m, in \u001b[0;36mdefine.<locals>.make\u001b[0;34m(wrapped)\u001b[0m\n\u001b[1;32m    340\u001b[0m klass \u001b[38;5;241m=\u001b[39m \u001b[38;5;28;01mNone\u001b[39;00m\n\u001b[1;32m    341\u001b[0m input_helps, output_helps \u001b[38;5;241m=\u001b[39m {}, {}\n\u001b[0;32m--> 343\u001b[0m executable, inferred_inputs, inferred_outputs \u001b[38;5;241m=\u001b[39m \u001b[43mparse_command_line_template\u001b[49m\u001b[43m(\u001b[49m\n\u001b[1;32m    344\u001b[0m \u001b[43m    \u001b[49m\u001b[43mwrapped\u001b[49m\u001b[43m,\u001b[49m\n\u001b[1;32m    345\u001b[0m \u001b[43m    \u001b[49m\u001b[43minputs\u001b[49m\u001b[38;5;241;43m=\u001b[39;49m\u001b[43minputs\u001b[49m\u001b[43m,\u001b[49m\n\u001b[1;32m    346\u001b[0m \u001b[43m    \u001b[49m\u001b[43moutputs\u001b[49m\u001b[38;5;241;43m=\u001b[39;49m\u001b[43moutputs\u001b[49m\u001b[43m,\u001b[49m\n\u001b[1;32m    347\u001b[0m \u001b[43m\u001b[49m\u001b[43m)\u001b[49m\n\u001b[1;32m    349\u001b[0m parsed_inputs, parsed_outputs \u001b[38;5;241m=\u001b[39m ensure_field_objects(\n\u001b[1;32m    350\u001b[0m     arg_type\u001b[38;5;241m=\u001b[39marg,\n\u001b[1;32m    351\u001b[0m     out_type\u001b[38;5;241m=\u001b[39mout,\n\u001b[0;32m   (...)\u001b[0m\n\u001b[1;32m    355\u001b[0m     output_helps\u001b[38;5;241m=\u001b[39moutput_helps,\n\u001b[1;32m    356\u001b[0m )\n\u001b[1;32m    357\u001b[0m \u001b[38;5;28;01mif\u001b[39;00m name:\n",
      "File \u001b[0;32m/opt/hostedtoolcache/Python/3.13.1/x64/lib/python3.13/site-packages/pydra/design/shell.py:629\u001b[0m, in \u001b[0;36mparse_command_line_template\u001b[0;34m(template, inputs, outputs)\u001b[0m\n\u001b[1;32m    627\u001b[0m     kwds[\u001b[38;5;124m\"\u001b[39m\u001b[38;5;124msep\u001b[39m\u001b[38;5;124m\"\u001b[39m] \u001b[38;5;241m=\u001b[39m \u001b[38;5;124m\"\u001b[39m\u001b[38;5;124m \u001b[39m\u001b[38;5;124m\"\u001b[39m\n\u001b[1;32m    628\u001b[0m \u001b[38;5;28;01mif\u001b[39;00m option \u001b[38;5;129;01mis\u001b[39;00m \u001b[38;5;28;01mNone\u001b[39;00m:\n\u001b[0;32m--> 629\u001b[0m     \u001b[43madd_arg\u001b[49m\u001b[43m(\u001b[49m\u001b[43mname\u001b[49m\u001b[43m,\u001b[49m\u001b[43m \u001b[49m\u001b[43mfield_type\u001b[49m\u001b[43m,\u001b[49m\u001b[43m \u001b[49m\u001b[43mkwds\u001b[49m\u001b[43m)\u001b[49m\n\u001b[1;32m    630\u001b[0m \u001b[38;5;28;01melse\u001b[39;00m:\n\u001b[1;32m    631\u001b[0m     kwds[\u001b[38;5;124m\"\u001b[39m\u001b[38;5;124margstr\u001b[39m\u001b[38;5;124m\"\u001b[39m] \u001b[38;5;241m=\u001b[39m option\n",
      "File \u001b[0;32m/opt/hostedtoolcache/Python/3.13.1/x64/lib/python3.13/site-packages/pydra/design/shell.py:533\u001b[0m, in \u001b[0;36mparse_command_line_template.<locals>.add_arg\u001b[0;34m(name, field_type, kwds)\u001b[0m\n\u001b[1;32m    531\u001b[0m     field \u001b[38;5;241m=\u001b[39m dct\u001b[38;5;241m.\u001b[39mpop(name)\n\u001b[1;32m    532\u001b[0m \u001b[38;5;28;01mexcept\u001b[39;00m \u001b[38;5;167;01mKeyError\u001b[39;00m:\n\u001b[0;32m--> 533\u001b[0m     field \u001b[38;5;241m=\u001b[39m \u001b[43mfield_type\u001b[49m\u001b[43m(\u001b[49m\u001b[43mname\u001b[49m\u001b[38;5;241;43m=\u001b[39;49m\u001b[43mname\u001b[49m\u001b[43m,\u001b[49m\u001b[43m \u001b[49m\u001b[38;5;241;43m*\u001b[39;49m\u001b[38;5;241;43m*\u001b[39;49m\u001b[43mkwds\u001b[49m\u001b[43m)\u001b[49m\n\u001b[1;32m    534\u001b[0m \u001b[38;5;28;01melse\u001b[39;00m:\n\u001b[1;32m    535\u001b[0m     \u001b[38;5;28;01mif\u001b[39;00m \u001b[38;5;28misinstance\u001b[39m(field, \u001b[38;5;28mdict\u001b[39m):\n",
      "File \u001b[0;32m<attrs generated init pydra.design.shell.arg>:27\u001b[0m, in \u001b[0;36m__init__\u001b[0;34m(self, name, type, default, help, requires, converter, validator, hash_eq, xor, copy_mode, copy_collation, copy_ext_decomp, readonly, argstr, position, sep, allowed_values, container_path, formatter)\u001b[0m\n\u001b[1;32m     25\u001b[0m \u001b[38;5;28;01mif\u001b[39;00m _config\u001b[38;5;241m.\u001b[39m_run_validators \u001b[38;5;129;01mis\u001b[39;00m \u001b[38;5;28;01mTrue\u001b[39;00m:\n\u001b[1;32m     26\u001b[0m     __attr_validator_type(\u001b[38;5;28mself\u001b[39m, __attr_type, \u001b[38;5;28mself\u001b[39m\u001b[38;5;241m.\u001b[39mtype)\n\u001b[0;32m---> 27\u001b[0m     \u001b[43m__attr_validator_sep\u001b[49m\u001b[43m(\u001b[49m\u001b[38;5;28;43mself\u001b[39;49m\u001b[43m,\u001b[49m\u001b[43m \u001b[49m\u001b[43m__attr_sep\u001b[49m\u001b[43m,\u001b[49m\u001b[43m \u001b[49m\u001b[38;5;28;43mself\u001b[39;49m\u001b[38;5;241;43m.\u001b[39;49m\u001b[43msep\u001b[49m\u001b[43m)\u001b[49m\n",
      "File \u001b[0;32m/opt/hostedtoolcache/Python/3.13.1/x64/lib/python3.13/site-packages/pydra/design/shell.py:122\u001b[0m, in \u001b[0;36marg._validate_sep\u001b[0;34m(self, _, sep)\u001b[0m\n\u001b[1;32m    117\u001b[0m         \u001b[38;5;28;01mraise\u001b[39;00m \u001b[38;5;167;01mValueError\u001b[39;00m(\n\u001b[1;32m    118\u001b[0m             \u001b[38;5;124mf\u001b[39m\u001b[38;5;124m\"\u001b[39m\u001b[38;5;124mA value to \u001b[39m\u001b[38;5;124m'\u001b[39m\u001b[38;5;124msep\u001b[39m\u001b[38;5;124m'\u001b[39m\u001b[38;5;124m must be provided when type is iterable \u001b[39m\u001b[38;5;132;01m{\u001b[39;00mtp\u001b[38;5;132;01m}\u001b[39;00m\u001b[38;5;124m \u001b[39m\u001b[38;5;124m\"\u001b[39m\n\u001b[1;32m    119\u001b[0m             \u001b[38;5;124mf\u001b[39m\u001b[38;5;124m\"\u001b[39m\u001b[38;5;124mfor field \u001b[39m\u001b[38;5;132;01m{\u001b[39;00m\u001b[38;5;28mself\u001b[39m\u001b[38;5;241m.\u001b[39mname\u001b[38;5;132;01m!r}\u001b[39;00m\u001b[38;5;124m\"\u001b[39m\n\u001b[1;32m    120\u001b[0m         )\n\u001b[1;32m    121\u001b[0m \u001b[38;5;28;01melif\u001b[39;00m sep \u001b[38;5;129;01mis\u001b[39;00m \u001b[38;5;129;01mnot\u001b[39;00m \u001b[38;5;28;01mNone\u001b[39;00m:\n\u001b[0;32m--> 122\u001b[0m     \u001b[38;5;28;01mraise\u001b[39;00m \u001b[38;5;167;01mValueError\u001b[39;00m(\n\u001b[1;32m    123\u001b[0m         \u001b[38;5;124mf\u001b[39m\u001b[38;5;124m\"\u001b[39m\u001b[38;5;124msep (\u001b[39m\u001b[38;5;132;01m{\u001b[39;00msep\u001b[38;5;132;01m!r}\u001b[39;00m\u001b[38;5;124m) can only be provided when type is iterable \u001b[39m\u001b[38;5;132;01m{\u001b[39;00mtp\u001b[38;5;132;01m}\u001b[39;00m\u001b[38;5;124m \u001b[39m\u001b[38;5;124m\"\u001b[39m\n\u001b[1;32m    124\u001b[0m         \u001b[38;5;124mf\u001b[39m\u001b[38;5;124m\"\u001b[39m\u001b[38;5;124mfor field \u001b[39m\u001b[38;5;132;01m{\u001b[39;00m\u001b[38;5;28mself\u001b[39m\u001b[38;5;241m.\u001b[39mname\u001b[38;5;132;01m!r}\u001b[39;00m\u001b[38;5;124m\"\u001b[39m\n\u001b[1;32m    125\u001b[0m     )\n",
      "\u001b[0;31mValueError\u001b[0m: sep (' ') can only be provided when type is iterable <class 'fileformats.generic.fsobject.FsObject'> for field 'in_fs_objects'"
     ]
    }
   ],
   "source": [
    "from pprint import pprint\n",
    "from pydra.engine.helpers import fields_dict\n",
    "\n",
    "Cp = shell.define(\n",
    "        (\n",
    "            \"cp <in_fs_objects:fs-object,...> <out|out_dir:directory> \"\n",
    "            \"-R<recursive> \"\n",
    "            \"--text-arg <text_arg?> \"\n",
    "            \"--int-arg <int_arg:int?> \"\n",
    "            \"--tuple-arg <tuple_arg:int,str?> \"\n",
    "        ),\n",
    "    )\n",
    "\n",
    "pprint(fields_dict(Cp))\n",
    "pprint(fields_dict(Cp.Outputs))"
   ]
  },
  {
   "cell_type": "markdown",
   "metadata": {},
   "source": [
    "### Defaults\n",
    "\n",
    "Defaults can be specified by appending them to the field template after `=`"
   ]
  },
  {
   "cell_type": "code",
   "execution_count": 6,
   "metadata": {
    "execution": {
     "iopub.execute_input": "2025-02-12T09:14:27.783741Z",
     "iopub.status.busy": "2025-02-12T09:14:27.783549Z",
     "iopub.status.idle": "2025-02-12T09:14:27.871456Z",
     "shell.execute_reply": "2025-02-12T09:14:27.870836Z"
    }
   },
   "outputs": [
    {
     "ename": "ValueError",
     "evalue": "sep (' ') can only be provided when type is iterable <class 'fileformats.generic.fsobject.FsObject'> for field 'in_fs_objects'",
     "output_type": "error",
     "traceback": [
      "\u001b[0;31m---------------------------------------------------------------------------\u001b[0m",
      "\u001b[0;31mKeyError\u001b[0m                                  Traceback (most recent call last)",
      "File \u001b[0;32m/opt/hostedtoolcache/Python/3.13.1/x64/lib/python3.13/site-packages/pydra/design/shell.py:531\u001b[0m, in \u001b[0;36mparse_command_line_template.<locals>.add_arg\u001b[0;34m(name, field_type, kwds)\u001b[0m\n\u001b[1;32m    530\u001b[0m \u001b[38;5;28;01mtry\u001b[39;00m:\n\u001b[0;32m--> 531\u001b[0m     field \u001b[38;5;241m=\u001b[39m \u001b[43mdct\u001b[49m\u001b[38;5;241;43m.\u001b[39;49m\u001b[43mpop\u001b[49m\u001b[43m(\u001b[49m\u001b[43mname\u001b[49m\u001b[43m)\u001b[49m\n\u001b[1;32m    532\u001b[0m \u001b[38;5;28;01mexcept\u001b[39;00m \u001b[38;5;167;01mKeyError\u001b[39;00m:\n",
      "\u001b[0;31mKeyError\u001b[0m: 'in_fs_objects'",
      "\nDuring handling of the above exception, another exception occurred:\n",
      "\u001b[0;31mValueError\u001b[0m                                Traceback (most recent call last)",
      "Cell \u001b[0;32mIn[6], line 1\u001b[0m\n\u001b[0;32m----> 1\u001b[0m Cp \u001b[38;5;241m=\u001b[39m \u001b[43mshell\u001b[49m\u001b[38;5;241;43m.\u001b[39;49m\u001b[43mdefine\u001b[49m\u001b[43m(\u001b[49m\n\u001b[1;32m      2\u001b[0m \u001b[43m        \u001b[49m\u001b[43m(\u001b[49m\n\u001b[1;32m      3\u001b[0m \u001b[43m            \u001b[49m\u001b[38;5;124;43m\"\u001b[39;49m\u001b[38;5;124;43mcp <in_fs_objects:fs-object,...> <out|out_dir:directory> \u001b[39;49m\u001b[38;5;124;43m\"\u001b[39;49m\n\u001b[1;32m      4\u001b[0m \u001b[43m            \u001b[49m\u001b[38;5;124;43m\"\u001b[39;49m\u001b[38;5;124;43m-R<recursive=True> \u001b[39;49m\u001b[38;5;124;43m\"\u001b[39;49m\n\u001b[1;32m      5\u001b[0m \u001b[43m            \u001b[49m\u001b[38;5;124;43m\"\u001b[39;49m\u001b[38;5;124;43m--text-arg <text_arg=\u001b[39;49m\u001b[38;5;124;43m'\u001b[39;49m\u001b[38;5;124;43mfoo\u001b[39;49m\u001b[38;5;124;43m'\u001b[39;49m\u001b[38;5;124;43m> \u001b[39;49m\u001b[38;5;124;43m\"\u001b[39;49m\n\u001b[1;32m      6\u001b[0m \u001b[43m            \u001b[49m\u001b[38;5;124;43m\"\u001b[39;49m\u001b[38;5;124;43m--int-arg <int_arg:int=99> \u001b[39;49m\u001b[38;5;124;43m\"\u001b[39;49m\n\u001b[1;32m      7\u001b[0m \u001b[43m            \u001b[49m\u001b[38;5;124;43m\"\u001b[39;49m\u001b[38;5;124;43m--tuple-arg <tuple_arg:int,str=(1,\u001b[39;49m\u001b[38;5;124;43m'\u001b[39;49m\u001b[38;5;124;43mbar\u001b[39;49m\u001b[38;5;124;43m'\u001b[39;49m\u001b[38;5;124;43m)> \u001b[39;49m\u001b[38;5;124;43m\"\u001b[39;49m\n\u001b[1;32m      8\u001b[0m \u001b[43m        \u001b[49m\u001b[43m)\u001b[49m\u001b[43m,\u001b[49m\n\u001b[1;32m      9\u001b[0m \u001b[43m    \u001b[49m\u001b[43m)\u001b[49m\n\u001b[1;32m     11\u001b[0m \u001b[38;5;28mprint\u001b[39m(\u001b[38;5;124mf\u001b[39m\u001b[38;5;124m\"\u001b[39m\u001b[38;5;124m'\u001b[39m\u001b[38;5;124m--int-arg\u001b[39m\u001b[38;5;124m'\u001b[39m\u001b[38;5;124m default: \u001b[39m\u001b[38;5;132;01m{\u001b[39;00mfields_dict(Cp)[\u001b[38;5;124m'\u001b[39m\u001b[38;5;124mint_arg\u001b[39m\u001b[38;5;124m'\u001b[39m]\u001b[38;5;241m.\u001b[39mdefault\u001b[38;5;132;01m}\u001b[39;00m\u001b[38;5;124m\"\u001b[39m)\n",
      "File \u001b[0;32m/opt/hostedtoolcache/Python/3.13.1/x64/lib/python3.13/site-packages/pydra/design/shell.py:432\u001b[0m, in \u001b[0;36mdefine\u001b[0;34m(wrapped, inputs, outputs, bases, outputs_bases, auto_attribs, name)\u001b[0m\n\u001b[1;32m    430\u001b[0m     \u001b[38;5;28;01mif\u001b[39;00m \u001b[38;5;129;01mnot\u001b[39;00m \u001b[38;5;28misinstance\u001b[39m(wrapped, (\u001b[38;5;28mtype\u001b[39m, \u001b[38;5;28mstr\u001b[39m)):\n\u001b[1;32m    431\u001b[0m         \u001b[38;5;28;01mraise\u001b[39;00m \u001b[38;5;167;01mValueError\u001b[39;00m(\u001b[38;5;124mf\u001b[39m\u001b[38;5;124m\"\u001b[39m\u001b[38;5;124mwrapped must be a class or a string, not \u001b[39m\u001b[38;5;132;01m{\u001b[39;00mwrapped\u001b[38;5;132;01m!r}\u001b[39;00m\u001b[38;5;124m\"\u001b[39m)\n\u001b[0;32m--> 432\u001b[0m     \u001b[38;5;28;01mreturn\u001b[39;00m \u001b[43mmake\u001b[49m\u001b[43m(\u001b[49m\u001b[43mwrapped\u001b[49m\u001b[43m)\u001b[49m\n\u001b[1;32m    433\u001b[0m \u001b[38;5;28;01mreturn\u001b[39;00m make\n",
      "File \u001b[0;32m/opt/hostedtoolcache/Python/3.13.1/x64/lib/python3.13/site-packages/pydra/design/shell.py:343\u001b[0m, in \u001b[0;36mdefine.<locals>.make\u001b[0;34m(wrapped)\u001b[0m\n\u001b[1;32m    340\u001b[0m klass \u001b[38;5;241m=\u001b[39m \u001b[38;5;28;01mNone\u001b[39;00m\n\u001b[1;32m    341\u001b[0m input_helps, output_helps \u001b[38;5;241m=\u001b[39m {}, {}\n\u001b[0;32m--> 343\u001b[0m executable, inferred_inputs, inferred_outputs \u001b[38;5;241m=\u001b[39m \u001b[43mparse_command_line_template\u001b[49m\u001b[43m(\u001b[49m\n\u001b[1;32m    344\u001b[0m \u001b[43m    \u001b[49m\u001b[43mwrapped\u001b[49m\u001b[43m,\u001b[49m\n\u001b[1;32m    345\u001b[0m \u001b[43m    \u001b[49m\u001b[43minputs\u001b[49m\u001b[38;5;241;43m=\u001b[39;49m\u001b[43minputs\u001b[49m\u001b[43m,\u001b[49m\n\u001b[1;32m    346\u001b[0m \u001b[43m    \u001b[49m\u001b[43moutputs\u001b[49m\u001b[38;5;241;43m=\u001b[39;49m\u001b[43moutputs\u001b[49m\u001b[43m,\u001b[49m\n\u001b[1;32m    347\u001b[0m \u001b[43m\u001b[49m\u001b[43m)\u001b[49m\n\u001b[1;32m    349\u001b[0m parsed_inputs, parsed_outputs \u001b[38;5;241m=\u001b[39m ensure_field_objects(\n\u001b[1;32m    350\u001b[0m     arg_type\u001b[38;5;241m=\u001b[39marg,\n\u001b[1;32m    351\u001b[0m     out_type\u001b[38;5;241m=\u001b[39mout,\n\u001b[0;32m   (...)\u001b[0m\n\u001b[1;32m    355\u001b[0m     output_helps\u001b[38;5;241m=\u001b[39moutput_helps,\n\u001b[1;32m    356\u001b[0m )\n\u001b[1;32m    357\u001b[0m \u001b[38;5;28;01mif\u001b[39;00m name:\n",
      "File \u001b[0;32m/opt/hostedtoolcache/Python/3.13.1/x64/lib/python3.13/site-packages/pydra/design/shell.py:629\u001b[0m, in \u001b[0;36mparse_command_line_template\u001b[0;34m(template, inputs, outputs)\u001b[0m\n\u001b[1;32m    627\u001b[0m     kwds[\u001b[38;5;124m\"\u001b[39m\u001b[38;5;124msep\u001b[39m\u001b[38;5;124m\"\u001b[39m] \u001b[38;5;241m=\u001b[39m \u001b[38;5;124m\"\u001b[39m\u001b[38;5;124m \u001b[39m\u001b[38;5;124m\"\u001b[39m\n\u001b[1;32m    628\u001b[0m \u001b[38;5;28;01mif\u001b[39;00m option \u001b[38;5;129;01mis\u001b[39;00m \u001b[38;5;28;01mNone\u001b[39;00m:\n\u001b[0;32m--> 629\u001b[0m     \u001b[43madd_arg\u001b[49m\u001b[43m(\u001b[49m\u001b[43mname\u001b[49m\u001b[43m,\u001b[49m\u001b[43m \u001b[49m\u001b[43mfield_type\u001b[49m\u001b[43m,\u001b[49m\u001b[43m \u001b[49m\u001b[43mkwds\u001b[49m\u001b[43m)\u001b[49m\n\u001b[1;32m    630\u001b[0m \u001b[38;5;28;01melse\u001b[39;00m:\n\u001b[1;32m    631\u001b[0m     kwds[\u001b[38;5;124m\"\u001b[39m\u001b[38;5;124margstr\u001b[39m\u001b[38;5;124m\"\u001b[39m] \u001b[38;5;241m=\u001b[39m option\n",
      "File \u001b[0;32m/opt/hostedtoolcache/Python/3.13.1/x64/lib/python3.13/site-packages/pydra/design/shell.py:533\u001b[0m, in \u001b[0;36mparse_command_line_template.<locals>.add_arg\u001b[0;34m(name, field_type, kwds)\u001b[0m\n\u001b[1;32m    531\u001b[0m     field \u001b[38;5;241m=\u001b[39m dct\u001b[38;5;241m.\u001b[39mpop(name)\n\u001b[1;32m    532\u001b[0m \u001b[38;5;28;01mexcept\u001b[39;00m \u001b[38;5;167;01mKeyError\u001b[39;00m:\n\u001b[0;32m--> 533\u001b[0m     field \u001b[38;5;241m=\u001b[39m \u001b[43mfield_type\u001b[49m\u001b[43m(\u001b[49m\u001b[43mname\u001b[49m\u001b[38;5;241;43m=\u001b[39;49m\u001b[43mname\u001b[49m\u001b[43m,\u001b[49m\u001b[43m \u001b[49m\u001b[38;5;241;43m*\u001b[39;49m\u001b[38;5;241;43m*\u001b[39;49m\u001b[43mkwds\u001b[49m\u001b[43m)\u001b[49m\n\u001b[1;32m    534\u001b[0m \u001b[38;5;28;01melse\u001b[39;00m:\n\u001b[1;32m    535\u001b[0m     \u001b[38;5;28;01mif\u001b[39;00m \u001b[38;5;28misinstance\u001b[39m(field, \u001b[38;5;28mdict\u001b[39m):\n",
      "File \u001b[0;32m<attrs generated init pydra.design.shell.arg>:27\u001b[0m, in \u001b[0;36m__init__\u001b[0;34m(self, name, type, default, help, requires, converter, validator, hash_eq, xor, copy_mode, copy_collation, copy_ext_decomp, readonly, argstr, position, sep, allowed_values, container_path, formatter)\u001b[0m\n\u001b[1;32m     25\u001b[0m \u001b[38;5;28;01mif\u001b[39;00m _config\u001b[38;5;241m.\u001b[39m_run_validators \u001b[38;5;129;01mis\u001b[39;00m \u001b[38;5;28;01mTrue\u001b[39;00m:\n\u001b[1;32m     26\u001b[0m     __attr_validator_type(\u001b[38;5;28mself\u001b[39m, __attr_type, \u001b[38;5;28mself\u001b[39m\u001b[38;5;241m.\u001b[39mtype)\n\u001b[0;32m---> 27\u001b[0m     \u001b[43m__attr_validator_sep\u001b[49m\u001b[43m(\u001b[49m\u001b[38;5;28;43mself\u001b[39;49m\u001b[43m,\u001b[49m\u001b[43m \u001b[49m\u001b[43m__attr_sep\u001b[49m\u001b[43m,\u001b[49m\u001b[43m \u001b[49m\u001b[38;5;28;43mself\u001b[39;49m\u001b[38;5;241;43m.\u001b[39;49m\u001b[43msep\u001b[49m\u001b[43m)\u001b[49m\n",
      "File \u001b[0;32m/opt/hostedtoolcache/Python/3.13.1/x64/lib/python3.13/site-packages/pydra/design/shell.py:122\u001b[0m, in \u001b[0;36marg._validate_sep\u001b[0;34m(self, _, sep)\u001b[0m\n\u001b[1;32m    117\u001b[0m         \u001b[38;5;28;01mraise\u001b[39;00m \u001b[38;5;167;01mValueError\u001b[39;00m(\n\u001b[1;32m    118\u001b[0m             \u001b[38;5;124mf\u001b[39m\u001b[38;5;124m\"\u001b[39m\u001b[38;5;124mA value to \u001b[39m\u001b[38;5;124m'\u001b[39m\u001b[38;5;124msep\u001b[39m\u001b[38;5;124m'\u001b[39m\u001b[38;5;124m must be provided when type is iterable \u001b[39m\u001b[38;5;132;01m{\u001b[39;00mtp\u001b[38;5;132;01m}\u001b[39;00m\u001b[38;5;124m \u001b[39m\u001b[38;5;124m\"\u001b[39m\n\u001b[1;32m    119\u001b[0m             \u001b[38;5;124mf\u001b[39m\u001b[38;5;124m\"\u001b[39m\u001b[38;5;124mfor field \u001b[39m\u001b[38;5;132;01m{\u001b[39;00m\u001b[38;5;28mself\u001b[39m\u001b[38;5;241m.\u001b[39mname\u001b[38;5;132;01m!r}\u001b[39;00m\u001b[38;5;124m\"\u001b[39m\n\u001b[1;32m    120\u001b[0m         )\n\u001b[1;32m    121\u001b[0m \u001b[38;5;28;01melif\u001b[39;00m sep \u001b[38;5;129;01mis\u001b[39;00m \u001b[38;5;129;01mnot\u001b[39;00m \u001b[38;5;28;01mNone\u001b[39;00m:\n\u001b[0;32m--> 122\u001b[0m     \u001b[38;5;28;01mraise\u001b[39;00m \u001b[38;5;167;01mValueError\u001b[39;00m(\n\u001b[1;32m    123\u001b[0m         \u001b[38;5;124mf\u001b[39m\u001b[38;5;124m\"\u001b[39m\u001b[38;5;124msep (\u001b[39m\u001b[38;5;132;01m{\u001b[39;00msep\u001b[38;5;132;01m!r}\u001b[39;00m\u001b[38;5;124m) can only be provided when type is iterable \u001b[39m\u001b[38;5;132;01m{\u001b[39;00mtp\u001b[38;5;132;01m}\u001b[39;00m\u001b[38;5;124m \u001b[39m\u001b[38;5;124m\"\u001b[39m\n\u001b[1;32m    124\u001b[0m         \u001b[38;5;124mf\u001b[39m\u001b[38;5;124m\"\u001b[39m\u001b[38;5;124mfor field \u001b[39m\u001b[38;5;132;01m{\u001b[39;00m\u001b[38;5;28mself\u001b[39m\u001b[38;5;241m.\u001b[39mname\u001b[38;5;132;01m!r}\u001b[39;00m\u001b[38;5;124m\"\u001b[39m\n\u001b[1;32m    125\u001b[0m     )\n",
      "\u001b[0;31mValueError\u001b[0m: sep (' ') can only be provided when type is iterable <class 'fileformats.generic.fsobject.FsObject'> for field 'in_fs_objects'"
     ]
    }
   ],
   "source": [
    "Cp = shell.define(\n",
    "        (\n",
    "            \"cp <in_fs_objects:fs-object,...> <out|out_dir:directory> \"\n",
    "            \"-R<recursive=True> \"\n",
    "            \"--text-arg <text_arg='foo'> \"\n",
    "            \"--int-arg <int_arg:int=99> \"\n",
    "            \"--tuple-arg <tuple_arg:int,str=(1,'bar')> \"\n",
    "        ),\n",
    "    )\n",
    "\n",
    "print(f\"'--int-arg' default: {fields_dict(Cp)['int_arg'].default}\")"
   ]
  },
  {
   "cell_type": "markdown",
   "metadata": {},
   "source": [
    "### Additional field attributes\n",
    "\n",
    "Additional attributes of the fields in the template can be specified by providing `shell.arg` or `shell.outarg` fields to the `inputs` and `outputs` keyword arguments to the define"
   ]
  },
  {
   "cell_type": "code",
   "execution_count": 7,
   "metadata": {
    "execution": {
     "iopub.execute_input": "2025-02-12T09:14:27.873581Z",
     "iopub.status.busy": "2025-02-12T09:14:27.873204Z",
     "iopub.status.idle": "2025-02-12T09:14:27.962595Z",
     "shell.execute_reply": "2025-02-12T09:14:27.962079Z"
    }
   },
   "outputs": [
    {
     "ename": "ValueError",
     "evalue": "sep (' ') can only be provided when type is iterable <class 'fileformats.generic.fsobject.FsObject'> for field 'in_fs_objects'",
     "output_type": "error",
     "traceback": [
      "\u001b[0;31m---------------------------------------------------------------------------\u001b[0m",
      "\u001b[0;31mKeyError\u001b[0m                                  Traceback (most recent call last)",
      "File \u001b[0;32m/opt/hostedtoolcache/Python/3.13.1/x64/lib/python3.13/site-packages/pydra/design/shell.py:531\u001b[0m, in \u001b[0;36mparse_command_line_template.<locals>.add_arg\u001b[0;34m(name, field_type, kwds)\u001b[0m\n\u001b[1;32m    530\u001b[0m \u001b[38;5;28;01mtry\u001b[39;00m:\n\u001b[0;32m--> 531\u001b[0m     field \u001b[38;5;241m=\u001b[39m \u001b[43mdct\u001b[49m\u001b[38;5;241;43m.\u001b[39;49m\u001b[43mpop\u001b[49m\u001b[43m(\u001b[49m\u001b[43mname\u001b[49m\u001b[43m)\u001b[49m\n\u001b[1;32m    532\u001b[0m \u001b[38;5;28;01mexcept\u001b[39;00m \u001b[38;5;167;01mKeyError\u001b[39;00m:\n",
      "\u001b[0;31mKeyError\u001b[0m: 'in_fs_objects'",
      "\nDuring handling of the above exception, another exception occurred:\n",
      "\u001b[0;31mValueError\u001b[0m                                Traceback (most recent call last)",
      "Cell \u001b[0;32mIn[7], line 1\u001b[0m\n\u001b[0;32m----> 1\u001b[0m Cp \u001b[38;5;241m=\u001b[39m \u001b[43mshell\u001b[49m\u001b[38;5;241;43m.\u001b[39;49m\u001b[43mdefine\u001b[49m\u001b[43m(\u001b[49m\n\u001b[1;32m      2\u001b[0m \u001b[43m        \u001b[49m\u001b[43m(\u001b[49m\n\u001b[1;32m      3\u001b[0m \u001b[43m            \u001b[49m\u001b[38;5;124;43m\"\u001b[39;49m\u001b[38;5;124;43mcp <in_fs_objects:fs-object,...> <out|out_dir:directory> <out|out_file:file?> \u001b[39;49m\u001b[38;5;124;43m\"\u001b[39;49m\n\u001b[1;32m      4\u001b[0m \u001b[43m            \u001b[49m\u001b[38;5;124;43m\"\u001b[39;49m\u001b[38;5;124;43m-R<recursive> \u001b[39;49m\u001b[38;5;124;43m\"\u001b[39;49m\n\u001b[1;32m      5\u001b[0m \u001b[43m            \u001b[49m\u001b[38;5;124;43m\"\u001b[39;49m\u001b[38;5;124;43m--text-arg <text_arg> \u001b[39;49m\u001b[38;5;124;43m\"\u001b[39;49m\n\u001b[1;32m      6\u001b[0m \u001b[43m            \u001b[49m\u001b[38;5;124;43m\"\u001b[39;49m\u001b[38;5;124;43m--int-arg <int_arg:int?> \u001b[39;49m\u001b[38;5;124;43m\"\u001b[39;49m\n\u001b[1;32m      7\u001b[0m \u001b[43m            \u001b[49m\u001b[38;5;124;43m\"\u001b[39;49m\u001b[38;5;124;43m--tuple-arg <tuple_arg:int,str> \u001b[39;49m\u001b[38;5;124;43m\"\u001b[39;49m\n\u001b[1;32m      8\u001b[0m \u001b[43m        \u001b[49m\u001b[43m)\u001b[49m\u001b[43m,\u001b[49m\n\u001b[1;32m      9\u001b[0m \u001b[43m        \u001b[49m\u001b[43minputs\u001b[49m\u001b[38;5;241;43m=\u001b[39;49m\u001b[43m{\u001b[49m\u001b[38;5;124;43m\"\u001b[39;49m\u001b[38;5;124;43mrecursive\u001b[39;49m\u001b[38;5;124;43m\"\u001b[39;49m\u001b[43m:\u001b[49m\u001b[43m \u001b[49m\u001b[43mshell\u001b[49m\u001b[38;5;241;43m.\u001b[39;49m\u001b[43marg\u001b[49m\u001b[43m(\u001b[49m\n\u001b[1;32m     10\u001b[0m \u001b[43m            \u001b[49m\u001b[43mhelp\u001b[49m\u001b[38;5;241;43m=\u001b[39;49m\u001b[43m(\u001b[49m\n\u001b[1;32m     11\u001b[0m \u001b[43m                \u001b[49m\u001b[38;5;124;43m\"\u001b[39;49m\u001b[38;5;124;43mIf source_file designates a directory, cp copies the directory and \u001b[39;49m\u001b[38;5;124;43m\"\u001b[39;49m\n\u001b[1;32m     12\u001b[0m \u001b[43m                \u001b[49m\u001b[38;5;124;43m\"\u001b[39;49m\u001b[38;5;124;43mthe entire subtree connected at that point.\u001b[39;49m\u001b[38;5;124;43m\"\u001b[39;49m\n\u001b[1;32m     13\u001b[0m \u001b[43m            \u001b[49m\u001b[43m)\u001b[49m\n\u001b[1;32m     14\u001b[0m \u001b[43m        \u001b[49m\u001b[43m)\u001b[49m\u001b[43m}\u001b[49m\u001b[43m,\u001b[49m\n\u001b[1;32m     15\u001b[0m \u001b[43m        \u001b[49m\u001b[43moutputs\u001b[49m\u001b[38;5;241;43m=\u001b[39;49m\u001b[43m{\u001b[49m\n\u001b[1;32m     16\u001b[0m \u001b[43m            \u001b[49m\u001b[38;5;124;43m\"\u001b[39;49m\u001b[38;5;124;43mout_dir\u001b[39;49m\u001b[38;5;124;43m\"\u001b[39;49m\u001b[43m:\u001b[49m\u001b[43m \u001b[49m\u001b[43mshell\u001b[49m\u001b[38;5;241;43m.\u001b[39;49m\u001b[43moutarg\u001b[49m\u001b[43m(\u001b[49m\u001b[43mposition\u001b[49m\u001b[38;5;241;43m=\u001b[39;49m\u001b[38;5;241;43m-\u001b[39;49m\u001b[38;5;241;43m2\u001b[39;49m\u001b[43m)\u001b[49m\u001b[43m,\u001b[49m\n\u001b[1;32m     17\u001b[0m \u001b[43m            \u001b[49m\u001b[38;5;124;43m\"\u001b[39;49m\u001b[38;5;124;43mout_file\u001b[39;49m\u001b[38;5;124;43m\"\u001b[39;49m\u001b[43m:\u001b[49m\u001b[43m \u001b[49m\u001b[43mshell\u001b[49m\u001b[38;5;241;43m.\u001b[39;49m\u001b[43moutarg\u001b[49m\u001b[43m(\u001b[49m\u001b[43mposition\u001b[49m\u001b[38;5;241;43m=\u001b[39;49m\u001b[38;5;241;43m-\u001b[39;49m\u001b[38;5;241;43m1\u001b[39;49m\u001b[43m)\u001b[49m\u001b[43m,\u001b[49m\n\u001b[1;32m     18\u001b[0m \u001b[43m        \u001b[49m\u001b[43m}\u001b[49m\u001b[43m,\u001b[49m\n\u001b[1;32m     19\u001b[0m \u001b[43m    \u001b[49m\u001b[43m)\u001b[49m\n\u001b[1;32m     22\u001b[0m pprint(fields_dict(Cp))\n\u001b[1;32m     23\u001b[0m pprint(fields_dict(Cp\u001b[38;5;241m.\u001b[39mOutputs))\n",
      "File \u001b[0;32m/opt/hostedtoolcache/Python/3.13.1/x64/lib/python3.13/site-packages/pydra/design/shell.py:432\u001b[0m, in \u001b[0;36mdefine\u001b[0;34m(wrapped, inputs, outputs, bases, outputs_bases, auto_attribs, name)\u001b[0m\n\u001b[1;32m    430\u001b[0m     \u001b[38;5;28;01mif\u001b[39;00m \u001b[38;5;129;01mnot\u001b[39;00m \u001b[38;5;28misinstance\u001b[39m(wrapped, (\u001b[38;5;28mtype\u001b[39m, \u001b[38;5;28mstr\u001b[39m)):\n\u001b[1;32m    431\u001b[0m         \u001b[38;5;28;01mraise\u001b[39;00m \u001b[38;5;167;01mValueError\u001b[39;00m(\u001b[38;5;124mf\u001b[39m\u001b[38;5;124m\"\u001b[39m\u001b[38;5;124mwrapped must be a class or a string, not \u001b[39m\u001b[38;5;132;01m{\u001b[39;00mwrapped\u001b[38;5;132;01m!r}\u001b[39;00m\u001b[38;5;124m\"\u001b[39m)\n\u001b[0;32m--> 432\u001b[0m     \u001b[38;5;28;01mreturn\u001b[39;00m \u001b[43mmake\u001b[49m\u001b[43m(\u001b[49m\u001b[43mwrapped\u001b[49m\u001b[43m)\u001b[49m\n\u001b[1;32m    433\u001b[0m \u001b[38;5;28;01mreturn\u001b[39;00m make\n",
      "File \u001b[0;32m/opt/hostedtoolcache/Python/3.13.1/x64/lib/python3.13/site-packages/pydra/design/shell.py:343\u001b[0m, in \u001b[0;36mdefine.<locals>.make\u001b[0;34m(wrapped)\u001b[0m\n\u001b[1;32m    340\u001b[0m klass \u001b[38;5;241m=\u001b[39m \u001b[38;5;28;01mNone\u001b[39;00m\n\u001b[1;32m    341\u001b[0m input_helps, output_helps \u001b[38;5;241m=\u001b[39m {}, {}\n\u001b[0;32m--> 343\u001b[0m executable, inferred_inputs, inferred_outputs \u001b[38;5;241m=\u001b[39m \u001b[43mparse_command_line_template\u001b[49m\u001b[43m(\u001b[49m\n\u001b[1;32m    344\u001b[0m \u001b[43m    \u001b[49m\u001b[43mwrapped\u001b[49m\u001b[43m,\u001b[49m\n\u001b[1;32m    345\u001b[0m \u001b[43m    \u001b[49m\u001b[43minputs\u001b[49m\u001b[38;5;241;43m=\u001b[39;49m\u001b[43minputs\u001b[49m\u001b[43m,\u001b[49m\n\u001b[1;32m    346\u001b[0m \u001b[43m    \u001b[49m\u001b[43moutputs\u001b[49m\u001b[38;5;241;43m=\u001b[39;49m\u001b[43moutputs\u001b[49m\u001b[43m,\u001b[49m\n\u001b[1;32m    347\u001b[0m \u001b[43m\u001b[49m\u001b[43m)\u001b[49m\n\u001b[1;32m    349\u001b[0m parsed_inputs, parsed_outputs \u001b[38;5;241m=\u001b[39m ensure_field_objects(\n\u001b[1;32m    350\u001b[0m     arg_type\u001b[38;5;241m=\u001b[39marg,\n\u001b[1;32m    351\u001b[0m     out_type\u001b[38;5;241m=\u001b[39mout,\n\u001b[0;32m   (...)\u001b[0m\n\u001b[1;32m    355\u001b[0m     output_helps\u001b[38;5;241m=\u001b[39moutput_helps,\n\u001b[1;32m    356\u001b[0m )\n\u001b[1;32m    357\u001b[0m \u001b[38;5;28;01mif\u001b[39;00m name:\n",
      "File \u001b[0;32m/opt/hostedtoolcache/Python/3.13.1/x64/lib/python3.13/site-packages/pydra/design/shell.py:629\u001b[0m, in \u001b[0;36mparse_command_line_template\u001b[0;34m(template, inputs, outputs)\u001b[0m\n\u001b[1;32m    627\u001b[0m     kwds[\u001b[38;5;124m\"\u001b[39m\u001b[38;5;124msep\u001b[39m\u001b[38;5;124m\"\u001b[39m] \u001b[38;5;241m=\u001b[39m \u001b[38;5;124m\"\u001b[39m\u001b[38;5;124m \u001b[39m\u001b[38;5;124m\"\u001b[39m\n\u001b[1;32m    628\u001b[0m \u001b[38;5;28;01mif\u001b[39;00m option \u001b[38;5;129;01mis\u001b[39;00m \u001b[38;5;28;01mNone\u001b[39;00m:\n\u001b[0;32m--> 629\u001b[0m     \u001b[43madd_arg\u001b[49m\u001b[43m(\u001b[49m\u001b[43mname\u001b[49m\u001b[43m,\u001b[49m\u001b[43m \u001b[49m\u001b[43mfield_type\u001b[49m\u001b[43m,\u001b[49m\u001b[43m \u001b[49m\u001b[43mkwds\u001b[49m\u001b[43m)\u001b[49m\n\u001b[1;32m    630\u001b[0m \u001b[38;5;28;01melse\u001b[39;00m:\n\u001b[1;32m    631\u001b[0m     kwds[\u001b[38;5;124m\"\u001b[39m\u001b[38;5;124margstr\u001b[39m\u001b[38;5;124m\"\u001b[39m] \u001b[38;5;241m=\u001b[39m option\n",
      "File \u001b[0;32m/opt/hostedtoolcache/Python/3.13.1/x64/lib/python3.13/site-packages/pydra/design/shell.py:533\u001b[0m, in \u001b[0;36mparse_command_line_template.<locals>.add_arg\u001b[0;34m(name, field_type, kwds)\u001b[0m\n\u001b[1;32m    531\u001b[0m     field \u001b[38;5;241m=\u001b[39m dct\u001b[38;5;241m.\u001b[39mpop(name)\n\u001b[1;32m    532\u001b[0m \u001b[38;5;28;01mexcept\u001b[39;00m \u001b[38;5;167;01mKeyError\u001b[39;00m:\n\u001b[0;32m--> 533\u001b[0m     field \u001b[38;5;241m=\u001b[39m \u001b[43mfield_type\u001b[49m\u001b[43m(\u001b[49m\u001b[43mname\u001b[49m\u001b[38;5;241;43m=\u001b[39;49m\u001b[43mname\u001b[49m\u001b[43m,\u001b[49m\u001b[43m \u001b[49m\u001b[38;5;241;43m*\u001b[39;49m\u001b[38;5;241;43m*\u001b[39;49m\u001b[43mkwds\u001b[49m\u001b[43m)\u001b[49m\n\u001b[1;32m    534\u001b[0m \u001b[38;5;28;01melse\u001b[39;00m:\n\u001b[1;32m    535\u001b[0m     \u001b[38;5;28;01mif\u001b[39;00m \u001b[38;5;28misinstance\u001b[39m(field, \u001b[38;5;28mdict\u001b[39m):\n",
      "File \u001b[0;32m<attrs generated init pydra.design.shell.arg>:27\u001b[0m, in \u001b[0;36m__init__\u001b[0;34m(self, name, type, default, help, requires, converter, validator, hash_eq, xor, copy_mode, copy_collation, copy_ext_decomp, readonly, argstr, position, sep, allowed_values, container_path, formatter)\u001b[0m\n\u001b[1;32m     25\u001b[0m \u001b[38;5;28;01mif\u001b[39;00m _config\u001b[38;5;241m.\u001b[39m_run_validators \u001b[38;5;129;01mis\u001b[39;00m \u001b[38;5;28;01mTrue\u001b[39;00m:\n\u001b[1;32m     26\u001b[0m     __attr_validator_type(\u001b[38;5;28mself\u001b[39m, __attr_type, \u001b[38;5;28mself\u001b[39m\u001b[38;5;241m.\u001b[39mtype)\n\u001b[0;32m---> 27\u001b[0m     \u001b[43m__attr_validator_sep\u001b[49m\u001b[43m(\u001b[49m\u001b[38;5;28;43mself\u001b[39;49m\u001b[43m,\u001b[49m\u001b[43m \u001b[49m\u001b[43m__attr_sep\u001b[49m\u001b[43m,\u001b[49m\u001b[43m \u001b[49m\u001b[38;5;28;43mself\u001b[39;49m\u001b[38;5;241;43m.\u001b[39;49m\u001b[43msep\u001b[49m\u001b[43m)\u001b[49m\n",
      "File \u001b[0;32m/opt/hostedtoolcache/Python/3.13.1/x64/lib/python3.13/site-packages/pydra/design/shell.py:122\u001b[0m, in \u001b[0;36marg._validate_sep\u001b[0;34m(self, _, sep)\u001b[0m\n\u001b[1;32m    117\u001b[0m         \u001b[38;5;28;01mraise\u001b[39;00m \u001b[38;5;167;01mValueError\u001b[39;00m(\n\u001b[1;32m    118\u001b[0m             \u001b[38;5;124mf\u001b[39m\u001b[38;5;124m\"\u001b[39m\u001b[38;5;124mA value to \u001b[39m\u001b[38;5;124m'\u001b[39m\u001b[38;5;124msep\u001b[39m\u001b[38;5;124m'\u001b[39m\u001b[38;5;124m must be provided when type is iterable \u001b[39m\u001b[38;5;132;01m{\u001b[39;00mtp\u001b[38;5;132;01m}\u001b[39;00m\u001b[38;5;124m \u001b[39m\u001b[38;5;124m\"\u001b[39m\n\u001b[1;32m    119\u001b[0m             \u001b[38;5;124mf\u001b[39m\u001b[38;5;124m\"\u001b[39m\u001b[38;5;124mfor field \u001b[39m\u001b[38;5;132;01m{\u001b[39;00m\u001b[38;5;28mself\u001b[39m\u001b[38;5;241m.\u001b[39mname\u001b[38;5;132;01m!r}\u001b[39;00m\u001b[38;5;124m\"\u001b[39m\n\u001b[1;32m    120\u001b[0m         )\n\u001b[1;32m    121\u001b[0m \u001b[38;5;28;01melif\u001b[39;00m sep \u001b[38;5;129;01mis\u001b[39;00m \u001b[38;5;129;01mnot\u001b[39;00m \u001b[38;5;28;01mNone\u001b[39;00m:\n\u001b[0;32m--> 122\u001b[0m     \u001b[38;5;28;01mraise\u001b[39;00m \u001b[38;5;167;01mValueError\u001b[39;00m(\n\u001b[1;32m    123\u001b[0m         \u001b[38;5;124mf\u001b[39m\u001b[38;5;124m\"\u001b[39m\u001b[38;5;124msep (\u001b[39m\u001b[38;5;132;01m{\u001b[39;00msep\u001b[38;5;132;01m!r}\u001b[39;00m\u001b[38;5;124m) can only be provided when type is iterable \u001b[39m\u001b[38;5;132;01m{\u001b[39;00mtp\u001b[38;5;132;01m}\u001b[39;00m\u001b[38;5;124m \u001b[39m\u001b[38;5;124m\"\u001b[39m\n\u001b[1;32m    124\u001b[0m         \u001b[38;5;124mf\u001b[39m\u001b[38;5;124m\"\u001b[39m\u001b[38;5;124mfor field \u001b[39m\u001b[38;5;132;01m{\u001b[39;00m\u001b[38;5;28mself\u001b[39m\u001b[38;5;241m.\u001b[39mname\u001b[38;5;132;01m!r}\u001b[39;00m\u001b[38;5;124m\"\u001b[39m\n\u001b[1;32m    125\u001b[0m     )\n",
      "\u001b[0;31mValueError\u001b[0m: sep (' ') can only be provided when type is iterable <class 'fileformats.generic.fsobject.FsObject'> for field 'in_fs_objects'"
     ]
    }
   ],
   "source": [
    "Cp = shell.define(\n",
    "        (\n",
    "            \"cp <in_fs_objects:fs-object,...> <out|out_dir:directory> <out|out_file:file?> \"\n",
    "            \"-R<recursive> \"\n",
    "            \"--text-arg <text_arg> \"\n",
    "            \"--int-arg <int_arg:int?> \"\n",
    "            \"--tuple-arg <tuple_arg:int,str> \"\n",
    "        ),\n",
    "        inputs={\"recursive\": shell.arg(\n",
    "            help=(\n",
    "                \"If source_file designates a directory, cp copies the directory and \"\n",
    "                \"the entire subtree connected at that point.\"\n",
    "            )\n",
    "        )},\n",
    "        outputs={\n",
    "            \"out_dir\": shell.outarg(position=-2),\n",
    "            \"out_file\": shell.outarg(position=-1),\n",
    "        },\n",
    "    )\n",
    "\n",
    "\n",
    "pprint(fields_dict(Cp))\n",
    "pprint(fields_dict(Cp.Outputs))"
   ]
  },
  {
   "cell_type": "markdown",
   "metadata": {},
   "source": [
    "### Callable outptus\n",
    "\n",
    "In addition to outputs that are specified to the tool on the command line, outputs can be derived from the outputs of the tool by providing a Python function that can take the output directory and inputs as arguments and return the output value. Callables can be either specified in the `callable` attribute of the `shell.out` field, or in a dictionary mapping the output name to the callable"
   ]
  },
  {
   "cell_type": "code",
   "execution_count": 8,
   "metadata": {
    "execution": {
     "iopub.execute_input": "2025-02-12T09:14:27.964464Z",
     "iopub.status.busy": "2025-02-12T09:14:27.964274Z",
     "iopub.status.idle": "2025-02-12T09:14:28.001552Z",
     "shell.execute_reply": "2025-02-12T09:14:28.001087Z"
    }
   },
   "outputs": [
    {
     "name": "stdout",
     "output_type": "stream",
     "text": [
      "Size of the output file is: 256\n"
     ]
    }
   ],
   "source": [
    "import os\n",
    "from pydra.design import shell\n",
    "from pathlib import Path\n",
    "from fileformats.generic import File\n",
    "\n",
    "# Arguments to the callable function can be one of \n",
    "def get_file_size(out_file: Path) -> int:\n",
    "    \"\"\"Calculate the file size\"\"\"\n",
    "    result = os.stat(out_file)\n",
    "    return result.st_size\n",
    "\n",
    "\n",
    "CpWithSize = shell.define(\n",
    "    \"cp <in_file:file> <out|out_file:file>\",\n",
    "    outputs={\"out_file_size\": get_file_size},\n",
    ")\n",
    "\n",
    "# Parameterise the task definition\n",
    "cp_with_size = CpWithSize(in_file=File.sample())\n",
    "\n",
    "# Run the command\n",
    "outputs = cp_with_size()\n",
    "\n",
    "\n",
    "print(f\"Size of the output file is: {outputs.out_file_size}\")"
   ]
  },
  {
   "cell_type": "markdown",
   "metadata": {},
   "source": [
    "The callable can take any combination of the following arguments, which will be passed\n",
    "to it when it is called\n",
    "\n",
    "* field: the `Field` object to be provided a value, useful when writing generic callables\n",
    "* output_dir: a `Path` object referencing the working directory the command was run within\n",
    "* inputs: a dictionary containing all the resolved inputs to the task\n",
    "* stdout: the standard output stream produced by the command\n",
    "* stderr: the standard error stream produced by the command\n",
    "* *name of an input*: the name of any of the input arguments to the task, including output args that are part of the command line (i.e. output files)"
   ]
  },
  {
   "cell_type": "code",
   "execution_count": null,
   "metadata": {},
   "outputs": [],
   "source": []
  },
  {
   "cell_type": "markdown",
   "metadata": {},
   "source": [
    "To make workflows that use the interface type-checkable, the canonical form of a shell\n",
    "task dataclass should inherit from `shell.Def` parameterized by its nested Outputs class,\n",
    "and the `Outputs` nested class should inherit from `shell.Outputs`."
   ]
  },
  {
   "cell_type": "code",
   "execution_count": 9,
   "metadata": {
    "execution": {
     "iopub.execute_input": "2025-02-12T09:14:28.003512Z",
     "iopub.status.busy": "2025-02-12T09:14:28.003144Z",
     "iopub.status.idle": "2025-02-12T09:14:28.024657Z",
     "shell.execute_reply": "2025-02-12T09:14:28.024201Z"
    }
   },
   "outputs": [
    {
     "ename": "NameError",
     "evalue": "name 'MultiInputObj' is not defined",
     "output_type": "error",
     "traceback": [
      "\u001b[0;31m---------------------------------------------------------------------------\u001b[0m",
      "\u001b[0;31mNameError\u001b[0m                                 Traceback (most recent call last)",
      "Cell \u001b[0;32mIn[9], line 4\u001b[0m\n\u001b[1;32m      1\u001b[0m \u001b[38;5;28;01mfrom\u001b[39;00m\u001b[38;5;250m \u001b[39m\u001b[38;5;21;01mpydra\u001b[39;00m\u001b[38;5;21;01m.\u001b[39;00m\u001b[38;5;21;01mengine\u001b[39;00m\u001b[38;5;21;01m.\u001b[39;00m\u001b[38;5;21;01mspecs\u001b[39;00m\u001b[38;5;250m \u001b[39m\u001b[38;5;28;01mimport\u001b[39;00m ShellDef, ShellOutputs\n\u001b[1;32m      3\u001b[0m \u001b[38;5;129;43m@shell\u001b[39;49m\u001b[38;5;241;43m.\u001b[39;49m\u001b[43mdefine\u001b[49m\n\u001b[0;32m----> 4\u001b[0m \u001b[38;5;28;43;01mclass\u001b[39;49;00m\u001b[38;5;250;43m \u001b[39;49m\u001b[38;5;21;43;01mCp\u001b[39;49;00m\u001b[43m(\u001b[49m\u001b[43mShellDef\u001b[49m\u001b[43m[\u001b[49m\u001b[38;5;124;43m\"\u001b[39;49m\u001b[38;5;124;43mCp.Outputs\u001b[39;49m\u001b[38;5;124;43m\"\u001b[39;49m\u001b[43m]\u001b[49m\u001b[43m)\u001b[49m\u001b[43m:\u001b[49m\n\u001b[1;32m      6\u001b[0m \u001b[43m    \u001b[49m\u001b[43mexecutable\u001b[49m\u001b[43m \u001b[49m\u001b[38;5;241;43m=\u001b[39;49m\u001b[43m \u001b[49m\u001b[38;5;124;43m\"\u001b[39;49m\u001b[38;5;124;43mcp\u001b[39;49m\u001b[38;5;124;43m\"\u001b[39;49m\n\u001b[1;32m      8\u001b[0m \u001b[43m    \u001b[49m\u001b[43min_fs_objects\u001b[49m\u001b[43m:\u001b[49m\u001b[43m \u001b[49m\u001b[43mMultiInputObj\u001b[49m\u001b[43m[\u001b[49m\u001b[43mFsObject\u001b[49m\u001b[43m]\u001b[49m\n",
      "Cell \u001b[0;32mIn[9], line 8\u001b[0m, in \u001b[0;36mCp\u001b[0;34m()\u001b[0m\n\u001b[1;32m      3\u001b[0m \u001b[38;5;129m@shell\u001b[39m\u001b[38;5;241m.\u001b[39mdefine\n\u001b[1;32m      4\u001b[0m \u001b[38;5;28;01mclass\u001b[39;00m\u001b[38;5;250m \u001b[39m\u001b[38;5;21;01mCp\u001b[39;00m(ShellDef[\u001b[38;5;124m\"\u001b[39m\u001b[38;5;124mCp.Outputs\u001b[39m\u001b[38;5;124m\"\u001b[39m]):\n\u001b[1;32m      6\u001b[0m     executable \u001b[38;5;241m=\u001b[39m \u001b[38;5;124m\"\u001b[39m\u001b[38;5;124mcp\u001b[39m\u001b[38;5;124m\"\u001b[39m\n\u001b[0;32m----> 8\u001b[0m     in_fs_objects: \u001b[43mMultiInputObj\u001b[49m[FsObject]\n\u001b[1;32m      9\u001b[0m     recursive: \u001b[38;5;28mbool\u001b[39m \u001b[38;5;241m=\u001b[39m shell\u001b[38;5;241m.\u001b[39marg(argstr\u001b[38;5;241m=\u001b[39m\u001b[38;5;124m\"\u001b[39m\u001b[38;5;124m-R\u001b[39m\u001b[38;5;124m\"\u001b[39m, default\u001b[38;5;241m=\u001b[39m\u001b[38;5;28;01mFalse\u001b[39;00m)\n\u001b[1;32m     10\u001b[0m     text_arg: \u001b[38;5;28mstr\u001b[39m \u001b[38;5;241m=\u001b[39m shell\u001b[38;5;241m.\u001b[39marg(argstr\u001b[38;5;241m=\u001b[39m\u001b[38;5;124m\"\u001b[39m\u001b[38;5;124m--text-arg\u001b[39m\u001b[38;5;124m\"\u001b[39m)\n",
      "\u001b[0;31mNameError\u001b[0m: name 'MultiInputObj' is not defined"
     ]
    }
   ],
   "source": [
    "from pydra.engine.specs import ShellDef, ShellOutputs\n",
    "\n",
    "@shell.define\n",
    "class Cp(ShellDef[\"Cp.Outputs\"]):\n",
    "\n",
    "    executable = \"cp\"\n",
    "\n",
    "    in_fs_objects: MultiInputObj[FsObject]\n",
    "    recursive: bool = shell.arg(argstr=\"-R\", default=False)\n",
    "    text_arg: str = shell.arg(argstr=\"--text-arg\")\n",
    "    int_arg: int | None = shell.arg(argstr=\"--int-arg\")\n",
    "    tuple_arg: tuple[int, str] | None = shell.arg(argstr=\"--tuple-arg\")\n",
    "\n",
    "    @shell.outputs\n",
    "    class Outputs(ShellOutputs):\n",
    "        out_dir: Directory = shell.outarg(path_template=\"{out_dir}\")\n"
   ]
  },
  {
   "cell_type": "markdown",
   "metadata": {},
   "source": [
    "## Dynamic definitions\n",
    "\n",
    "In some cases, it is required to generate the definition for a task dynamically, which can be done by just providing the executable to `shell.define` and specifying all inputs and outputs explicitly"
   ]
  },
  {
   "cell_type": "code",
   "execution_count": 10,
   "metadata": {
    "execution": {
     "iopub.execute_input": "2025-02-12T09:14:28.026348Z",
     "iopub.status.busy": "2025-02-12T09:14:28.026161Z",
     "iopub.status.idle": "2025-02-12T09:14:28.033368Z",
     "shell.execute_reply": "2025-02-12T09:14:28.032819Z"
    }
   },
   "outputs": [
    {
     "name": "stdout",
     "output_type": "stream",
     "text": [
      "ACommand input fields: [arg(name='in_file', type=<class 'fileformats.generic.file.File'>, default=EMPTY, help='output file', requires=[], converter=None, validator=None, hash_eq=False, xor=(), copy_mode=<CopyMode.any: 15>, copy_collation=<CopyCollation.any: 0>, copy_ext_decomp=<ExtensionDecomposition.single: 1>, readonly=False, argstr='', position=-2, sep=None, allowed_values=None, container_path=False, formatter=None), arg(name='additional_args', type=list[str], default=Factory(factory=<class 'list'>, takes_self=False), help='Additional free-form arguments to append to the end of the command.', requires=[], converter=None, validator=None, hash_eq=False, xor=(), copy_mode=<CopyMode.any: 15>, copy_collation=<CopyCollation.any: 0>, copy_ext_decomp=<ExtensionDecomposition.single: 1>, readonly=False, argstr='', position=None, sep=' ', allowed_values=None, container_path=False, formatter=None), outarg(name='out_file', type=<class 'fileformats.generic.file.File'>, default=EMPTY, help='output file', requires=[], converter=None, validator=None, hash_eq=False, xor=(), copy_mode=<CopyMode.any: 15>, copy_collation=<CopyCollation.any: 0>, copy_ext_decomp=<ExtensionDecomposition.single: 1>, readonly=False, argstr='', position=-1, sep=None, allowed_values=None, container_path=False, formatter=None, path_template=None, keep_extension=False), arg(name='executable', type=typing.Union[str, typing.Sequence[str]], default='a-command', help=\"the first part of the command, can be a string, e.g. 'ls', or a list, e.g. ['ls', '-l', 'dirname']\", requires=[], converter=None, validator=<min_len validator for 1>, hash_eq=False, xor=(), copy_mode=<CopyMode.any: 15>, copy_collation=<CopyCollation.any: 0>, copy_ext_decomp=<ExtensionDecomposition.single: 1>, readonly=False, argstr='', position=0, sep=None, allowed_values=None, container_path=False, formatter=None)]\n",
      "ACommand input fields: [outarg(name='out_file', type=<class 'fileformats.generic.file.File'>, default=EMPTY, help='output file', requires=[], converter=None, validator=None, hash_eq=False, xor=(), copy_mode=<CopyMode.any: 15>, copy_collation=<CopyCollation.any: 0>, copy_ext_decomp=<ExtensionDecomposition.single: 1>, readonly=False, argstr='', position=-1, sep=None, allowed_values=None, container_path=False, formatter=None, path_template=None, keep_extension=False), out(name='out_file_size', type=<class 'int'>, default=EMPTY, help='size of the output directory', requires=[], converter=None, validator=None, hash_eq=False, callable=<function get_file_size at 0x7f16b4d7fce0>), out(name='return_code', type=<class 'int'>, default=EMPTY, help=\"The process' exit code.\", requires=[], converter=None, validator=None, hash_eq=False, callable=None), out(name='stdout', type=<class 'str'>, default=EMPTY, help='The standard output stream produced by the command.', requires=[], converter=None, validator=None, hash_eq=False, callable=None), out(name='stderr', type=<class 'str'>, default=EMPTY, help='The standard error stream produced by the command.', requires=[], converter=None, validator=None, hash_eq=False, callable=None)]\n"
     ]
    }
   ],
   "source": [
    "from fileformats.generic import File\n",
    "from pydra.engine.helpers import list_fields\n",
    "\n",
    "ACommand = shell.define(\n",
    "    \"a-command\",\n",
    "    inputs={\n",
    "        \"in_file\": shell.arg(type=File, help=\"output file\", argstr=\"\", position=-2)\n",
    "    },\n",
    "    outputs={\n",
    "        \"out_file\": shell.outarg(\n",
    "            type=File, help=\"output file\", argstr=\"\", position=-1\n",
    "        ),\n",
    "        \"out_file_size\": {\n",
    "            \"type\": int,\n",
    "            \"help\": \"size of the output directory\",\n",
    "            \"callable\": get_file_size,\n",
    "        }\n",
    "    },\n",
    ")\n",
    "\n",
    "\n",
    "print(f\"ACommand input fields: {list_fields(ACommand)}\")\n",
    "print(f\"ACommand input fields: {list_fields(ACommand.Outputs)}\")\n"
   ]
  },
  {
   "cell_type": "markdown",
   "metadata": {},
   "source": []
  }
 ],
 "metadata": {
  "kernelspec": {
   "display_name": "wf12",
   "language": "python",
   "name": "python3"
  },
  "language_info": {
   "codemirror_mode": {
    "name": "ipython",
    "version": 3
   },
   "file_extension": ".py",
   "mimetype": "text/x-python",
   "name": "python",
   "nbconvert_exporter": "python",
   "pygments_lexer": "ipython3",
   "version": "3.13.1"
  }
 },
 "nbformat": 4,
 "nbformat_minor": 2
}
