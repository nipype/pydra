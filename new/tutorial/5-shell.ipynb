{
 "cells": [
  {
   "cell_type": "markdown",
   "metadata": {},
   "source": [
    "# Shell-tasks"
   ]
  },
  {
   "cell_type": "markdown",
   "metadata": {},
   "source": [
    "## Command-line templates\n",
    "\n",
    "Shell task specs can be defined using string templates that resemble the command-line usage examples typically used in in-line help. Therefore, they can be quick and intuitive way to specify a shell task. For example, a simple spec  for the copy command `cp` that omits optional flags,"
   ]
  },
  {
   "cell_type": "code",
   "execution_count": 1,
   "metadata": {
    "execution": {
     "iopub.execute_input": "2025-03-19T01:10:21.727378Z",
     "iopub.status.busy": "2025-03-19T01:10:21.726991Z",
     "iopub.status.idle": "2025-03-19T01:10:21.871200Z",
     "shell.execute_reply": "2025-03-19T01:10:21.870777Z"
    }
   },
   "outputs": [],
   "source": [
    "from pydra.design import shell\n",
    "\n",
    "Cp = shell.define(\"cp <in_file> <out|destination>\")"
   ]
  },
  {
   "cell_type": "markdown",
   "metadata": {},
   "source": [
    "Input and output fields are both specified by placing the name of the field within enclosing `<` and `>`. Outputs are differentiated by the `out|` prefix.\n",
    "\n",
    "This shell task can then be run just as a Python task would be run, first parameterising it, then executing"
   ]
  },
  {
   "cell_type": "code",
   "execution_count": 2,
   "metadata": {
    "execution": {
     "iopub.execute_input": "2025-03-19T01:10:21.873074Z",
     "iopub.status.busy": "2025-03-19T01:10:21.872742Z",
     "iopub.status.idle": "2025-03-19T01:10:22.307450Z",
     "shell.execute_reply": "2025-03-19T01:10:22.307004Z"
    }
   },
   "outputs": [
    {
     "name": "stdout",
     "output_type": "stream",
     "text": [
      "Command-line to be run: cp /tmp/tmp7m2xroi0/in.txt /tmp/tmp7m2xroi0/out.txt\n"
     ]
    },
    {
     "name": "stderr",
     "output_type": "stream",
     "text": [
      "A newer version (0.25) of nipype/pydra is available. You are using 0.25.dev386+g01a66f4f\n"
     ]
    },
    {
     "name": "stdout",
     "output_type": "stream",
     "text": [
      "Contents of copied file ('/tmp/tmp7m2xroi0/out.txt'): 'Contents to be copied'\n"
     ]
    }
   ],
   "source": [
    "from pathlib import Path\n",
    "from tempfile import mkdtemp\n",
    "\n",
    "# Make a test file to copy\n",
    "test_dir = Path(mkdtemp())\n",
    "test_file = test_dir / \"in.txt\"\n",
    "with open(test_file, \"w\") as f:\n",
    "    f.write(\"Contents to be copied\")\n",
    "\n",
    "# Parameterise the task definition\n",
    "cp = Cp(in_file=test_file, destination=test_dir / \"out.txt\")\n",
    "\n",
    "# Print the cmdline to be run to double check\n",
    "print(f\"Command-line to be run: {cp.cmdline}\")\n",
    "\n",
    "# Run the shell-comand task\n",
    "outputs = cp()\n",
    "\n",
    "print(\n",
    "    f\"Contents of copied file ('{outputs.destination}'): \"\n",
    "    f\"'{Path(outputs.destination).read_text()}'\"\n",
    ")"
   ]
  },
  {
   "cell_type": "markdown",
   "metadata": {},
   "source": [
    "If paths to output files are not provided in the parameterisation, it will default to the name of the field"
   ]
  },
  {
   "cell_type": "code",
   "execution_count": 3,
   "metadata": {
    "execution": {
     "iopub.execute_input": "2025-03-19T01:10:22.309162Z",
     "iopub.status.busy": "2025-03-19T01:10:22.308843Z",
     "iopub.status.idle": "2025-03-19T01:10:22.313529Z",
     "shell.execute_reply": "2025-03-19T01:10:22.313105Z"
    }
   },
   "outputs": [
    {
     "name": "stdout",
     "output_type": "stream",
     "text": [
      "cp /tmp/tmp7m2xroi0/in.txt /home/runner/work/pydra/pydra/new-docs/source/tutorial/destination\n"
     ]
    }
   ],
   "source": [
    "cp = Cp(in_file=test_file)\n",
    "print(cp.cmdline)"
   ]
  },
  {
   "cell_type": "markdown",
   "metadata": {},
   "source": [
    "### Defifying types\n",
    "\n",
    "By default, shell-command fields are considered to be of `fileformats.generic.FsObject` type. However, more specific file formats or built-in Python types can be specified by appending the type to the field name after a `:`.\n",
    "\n",
    "File formats are specified by their MIME type or \"MIME-like\" strings (see the [FileFormats docs](https://arcanaframework.github.io/fileformats/mime.html) for details)"
   ]
  },
  {
   "cell_type": "code",
   "execution_count": 4,
   "metadata": {
    "execution": {
     "iopub.execute_input": "2025-03-19T01:10:22.314936Z",
     "iopub.status.busy": "2025-03-19T01:10:22.314691Z",
     "iopub.status.idle": "2025-03-19T01:10:22.397410Z",
     "shell.execute_reply": "2025-03-19T01:10:22.396876Z"
    }
   },
   "outputs": [
    {
     "name": "stdout",
     "output_type": "stream",
     "text": [
      "trim-png /mock/png.png /path/to/output.png\n"
     ]
    }
   ],
   "source": [
    "from fileformats.image import Png\n",
    "\n",
    "TrimPng = shell.define(\"trim-png <in_image:image/png> <out|out_image:image/png>\")\n",
    "\n",
    "trim_png = TrimPng(in_image=Png.mock(), out_image=\"/path/to/output.png\")\n",
    "\n",
    "print(trim_png.cmdline)"
   ]
  },
  {
   "cell_type": "markdown",
   "metadata": {},
   "source": [
    "### Flags and options\n",
    "\n",
    "Command line flags can also be added to the shell template, either the single or double hyphen form.\n",
    "The field template name immediately following the flag will be associate with that flag.\n",
    "If there is no space between the flag and the field template, then the field is assumed\n",
    "to be a boolean, otherwise it is assumed to be of type string unless otherwise specified.\n",
    "\n",
    "If a field is optional, the field template should end with a `?`. Tuple fields are\n",
    "specified by comma separated types. The ellipsis (`...`) can signify tuple types with\n",
    "variable number of items. Arguments and options that can be repeated are specified by\n",
    "appending a `+` (at least one must be provided) or `*` (defaults to empty list). Note that\n",
    "for options, this signifies that the flag itself is printed multiple times. e.g.\n",
    "`my-command --multi-opt 1 2 --multi-opt 1 5`."
   ]
  },
  {
   "cell_type": "code",
   "execution_count": 5,
   "metadata": {
    "execution": {
     "iopub.execute_input": "2025-03-19T01:10:22.399137Z",
     "iopub.status.busy": "2025-03-19T01:10:22.398837Z",
     "iopub.status.idle": "2025-03-19T01:10:22.406368Z",
     "shell.execute_reply": "2025-03-19T01:10:22.405908Z"
    }
   },
   "outputs": [
    {
     "name": "stdout",
     "output_type": "stream",
     "text": [
      "{'additional_args': arg(name='additional_args', type=list[str | fileformats.generic.file.File], default=Factory(factory=<class 'list'>, takes_self=False), help='Additional free-form arguments to append to the end of the command.', requires=[], converter=<function state_array_support.<locals>.state_array_wrapper at 0x7fad0c0e3100>, validator=None, hash_eq=False, copy_mode=<CopyMode.any: 15>, copy_collation=<CopyCollation.any: 0>, copy_ext_decomp=<ExtensionDecomposition.single: 1>, readonly=False, argstr='', position=None, sep=' ', allowed_values=None, container_path=False, formatter=None),\n",
      " 'executable': arg(name='executable', type=typing.Union[str, typing.Sequence[str]], default='cp', help=\"the first part of the command, can be a string, e.g. 'ls', or a list, e.g. ['ls', '-l', 'dirname']\", requires=[], converter=None, validator=<min_len validator for 1>, hash_eq=False, copy_mode=<CopyMode.any: 15>, copy_collation=<CopyCollation.any: 0>, copy_ext_decomp=<ExtensionDecomposition.single: 1>, readonly=False, argstr='', position=0, sep=' ', allowed_values=None, container_path=False, formatter=None),\n",
      " 'in_fs_objects': arg(name='in_fs_objects', type=pydra.utils.typing.MultiInputObj[fileformats.generic.fsobject.FsObject], default=NO_DEFAULT, help='', requires=[], converter=None, validator=None, hash_eq=False, copy_mode=<CopyMode.any: 15>, copy_collation=<CopyCollation.any: 0>, copy_ext_decomp=<ExtensionDecomposition.single: 1>, readonly=False, argstr='', position=1, sep=' ', allowed_values=None, container_path=False, formatter=None),\n",
      " 'int_arg': arg(name='int_arg', type=int | None, default=None, help='', requires=[], converter=None, validator=None, hash_eq=False, copy_mode=<CopyMode.any: 15>, copy_collation=<CopyCollation.any: 0>, copy_ext_decomp=<ExtensionDecomposition.single: 1>, readonly=False, argstr='--int-arg', position=5, sep=' ', allowed_values=None, container_path=False, formatter=None),\n",
      " 'out_dir': outarg(name='out_dir', type=<class 'fileformats.generic.directory.Directory'>, default=NO_DEFAULT, help='', requires=[], converter=None, validator=None, hash_eq=False, copy_mode=<CopyMode.any: 15>, copy_collation=<CopyCollation.any: 0>, copy_ext_decomp=<ExtensionDecomposition.single: 1>, readonly=False, argstr='', position=2, sep=' ', allowed_values=None, container_path=False, formatter=None, path_template='out_dir', keep_extension=True),\n",
      " 'recursive': arg(name='recursive', type=<class 'bool'>, default=False, help='', requires=[], converter=None, validator=None, hash_eq=False, copy_mode=<CopyMode.any: 15>, copy_collation=<CopyCollation.any: 0>, copy_ext_decomp=<ExtensionDecomposition.single: 1>, readonly=False, argstr='-R', position=3, sep=' ', allowed_values=None, container_path=False, formatter=None),\n",
      " 'text_arg': arg(name='text_arg', type=str | None, default=None, help='', requires=[], converter=None, validator=None, hash_eq=False, copy_mode=<CopyMode.any: 15>, copy_collation=<CopyCollation.any: 0>, copy_ext_decomp=<ExtensionDecomposition.single: 1>, readonly=False, argstr='--text-arg', position=4, sep=' ', allowed_values=None, container_path=False, formatter=None),\n",
      " 'tuple_arg': arg(name='tuple_arg', type=pydra.utils.typing.MultiInputObj[tuple[int, str]], default=Factory(factory=<class 'list'>, takes_self=False), help='', requires=[], converter=None, validator=None, hash_eq=False, copy_mode=<CopyMode.any: 15>, copy_collation=<CopyCollation.any: 0>, copy_ext_decomp=<ExtensionDecomposition.single: 1>, readonly=False, argstr='--tuple-arg', position=6, sep=' ', allowed_values=None, container_path=False, formatter=None)}\n",
      "{'out_dir': outarg(name='out_dir', type=<class 'fileformats.generic.directory.Directory'>, default=NO_DEFAULT, help='', requires=[], converter=None, validator=None, hash_eq=False, copy_mode=<CopyMode.any: 15>, copy_collation=<CopyCollation.any: 0>, copy_ext_decomp=<ExtensionDecomposition.single: 1>, readonly=False, argstr='', position=2, sep=' ', allowed_values=None, container_path=False, formatter=None, path_template='out_dir', keep_extension=True),\n",
      " 'return_code': out(name='return_code', type=<class 'int'>, default=NO_DEFAULT, help=\"The process' exit code.\", requires=[], converter=None, validator=None, hash_eq=False, callable=None),\n",
      " 'stderr': out(name='stderr', type=<class 'str'>, default=NO_DEFAULT, help='The standard error stream produced by the command.', requires=[], converter=None, validator=None, hash_eq=False, callable=None),\n",
      " 'stdout': out(name='stdout', type=<class 'str'>, default=NO_DEFAULT, help='The standard output stream produced by the command.', requires=[], converter=None, validator=None, hash_eq=False, callable=None)}\n"
     ]
    }
   ],
   "source": [
    "from pprint import pprint\n",
    "from pydra.engine.helpers import fields_dict\n",
    "\n",
    "Cp = shell.define(\n",
    "    \"cp <in_fs_objects:fs-object+> <out|out_dir:directory> \"\n",
    "    \"-R<recursive> \"\n",
    "    \"--text-arg <text_arg?> \"\n",
    "    \"--int-arg <int_arg:int?> \"\n",
    "    \"--tuple-arg <tuple_arg:int,str*> \"\n",
    ")\n",
    "\n",
    "pprint(fields_dict(Cp))\n",
    "pprint(fields_dict(Cp.Outputs))"
   ]
  },
  {
   "cell_type": "markdown",
   "metadata": {},
   "source": [
    "### Defaults\n",
    "\n",
    "Defaults can be specified by appending them to the field template after `=`"
   ]
  },
  {
   "cell_type": "code",
   "execution_count": 6,
   "metadata": {
    "execution": {
     "iopub.execute_input": "2025-03-19T01:10:22.407793Z",
     "iopub.status.busy": "2025-03-19T01:10:22.407632Z",
     "iopub.status.idle": "2025-03-19T01:10:22.413339Z",
     "shell.execute_reply": "2025-03-19T01:10:22.412889Z"
    }
   },
   "outputs": [
    {
     "name": "stdout",
     "output_type": "stream",
     "text": [
      "'--int-arg' default: 99\n"
     ]
    }
   ],
   "source": [
    "Cp = shell.define(\n",
    "    \"cp <in_fs_objects:fs-object+> <out|out_dir:directory> \"\n",
    "    \"-R<recursive=True> \"\n",
    "    \"--text-arg <text_arg='foo'> \"\n",
    "    \"--int-arg <int_arg:int=99> \"\n",
    "    \"--tuple-arg <tuple_arg:int,str=(1,'bar')> \"\n",
    ")\n",
    "\n",
    "print(f\"'--int-arg' default: {fields_dict(Cp)['int_arg'].default}\")"
   ]
  },
  {
   "cell_type": "markdown",
   "metadata": {},
   "source": [
    "## Path templates for output files\n",
    "\n",
    "By default, when an output file argument is defined, a `path_template` attribute will\n",
    "be assigned to the field based on its name and extension (if applicable). For example,\n",
    "the `zipped` output field in the following Gzip command will be assigned a\n",
    "`path_template` of `out_file.gz`"
   ]
  },
  {
   "cell_type": "code",
   "execution_count": 7,
   "metadata": {
    "execution": {
     "iopub.execute_input": "2025-03-19T01:10:22.414780Z",
     "iopub.status.busy": "2025-03-19T01:10:22.414620Z",
     "iopub.status.idle": "2025-03-19T01:10:22.420315Z",
     "shell.execute_reply": "2025-03-19T01:10:22.419875Z"
    }
   },
   "outputs": [
    {
     "name": "stdout",
     "output_type": "stream",
     "text": [
      "gzip /home/runner/work/pydra/pydra/new-docs/source/tutorial/out_file.gz /a/file.txt\n"
     ]
    }
   ],
   "source": [
    "from pydra.design import shell\n",
    "from fileformats.generic import File\n",
    "\n",
    "Gzip = shell.define(\"gzip <out|out_file:application/gzip> <in_files+>\")\n",
    "gzip = Gzip(in_files=File.mock(\"/a/file.txt\"))\n",
    "print(gzip.cmdline)"
   ]
  },
  {
   "cell_type": "markdown",
   "metadata": {},
   "source": [
    "However, if this needs to be specified it can be by using the `$` operator, e.g."
   ]
  },
  {
   "cell_type": "code",
   "execution_count": 8,
   "metadata": {
    "execution": {
     "iopub.execute_input": "2025-03-19T01:10:22.421750Z",
     "iopub.status.busy": "2025-03-19T01:10:22.421590Z",
     "iopub.status.idle": "2025-03-19T01:10:22.427108Z",
     "shell.execute_reply": "2025-03-19T01:10:22.426654Z"
    }
   },
   "outputs": [
    {
     "name": "stdout",
     "output_type": "stream",
     "text": [
      "gzip /home/runner/work/pydra/pydra/new-docs/source/tutorial/zipped.gz /a/file.txt\n"
     ]
    }
   ],
   "source": [
    "Gzip = shell.define(\"gzip <out|out_file:application/gzip$zipped.gz> <in_files+>\")\n",
    "gzip = Gzip(in_files=File.mock(\"/a/file.txt\"))\n",
    "print(gzip.cmdline)"
   ]
  },
  {
   "cell_type": "markdown",
   "metadata": {},
   "source": [
    "To give the field a path_template of `archive.gz` when it is written on the command line.\n",
    "Note that this value can always be overridden when the task is initialised, e.g."
   ]
  },
  {
   "cell_type": "code",
   "execution_count": 9,
   "metadata": {
    "execution": {
     "iopub.execute_input": "2025-03-19T01:10:22.428475Z",
     "iopub.status.busy": "2025-03-19T01:10:22.428295Z",
     "iopub.status.idle": "2025-03-19T01:10:22.431627Z",
     "shell.execute_reply": "2025-03-19T01:10:22.431169Z"
    }
   },
   "outputs": [
    {
     "name": "stdout",
     "output_type": "stream",
     "text": [
      "gzip /path/to/archive.gz /a/file.txt\n"
     ]
    }
   ],
   "source": [
    "gzip = Gzip(in_files=File.mock(\"/a/file.txt\"), out_file=\"/path/to/archive.gz\")\n",
    "print(gzip.cmdline)"
   ]
  },
  {
   "cell_type": "markdown",
   "metadata": {},
   "source": [
    "### Additional field attributes\n",
    "\n",
    "Additional attributes of the fields in the template can be specified by providing `shell.arg` or `shell.outarg` fields to the `inputs` and `outputs` keyword arguments to the define"
   ]
  },
  {
   "cell_type": "code",
   "execution_count": 10,
   "metadata": {
    "execution": {
     "iopub.execute_input": "2025-03-19T01:10:22.433161Z",
     "iopub.status.busy": "2025-03-19T01:10:22.432859Z",
     "iopub.status.idle": "2025-03-19T01:10:22.439413Z",
     "shell.execute_reply": "2025-03-19T01:10:22.439039Z"
    }
   },
   "outputs": [
    {
     "name": "stdout",
     "output_type": "stream",
     "text": [
      "{'additional_args': arg(name='additional_args', type=list[str | fileformats.generic.file.File], default=Factory(factory=<class 'list'>, takes_self=False), help='Additional free-form arguments to append to the end of the command.', requires=[], converter=<function state_array_support.<locals>.state_array_wrapper at 0x7fad0c0e3100>, validator=None, hash_eq=False, copy_mode=<CopyMode.any: 15>, copy_collation=<CopyCollation.any: 0>, copy_ext_decomp=<ExtensionDecomposition.single: 1>, readonly=False, argstr='', position=None, sep=' ', allowed_values=None, container_path=False, formatter=None),\n",
      " 'executable': arg(name='executable', type=typing.Union[str, typing.Sequence[str]], default='cp', help=\"the first part of the command, can be a string, e.g. 'ls', or a list, e.g. ['ls', '-l', 'dirname']\", requires=[], converter=None, validator=<min_len validator for 1>, hash_eq=False, copy_mode=<CopyMode.any: 15>, copy_collation=<CopyCollation.any: 0>, copy_ext_decomp=<ExtensionDecomposition.single: 1>, readonly=False, argstr='', position=0, sep=' ', allowed_values=None, container_path=False, formatter=None),\n",
      " 'in_fs_objects': arg(name='in_fs_objects', type=tuple[fileformats.generic.fsobject.FsObject, ...], default=NO_DEFAULT, help='', requires=[], converter=None, validator=None, hash_eq=False, copy_mode=<CopyMode.any: 15>, copy_collation=<CopyCollation.any: 0>, copy_ext_decomp=<ExtensionDecomposition.single: 1>, readonly=False, argstr='', position=1, sep=' ', allowed_values=None, container_path=False, formatter=None),\n",
      " 'int_arg': arg(name='int_arg', type=int | None, default=None, help='', requires=[], converter=None, validator=None, hash_eq=False, copy_mode=<CopyMode.any: 15>, copy_collation=<CopyCollation.any: 0>, copy_ext_decomp=<ExtensionDecomposition.single: 1>, readonly=False, argstr='--int-arg', position=4, sep=' ', allowed_values=None, container_path=False, formatter=None),\n",
      " 'out_dir': outarg(name='out_dir', type=<class 'fileformats.generic.directory.Directory'>, default=NO_DEFAULT, help='', requires=[], converter=None, validator=None, hash_eq=False, copy_mode=<CopyMode.any: 15>, copy_collation=<CopyCollation.any: 0>, copy_ext_decomp=<ExtensionDecomposition.single: 1>, readonly=False, argstr='', position=-2, sep=' ', allowed_values=None, container_path=False, formatter=None, path_template='out_dir', keep_extension=True),\n",
      " 'out_file': outarg(name='out_file', type=fileformats.generic.file.File | None, default=None, help='', requires=[], converter=None, validator=None, hash_eq=False, copy_mode=<CopyMode.any: 15>, copy_collation=<CopyCollation.any: 0>, copy_ext_decomp=<ExtensionDecomposition.single: 1>, readonly=False, argstr='', position=-1, sep=' ', allowed_values=None, container_path=False, formatter=None, path_template='out_file', keep_extension=True),\n",
      " 'recursive': arg(name='recursive', type=<class 'bool'>, default=False, help='If source_file designates a directory, cp copies the directory and the entire subtree connected at that point.', requires=[], converter=None, validator=None, hash_eq=False, copy_mode=<CopyMode.any: 15>, copy_collation=<CopyCollation.any: 0>, copy_ext_decomp=<ExtensionDecomposition.single: 1>, readonly=False, argstr='-R', position=2, sep=' ', allowed_values=None, container_path=False, formatter=None),\n",
      " 'text_arg': arg(name='text_arg', type=<class 'str'>, default=NO_DEFAULT, help='', requires=[], converter=None, validator=None, hash_eq=False, copy_mode=<CopyMode.any: 15>, copy_collation=<CopyCollation.any: 0>, copy_ext_decomp=<ExtensionDecomposition.single: 1>, readonly=False, argstr='--text-arg', position=3, sep=' ', allowed_values=None, container_path=False, formatter=None),\n",
      " 'tuple_arg': arg(name='tuple_arg', type=tuple[int, str], default=NO_DEFAULT, help='', requires=[], converter=None, validator=None, hash_eq=False, copy_mode=<CopyMode.any: 15>, copy_collation=<CopyCollation.any: 0>, copy_ext_decomp=<ExtensionDecomposition.single: 1>, readonly=False, argstr='--tuple-arg', position=5, sep=' ', allowed_values=None, container_path=False, formatter=None)}\n",
      "{'out_dir': outarg(name='out_dir', type=<class 'fileformats.generic.directory.Directory'>, default=NO_DEFAULT, help='', requires=[], converter=None, validator=None, hash_eq=False, copy_mode=<CopyMode.any: 15>, copy_collation=<CopyCollation.any: 0>, copy_ext_decomp=<ExtensionDecomposition.single: 1>, readonly=False, argstr='', position=-2, sep=' ', allowed_values=None, container_path=False, formatter=None, path_template='out_dir', keep_extension=True),\n",
      " 'out_file': outarg(name='out_file', type=fileformats.generic.file.File | None, default=None, help='', requires=[], converter=None, validator=None, hash_eq=False, copy_mode=<CopyMode.any: 15>, copy_collation=<CopyCollation.any: 0>, copy_ext_decomp=<ExtensionDecomposition.single: 1>, readonly=False, argstr='', position=-1, sep=' ', allowed_values=None, container_path=False, formatter=None, path_template='out_file', keep_extension=True),\n",
      " 'return_code': out(name='return_code', type=<class 'int'>, default=NO_DEFAULT, help=\"The process' exit code.\", requires=[], converter=None, validator=None, hash_eq=False, callable=None),\n",
      " 'stderr': out(name='stderr', type=<class 'str'>, default=NO_DEFAULT, help='The standard error stream produced by the command.', requires=[], converter=None, validator=None, hash_eq=False, callable=None),\n",
      " 'stdout': out(name='stdout', type=<class 'str'>, default=NO_DEFAULT, help='The standard output stream produced by the command.', requires=[], converter=None, validator=None, hash_eq=False, callable=None)}\n"
     ]
    }
   ],
   "source": [
    "Cp = shell.define(\n",
    "    (\n",
    "        \"cp <in_fs_objects:fs-object,...> <out|out_dir:directory> <out|out_file:file?> \"\n",
    "        \"-R<recursive> \"\n",
    "        \"--text-arg <text_arg> \"\n",
    "        \"--int-arg <int_arg:int?> \"\n",
    "        \"--tuple-arg <tuple_arg:int,str> \"\n",
    "    ),\n",
    "    inputs={\n",
    "        \"recursive\": shell.arg(\n",
    "            help=(\n",
    "                \"If source_file designates a directory, cp copies the directory and \"\n",
    "                \"the entire subtree connected at that point.\"\n",
    "            )\n",
    "        )\n",
    "    },\n",
    "    outputs={\n",
    "        \"out_dir\": shell.outarg(position=-2),\n",
    "        \"out_file\": shell.outarg(position=-1),\n",
    "    },\n",
    ")\n",
    "\n",
    "\n",
    "pprint(fields_dict(Cp))\n",
    "pprint(fields_dict(Cp.Outputs))"
   ]
  },
  {
   "cell_type": "markdown",
   "metadata": {},
   "source": [
    "### Callable outptus\n",
    "\n",
    "In addition to outputs that are specified to the tool on the command line, outputs can be derived from the outputs of the tool by providing a Python function that can take the output directory and inputs as arguments and return the output value. Callables can be either specified in the `callable` attribute of the `shell.out` field, or in a dictionary mapping the output name to the callable"
   ]
  },
  {
   "cell_type": "code",
   "execution_count": 11,
   "metadata": {
    "execution": {
     "iopub.execute_input": "2025-03-19T01:10:22.440761Z",
     "iopub.status.busy": "2025-03-19T01:10:22.440614Z",
     "iopub.status.idle": "2025-03-19T01:10:22.469991Z",
     "shell.execute_reply": "2025-03-19T01:10:22.469530Z"
    }
   },
   "outputs": [
    {
     "name": "stdout",
     "output_type": "stream",
     "text": [
      "Size of the output file is: 256\n"
     ]
    }
   ],
   "source": [
    "import os\n",
    "from pydra.design import shell\n",
    "from pathlib import Path\n",
    "from fileformats.generic import File\n",
    "\n",
    "\n",
    "# Arguments to the callable function can be one of\n",
    "def get_file_size(out_file: Path) -> int:\n",
    "    \"\"\"Calculate the file size\"\"\"\n",
    "    result = os.stat(out_file)\n",
    "    return result.st_size\n",
    "\n",
    "\n",
    "CpWithSize = shell.define(\n",
    "    \"cp <in_file:file> <out|out_file:file>\",\n",
    "    outputs={\"out_file_size\": get_file_size},\n",
    ")\n",
    "\n",
    "# Parameterise the task definition\n",
    "cp_with_size = CpWithSize(in_file=File.sample())\n",
    "\n",
    "# Run the command\n",
    "outputs = cp_with_size()\n",
    "\n",
    "\n",
    "print(f\"Size of the output file is: {outputs.out_file_size}\")"
   ]
  },
  {
   "cell_type": "markdown",
   "metadata": {},
   "source": [
    "The callable can take any combination of the following arguments, which will be passed\n",
    "to it when it is called\n",
    "\n",
    "* field: the `Field` object to be provided a value, useful when writing generic callables\n",
    "* output_dir: a `Path` object referencing the working directory the command was run within\n",
    "* inputs: a dictionary containing all the resolved inputs to the task\n",
    "* stdout: the standard output stream produced by the command\n",
    "* stderr: the standard error stream produced by the command\n",
    "* *name of an input*: the name of any of the input arguments to the task, including output args that are part of the command line (i.e. output files)"
   ]
  },
  {
   "cell_type": "markdown",
   "metadata": {},
   "source": [
    "To make workflows that use the interface type-checkable, the canonical form of a shell\n",
    "task dataclass should inherit from `shell.Def` parameterized by its nested Outputs class,\n",
    "and the `Outputs` nested class should inherit from `shell.Outputs`. Arguments that are\n",
    "provided None values are not included in the command line, so optional arguments should\n",
    "be typed as one of these equivalent forms `ty.Union[T, None]`, `ty.Optional[T]` or `T | None`\n",
    "and have a default of `None`."
   ]
  },
  {
   "cell_type": "code",
   "execution_count": 12,
   "metadata": {
    "execution": {
     "iopub.execute_input": "2025-03-19T01:10:22.471682Z",
     "iopub.status.busy": "2025-03-19T01:10:22.471512Z",
     "iopub.status.idle": "2025-03-19T01:10:22.477581Z",
     "shell.execute_reply": "2025-03-19T01:10:22.477183Z"
    }
   },
   "outputs": [],
   "source": [
    "from pydra.engine.specs import ShellDef, ShellOutputs\n",
    "from pydra.utils.typing import MultiInputObj\n",
    "from fileformats.generic import FsObject, Directory\n",
    "\n",
    "\n",
    "@shell.define\n",
    "class Cp(ShellDef[\"Cp.Outputs\"]):\n",
    "\n",
    "    executable = \"cp\"\n",
    "\n",
    "    in_fs_objects: MultiInputObj[FsObject]\n",
    "    recursive: bool = shell.arg(argstr=\"-R\", default=False)\n",
    "    text_arg: str = shell.arg(argstr=\"--text-arg\")\n",
    "    int_arg: int | None = shell.arg(argstr=\"--int-arg\", default=None)\n",
    "    tuple_arg: tuple[int, str] | None = shell.arg(argstr=\"--tuple-arg\", default=None)\n",
    "\n",
    "    @shell.outputs\n",
    "    class Outputs(ShellOutputs):\n",
    "        out_dir: Directory = shell.outarg(path_template=\"{out_dir}\")"
   ]
  },
  {
   "cell_type": "markdown",
   "metadata": {},
   "source": [
    "## Dynamic definitions\n",
    "\n",
    "In some cases, it is required to generate the definition for a task dynamically, which can be done by just providing the executable to `shell.define` and specifying all inputs and outputs explicitly"
   ]
  },
  {
   "cell_type": "code",
   "execution_count": 13,
   "metadata": {
    "execution": {
     "iopub.execute_input": "2025-03-19T01:10:22.478962Z",
     "iopub.status.busy": "2025-03-19T01:10:22.478804Z",
     "iopub.status.idle": "2025-03-19T01:10:22.484321Z",
     "shell.execute_reply": "2025-03-19T01:10:22.483932Z"
    }
   },
   "outputs": [
    {
     "name": "stdout",
     "output_type": "stream",
     "text": [
      "ACommand input fields: [arg(name='in_file', type=<class 'fileformats.generic.file.File'>, default=NO_DEFAULT, help='output file', requires=[], converter=None, validator=None, hash_eq=False, copy_mode=<CopyMode.any: 15>, copy_collation=<CopyCollation.any: 0>, copy_ext_decomp=<ExtensionDecomposition.single: 1>, readonly=False, argstr='', position=-2, sep=' ', allowed_values=None, container_path=False, formatter=None), arg(name='additional_args', type=list[str | fileformats.generic.file.File], default=Factory(factory=<class 'list'>, takes_self=False), help='Additional free-form arguments to append to the end of the command.', requires=[], converter=<function state_array_support.<locals>.state_array_wrapper at 0x7fad0c0e3100>, validator=None, hash_eq=False, copy_mode=<CopyMode.any: 15>, copy_collation=<CopyCollation.any: 0>, copy_ext_decomp=<ExtensionDecomposition.single: 1>, readonly=False, argstr='', position=None, sep=' ', allowed_values=None, container_path=False, formatter=None), outarg(name='out_file', type=<class 'fileformats.generic.file.File'>, default=NO_DEFAULT, help='output file', requires=[], converter=None, validator=None, hash_eq=False, copy_mode=<CopyMode.any: 15>, copy_collation=<CopyCollation.any: 0>, copy_ext_decomp=<ExtensionDecomposition.single: 1>, readonly=False, argstr='', position=-1, sep=' ', allowed_values=None, container_path=False, formatter=None, path_template=None, keep_extension=True), arg(name='executable', type=typing.Union[str, typing.Sequence[str]], default='a-command', help=\"the first part of the command, can be a string, e.g. 'ls', or a list, e.g. ['ls', '-l', 'dirname']\", requires=[], converter=None, validator=<min_len validator for 1>, hash_eq=False, copy_mode=<CopyMode.any: 15>, copy_collation=<CopyCollation.any: 0>, copy_ext_decomp=<ExtensionDecomposition.single: 1>, readonly=False, argstr='', position=0, sep=' ', allowed_values=None, container_path=False, formatter=None)]\n",
      "ACommand input fields: [outarg(name='out_file', type=<class 'fileformats.generic.file.File'>, default=NO_DEFAULT, help='output file', requires=[], converter=None, validator=None, hash_eq=False, copy_mode=<CopyMode.any: 15>, copy_collation=<CopyCollation.any: 0>, copy_ext_decomp=<ExtensionDecomposition.single: 1>, readonly=False, argstr='', position=-1, sep=' ', allowed_values=None, container_path=False, formatter=None, path_template=None, keep_extension=True), out(name='out_file_size', type=<class 'int'>, default=NO_DEFAULT, help='size of the output directory', requires=[], converter=None, validator=None, hash_eq=False, callable=<function get_file_size at 0x7fad001a8180>), out(name='return_code', type=<class 'int'>, default=NO_DEFAULT, help=\"The process' exit code.\", requires=[], converter=None, validator=None, hash_eq=False, callable=None), out(name='stdout', type=<class 'str'>, default=NO_DEFAULT, help='The standard output stream produced by the command.', requires=[], converter=None, validator=None, hash_eq=False, callable=None), out(name='stderr', type=<class 'str'>, default=NO_DEFAULT, help='The standard error stream produced by the command.', requires=[], converter=None, validator=None, hash_eq=False, callable=None)]\n"
     ]
    }
   ],
   "source": [
    "from fileformats.generic import File\n",
    "from pydra.engine.helpers import list_fields\n",
    "\n",
    "ACommand = shell.define(\n",
    "    \"a-command\",\n",
    "    inputs={\n",
    "        \"in_file\": shell.arg(type=File, help=\"output file\", argstr=\"\", position=-2)\n",
    "    },\n",
    "    outputs={\n",
    "        \"out_file\": shell.outarg(type=File, help=\"output file\", argstr=\"\", position=-1),\n",
    "        \"out_file_size\": {\n",
    "            \"type\": int,\n",
    "            \"help\": \"size of the output directory\",\n",
    "            \"callable\": get_file_size,\n",
    "        },\n",
    "    },\n",
    ")\n",
    "\n",
    "\n",
    "print(f\"ACommand input fields: {list_fields(ACommand)}\")\n",
    "print(f\"ACommand input fields: {list_fields(ACommand.Outputs)}\")"
   ]
  },
  {
   "cell_type": "markdown",
   "metadata": {},
   "source": []
  }
 ],
 "metadata": {
  "kernelspec": {
   "display_name": "wf12",
   "language": "python",
   "name": "python3"
  },
  "language_info": {
   "codemirror_mode": {
    "name": "ipython",
    "version": 3
   },
   "file_extension": ".py",
   "mimetype": "text/x-python",
   "name": "python",
   "nbconvert_exporter": "python",
   "pygments_lexer": "ipython3",
   "version": "3.12.9"
  }
 },
 "nbformat": 4,
 "nbformat_minor": 2
}
